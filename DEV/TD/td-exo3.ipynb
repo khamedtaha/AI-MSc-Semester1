{
 "cells": [
  {
   "cell_type": "code",
   "execution_count": 12,
   "id": "d8e0369e",
   "metadata": {},
   "outputs": [],
   "source": [
    "years_exp = [5 , 10 , 3 ,8,2,7 , 12 , 6 , 1 , 9]"
   ]
  },
  {
   "cell_type": "code",
   "execution_count": 13,
   "id": "83d2c90f",
   "metadata": {},
   "outputs": [
    {
     "data": {
      "text/plain": [
       "10"
      ]
     },
     "execution_count": 13,
     "metadata": {},
     "output_type": "execute_result"
    }
   ],
   "source": [
    "len(years_exp)"
   ]
  },
  {
   "cell_type": "code",
   "execution_count": 14,
   "id": "8d0d3070",
   "metadata": {},
   "outputs": [
    {
     "data": {
      "text/plain": [
       "[50000, 11000, 45000, 95000, 40000, 75000, 180000, 65000, 38000, 120000]"
      ]
     },
     "execution_count": 14,
     "metadata": {},
     "output_type": "execute_result"
    }
   ],
   "source": [
    "salary  = [50000 ,11000 ,45000 ,95000 ,40000 ,75000 ,180000 , 65000, 38000 ,  120000] \n",
    "salary "
   ]
  },
  {
   "cell_type": "code",
   "execution_count": 15,
   "id": "1c64b4dd",
   "metadata": {},
   "outputs": [
    {
     "data": {
      "text/plain": [
       "10"
      ]
     },
     "execution_count": 15,
     "metadata": {},
     "output_type": "execute_result"
    }
   ],
   "source": [
    "len(salary)"
   ]
  },
  {
   "cell_type": "code",
   "execution_count": 16,
   "id": "75c09905",
   "metadata": {},
   "outputs": [
    {
     "data": {
      "image/png": "[encoded data removed]",
      "text/plain": [
       "<Figure size 640x480 with 1 Axes>"
      ]
     },
     "metadata": {},
     "output_type": "display_data"
    }
   ],
   "source": [
    "import matplotlib.pyplot as plt\n",
    "\n",
    "plt.scatter(years_exp, salary, color='blue') \n",
    "plt.xlabel('Years of Experience')\n",
    "plt.ylabel('Salary')\n",
    "plt.title('Linear Regression: Salary vs Years of Experience')\n",
    "plt.show()"
   ]
  },
  {
   "cell_type": "markdown",
   "id": "363ffa5f",
   "metadata": {},
   "source": [
    "## Function Linear & Polynomial"
   ]
  },
  {
   "cell_type": "code",
   "execution_count": 31,
   "id": "2612540a",
   "metadata": {},
   "outputs": [],
   "source": [
    "def Linear(list_x) : \n",
    "    list_y = []\n",
    "    for i in range(0 , len(list_x)) : \n",
    "        value = 26000 + 8700*list_x[i]\n",
    "        list_y.append(value)\n",
    "    return list_y"
   ]
  },
  {
   "cell_type": "code",
   "execution_count": 57,
   "id": "c8bf07d4",
   "metadata": {},
   "outputs": [],
   "source": [
    "def Polynomial(list_x) : \n",
    "    a_1 = 1410\n",
    "    a_2 = -5490\n",
    "    list_y = []\n",
    "    for i in range(0 , len(list_x)) :\n",
    "        sq_x = list_x[i] * list_x[i]\n",
    "        value = 42000 + (a_1 * sq_x) + (a_2 * list_x[i])\n",
    "        list_y.append(value)\n",
    "    return list_y\n",
    "    "
   ]
  },
  {
   "cell_type": "code",
   "execution_count": 58,
   "id": "8f03d8c8",
   "metadata": {},
   "outputs": [
    {
     "data": {
      "text/plain": [
       "[69500, 113000, 52100, 95600, 43400, 86900, 130400, 78200, 34700, 104300]"
      ]
     },
     "execution_count": 58,
     "metadata": {},
     "output_type": "execute_result"
    }
   ],
   "source": [
    "Linear(years_exp)"
   ]
  },
  {
   "cell_type": "code",
   "execution_count": 60,
   "id": "887b26d8",
   "metadata": {},
   "outputs": [
    {
     "data": {
      "text/plain": [
       "[49800, 128100, 38220, 88320, 36660, 72660, 179160, 59820, 37920, 106800]"
      ]
     },
     "execution_count": 60,
     "metadata": {},
     "output_type": "execute_result"
    }
   ],
   "source": [
    "Polynomial(years_exp)"
   ]
  },
  {
   "cell_type": "markdown",
   "id": "c1ddd319",
   "metadata": {},
   "source": [
    "## Calculation of error ratio"
   ]
  },
  {
   "cell_type": "markdown",
   "id": "5c429316",
   "metadata": {},
   "source": [
    "### Case Linear"
   ]
  },
  {
   "cell_type": "code",
   "execution_count": 65,
   "id": "32a99307",
   "metadata": {},
   "outputs": [],
   "source": [
    "def error_value(n : int , list_y , list_y_pred):\n",
    "    _sum = 0\n",
    "    for i in range(n) : \n",
    "        value = abs(list_y_pred[i] -  list_y[i] )\n",
    "        _sum  = _sum + value\n",
    "    \n",
    "    \n",
    "    print(f' Error  {_sum / n }')\n",
    "    "
   ]
  },
  {
   "cell_type": "code",
   "execution_count": 66,
   "id": "52a1b0da",
   "metadata": {},
   "outputs": [
    {
     "name": "stdout",
     "output_type": "stream",
     "text": [
      " Error  22630.0\n"
     ]
    }
   ],
   "source": [
    "error_value(len(salary) , salary , Linear(years_exp))"
   ]
  },
  {
   "cell_type": "markdown",
   "id": "ee965cf9",
   "metadata": {},
   "source": [
    "### Case Polynomial"
   ]
  },
  {
   "cell_type": "code",
   "execution_count": 67,
   "id": "2721737c",
   "metadata": {},
   "outputs": [
    {
     "name": "stdout",
     "output_type": "stream",
     "text": [
      " Error  15574.0\n"
     ]
    }
   ],
   "source": [
    "error_value(len(salary) , salary , Polynomial(years_exp))"
   ]
  },
  {
   "cell_type": "code",
   "execution_count": null,
   "id": "ad38882b",
   "metadata": {},
   "outputs": [],
   "source": []
  },
  {
   "cell_type": "code",
   "execution_count": null,
   "id": "5fd32103",
   "metadata": {},
   "outputs": [],
   "source": []
  }
 ],
 "metadata": {
  "kernelspec": {
   "display_name": "Python 3 (ipykernel)",
   "language": "python",
   "name": "python3"
  },
  "language_info": {
   "codemirror_mode": {
    "name": "ipython",
    "version": 3
   },
   "file_extension": ".py",
   "mimetype": "text/x-python",
   "name": "python",
   "nbconvert_exporter": "python",
   "pygments_lexer": "ipython3",
   "version": "3.11.5"
  }
 },
 "nbformat": 4,
 "nbformat_minor": 5
}
