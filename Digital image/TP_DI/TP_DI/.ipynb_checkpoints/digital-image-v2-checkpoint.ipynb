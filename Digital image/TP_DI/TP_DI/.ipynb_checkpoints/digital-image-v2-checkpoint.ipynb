{
 "cells": [
  {
   "cell_type": "markdown",
   "metadata": {},
   "source": [
    "## Load the an image"
   ]
  },
  {
   "cell_type": "code",
   "execution_count": null,
   "metadata": {},
   "outputs": [],
   "source": [
    "!pip install opencv-python-headless\n",
    "\r\n"
   ]
  },
  {
   "cell_type": "code",
   "execution_count": null,
   "metadata": {},
   "outputs": [],
   "source": [
    "from PIL import Image\n",
    "import cv2  # to read images\n",
    "import matplotlib.pyplot as plt  # to display images\n",
    "import copy  # to crete a deep copy of images\n",
    "import numpy as np"
   ]
  },
  {
   "cell_type": "markdown",
   "metadata": {},
   "source": [
    " - Avoid system errors"
   ]
  },
  {
   "cell_type": "code",
   "execution_count": null,
   "metadata": {},
   "outputs": [],
   "source": [
    "import warnings\n",
    "warnings.simplefilter(\"ignore\")"
   ]
  },
  {
   "cell_type": "code",
   "execution_count": null,
   "metadata": {},
   "outputs": [],
   "source": []
  },
  {
   "cell_type": "markdown",
   "metadata": {},
   "source": [
    "- Path iamge "
   ]
  },
  {
   "cell_type": "code",
   "execution_count": null,
   "metadata": {},
   "outputs": [],
   "source": [
    "path_image = \"images/leon.jpeg\""
   ]
  },
  {
   "cell_type": "code",
   "execution_count": null,
   "metadata": {},
   "outputs": [],
   "source": [
    "image = Image.open(path_image) "
   ]
  },
  {
   "cell_type": "code",
   "execution_count": null,
   "metadata": {},
   "outputs": [],
   "source": [
    "IMG = np.array(image)"
   ]
  },
  {
   "cell_type": "markdown",
   "metadata": {},
   "source": [
    " - Testing Show"
   ]
  },
  {
   "cell_type": "code",
   "execution_count": null,
   "metadata": {},
   "outputs": [],
   "source": [
    "import matplotlib.pyplot as plt\n",
    "\n",
    "plt.imshow(IMG ,cmap='gray')\n",
    "plt.axis(\"off\") \n",
    "plt.show()"
   ]
  },
  {
   "cell_type": "markdown",
   "metadata": {},
   "source": [
    "## Determine the pixel resolution of IMG"
   ]
  },
  {
   "cell_type": "code",
   "execution_count": null,
   "metadata": {},
   "outputs": [],
   "source": [
    "print(f' Image Width: {len(IMG[0])}, Height: {len(IMG)}')"
   ]
  },
  {
   "cell_type": "code",
   "execution_count": null,
   "metadata": {},
   "outputs": [],
   "source": [
    "def getHeight(image):\n",
    "    return len(image)\n",
    "\n",
    "\n",
    "def getWidth(image):\n",
    "    return len(image[0])\n",
    "\n",
    "\n",
    "def getColorChannels(image):\n",
    "    return len(image[0][0])\n",
    "\n",
    "\n",
    "def blank(height, width):\n",
    "    return [[0 for i in range(width)] for j in range(height)]\n",
    "\n",
    "\n",
    "def getCount(image, value):\n",
    "    m = getHeight(image)\n",
    "    n = getWidth(image)\n",
    "    count = 0\n",
    "    for i in range(m):\n",
    "        for j in range(n):\n",
    "            if image[i][j] == value:\n",
    "                count += 1\n",
    "    return count"
   ]
  },
  {
   "cell_type": "markdown",
   "metadata": {},
   "source": [
    "## Show the RGB values of the pixel IMG(10, 15)"
   ]
  },
  {
   "cell_type": "code",
   "execution_count": null,
   "metadata": {},
   "outputs": [],
   "source": [
    "print(f'RGB values of the pixel IMG(10, 15) is  {IMG[10][15]}')"
   ]
  },
  {
   "cell_type": "markdown",
   "metadata": {},
   "source": [
    "## Calculate the brightness of IMG"
   ]
  },
  {
   "cell_type": "code",
   "execution_count": null,
   "metadata": {},
   "outputs": [],
   "source": [
    "def calculate_brightness(IMG ,img_height , img_width  ):\n",
    "    brightness_values = [] \n",
    "    for i in range(0 , img_height) : \n",
    "        for j in range(0 , img_width) : \n",
    "            brightness = (IMG[i][j][0] + IMG[i][j][1] + IMG[i][j][2]) / 3\n",
    "            brightness_values.append(brightness)\n",
    "            \n",
    "    average_brightness = sum(brightness_values) / (img_height * img_width )\n",
    "    \n",
    "    return  average_brightness , brightness_values"
   ]
  },
  {
   "cell_type": "code",
   "execution_count": null,
   "metadata": {},
   "outputs": [],
   "source": [
    "average_brightness ,brightness_values = calculate_brightness(IMG,len(IMG),len(IMG[0]))\n",
    "\n",
    "print(f'Average Brightness: {average_brightness}')\n",
    "print(f' Brightness values : {brightness_values[:8]}')"
   ]
  },
  {
   "cell_type": "markdown",
   "metadata": {},
   "source": [
    "## Calculate the contrast of IMG"
   ]
  },
  {
   "cell_type": "code",
   "execution_count": null,
   "metadata": {},
   "outputs": [],
   "source": [
    "import math \n",
    "\n",
    "def calculate_contrast(average_brightness , brightness_values , N , M) : \n",
    "    \n",
    "    contrast_sum = 0\n",
    "    for brightness in brightness_values:\n",
    "        \n",
    "        contrast_sum += (brightness - average_brightness) ** 2\n",
    "        \n",
    "    contrast  =  math.sqrt(contrast_sum / (M * N))\n",
    "    \n",
    "    return contrast\n",
    "    "
   ]
  },
  {
   "cell_type": "code",
   "execution_count": null,
   "metadata": {},
   "outputs": [],
   "source": [
    "print(f'Contrast: {calculate_contrast(average_brightness , brightness_values ,len(IMG[0]),len(IMG) )}')"
   ]
  },
  {
   "cell_type": "markdown",
   "metadata": {},
   "source": [
    "## Show the each of the RGB channels separately"
   ]
  },
  {
   "cell_type": "code",
   "execution_count": null,
   "metadata": {},
   "outputs": [],
   "source": [
    "def rgb_matrix(IMG , img_height , img_width  ) : \n",
    "    \n",
    "    R_matrix = []\n",
    "    G_matrix = []\n",
    "    B_matrix = []\n",
    "    \n",
    "    for i in range(0 , img_height) :\n",
    "        R_row = []\n",
    "        G_row = []\n",
    "        B_row = []\n",
    "        for j in range(0 , img_width) :\n",
    "            R_row.append(IMG[i][j][0])\n",
    "            G_row.append(IMG[i][j][1])\n",
    "            B_row.append(IMG[i][j][2])\n",
    "        \n",
    "        R_matrix.append(R_row)\n",
    "        G_matrix.append(G_row)\n",
    "        B_matrix.append(B_row)\n",
    "    \n",
    "    return R_matrix , G_matrix , B_matrix"
   ]
  },
  {
   "cell_type": "code",
   "execution_count": null,
   "metadata": {},
   "outputs": [],
   "source": [
    "R_matrix , G_matrix , B_matrix = rgb_matrix(IMG , len(IMG) , len(IMG[0])  )"
   ]
  },
  {
   "cell_type": "markdown",
   "metadata": {},
   "source": [
    " - Testin Show image in channel Blue"
   ]
  },
  {
   "cell_type": "code",
   "execution_count": null,
   "metadata": {},
   "outputs": [],
   "source": [
    "plt.imshow(B_matrix)\n",
    "plt.axis(\"off\") \n",
    "plt.show()"
   ]
  },
  {
   "cell_type": "markdown",
   "metadata": {},
   "source": [
    "## Convert IMG to gray-level using the average method"
   ]
  },
  {
   "cell_type": "code",
   "execution_count": null,
   "metadata": {},
   "outputs": [],
   "source": [
    "def gray_level(IMG , img_height , img_width  ) :\n",
    "    \n",
    "    Gray_matrix = []\n",
    "    for i in range(0 , img_height) :\n",
    "        Gray_row = []\n",
    "        for j in range(img_width):\n",
    "            R = IMG[i][j][0]\n",
    "            G = IMG[i][j][1]\n",
    "            B = IMG[i][j][2]\n",
    "            Gray = int( (R + G + B) / 3 )\n",
    "            Gray_row.append(Gray)\n",
    "        Gray_matrix.append(Gray_row)\n",
    "    return Gray_matrix"
   ]
  },
  {
   "cell_type": "code",
   "execution_count": null,
   "metadata": {},
   "outputs": [],
   "source": [
    "Gray_matrix = gray_level(IMG , len(IMG) , len(IMG[0])  )"
   ]
  },
  {
   "cell_type": "code",
   "execution_count": null,
   "metadata": {},
   "outputs": [],
   "source": [
    "plt.imshow(Gray_matrix , cmap='gray')\n",
    "plt.axis(\"off\") \n",
    "plt.show()"
   ]
  },
  {
   "cell_type": "markdown",
   "metadata": {},
   "source": [
    "## Convert IMG to gray-level using the weighted formula"
   ]
  },
  {
   "cell_type": "code",
   "execution_count": null,
   "metadata": {},
   "outputs": [],
   "source": [
    "def gray_level_two(IMG , img_height , img_width  ) :\n",
    "    \n",
    "    Gray_matrix = []\n",
    "    for i in range(0 , img_height) :\n",
    "        Gray_row = []\n",
    "        for j in range(0 , img_width):\n",
    "            R = IMG[i][j][0]\n",
    "            G = IMG[i][j][1]\n",
    "            B = IMG[i][j][2]\n",
    "            Gray = int((R * 0.29) +( G * 0.6) + (B * 0.11))\n",
    "            Gray_row.append(Gray)\n",
    "        Gray_matrix.append(Gray_row)\n",
    "    return Gray_matrix"
   ]
  },
  {
   "cell_type": "code",
   "execution_count": null,
   "metadata": {},
   "outputs": [],
   "source": [
    "IMG_2 = gray_level_two(IMG , len(IMG) , len(IMG[0])   )"
   ]
  },
  {
   "cell_type": "code",
   "execution_count": null,
   "metadata": {},
   "outputs": [],
   "source": [
    "plt.imshow(IMG_2 , cmap='gray') # cmap='gray' View the image with grey grades\n",
    "plt.axis(\"off\") \n",
    "plt.show()"
   ]
  },
  {
   "cell_type": "markdown",
   "metadata": {},
   "source": [
    "## Convert gray Level Using Python instruction"
   ]
  },
  {
   "cell_type": "code",
   "execution_count": null,
   "metadata": {},
   "outputs": [],
   "source": [
    "IMG2 = np.mean(IMG, axis=2)\n",
    "\n",
    "plt.imshow(IMG_2 , cmap='gray') # cmap='gray' View the image with grey grades\n",
    "plt.axis(\"off\") \n",
    "plt.show()"
   ]
  },
  {
   "cell_type": "markdown",
   "metadata": {},
   "source": [
    "## Determine the min / max value of IMG and IMG2"
   ]
  },
  {
   "cell_type": "code",
   "execution_count": null,
   "metadata": {},
   "outputs": [],
   "source": [
    "def min_max(img):\n",
    "    min_val = IMG[0][0][0]\n",
    "    max_val = IMG[0][0][0]\n",
    "    \n",
    "    for row in IMG :\n",
    "        for pixel in row :\n",
    "            for channel in pixel :  \n",
    "                if channel < min_val :\n",
    "                    min_val = channel\n",
    "                if channel > max_val :\n",
    "                    max_val = channel\n",
    "    \n",
    "    return min_val, max_val"
   ]
  },
  {
   "cell_type": "code",
   "execution_count": null,
   "metadata": {},
   "outputs": [],
   "source": [
    "def getMinMaxIntensity(image):\n",
    "    m = getHeight(image)\n",
    "    n = getWidth(image)\n",
    "    max = image[0][0]\n",
    "    min = image[0][0]\n",
    "    for i in range(m):\n",
    "        for j in range(n):\n",
    "            if max < image[i][j]:\n",
    "                max = image[i][j]\n",
    "            if min > image[i][j]:\n",
    "                min = image[i][j]\n",
    "\n",
    "    return min, max"
   ]
  },
  {
   "cell_type": "code",
   "execution_count": null,
   "metadata": {},
   "outputs": [],
   "source": [
    "print(\"IMG min / max:\", min_max(IMG))\n",
    "print(\"IMG2 min / max:\", min_max(IMG_2))"
   ]
  },
  {
   "cell_type": "markdown",
   "metadata": {},
   "source": [
    "## Calculate the pixel resolution of IMG and IMG2 in terms of MegaPixel "
   ]
  },
  {
   "cell_type": "code",
   "execution_count": null,
   "metadata": {},
   "outputs": [],
   "source": [
    "def mega_pixel(img_height, img_width):\n",
    "    total_pixels = img_height * img_width\n",
    "    megapixels = total_pixels / 1000000  \n",
    "    return megapixels"
   ]
  },
  {
   "cell_type": "code",
   "execution_count": null,
   "metadata": {},
   "outputs": [],
   "source": [
    "print(\"IMG resolution in MP:\", mega_pixel(len(IMG) , len(IMG[0])) )\n",
    "print(\"IMG2 resolution in MP:\", mega_pixel(len(IMG_2) , len(IMG_2[0])) )"
   ]
  },
  {
   "cell_type": "markdown",
   "metadata": {},
   "source": [
    "## Calculate the size of IMG"
   ]
  },
  {
   "cell_type": "code",
   "execution_count": null,
   "metadata": {},
   "outputs": [],
   "source": [
    "def image_size(img_height, img_width, channels, bit_depth=8):\n",
    "    size_in_bytes = img_height * img_width * channels * (bit_depth // 8)\n",
    "    return size_in_bytes"
   ]
  },
  {
   "cell_type": "code",
   "execution_count": null,
   "metadata": {},
   "outputs": [],
   "source": [
    "print(\"IMG size in bytes:\", image_size(len(IMG) , len(IMG[0]), 3))"
   ]
  },
  {
   "cell_type": "markdown",
   "metadata": {},
   "source": [
    "## SUB_IMG the sub-image from IMG  line 50 to 70 & column 20 to 90. Display the two images"
   ]
  },
  {
   "cell_type": "code",
   "execution_count": null,
   "metadata": {},
   "outputs": [],
   "source": [
    "SUB_IMG = IMG[50: 70, 20:90]"
   ]
  },
  {
   "cell_type": "code",
   "execution_count": null,
   "metadata": {},
   "outputs": [],
   "source": [
    "plt.imshow(SUB_IMG)\n",
    "plt.axis(\"off\") \n",
    "plt.show()"
   ]
  },
  {
   "cell_type": "markdown",
   "metadata": {},
   "source": [
    "----"
   ]
  },
  {
   "cell_type": "markdown",
   "metadata": {},
   "source": [
    "## Quantize IMG2 to 128, 64, 32 levels then display it."
   ]
  },
  {
   "cell_type": "code",
   "execution_count": null,
   "metadata": {},
   "outputs": [],
   "source": [
    "plt.imshow(IMG_2 ,  cmap='gray')\n",
    "plt.axis(\"off\" ) \n",
    "plt.show()"
   ]
  },
  {
   "cell_type": "code",
   "execution_count": null,
   "metadata": {},
   "outputs": [],
   "source": [
    "IMG_2 = np.array(IMG_2)"
   ]
  },
  {
   "cell_type": "code",
   "execution_count": null,
   "metadata": {},
   "outputs": [],
   "source": [
    "IMG_2"
   ]
  },
  {
   "cell_type": "code",
   "execution_count": null,
   "metadata": {},
   "outputs": [],
   "source": [
    "def find_closest_value(gray_value, levels_list):\n",
    "    closest_value = levels_list[0]  \n",
    "    smallest_difference = abs(gray_value - closest_value)  \n",
    "\n",
    "    for value in levels_list[1:]:  \n",
    "        difference = abs(gray_value - value)\n",
    "        if difference < smallest_difference:\n",
    "            closest_value = value \n",
    "            smallest_difference = difference \n",
    "\n",
    "    return closest_value"
   ]
  },
  {
   "cell_type": "code",
   "execution_count": null,
   "metadata": {},
   "outputs": [],
   "source": [
    "def quantize(Gray_matrix , levels_list) : \n",
    "        \n",
    "    quantized_matrix = []\n",
    "        \n",
    "    for row in Gray_matrix:\n",
    "        quantized_row = []\n",
    "        for gray_value in row:\n",
    "\n",
    "            closest_value = find_closest_value(gray_value, levels_list)\n",
    "\n",
    "            quantized_row.append(closest_value)\n",
    "            \n",
    "        quantized_matrix.append(quantized_row)\n",
    "    \n",
    "    \n",
    "    return quantized_matrix\n",
    "\n",
    "    "
   ]
  },
  {
   "cell_type": "code",
   "execution_count": null,
   "metadata": {},
   "outputs": [],
   "source": [
    "New_IMG_2 = quantize(IMG_2 , [32 , 64 , 128])\n"
   ]
  },
  {
   "cell_type": "code",
   "execution_count": null,
   "metadata": {},
   "outputs": [],
   "source": [
    "plt.imshow(New_IMG_2 ,  cmap='gray')\n",
    "plt.axis(\"off\" ) \n",
    "plt.show()"
   ]
  },
  {
   "cell_type": "markdown",
   "metadata": {},
   "source": []
  },
  {
   "cell_type": "markdown",
   "metadata": {},
   "source": [
    "## Convert RGB image  to the different color spaces HSV,CMYK and YCbCr"
   ]
  },
  {
   "cell_type": "code",
   "execution_count": null,
   "metadata": {},
   "outputs": [],
   "source": [
    "def rgb_to_cmyk(IMG ,  img_height , img_width ):\n",
    "\n",
    "    cmyk_image = list()\n",
    "    for i in range(img_height):\n",
    "        cmyk_image.append([])\n",
    "        for j in range(img_width):\n",
    "            r, g, b = IMG[i][j]\n",
    "            r, g, b = r / 255, g / 255, b / 255\n",
    "\n",
    "            k = 1 - max(r, g, b)\n",
    "            c = (1 - r - k) / (1 - k)\n",
    "            m = (1 - g - k) / (1 - k)\n",
    "            y = (1 - b - k) / (1 - k)\n",
    "\n",
    "            cmyk_image[i].append(\n",
    "                [round(c * 100), round(m * 100), round(y * 100), round(k * 100)]\n",
    "            )\n",
    "\n",
    "    return cmyk_image"
   ]
  },
  {
   "cell_type": "code",
   "execution_count": null,
   "metadata": {},
   "outputs": [],
   "source": [
    "def rgb_to_hsv(IMG ,  img_height , img_width ):\n",
    "\n",
    "    hsv_image = list()\n",
    "    for i in range(img_height):\n",
    "        hsv_image.append([])\n",
    "        for j in range(img_width):\n",
    "            r, g, b = IMG[i][j]\n",
    "            r, g, b = r / 255, g / 255, b / 255\n",
    "\n",
    "            cmax = max(r, g, b)\n",
    "            cmin = min(r, g, b)\n",
    "            delta = cmax - cmin\n",
    "\n",
    "            if delta == 0:\n",
    "                h = 0\n",
    "            elif cmax == r:\n",
    "                h = 60 * (((g - b) / delta) % 6)\n",
    "            elif cmax == g:\n",
    "                h = 60 * (((b - r) / delta) + 4)\n",
    "            elif cmax == b:\n",
    "                h = 60 * (((r - g) / delta) + 2)\n",
    "\n",
    "            if cmax == 0:\n",
    "                s = 0\n",
    "            else:\n",
    "                s = delta / cmax\n",
    "\n",
    "            hsv_image[i].append([h, s, cmax])\n",
    "\n",
    "    return hsv_image"
   ]
  },
  {
   "cell_type": "code",
   "execution_count": null,
   "metadata": {},
   "outputs": [],
   "source": [
    "def rgb_to_YCbCr(IMG,  img_height , img_width):\n",
    "\n",
    "    ycbcr = list()\n",
    "    for i in range(img_height):\n",
    "        ycbcr.append([])\n",
    "        for j in range(img_width):\n",
    "            r, g, b = IMG[i][j]\n",
    "            y = 0.299 * r + 0.587 * g + 0.114 * b\n",
    "            cb = 0.564 * (b - y) + 128\n",
    "            cr = 0.713 * (r - y) + 128\n",
    "\n",
    "            ycbcr[i].append([y, cb, cr])\n",
    "\n",
    "    return ycbcr"
   ]
  },
  {
   "cell_type": "code",
   "execution_count": null,
   "metadata": {},
   "outputs": [],
   "source": [
    "\"\"\"\n",
    "\n",
    "\n",
    "\"\"\""
   ]
  },
  {
   "cell_type": "markdown",
   "metadata": {},
   "source": [
    "### 15 |   Binarizing IMG2 according to 10, 50, 125, 25 as threshold"
   ]
  },
  {
   "cell_type": "code",
   "execution_count": null,
   "metadata": {},
   "outputs": [],
   "source": [
    "import copy\n",
    "def binarize(IMG,  img_height , img_width, threshold):\n",
    "\n",
    "    \n",
    "    result = copy.deepcopy(IMG)\n",
    "    for i in range(img_height):\n",
    "        for j in range(img_width):\n",
    "            if result[i][j] > threshold:\n",
    "                result[i][j] = 255\n",
    "            else:\n",
    "                result[i][j] = 0\n",
    "    return result"
   ]
  },
  {
   "cell_type": "code",
   "execution_count": null,
   "metadata": {},
   "outputs": [],
   "source": [
    "import matplotlib.pyplot as plt\n",
    "import matplotlib.patches as patches\n",
    "\n",
    "fig, ax = plt.subplots(1, 4)\n",
    "\n",
    "thresholds = [10, 25, 50, 125]\n",
    "for i, threshold in enumerate(thresholds):\n",
    "    ax[i].imshow(binarize(IMG_2, len(IMG_2), len(IMG_2[0]), threshold=threshold), cmap=\"gray\")\n",
    "    ax[i].set_title(f\"threshold = {threshold}\")\n",
    "    ax[i].axis(\"off\")  \n",
    "\n",
    "\n",
    "fig.set_size_inches(15, 5)\n",
    "plt.show()\n"
   ]
  },
  {
   "cell_type": "markdown",
   "metadata": {},
   "source": [
    "## 16|  Complementary image of IMG2 and its binarized version"
   ]
  },
  {
   "cell_type": "code",
   "execution_count": null,
   "metadata": {},
   "outputs": [],
   "source": [
    "def compliment(IMG,  img_height , img_width):\n",
    "\n",
    "    result = copy.deepcopy(IMG)\n",
    "    for i in range(img_height):\n",
    "        for j in range(img_width):\n",
    "            result[i][j] = 255 - result[i][j]\n",
    "    return result"
   ]
  },
  {
   "cell_type": "code",
   "execution_count": null,
   "metadata": {},
   "outputs": [],
   "source": [
    "fig, ax = plt.subplots(1, 2)\n",
    "ax[0].imshow(  compliment( IMG_2,  len(IMG_2), len(IMG_2[0])), cmap=\"gray\")\n",
    "ax[0].set_title(\"compliment\")\n",
    "ax[0].axis(\"off\") \n",
    "\n",
    "ax[1].imshow(  binarize( New_IMG_2, len(New_IMG_2), len(New_IMG_2[0]) , 125), cmap=\"gray\")\n",
    "ax[1].set_title(\"binarized compliment ( threshold = 125)\")\n",
    "ax[1].axis(\"off\") \n",
    "\n",
    "fig.set_size_inches(10, 5)\n",
    "plt.show()"
   ]
  },
  {
   "cell_type": "markdown",
   "metadata": {},
   "source": [
    "## 17|  Adding (and subtracting) the following values 10, 30,60, 200 from IMG2"
   ]
  },
  {
   "cell_type": "code",
   "execution_count": null,
   "metadata": {},
   "outputs": [],
   "source": [
    "def add_value(IMG, value):\n",
    "    matrix = []\n",
    "    \n",
    "    for row in IMG:\n",
    "        matrix_row = []\n",
    "        \n",
    "        for gray_value in row:\n",
    "            \n",
    "            new_value = gray_value + value\n",
    "            \n",
    "            new_value = min(max(new_value, 0), 255)\n",
    "            \n",
    "            matrix_row.append(new_value)\n",
    "        \n",
    "        matrix.append(matrix_row)\n",
    "    \n",
    "    return matrix\n"
   ]
  },
  {
   "cell_type": "code",
   "execution_count": null,
   "metadata": {},
   "outputs": [],
   "source": [
    "plt.imshow(IMG_2 ,  cmap='gray')\n",
    "plt.axis(\"off\" ) \n",
    "plt.show()"
   ]
  },
  {
   "cell_type": "markdown",
   "metadata": {},
   "source": [
    "---"
   ]
  },
  {
   "cell_type": "code",
   "execution_count": null,
   "metadata": {},
   "outputs": [],
   "source": [
    "fig, ax = plt.subplots(2, 4)\n",
    "ax[0, 0].imshow(add_value(IMG_2, value=10), cmap=\"gray\")\n",
    "ax[0, 0].set_title(\"img2 + 10\")\n",
    "ax[0, 0].axis(\"off\")\n",
    "\n",
    "ax[0, 1].imshow(add_value(IMG_2, value=30), cmap=\"gray\")\n",
    "ax[0, 1].set_title(\"img2 + 30\")\n",
    "ax[0, 1].axis(\"off\")\n",
    "\n",
    "ax[0, 2].imshow(add_value(IMG_2, value=60), cmap=\"gray\")\n",
    "ax[0, 2].set_title(\"img2 + 60\")\n",
    "ax[0, 2].axis(\"off\")\n",
    "\n",
    "ax[0, 3].imshow(add_value(IMG_2, value=200), cmap=\"gray\")\n",
    "ax[0, 3].set_title(\"img2 + 200\")\n",
    "ax[0, 3].axis(\"off\")\n",
    "\n",
    "ax[1, 0].imshow(add_value(IMG_2, value=-10), cmap=\"gray\")\n",
    "ax[1, 0].set_title(\"img2 - 10\")\n",
    "ax[1, 0].axis(\"off\")\n",
    "\n",
    "ax[1, 1].imshow(add_value(IMG_2, value=-30), cmap=\"gray\")\n",
    "ax[1, 1].set_title(\"img2 - 30\")\n",
    "ax[1, 1].axis(\"off\")\n",
    "\n",
    "ax[1, 2].imshow(add_value(IMG_2, value=-60), cmap=\"gray\")\n",
    "ax[1, 2].set_title(\"img2 - 60\")\n",
    "ax[1, 2].axis(\"off\")\n",
    "\n",
    "ax[1, 3].imshow(add_value(IMG_2, value=-200), cmap=\"gray\")\n",
    "ax[1, 3].set_title(\"img2 - 200\")\n",
    "ax[1, 3].axis(\"off\")\n",
    "\n",
    "fig.set_size_inches(15, 10)\n",
    "plt.show()"
   ]
  },
  {
   "cell_type": "markdown",
   "metadata": {},
   "source": [
    "## 18 | Multiply IMG2 by 1.7 and 0.6, respectively. "
   ]
  },
  {
   "cell_type": "code",
   "execution_count": null,
   "metadata": {},
   "outputs": [],
   "source": [
    "def multiply_value(IMG, value):\n",
    "    matrix = []\n",
    "    \n",
    "    for row in IMG:\n",
    "        matrix_row = []\n",
    "        \n",
    "        for gray_value in row:\n",
    "            \n",
    "            new_value = gray_value * value\n",
    "            \n",
    "            new_value = min(max(new_value, 0), 255)\n",
    "            \n",
    "            matrix_row.append(new_value)\n",
    "        \n",
    "        matrix.append(matrix_row)\n",
    "    \n",
    "    return matrix"
   ]
  },
  {
   "cell_type": "markdown",
   "metadata": {},
   "source": [
    "---"
   ]
  },
  {
   "cell_type": "code",
   "execution_count": null,
   "metadata": {},
   "outputs": [],
   "source": [
    "fig, ax = plt.subplots(1, 2)\n",
    "ax[0].imshow(multiply_value(IMG_2, value=1.7), cmap=\"gray\")\n",
    "ax[0].set_title(\"img2 * 1.7\")\n",
    "ax[0].axis(\"off\")\n",
    "\n",
    "ax[1].imshow(multiply_value(IMG_2, value=0.6), cmap=\"gray\")\n",
    "ax[1].set_title(\"img2 * 0.6\")\n",
    "ax[1].axis(\"off\")\n",
    "\n",
    "fig.set_size_inches(10, 5)\n",
    "plt.show()"
   ]
  },
  {
   "cell_type": "markdown",
   "metadata": {},
   "source": [
    "## 19 | Devise the image on 2 and 0.5, respectively"
   ]
  },
  {
   "cell_type": "code",
   "execution_count": null,
   "metadata": {},
   "outputs": [],
   "source": [
    "fig, ax = plt.subplots(1, 2)\n",
    "ax[0].imshow(multiply_value(IMG_2, value=1/2), cmap=\"gray\")\n",
    "ax[0].set_title(\"img2 / 2 \")\n",
    "ax[0].axis(\"off\")\n",
    "\n",
    "ax[1].imshow(multiply_value(IMG_2, value=1/0.5), cmap=\"gray\")\n",
    "ax[1].set_title(\"img2 / 0.5\")\n",
    "ax[1].axis(\"off\")\n",
    "\n",
    "fig.set_size_inches(10, 5)\n",
    "plt.show()"
   ]
  },
  {
   "cell_type": "markdown",
   "metadata": {},
   "source": [
    "---"
   ]
  },
  {
   "cell_type": "markdown",
   "metadata": {},
   "source": [
    "# 20 |  Load the another image from your choice (IMG3)"
   ]
  },
  {
   "cell_type": "code",
   "execution_count": null,
   "metadata": {},
   "outputs": [],
   "source": [
    "path_image = \"images/Canadian-elk.jpg\""
   ]
  },
  {
   "cell_type": "code",
   "execution_count": null,
   "metadata": {},
   "outputs": [],
   "source": [
    "image = Image.open(path_image) "
   ]
  },
  {
   "cell_type": "code",
   "execution_count": null,
   "metadata": {},
   "outputs": [],
   "source": [
    "IMG_3 = np.array(image)"
   ]
  },
  {
   "cell_type": "code",
   "execution_count": null,
   "metadata": {},
   "outputs": [],
   "source": [
    "plt.imshow(IMG_3)\n",
    "plt.axis(\"off\") \n",
    "plt.show()"
   ]
  },
  {
   "cell_type": "markdown",
   "metadata": {},
   "source": [
    "## Calculate the min / max (IMG2, IMG3) "
   ]
  },
  {
   "cell_type": "code",
   "execution_count": null,
   "metadata": {},
   "outputs": [],
   "source": [
    "import numpy as np\n",
    "\n",
    "def blank(m, n):\n",
    "    return np.zeros((m, n), dtype=np.uint8)"
   ]
  },
  {
   "cell_type": "code",
   "execution_count": null,
   "metadata": {},
   "outputs": [],
   "source": [
    "def min_max(image1, image2):\n",
    "    m = min(len(image1), len(image2))\n",
    "    n = min(len(image1[0]), len(image2[0]))\n",
    "    result_min = blank(m, n)\n",
    "    result_max = blank(m, n)\n",
    "    \n",
    "    for i in range(m):\n",
    "        for j in range(n):\n",
    "            if image1[i][j] <= image2[i][j]:\n",
    "                result_min[i][j] = image1[i][j]\n",
    "                result_max[i][j] = image2[i][j]\n",
    "            else:\n",
    "                result_min[i][j] = image2[i][j]\n",
    "                result_max[i][j] = image1[i][j]\n",
    "    \n",
    "    return result_min, result_max"
   ]
  },
  {
   "cell_type": "code",
   "execution_count": null,
   "metadata": {},
   "outputs": [],
   "source": [
    "fig, ax = plt.subplots(1, 2)\n",
    "min_image, max_image = min_max(image1=IMG_2, image2=gray_level_two(IMG_3 , len(IMG_3) , len(IMG_3[0])))\n",
    "ax[0].imshow(min_image, cmap=\"gray\")\n",
    "ax[0].set_title(\"Min of images\")\n",
    "ax[0].axis(\"off\")\n",
    "\n",
    "ax[1].imshow(max_image, cmap=\"gray\")\n",
    "ax[1].set_title(\"Max of images\")\n",
    "ax[1].axis(\"off\")\n",
    "\n",
    "fig.set_size_inches(10, 5)\n",
    "plt.show()"
   ]
  },
  {
   "cell_type": "markdown",
   "metadata": {},
   "source": [
    "## 22 | Combining IMG2 and IMG3 linearly using (0.1, 0.9), (0.5, 0.5),(0.9, 0.1)"
   ]
  },
  {
   "cell_type": "code",
   "execution_count": null,
   "metadata": {},
   "outputs": [],
   "source": [
    "def linear_combination(image1 ,image2 ,a ,b ):\n",
    "    h = min(len(image1), len(image2))\n",
    "    w = min(len(image1[0]), len(image2[0])) \n",
    "    result = blank(h, w)\n",
    "    for i in range(h):\n",
    "        for j in range(w):\n",
    "            result[i][j] = a * image1[i][j] + b * image2[i][j]\n",
    "\n",
    "    return result"
   ]
  },
  {
   "cell_type": "code",
   "execution_count": null,
   "metadata": {},
   "outputs": [],
   "source": [
    "fig, ax = plt.subplots(1, 3)\n",
    "ax[0].imshow(linear_combination(image1=IMG_2, image2=gray_level_two(IMG_3 , len(IMG_3) , len(IMG_3[0])) ,a=0.1 ,b=0.9), cmap=\"gray\")\n",
    "ax[0].set_title(\"Combining `IMG2` and `IMG3` linearly using `(0.1, 0.9)\")\n",
    "ax[0].axis(\"off\")\n",
    "\n",
    "ax[1].imshow(linear_combination(image1=IMG_2, image2=gray_level_two(IMG_3 , len(IMG_3) , len(IMG_3[0])) ,a=0.5 ,b=0.5), cmap=\"gray\")\n",
    "ax[1].set_title(\"Combining `IMG2` and `IMG3` linearly using `(0.5, 0.5)\")\n",
    "ax[1].axis(\"off\")\n",
    "\n",
    "ax[2].imshow(linear_combination(image1=IMG_2, image2=gray_level_two(IMG_3 , len(IMG_3) , len(IMG_3[0])) ,a=0.9 ,b=0.1), cmap=\"gray\")\n",
    "ax[2].set_title(\"Combining `IMG2` and `IMG3` linearly using `(0.9, 0.1)\")\n",
    "ax[2].axis(\"off\")\n",
    "\n",
    "fig.set_size_inches(18, 5)\n",
    "plt.show()"
   ]
  },
  {
   "cell_type": "markdown",
   "metadata": {},
   "source": [
    "## 23|  Creating two images containing squares"
   ]
  },
  {
   "cell_type": "code",
   "execution_count": null,
   "metadata": {},
   "outputs": [],
   "source": [
    "def create_square(image,x,y):\n",
    "  result = copy.deepcopy(image)\n",
    "  for i in range(x[0], x[1]):\n",
    "    for j in range(y[0], y[1]):\n",
    "      result[i][j] = 1\n",
    "  return result"
   ]
  },
  {
   "cell_type": "code",
   "execution_count": null,
   "metadata": {},
   "outputs": [],
   "source": []
  },
  {
   "cell_type": "code",
   "execution_count": null,
   "metadata": {},
   "outputs": [],
   "source": [
    "square_1 = create_square(\n",
    "    image=blank(500,500), x=(50, 300), y=(50, 300) # x=(50, 300), y=(50, 300) \n",
    ")\n",
    "square_2 = create_square(\n",
    "    image=blank(500,500), x=(200, 450), y=(200, 450) # x=(200, 450), y=(200, 450)\n",
    ")"
   ]
  },
  {
   "cell_type": "code",
   "execution_count": null,
   "metadata": {},
   "outputs": [],
   "source": [
    "fig, ax = plt.subplots(1, 2)\n",
    "ax[0].imshow(square_1)\n",
    "ax[0].set_title(\"square 1\")\n",
    "ax[0].axis(\"off\")\n",
    "\n",
    "ax[1].imshow(square_2)\n",
    "ax[1].set_title(\"square 2\")\n",
    "ax[1].axis(\"off\")\n",
    "\n",
    "fig.set_size_inches(15, 10)\n",
    "plt.show()"
   ]
  },
  {
   "cell_type": "markdown",
   "metadata": {},
   "source": [
    "## 24 | Performing the following logical operations: AND, OR, XOR, XNOR on the two image square"
   ]
  },
  {
   "cell_type": "code",
   "execution_count": null,
   "metadata": {},
   "outputs": [],
   "source": [
    "def image_and(image1, image2):\n",
    "    result = copy.deepcopy(image1)\n",
    "    m = len(image1)\n",
    "    n = len(image1[0])\n",
    "    for i in range(m):\n",
    "        for j in range(n):\n",
    "            result[i][j] = image1[i][j] and image2[i][j]\n",
    "    return result\n",
    "\n",
    "\n",
    "def image_or(image1, image2):\n",
    "    result = copy.deepcopy(image1)\n",
    "    m = len(image1)\n",
    "    n = len(image1[0])\n",
    "    for i in range(m):\n",
    "        for j in range(n):\n",
    "            result[i][j] = image1[i][j] or image2[i][j]\n",
    "    return result\n",
    "\n",
    "\n",
    "def image_xor(image1, image2):\n",
    "    result = copy.deepcopy(image1)\n",
    "    m = len(image1)\n",
    "    n = len(image1[0])\n",
    "    for i in range(m):\n",
    "        for j in range(n):\n",
    "            result[i][j] = image1[i][j] ^ image2[i][j]\n",
    "    return result\n",
    "\n",
    "\n",
    "def image_xnor(image1, image2):\n",
    "    result = copy.deepcopy(image1)\n",
    "    m = len(image1)\n",
    "    n = len(image1[0])\n",
    "    for i in range(m):\n",
    "        for j in range(n):\n",
    "            result[i][j] = ~(image1[i][j] ^ image2[i][j])\n",
    "    return result"
   ]
  },
  {
   "cell_type": "code",
   "execution_count": null,
   "metadata": {},
   "outputs": [],
   "source": [
    "fig, ax = plt.subplots(2, 2)\n",
    "ax[0,0].imshow(image_and(square_1,square_2))\n",
    "ax[0,0].set_title(\"And\")\n",
    "ax[0,0].axis(\"off\")\n",
    "\n",
    "ax[0,1].imshow(image_or(square_1,square_2))\n",
    "ax[0,1].set_title(\"OR\")\n",
    "ax[0,1].axis(\"off\")\n",
    "\n",
    "ax[1,0].imshow(image_xor(square_1,square_2))\n",
    "ax[1,0].set_title(\"XOR\")\n",
    "ax[1,0].axis(\"off\")\n",
    "\n",
    "ax[1,1].imshow(image_xnor(square_1,square_2))\n",
    "ax[1,1].set_title(\"XNOR\")\n",
    "ax[1,1].axis(\"off\")\n",
    "\n",
    "fig.set_size_inches(20, 20)\n",
    "plt.show()"
   ]
  },
  {
   "cell_type": "markdown",
   "metadata": {},
   "source": [
    "## 25 |  Generate two other binary images containing arbitrary shapes"
   ]
  },
  {
   "cell_type": "code",
   "execution_count": null,
   "metadata": {},
   "outputs": [],
   "source": [
    "def generate_binary(image):\n",
    "    m = len(image)\n",
    "    n = len(image[0])\n",
    "    result = copy.deepcopy(image)\n",
    "    for i in range(m):\n",
    "        for j in range(n):\n",
    "            result[i][j] = round(np.random.rand())\n",
    "    return result"
   ]
  },
  {
   "cell_type": "code",
   "execution_count": null,
   "metadata": {},
   "outputs": [],
   "source": [
    "binary_image_1 = generate_binary(image = blank(50 , 50 ))\n",
    "binary_image_2 = generate_binary(image = blank(50 , 50 ))"
   ]
  },
  {
   "cell_type": "code",
   "execution_count": null,
   "metadata": {},
   "outputs": [],
   "source": [
    "fig, ax = plt.subplots(1, 2)\n",
    "\n",
    "ax[0].imshow(binary_image_1)\n",
    "ax[0].set_title(\"And\")\n",
    "ax[0].axis(\"off\")\n",
    "\n",
    "ax[1].imshow(binary_image_2)\n",
    "ax[1].set_title(\"And\")\n",
    "ax[1].axis(\"off\")\n",
    "\n",
    "fig.set_size_inches(20, 20)\n",
    "plt.show()"
   ]
  },
  {
   "cell_type": "markdown",
   "metadata": {},
   "source": [
    "---"
   ]
  },
  {
   "cell_type": "markdown",
   "metadata": {},
   "source": [
    "## 26 | Performing the following operations: erosion, dilation, opening and closing on the image using a 3*3 square binary image as a structural element"
   ]
  },
  {
   "cell_type": "code",
   "execution_count": null,
   "metadata": {},
   "outputs": [],
   "source": [
    "def fitHit(structural_element, image_part):\n",
    "    m = len(structural_element)\n",
    "    n = len(structural_element[0])\n",
    "    fit = True\n",
    "    hit = False\n",
    "    for i in range(m):\n",
    "        for j in range(n):\n",
    "            if (structural_element[i][j] == 1) and (image_part[i][j] == 0):\n",
    "                fit = False\n",
    "            if (structural_element[i][j] == 1) and (image_part[i][j] == 1):\n",
    "                hit = True\n",
    "    return fit, hit"
   ]
  },
  {
   "cell_type": "code",
   "execution_count": null,
   "metadata": {},
   "outputs": [],
   "source": [
    "def erosion_dilation(image, structural_element, operation):\n",
    "    m = len(image)\n",
    "    n = len(image[0])\n",
    "    sm = len(structural_element)\n",
    "    sn = len(structural_element[0])\n",
    "    \n",
    "    result = blank(m, n)\n",
    "    for i in range(m - sm):\n",
    "        for j in range(n - sn):\n",
    "            image_part = [k[j : j + sn] for k in image[i : i + sm]]\n",
    "            if operation == 0:\n",
    "                if fitHit(structural_element, image_part)[0]:\n",
    "                    result[i + np.ceil(sm / 2).astype(int)][\n",
    "                        j + np.ceil(sn / 2).astype(int)\n",
    "                    ] = 1\n",
    "            elif operation == 1:\n",
    "                if fitHit(structural_element, image_part)[1]:\n",
    "                    result[i + np.ceil(sm / 2).astype(int)][\n",
    "                        j + np.ceil(sn / 2).astype(int)\n",
    "                    ] = 1\n",
    "    return result"
   ]
  },
  {
   "cell_type": "code",
   "execution_count": null,
   "metadata": {},
   "outputs": [],
   "source": [
    "def opening_closing(image, structural_element, operation):\n",
    "    if operation == 0:\n",
    "        return erosion_dilation(erosion_dilation(image, structural_element, 0), structural_element, 1)\n",
    "    \n",
    "    elif operation == 1: # opening\n",
    "        return erosion_dilation(erosion_dilation(image, structural_element, 1), structural_element, 0)"
   ]
  },
  {
   "cell_type": "code",
   "execution_count": null,
   "metadata": {},
   "outputs": [],
   "source": [
    "structural_element = [[1, 1, 1], [1, 1, 1], [1, 1, 1]]\n",
    "fig, ax = plt.subplots(1, 5)\n",
    "\n",
    "ax[0].imshow(binary_image_1)\n",
    "ax[0].set_title(\"original image\")\n",
    "ax[0].axis(\"off\")\n",
    "\n",
    "\n",
    "ax[1].imshow(\n",
    "    erosion_dilation(\n",
    "        image=binary_image_1, structural_element=structural_element, operation=0\n",
    "    )\n",
    ")\n",
    "ax[1].set_title(\"erosion\")\n",
    "ax[1].axis(\"off\")\n",
    "\n",
    "\n",
    "ax[2].imshow(\n",
    "    erosion_dilation(\n",
    "        image=binary_image_1, structural_element=structural_element, operation=1\n",
    "    )\n",
    ")\n",
    "ax[2].set_title(\"dilation\")\n",
    "ax[2].axis(\"off\")\n",
    "\n",
    "ax[3].imshow(\n",
    "    opening_closing(image=binary_image_1, structural_element=structural_element, operation=0)\n",
    ")\n",
    "ax[3].set_title(\"opening\")\n",
    "ax[3].axis(\"off\")\n",
    "\n",
    "ax[4].imshow(\n",
    "    opening_closing(image=binary_image_1, structural_element=structural_element, operation=1)\n",
    ")\n",
    "ax[4].set_title(\"closing\")\n",
    "ax[4].axis(\"off\")\n",
    "\n",
    "\n",
    "fig.set_size_inches(15, 10)\n",
    "plt.show()"
   ]
  },
  {
   "cell_type": "markdown",
   "metadata": {},
   "source": [
    "---"
   ]
  },
  {
   "cell_type": "markdown",
   "metadata": {},
   "source": [
    "## 27 | Generate the gray-level histogram of IMG2"
   ]
  },
  {
   "cell_type": "code",
   "execution_count": null,
   "metadata": {},
   "outputs": [],
   "source": [
    "def pixel_values(image, value):\n",
    "    m = len(image)\n",
    "    n = len(image[0])\n",
    "    count = 0\n",
    "    for i in range(m):\n",
    "        for j in range(n):\n",
    "            if image[i][j] == value:\n",
    "                count += 1\n",
    "    return count\n",
    "\n",
    "def gray_level_histogram(image):\n",
    "    return [pixel_values(image, i) for i in range(256)]"
   ]
  },
  {
   "cell_type": "code",
   "execution_count": null,
   "metadata": {},
   "outputs": [],
   "source": [
    "plt.figure(figsize=(15,5))\n",
    "plt.bar(range(256), gray_level_histogram(IMG_2))\n",
    "plt.xlabel('Pixel Value')\n",
    "plt.ylabel('Frequency')\n",
    "plt.show()"
   ]
  },
  {
   "cell_type": "markdown",
   "metadata": {},
   "source": [
    "---"
   ]
  },
  {
   "cell_type": "markdown",
   "metadata": {},
   "source": [
    "## 28| Adding 70 to all the image pixels, and comparing the histogram before and after"
   ]
  },
  {
   "cell_type": "code",
   "execution_count": null,
   "metadata": {},
   "outputs": [],
   "source": [
    "fig, ax = plt.subplots(2, 1)\n",
    "fig.set_size_inches(15, 5)\n",
    "\n",
    "ax[0].bar(range(256), gray_level_histogram(IMG_2))\n",
    "ax[0].set_title(\"original image\")\n",
    "\n",
    "\n",
    "ax[1].bar(range(256), gray_level_histogram(add_value(IMG_2, 70)))\n",
    "ax[1].set_title(\"after adding 70\")\n",
    "\n",
    "plt.show()"
   ]
  },
  {
   "cell_type": "markdown",
   "metadata": {},
   "source": [
    "---"
   ]
  },
  {
   "cell_type": "markdown",
   "metadata": {},
   "source": [
    "## 29 | Loading a low contrast image IMG4"
   ]
  },
  {
   "cell_type": "code",
   "execution_count": null,
   "metadata": {},
   "outputs": [],
   "source": [
    "path_image = \"images/image-low-contrast.jpg\" "
   ]
  },
  {
   "cell_type": "code",
   "execution_count": null,
   "metadata": {},
   "outputs": [],
   "source": [
    "image = Image.open(path_image)"
   ]
  },
  {
   "cell_type": "code",
   "execution_count": null,
   "metadata": {},
   "outputs": [],
   "source": [
    "IMG_4 = np.array(image)"
   ]
  },
  {
   "cell_type": "code",
   "execution_count": null,
   "metadata": {},
   "outputs": [],
   "source": [
    "plt.imshow(IMG_4) \n",
    "plt.axis(\"off\") \n",
    "plt.show()"
   ]
  },
  {
   "cell_type": "code",
   "execution_count": null,
   "metadata": {},
   "outputs": [],
   "source": [
    "G_IMG_4 = gray_level_two(IMG_4 , len(IMG_4) , len(IMG_4[0]))\n",
    "G_IMG_4 = np.array(G_IMG_4)"
   ]
  },
  {
   "cell_type": "code",
   "execution_count": null,
   "metadata": {},
   "outputs": [],
   "source": [
    "plt.imshow(G_IMG_4 , cmap='gray') \n",
    "plt.axis(\"off\") \n",
    "plt.show()"
   ]
  },
  {
   "cell_type": "markdown",
   "metadata": {},
   "source": [
    "---"
   ]
  },
  {
   "cell_type": "markdown",
   "metadata": {},
   "source": [
    "## 30 | Apply the histogram stretching (the two formulas of course), and show the histogram before and after each process."
   ]
  },
  {
   "cell_type": "code",
   "execution_count": null,
   "metadata": {},
   "outputs": [],
   "source": [
    "def histogram_stretching(image, r, formula):\n",
    "    m = len(image)\n",
    "    n = len(image[0])\n",
    "    imin, imax = getMinMaxIntensity(image)\n",
    "    rmin, rmax = r\n",
    "    result = copy.deepcopy(image)\n",
    "    if formula == 0:\n",
    "        a = (rmax - rmin) / (imax - imin)\n",
    "        b = rmax - a * imax\n",
    "        for i in range(m):\n",
    "            for j in range(n):\n",
    "                result[i][j] = round(a * result[i][j] + b)\n",
    "    elif formula == 1:\n",
    "        for i in range(m):\n",
    "            for j in range(n):\n",
    "                result[i][j] = round(rmax * (result[i][j] - imin) / (imax - imin))\n",
    "    return result"
   ]
  },
  {
   "cell_type": "code",
   "execution_count": null,
   "metadata": {},
   "outputs": [],
   "source": [
    "# fig, ax = plt.subplots(3, 1)\n",
    "# fig.set_size_inches(15, 10)\n",
    "\n",
    "# # First plot\n",
    "# ax[0].bar(range(256), gray_level_histogram(G_IMG_4))\n",
    "# ax[0].set_title(\"Stretched Histogram (1st Formula)\")\n",
    "\n",
    "# # Second plot\n",
    "# ax[1].bar(range(256), gray_level_histogram(G_IMG_4, (50, 255), 0))\n",
    "# ax[1].set_title(\"Stretched Histogram (1st Formula with Range)\")\n",
    "\n",
    "# # Third plot\n",
    "# ax[2].bar(range(256), gray_level_histogram(G_IMG_4, (50, 255), 1))\n",
    "# ax[2].set_title(\"Stretched Histogram (2nd Formula)\")\n",
    "\n",
    "# # Adjust layout\n",
    "# plt.tight_layout()\n",
    "# plt.show()\n",
    "fig, ax = plt.subplots(3, 1)\n",
    "fig.set_size_inches(15, 10)\n",
    "ax[0].bar(range(256), gray_level_histogram(G_IMG_4))\n",
    "ax[0].set_title(\"original image histogram\")\n",
    "ax[1].bar(range(256), gray_level_histogram(histogram_stretching(G_IMG_4, (50, 255), 0)))\n",
    "ax[1].set_title(\"stretched histogram using the 1st formula\")\n",
    "ax[2].bar(range(256), gray_level_histogram(histogram_stretching(G_IMG_4, (50, 255), 1)))\n",
    "ax[2].set_title(\"stretched histogram using the 2nd formula\")\n",
    "plt.show()"
   ]
  },
  {
   "cell_type": "code",
   "execution_count": null,
   "metadata": {},
   "outputs": [],
   "source": [
    "fig, ax = plt.subplots(1, 3)\n",
    "fig.set_size_inches(15, 5)\n",
    "ax[0].imshow(G_IMG_4, cmap=\"gray\")\n",
    "ax[0].set_title(\"original image\")\n",
    "ax[1].imshow(histogram_stretching(G_IMG_4, (50, 255), 0), cmap=\"gray\")\n",
    "ax[1].set_title(\"1st formula\")\n",
    "ax[2].imshow(histogram_stretching(G_IMG_4, (50, 255), 1), cmap=\"gray\")\n",
    "ax[2].set_title(\"2nd formula\")\n",
    "plt.show()"
   ]
  },
  {
   "cell_type": "markdown",
   "metadata": {},
   "source": [
    "## 31| Applying Gamma correction on `IMG2`, where the values of Gamma are: `1.5, 4.2, 2.1`\n"
   ]
  },
  {
   "cell_type": "code",
   "execution_count": null,
   "metadata": {},
   "outputs": [],
   "source": [
    "def gammaCorrection(image, ld):\n",
    "    m, n = getHeight(image), getWidth(image)\n",
    "    result = copy.deepcopy(image)\n",
    "    for i in range(m):\n",
    "        for j in range(n):\n",
    "            result[i][j] = result[i][j] ** ld\n",
    "\n",
    "    return result"
   ]
  },
  {
   "cell_type": "code",
   "execution_count": null,
   "metadata": {},
   "outputs": [],
   "source": [
    "fig, ax = plt.subplots(2, 3)\n",
    "fig.set_size_inches(15, 10)\n",
    "ax[0, 0].imshow(gammaCorrection(IMG_3, 1.5), cmap=\"gray\")\n",
    "ax[0, 0].set_title(\"y = 1.5\")\n",
    "ax[0, 1].imshow(gammaCorrection(IMG_3, 4.2), cmap=\"gray\")\n",
    "ax[0, 1].set_title(\"y = 4.2\")\n",
    "ax[0, 2].imshow(gammaCorrection(IMG_3, 2.1), cmap=\"gray\")\n",
    "ax[0, 2].set_title(\"y = 2.1\")\n",
    "ax[1, 0].imshow(gammaCorrection(IMG_3, 1 / 1.5), cmap=\"gray\")\n",
    "ax[1, 0].set_title(\"y = 1 / 1.5\")\n",
    "ax[1, 1].imshow(gammaCorrection(IMG_3, 1 / 4.2), cmap=\"gray\")\n",
    "ax[1, 1].set_title(\"y = 1 / 4.2\")\n",
    "ax[1, 2].imshow(gammaCorrection(IMG_3, 1 / 2.1), cmap=\"gray\")\n",
    "ax[1, 2].set_title(\"y = 1 / 2.1\")\n",
    "plt.show()"
   ]
  },
  {
   "cell_type": "markdown",
   "metadata": {},
   "source": [
    "## 32| Applying the algorithm of histogram equalization on `IMG4`, and showing the histogram before and after\n"
   ]
  },
  {
   "cell_type": "code",
   "execution_count": null,
   "metadata": {},
   "outputs": [],
   "source": [
    "def CDF(pmf):\n",
    "    cdf = [0] * len(pmf)\n",
    "    cdf[0] = pmf[0]\n",
    "    for i in range(1, len(pmf)):\n",
    "        cdf[i] = cdf[i - 1] + pmf[i]\n",
    "    return cdf\n",
    "\n",
    "\n",
    "def histogramEqualization(image, lmax):\n",
    "    hc =  gray_level_histogram(G_IMG_4 )\n",
    "    pmf = [i / sum(hc) for i in hc]\n",
    "    cdf = CDF(pmf)\n",
    "    cdfLmax = [i * lmax for i in cdf]\n",
    "    m, n = getHeight(image), getWidth(image)\n",
    "    result = copy.deepcopy(image)\n",
    "    for i in range(m):\n",
    "        for j in range(n):\n",
    "            result[i][j] = round(cdfLmax[int(image[i][j])])\n",
    "    return result"
   ]
  },
  {
   "cell_type": "code",
   "execution_count": null,
   "metadata": {},
   "outputs": [],
   "source": [
    "fig, ax = plt.subplots(2, 1)\n",
    "fig.set_size_inches(15, 6)\n",
    "ax[0].bar(range(256), gray_level_histogram(G_IMG_4))\n",
    "ax[0].set_title(\"gray level histogram of the original image\")\n",
    "ax[1].bar(range(256), gray_level_histogram(histogramEqualization(G_IMG_4,getMinMaxIntensity(G_IMG_4)[1])))\n",
    "ax[1].set_title(\"gray level histogram of the histogram equalization image\")\n",
    "plt.show()"
   ]
  },
  {
   "cell_type": "code",
   "execution_count": null,
   "metadata": {},
   "outputs": [],
   "source": [
    "fig, ax = plt.subplots(1, 2)\n",
    "fig.set_size_inches(15, 5)\n",
    "ax[0].imshow(G_IMG_4, cmap=\"gray\")\n",
    "ax[0].set_title(\"original image\")\n",
    "ax[1].imshow(histogramEqualization(G_IMG_4, getMinMaxIntensity(G_IMG_4)[1]), cmap=\"gray\")\n",
    "ax[1].set_title(\"histogram equalization image\")\n",
    "plt.show()"
   ]
  },
  {
   "cell_type": "markdown",
   "metadata": {},
   "source": [
    "## 33| Loading `IMG5`\n"
   ]
  },
  {
   "cell_type": "code",
   "execution_count": null,
   "metadata": {},
   "outputs": [],
   "source": [
    "IMG5 = cv2.imread(\"./images/IMG5.jpg\")\n",
    "img5 = cv2.cvtColor(\n",
    "    IMG5, cv2.COLOR_BGR2RGB\n",
    ")  # This line converts the color space of the image from BGR to RGB.\n",
    "img5 = img5.tolist() "
   ]
  },
  {
   "cell_type": "code",
   "execution_count": null,
   "metadata": {},
   "outputs": [],
   "source": [
    "plt.imshow(img5)"
   ]
  },
  {
   "cell_type": "markdown",
   "metadata": {},
   "source": [
    "## 34| Adding a salt, pepper, salt-pepper, Gaussian noise to `IMG5`\n"
   ]
  },
  {
   "cell_type": "code",
   "execution_count": null,
   "metadata": {},
   "outputs": [],
   "source": [
    "def salt(image, density):\n",
    "    m, n = getHeight(image), getWidth(image)\n",
    "    result = copy.deepcopy(image)\n",
    "    for i in range(density):\n",
    "        result[round(np.random.randint(m))][round(np.random.randint(n))] = [\n",
    "            255,\n",
    "            255,\n",
    "            255,\n",
    "        ]\n",
    "    return result\n",
    "\n",
    "\n",
    "def pepper(image, density):\n",
    "    m, n = getHeight(image), getWidth(image)\n",
    "    result = copy.deepcopy(image)\n",
    "    for i in range(density):\n",
    "        result[round(np.random.randint(m))][round(np.random.randint(n))] = [0, 0, 0]\n",
    "    return result\n",
    "\n",
    "\n",
    "def saltPepper(image, density):\n",
    "    return pepper(salt(image, density), density)\n",
    "\n",
    "\n",
    "def gaussianNoise(image, density):\n",
    "    m, n = getHeight(image), getWidth(image)\n",
    "    result = copy.deepcopy(image)\n",
    "    for index in range(density):\n",
    "        i, j = round(np.random.randint(m)), round(np.random.randint(n))\n",
    "        random = round(np.random.normal() * 255)\n",
    "        result[i][j][0] = np.clip(result[i][j][0] + random, 0, 255)\n",
    "        result[i][j][1] = np.clip(result[i][j][1] + random, 0, 255)\n",
    "        result[i][j][2] = np.clip(result[i][j][2] + random, 0, 255)\n",
    "    return result"
   ]
  },
  {
   "cell_type": "code",
   "execution_count": null,
   "metadata": {},
   "outputs": [],
   "source": [
    "fig, ax = plt.subplots(2, 2)\n",
    "fig.set_size_inches(15, 10)\n",
    "ax[0, 0].imshow(salt(img5, 20000))\n",
    "ax[0, 0].set_title(\"salt\")\n",
    "ax[0, 1].imshow(pepper(img5, 20000))\n",
    "ax[0, 1].set_title(\"pepper\")\n",
    "ax[1, 0].imshow(saltPepper(img5, 20000))\n",
    "ax[1, 0].set_title(\"salt pepper\")\n",
    "ax[1, 1].imshow(gaussianNoise(img5, 20000))\n",
    "ax[1, 1].set_title(\"gaussian noise\")\n",
    "plt.show()"
   ]
  },
  {
   "cell_type": "markdown",
   "metadata": {},
   "source": [
    "## 35| Applying mean and Gaussian filters on the noisy versions of `IMG5`\n"
   ]
  },
  {
   "cell_type": "code",
   "execution_count": null,
   "metadata": {},
   "outputs": [],
   "source": [
    "def neighborhood(size):\n",
    "    if size%2==0 :size +=1\n",
    "    return [[(np.power(size,2)) for i in range(size)] for j in range(size)]\n",
    "\n",
    "def meanFilter(image, size):\n",
    "    npImage = np.array(image)\n",
    "    filter = np.array(neighborhood((size)))\n",
    "    img = np.array(image)\n",
    "    \n",
    "    for i in range(len(image) - size + 1):\n",
    "        for j in range(len(image[0]) - size + 1):\n",
    "            conv = np.array(npImage[i:i+size, j:j+size])\n",
    "            result = np.sum(np.divide(conv, filter))\n",
    "            img[i+size//2][j+size//2] = result \n",
    "        \n",
    "    return img\n",
    "\n",
    "def gaussianFunction(x,y,sigma):\n",
    "    return ((1/(2*np.pi*(np.power(sigma,2)))*(np.exp(-1*((np.power(x,2)+np.power(y,2))/(2*np.power(sigma,2)))))))\n",
    "\n",
    "def Gneighborhood(size , sigma):\n",
    "    if size%2==0 :size +=1\n",
    "    filter = [[ gaussianFunction(i - ((size - 1) / 2), j - ((size - 1) / 2), sigma) for i in range(size)] for j in range(size)]\n",
    "    if(np.sum(filter) != 1):\n",
    "        filter = np.divide(filter, np.full_like(filter, np.sum(filter)))\n",
    "    return filter\n",
    "\n",
    "    \n",
    "def gaussianFilter(image, size, sigma):\n",
    "    npImage = np.array(image)\n",
    "    filter = np.array(Gneighborhood(size,sigma))\n",
    "    img = np.array(image)\n",
    "    \n",
    "    for i in range(len(image) - size + 1):\n",
    "        for j in range(len(image[0]) - size + 1):\n",
    "            conv = np.array(npImage[i:i+size, j:j+size])\n",
    "            result = np.sum(np.divide(conv, filter))\n",
    "            img[i+size//2][j+size//2] = result \n",
    "        \n",
    "    return img"
   ]
  },
  {
   "cell_type": "code",
   "execution_count": null,
   "metadata": {},
   "outputs": [],
   "source": [
    "test = grayLevelAverageMethod(salt(img5,1000))\n",
    "fig, ax = plt.subplots(2, 2)\n",
    "fig.set_size_inches(15, 10)\n",
    "ax[0, 0].imshow(test,cmap=\"gray\")\n",
    "ax[0, 0].set_title(\"noised image\")\n",
    "ax[0, 1].imshow(meanFilter(test,3),cmap=\"gray\")\n",
    "ax[0, 1].set_title(\"mean filter 3x3\")\n",
    "ax[1, 0].imshow(meanFilter(test,5),cmap=\"gray\")\n",
    "ax[1, 0].set_title(\"mean filter 5x5\")\n",
    "ax[1, 1].imshow(meanFilter(test,7),cmap=\"gray\")\n",
    "ax[1, 1].set_title(\"mean filter 7x7\")\n",
    "plt.show()"
   ]
  },
  {
   "cell_type": "code",
   "execution_count": null,
   "metadata": {},
   "outputs": [],
   "source": [
    "test = grayLevelAverageMethod(salt(img5,1000))\n",
    "fig, ax = plt.subplots(2, 2)\n",
    "fig.set_size_inches(15, 10)\n",
    "sigma = 2\n",
    "ax[0, 0].imshow(test,cmap=\"gray\")\n",
    "ax[0, 0].set_title(\"noised image\")\n",
    "ax[0, 1].imshow(gaussianFilter(test,3,sigma),cmap=\"gray\")\n",
    "ax[0, 1].set_title(\"Gaussian filter 3x3\")\n",
    "ax[1, 0].imshow(gaussianFilter(test,5,sigma),cmap=\"gray\")\n",
    "ax[1, 0].set_title(\"Gaussian filter 5x5\")\n",
    "ax[1, 1].imshow(gaussianFilter(test,7,sigma),cmap=\"gray\")\n",
    "ax[1, 1].set_title(\"Gaussian filter 7x7\")\n",
    "plt.show()"
   ]
  },
  {
   "cell_type": "markdown",
   "metadata": {},
   "source": [
    "## 36| Applying the median filter with a neighborhood of `3,5` and `7`, respectively.\n"
   ]
  },
  {
   "cell_type": "code",
   "execution_count": null,
   "metadata": {},
   "outputs": [],
   "source": [
    "def medianFilter(image, size):\n",
    "    NpImg = np.array(image)\n",
    "    img = np.array(image)\n",
    "    for i in range(len(image)-size+1):\n",
    "        for j in range(len(image[0])-size+1):\n",
    "            conv = np.array(NpImg[i:i+size, j:j+size])\n",
    "            conv = np.sort(conv.flatten())\n",
    "            img[i+size//2][j+size//2] = conv[(len(conv)//2)+1]\n",
    "            \n",
    "    \n",
    "    return img"
   ]
  },
  {
   "cell_type": "code",
   "execution_count": null,
   "metadata": {},
   "outputs": [],
   "source": [
    "test = grayLevelAverageMethod(salt(img5,1000))\n",
    "fig, ax = plt.subplots(2, 2)\n",
    "fig.set_size_inches(15, 10)\n",
    "ax[0, 0].imshow(test,cmap=\"gray\")\n",
    "ax[0, 0].set_title(\"noised image\")\n",
    "ax[0, 1].imshow(medianFilter(test,3),cmap=\"gray\")\n",
    "ax[0, 1].set_title(\"median filter 3x3\")\n",
    "ax[1, 0].imshow(medianFilter(test,5),cmap=\"gray\")\n",
    "ax[1, 0].set_title(\"median filter 5x5\")\n",
    "ax[1, 1].imshow(medianFilter(test,7),cmap=\"gray\")\n",
    "ax[1, 1].set_title(\"median filter 7x7\")\n",
    "plt.show()"
   ]
  },
  {
   "cell_type": "markdown",
   "metadata": {},
   "source": [
    "## 37| Applying Sobel operator on `IMG5`, and showing the horizontal, vertical and the final edge\n"
   ]
  },
  {
   "cell_type": "code",
   "execution_count": null,
   "metadata": {},
   "outputs": [],
   "source": [
    "def sobel(image):\n",
    "    img = np.array(image)\n",
    "    Gx = np.array([[-1, 0, 1], [-2, 0, 2], [-1, 0, 1]])\n",
    "    Gy = np.array([[-1, -2, -1], [0, 0, 0], [1, 2, 1]])\n",
    "    sobelX = np.array(blank(len(image), len(image[0])))\n",
    "    sobelY = np.array(blank(len(image), len(image[0])))\n",
    "\n",
    "    for i in range(len(img) - 2):\n",
    "        for j in range(len(img[0]) - 2):\n",
    "            conv = np.array(img[i : i + 3, j : j + 3])\n",
    "            gradient_x = np.sum(np.multiply(conv, Gx))\n",
    "            gradient_y = np.sum(np.multiply(conv, Gy))\n",
    "\n",
    "            sobelX[i + 1][j + 1] = gradient_x\n",
    "            sobelY[i + 1][j + 1] = gradient_y\n",
    "\n",
    "    Mag = np.hypot(sobelX, sobelY)\n",
    "\n",
    "    orientation = np.where(sobelY != 0, np.arctan2(sobelX, sobelY), np.pi/2)\n",
    "    orientation_degrees = np.degrees(orientation)\n",
    "\n",
    "    return sobelX, sobelY, Mag, orientation_degrees\n",
    "\n",
    "def SobelPrinter(image, grad_x, grad_y):\n",
    "    sobelx, sobely = sobel(image)[:2]\n",
    "    X,Y=np.array(blank(len(image), len(image[0]))),np.array(blank(len(image), len(image[0])))\n",
    "    for i in range(len(image) - 2):\n",
    "        for j in range(len(image[0]) - 2):\n",
    "            \n",
    "            if abs(sobelx[i+1][j+1]) > grad_x:\n",
    "                X[i + 1][j + 1] = 255\n",
    "\n",
    "            if abs(sobely[i + 1][j + 1]) > grad_y:\n",
    "                Y[i + 1][j + 1] = 255\n",
    "                \n",
    "    sobelf = X + Y\n",
    "    sobelf = np.where((X == 0) & (Y == 0), 0, 255)\n",
    "    return X, Y, sobelf"
   ]
  },
  {
   "cell_type": "code",
   "execution_count": null,
   "metadata": {},
   "outputs": [],
   "source": [
    "fig, ax = plt.subplots(2, 2)\n",
    "fig.set_size_inches(15, 10)\n",
    "sobelX, sobely, sobelf  = SobelPrinter(img5, 2800, 200)\n",
    "ax[0,0].imshow(img5,cmap=\"gray\")\n",
    "ax[0,0].set_title(\"original image\")\n",
    "ax[0,1].imshow(sobelX,cmap=\"gray\")\n",
    "ax[0,1].set_title(\"x axes direction sobel\")\n",
    "ax[1,0].imshow(sobely,cmap=\"gray\")\n",
    "ax[1,0].set_title(\"y axes direction sobel\")\n",
    "ax[1,1].imshow(sobelf,cmap=\"gray\")\n",
    "ax[1,1].set_title(\"final sobel\")\n",
    "plt.show()"
   ]
  },
  {
   "cell_type": "markdown",
   "metadata": {},
   "source": [
    "## 38| Showing the gradient magnitude image of `IMG5`, and threshold it using `10, 50, 120, 190` and showing the resulting images\n"
   ]
  },
  {
   "cell_type": "code",
   "execution_count": null,
   "metadata": {},
   "outputs": [],
   "source": [
    "def gradient_magnitude(image, threshold):\n",
    "    img = np.array(image)\n",
    "    Gx = np.array([[-1, 0, 1], [-2, 0, 2], [-1, 0, 1]])\n",
    "    Gy = np.array([[-1, -2, -1], [0, 0, 0], [1, 2, 1]])\n",
    "    grad_mag = np.array(img)\n",
    "\n",
    "    for i in range(len(img) - 2):\n",
    "        for j in range(len(img[0]) - 2):\n",
    "            conv = np.array(img[i : i + 3, j : j + 3])\n",
    "            gradient_x = np.sum(np.multiply(conv, Gx))\n",
    "            gradient_y = np.sum(np.multiply(conv, Gy))\n",
    "\n",
    "            mag = np.sqrt(np.power(gradient_x, 2) + np.power(gradient_y, 2))\n",
    "            if mag > threshold:\n",
    "                grad_mag[i + 1][j + 1] = mag\n",
    "\n",
    "    return np.clip(grad_mag, 0, 255)"
   ]
  },
  {
   "cell_type": "code",
   "execution_count": null,
   "metadata": {},
   "outputs": [],
   "source": [
    "fig, ax = plt.subplots(2, 2)\n",
    "fig.set_size_inches(15, 10)\n",
    "ax[0, 0].imshow(gradient_magnitude(img5, 10), cmap=\"gray\")\n",
    "ax[0, 0].set_title(\"threshold = 10\")\n",
    "ax[0, 1].imshow(gradient_magnitude(img5, 50), cmap=\"gray\")\n",
    "ax[0, 1].set_title(\"threshold = 50\")\n",
    "ax[1, 0].imshow(gradient_magnitude(img5, 120), cmap=\"gray\")\n",
    "ax[1, 0].set_title(\"threshold = 120\")\n",
    "ax[1, 1].imshow(gradient_magnitude(img5, 190), cmap=\"gray\")\n",
    "ax[1, 1].set_title(\"threshold = 190\")\n",
    "plt.show()"
   ]
  },
  {
   "cell_type": "markdown",
   "metadata": {},
   "source": [
    "## 39| Showing the edge image in which the pixels kept only with the maximum of gradient in the gradient direction\n"
   ]
  },
  {
   "cell_type": "code",
   "execution_count": null,
   "metadata": {},
   "outputs": [],
   "source": [
    "def sobelMax(image):\n",
    "    img = np.array(image)\n",
    "    Gx = np.array([[-1, 0, 1], [-2, 0, 2], [-1, 0, 1]])\n",
    "    Gy = np.array([[-1, -2, -1], [0, 0, 0], [1, 2, 1]])\n",
    "    sobelX = np.zeros_like(img)\n",
    "    sobelY = np.zeros_like(img)\n",
    "\n",
    "    for i in range(len(img) - 2):\n",
    "        for j in range(len(img[0]) - 2):\n",
    "            conv = np.array(img[i : i + 3, j : j + 3])\n",
    "            sobelX[i + 1, j + 1] = np.sum(np.multiply(conv, Gx))\n",
    "            sobelY[i + 1, j + 1] = np.sum(np.multiply(conv, Gy))\n",
    "\n",
    "    sobelMax = np.maximum(np.abs(sobelX), np.abs(sobelY))\n",
    "\n",
    "    return np.clip(sobelMax, 0, 255)"
   ]
  },
  {
   "cell_type": "code",
   "execution_count": null,
   "metadata": {},
   "outputs": [],
   "source": [
    "fig, ax = plt.subplots(1, 2)\n",
    "fig.set_size_inches(15, 5)\n",
    "ax[0].imshow(img5, cmap=\"gray\")\n",
    "ax[0].set_title(\"original image\")\n",
    "ax[1].imshow(sobelMax(img5), cmap=\"gray\")\n",
    "ax[1].set_title(\"edge image\")\n",
    "plt.show()"
   ]
  },
  {
   "cell_type": "markdown",
   "metadata": {},
   "source": [
    "## 40| Detect the edges in `IMG5` using canny algorithm\n"
   ]
  },
  {
   "cell_type": "code",
   "execution_count": null,
   "metadata": {},
   "outputs": [],
   "source": [
    "def Canny(image, Tlow, Thigh):\n",
    "    m = getHeight(image)\n",
    "    n = getWidth(image)\n",
    "    result = np.array(blank(m, n))\n",
    "    FiltredImage = gaussianFilter(image, 3, sigma=1)\n",
    "    Magnitude, Orientation = sobel(FiltredImage)[2:4]\n",
    "    Orientation = Binning(Orientation)\n",
    "    for i in range(m - 2):\n",
    "        for j in range(n - 2):\n",
    "            neighborhood_3 = np.array(Magnitude[i : i + 3, j : j + 3])\n",
    "            neighborhood_5 = np.array(Magnitude[i - 1 : i + 4, j - 1 : j + 4])\n",
    "            if Orientation[i + 1][j + 1] == 0:\n",
    "                if HysteresisThresholding(\n",
    "                    Magnitude[i + 1][j + 1],\n",
    "                    Magnitude[i + 1][j],\n",
    "                    Magnitude[i + 1][j + 2],\n",
    "                    Tlow,\n",
    "                    Thigh,\n",
    "                    neighborhood_3,\n",
    "                    neighborhood_5,\n",
    "                    i,\n",
    "                    j,\n",
    "                    m,\n",
    "                    n,\n",
    "                ):\n",
    "                    result[i + 1][j + 1] = 255\n",
    "\n",
    "            elif Orientation[i + 1][j + 1] == 90:\n",
    "                if HysteresisThresholding(\n",
    "                    Magnitude[i + 1][j + 1],\n",
    "                    Magnitude[i][j + 1],\n",
    "                    Magnitude[i + 2][j + 1],\n",
    "                    Tlow,\n",
    "                    Thigh,\n",
    "                    neighborhood_3,\n",
    "                    neighborhood_5,\n",
    "                    i,\n",
    "                    j,\n",
    "                    m,\n",
    "                    n,\n",
    "                ):\n",
    "                    result[i + 1][j + 1] = 255\n",
    "\n",
    "            elif Orientation[i + 1][j + 1] == 45:\n",
    "                if HysteresisThresholding(\n",
    "                    Magnitude[i + 1][j + 1],\n",
    "                    Magnitude[i][j + 2],\n",
    "                    Magnitude[i + 2][j],\n",
    "                    Tlow,\n",
    "                    Thigh,\n",
    "                    neighborhood_3,\n",
    "                    neighborhood_5,\n",
    "                    i,\n",
    "                    j,\n",
    "                    m,\n",
    "                    n,\n",
    "                ):\n",
    "                    result[i + 1][j + 1] = 255\n",
    "            else:\n",
    "                if HysteresisThresholding(\n",
    "                    Magnitude[i + 1][j + 1],\n",
    "                    Magnitude[i][j],\n",
    "                    Magnitude[i + 2][j + 2],\n",
    "                    Tlow,\n",
    "                    Thigh,\n",
    "                    neighborhood_3,\n",
    "                    neighborhood_5,\n",
    "                    i,\n",
    "                    j,\n",
    "                    m,\n",
    "                    n,\n",
    "                ):\n",
    "                    result[i + 1][j + 1] = 255\n",
    "\n",
    "    return result\n",
    "\n",
    "\n",
    "def HysteresisThresholding(\n",
    "    Mag, MagB, MagF, Tlow, Thigh, neighborhood_3, neighborhood_5, i, j, m, n\n",
    "):\n",
    "    if (Mag > MagB) and (Mag > MagF):\n",
    "        if Mag > Thigh:\n",
    "            return True\n",
    "        elif (Mag <= Thigh) and (Mag >= Tlow):\n",
    "            if np.any(neighborhood_3 > Thigh):\n",
    "                return True\n",
    "            elif (\n",
    "                np.any(neighborhood_3 <= Thigh)\n",
    "                and (np.any(neighborhood_3 >= Tlow))\n",
    "                and (i > 1 and j > 1)\n",
    "                and (i < m - 3 and j < n - 3)\n",
    "            ):\n",
    "                if np.any(neighborhood_5 > Thigh):\n",
    "                    return True\n",
    "    return False\n",
    "\n",
    "\n",
    "def Binning(Orientation):\n",
    "    Orientation += np.where(Orientation < 0, 180, 0)\n",
    "    Orientation = np.where(\n",
    "        (Orientation >= 157.5) | (Orientation < 22.5),\n",
    "        0,\n",
    "        np.where(\n",
    "            (Orientation >= 22.5) & (Orientation < 67.5),\n",
    "            45,\n",
    "            np.where(\n",
    "                (Orientation >= 67.5) & (Orientation < 122.5),\n",
    "                90,\n",
    "                np.where(\n",
    "                    (Orientation >= 122.5) & (Orientation < 157.5), 135, Orientation\n",
    "                ),\n",
    "            ),\n",
    "        ),\n",
    "    )\n",
    "    return Orientation"
   ]
  },
  {
   "cell_type": "code",
   "execution_count": null,
   "metadata": {},
   "outputs": [],
   "source": [
    "fig, ax = plt.subplots(1, 2)\n",
    "fig.set_size_inches(15, 5)\n",
    "ax[0].imshow(img5, cmap=\"gray\")\n",
    "ax[0].set_title(\"original image\")\n",
    "ax[1].imshow(Canny(img5,8400,65400), cmap=\"gray\")\n",
    "ax[1].set_title(\"Applying Canny Algorithm\")\n",
    "plt.show()"
   ]
  }
 ],
 "metadata": {
  "kaggle": {
   "accelerator": "none",
   "dataSources": [
    {
     "datasetId": 6018401,
     "sourceId": 9816259,
     "sourceType": "datasetVersion"
    },
    {
     "datasetId": 6018767,
     "sourceId": 9816758,
     "sourceType": "datasetVersion"
    }
   ],
   "dockerImageVersionId": 30786,
   "isGpuEnabled": false,
   "isInternetEnabled": true,
   "language": "python",
   "sourceType": "notebook"
  },
  "kernelspec": {
   "display_name": "Python 3 (ipykernel)",
   "language": "python",
   "name": "python3"
  },
  "language_info": {
   "codemirror_mode": {
    "name": "ipython",
    "version": 3
   },
   "file_extension": ".py",
   "mimetype": "text/x-python",
   "name": "python",
   "nbconvert_exporter": "python",
   "pygments_lexer": "ipython3",
   "version": "3.12.4"
  }
 },
 "nbformat": 4,
 "nbformat_minor": 4
}
