{
 "cells": [
  {
   "cell_type": "markdown",
   "id": "b4122534",
   "metadata": {},
   "source": [
    "## Load the an image"
   ]
  },
  {
   "cell_type": "markdown",
   "id": "9e4ec48b",
   "metadata": {},
   "source": [
    " - Call a library to upload an image"
   ]
  },
  {
   "cell_type": "code",
   "execution_count": null,
   "id": "5a0b14b9",
   "metadata": {},
   "outputs": [],
   "source": [
    "from PIL import Image\n",
    "import numpy as np"
   ]
  },
  {
   "cell_type": "code",
   "execution_count": null,
   "id": "f81f6ff1",
   "metadata": {},
   "outputs": [],
   "source": [
    "path_image = \"images/leon.jpeg\""
   ]
  },
  {
   "cell_type": "code",
   "execution_count": null,
   "id": "e34a8b7f",
   "metadata": {},
   "outputs": [],
   "source": [
    "image = Image.open(path_image) \n",
    "image = image.convert(\"RGB\")"
   ]
  },
  {
   "cell_type": "code",
   "execution_count": null,
   "id": "50897966",
   "metadata": {},
   "outputs": [],
   "source": [
    "IMG = np.array(image)"
   ]
  },
  {
   "cell_type": "markdown",
   "id": "f2d3fd5b",
   "metadata": {},
   "source": [
    " - Testing Show"
   ]
  },
  {
   "cell_type": "code",
   "execution_count": null,
   "id": "b750b5f6",
   "metadata": {},
   "outputs": [],
   "source": [
    "import matplotlib.pyplot as plt\n",
    "\n",
    "plt.imshow(IMG)\n",
    "plt.axis(\"off\") \n",
    "plt.show()"
   ]
  },
  {
   "cell_type": "markdown",
   "id": "fa87295a",
   "metadata": {},
   "source": [
    "## Determine the pixel resolution of IMG"
   ]
  },
  {
   "cell_type": "code",
   "execution_count": null,
   "id": "ab2762b0",
   "metadata": {},
   "outputs": [],
   "source": [
    "print(f'Final Image Width: {len(IMG[0])}, Height: {len(IMG)}')"
   ]
  },
  {
   "cell_type": "markdown",
   "id": "5d3df02f",
   "metadata": {},
   "source": [
    "## Show the RGB values of the pixel IMG(10, 15)"
   ]
  },
  {
   "cell_type": "code",
   "execution_count": null,
   "id": "472b4d0d",
   "metadata": {},
   "outputs": [],
   "source": [
    "print(f'RGB values of the pixel IMG(10, 15) is  {IMG[10][15]}')"
   ]
  },
  {
   "cell_type": "markdown",
   "id": "46a5364e",
   "metadata": {},
   "source": [
    "## Calculate the brightness of IMG"
   ]
  },
  {
   "cell_type": "code",
   "execution_count": null,
   "id": "7b12a21c",
   "metadata": {},
   "outputs": [],
   "source": [
    "def calculate_brightness(IMG ,img_height , img_width  ):\n",
    "    R_values = []\n",
    "    G_values = []\n",
    "    B_values = []\n",
    "    brightness_values = [] \n",
    "    for i in range(0 , img_height) : \n",
    "        for j in range(0 , img_width) : \n",
    "            R_values.append(IMG[i][j][0])\n",
    "            G_values.append(IMG[i][j][1])\n",
    "            B_values.append(IMG[i][j][2])\n",
    "            brightness = (0.29 * IMG[i][j][0] + 0.58 * IMG[i][j][1] + 0.11 * IMG[i][j][2])\n",
    "            brightness_values.append(brightness)\n",
    "            \n",
    "    average_brightness = sum(brightness_values) / len(brightness_values)\n",
    "    \n",
    "    return  average_brightness , brightness_values"
   ]
  },
  {
   "cell_type": "code",
   "execution_count": null,
   "id": "7a402cc1",
   "metadata": {},
   "outputs": [],
   "source": [
    "average_brightness ,brightness_values = calculate_brightness(IMG,len(IMG),len(IMG[0]))\n",
    "\n",
    "print(f'Average Brightness: {average_brightness}')\n",
    "print(f' Brightness values : {brightness_values[:8]}')"
   ]
  },
  {
   "cell_type": "markdown",
   "id": "cf21d974",
   "metadata": {},
   "source": [
    "## Calculate the contrast of IMG"
   ]
  },
  {
   "cell_type": "code",
   "execution_count": null,
   "id": "7d3a37af",
   "metadata": {},
   "outputs": [],
   "source": [
    "import math \n",
    "\n",
    "def calculate_contrast(average_brightness , brightness_values , N , M) : \n",
    "    \n",
    "    contrast_sum = 0\n",
    "    for brightness in brightness_values:\n",
    "        \n",
    "        contrast_sum += (brightness - average_brightness) ** 2\n",
    "        \n",
    "    contrast  =  math.sqrt(contrast_sum / (M * N))\n",
    "    \n",
    "    return contrast\n",
    "    "
   ]
  },
  {
   "cell_type": "code",
   "execution_count": null,
   "id": "6adf0486",
   "metadata": {},
   "outputs": [],
   "source": [
    "print(f'Contrast: {calculate_contrast(average_brightness , brightness_values ,len(IMG[0]),len(IMG) )}')"
   ]
  },
  {
   "cell_type": "markdown",
   "id": "2a03d607",
   "metadata": {},
   "source": [
    "## Show the each of the RGB channels separately"
   ]
  },
  {
   "cell_type": "code",
   "execution_count": null,
   "id": "b9a779af",
   "metadata": {},
   "outputs": [],
   "source": [
    "def rgb_matrix(IMG , img_height , img_width  ) : \n",
    "    \n",
    "    R_matrix = []\n",
    "    G_matrix = []\n",
    "    B_matrix = []\n",
    "    \n",
    "    for i in range(0 , img_height) :\n",
    "        R_row = []\n",
    "        G_row = []\n",
    "        B_row = []\n",
    "        for j in range(0 , img_width) :\n",
    "            R_row.append(IMG[i][j][0])\n",
    "            G_row.append(IMG[i][j][1])\n",
    "            B_row.append(IMG[i][j][2])\n",
    "        \n",
    "        R_matrix.append(R_row)\n",
    "        G_matrix.append(G_row)\n",
    "        B_matrix.append(B_row)\n",
    "    \n",
    "    return R_matrix , G_matrix , B_matrix"
   ]
  },
  {
   "cell_type": "code",
   "execution_count": null,
   "id": "1457e1cc",
   "metadata": {},
   "outputs": [],
   "source": [
    "R_matrix , G_matrix , B_matrix = rgb_matrix(IMG , len(IMG) , len(IMG[0])  )"
   ]
  },
  {
   "cell_type": "markdown",
   "id": "8c276e58",
   "metadata": {},
   "source": [
    " - Testin Show image in channel Blue"
   ]
  },
  {
   "cell_type": "code",
   "execution_count": null,
   "id": "7b67452e",
   "metadata": {},
   "outputs": [],
   "source": [
    "plt.imshow(B_matrix)\n",
    "plt.axis(\"off\") \n",
    "plt.show()"
   ]
  },
  {
   "cell_type": "markdown",
   "id": "8c68e41f",
   "metadata": {},
   "source": [
    "## Convert IMG to gray-level using the average method"
   ]
  },
  {
   "cell_type": "code",
   "execution_count": null,
   "id": "31d11f98",
   "metadata": {},
   "outputs": [],
   "source": [
    "def gray_level(IMG , img_height , img_width  ) :\n",
    "    \n",
    "    Gray_matrix = []\n",
    "    for i in range(0 , img_height) :\n",
    "        Gray_row = []\n",
    "        for j in range(img_width):\n",
    "            R = IMG[i][j][0]\n",
    "            G = IMG[i][j][1]\n",
    "            B = IMG[i][j][2]\n",
    "            Gray = (R + G + B) / 3\n",
    "            Gray_row.append(Gray)\n",
    "        Gray_matrix.append(Gray_row)\n",
    "    return np.array(Gray_matrix)"
   ]
  },
  {
   "cell_type": "code",
   "execution_count": null,
   "id": "9cd5abdc",
   "metadata": {},
   "outputs": [],
   "source": [
    "Gray_matrix = gray_level(IMG , len(IMG) , len(IMG[0])  )"
   ]
  },
  {
   "cell_type": "code",
   "execution_count": null,
   "id": "d39902bb",
   "metadata": {},
   "outputs": [],
   "source": [
    "plt.imshow(Gray_matrix)\n",
    "plt.axis(\"off\") \n",
    "plt.show()"
   ]
  },
  {
   "cell_type": "markdown",
   "id": "a13c7a63",
   "metadata": {},
   "source": [
    "## Convert IMG to gray-level using the weighted formula"
   ]
  },
  {
   "cell_type": "code",
   "execution_count": null,
   "id": "473557f8",
   "metadata": {},
   "outputs": [],
   "source": [
    "def gray_level_two(IMG , img_height , img_width  ) :\n",
    "    \n",
    "    Gray_matrix = []\n",
    "    for i in range(0 , img_height) :\n",
    "        Gray_row = []\n",
    "        for j in range(img_width):\n",
    "            R = IMG[i][j][0]\n",
    "            G = IMG[i][j][1]\n",
    "            B = IMG[i][j][2]\n",
    "            Gray = int((R * 0.29) +( G * 0.6) + (B * 0.11))\n",
    "            Gray_row.append(Gray)\n",
    "        Gray_matrix.append(Gray_row)\n",
    "    return Gray_matrix"
   ]
  },
  {
   "cell_type": "code",
   "execution_count": null,
   "id": "5bfef1a4",
   "metadata": {},
   "outputs": [],
   "source": [
    "IMG_2 = gray_level_two(IMG , len(IMG) , len(IMG[0])   )"
   ]
  },
  {
   "cell_type": "code",
   "execution_count": null,
   "id": "34e7449c",
   "metadata": {},
   "outputs": [],
   "source": [
    "plt.imshow(IMG_2)\n",
    "plt.axis(\"off\") \n",
    "plt.show()"
   ]
  },
  {
   "cell_type": "markdown",
   "id": "7f76c1a7",
   "metadata": {},
   "source": [
    "## Determine the min / max value of IMG and IMG2"
   ]
  },
  {
   "cell_type": "code",
   "execution_count": null,
   "id": "c9fd526b",
   "metadata": {},
   "outputs": [],
   "source": [
    "def min_max(img):\n",
    "    min_val = IMG[0][0][0]\n",
    "    max_val = IMG[0][0][0]\n",
    "    \n",
    "    for row in IMG:\n",
    "        for pixel in row:\n",
    "            for channel in pixel:  \n",
    "                if channel < min_val:\n",
    "                    min_val = channel\n",
    "                if channel > max_val:\n",
    "                    max_val = channel\n",
    "    \n",
    "    return min_val, max_val"
   ]
  },
  {
   "cell_type": "code",
   "execution_count": null,
   "id": "1dfdea71",
   "metadata": {},
   "outputs": [],
   "source": [
    "print(\"IMG min / max:\", min_max(IMG))\n",
    "print(\"IMG2 min / max:\", min_max(IMG_2))"
   ]
  },
  {
   "cell_type": "markdown",
   "id": "a571dd30",
   "metadata": {},
   "source": [
    "## Calculate the pixel resolution of IMG and IMG2 in terms of MegaPixel "
   ]
  },
  {
   "cell_type": "code",
   "execution_count": null,
   "id": "72b999fe",
   "metadata": {},
   "outputs": [],
   "source": [
    "def mega_pixel(img_height, img_width):\n",
    "    total_pixels = img_height * img_width\n",
    "    megapixels = total_pixels / 1_000_000  \n",
    "    return megapixels"
   ]
  },
  {
   "cell_type": "code",
   "execution_count": null,
   "id": "e3345506",
   "metadata": {},
   "outputs": [],
   "source": [
    "print(\"IMG resolution in MP:\", mega_pixel(len(IMG) , len(IMG[0])) )\n",
    "print(\"IMG2 resolution in MP:\", mega_pixel(len(IMG_2) , len(IMG_2[0])) )"
   ]
  },
  {
   "cell_type": "markdown",
   "id": "8b23cba9",
   "metadata": {},
   "source": [
    "## Calculate the size of IMG"
   ]
  },
  {
   "cell_type": "code",
   "execution_count": null,
   "id": "288deec7",
   "metadata": {},
   "outputs": [],
   "source": [
    "def image_size(img_height, img_width, channels, bit_depth=8):\n",
    "    size_in_bytes = img_height * img_width * channels * (bit_depth // 8)\n",
    "    return size_in_bytes"
   ]
  },
  {
   "cell_type": "code",
   "execution_count": null,
   "id": "2980a871",
   "metadata": {},
   "outputs": [],
   "source": [
    "print(\"IMG size in bytes:\", image_size(len(IMG) , len(IMG[0]), 3))"
   ]
  },
  {
   "cell_type": "markdown",
   "id": "2d2e0f1a",
   "metadata": {},
   "source": [
    "## SUB_IMG the sub-image from IMG  line 50 to 70 & column 20 to 90. Display the two images"
   ]
  },
  {
   "cell_type": "code",
   "execution_count": null,
   "id": "1f051d8e",
   "metadata": {},
   "outputs": [],
   "source": [
    "SUB_IMG = IMG[50: 70, 20:90]"
   ]
  },
  {
   "cell_type": "code",
   "execution_count": null,
   "id": "6e8c0c05",
   "metadata": {},
   "outputs": [],
   "source": [
    "plt.imshow(SUB_IMG)\n",
    "plt.axis(\"off\") \n",
    "plt.show()"
   ]
  },
  {
   "cell_type": "code",
   "execution_count": null,
   "id": "cd421b20",
   "metadata": {},
   "outputs": [],
   "source": [
    "from PIL import Image\n",
    "import numpy as np\n",
    "\n",
    "def gray_level_two(IMG, img_height, img_width):\n",
    "    # Convert RGB image matrix to grayscale matrix\n",
    "    Gray_matrix = []\n",
    "    for i in range(img_height):\n",
    "        Gray_row = []\n",
    "        for j in range(img_width):\n",
    "            R = IMG[i][j][0]\n",
    "            G = IMG[i][j][1]\n",
    "            B = IMG[i][j][2]\n",
    "            Gray = int((R * 0.29) + (G * 0.6) + (B * 0.11))  # Convert to integer for image compatibility\n",
    "            Gray_row.append(Gray)\n",
    "        Gray_matrix.append(Gray_row)\n",
    "    return Gray_matrix\n",
    "\n",
    "# Load the RGB image and convert it to a NumPy array\n",
    "image = Image.open(\"images/leon.jpeg\")  # Replace with your image path\n",
    "IMG = np.array(image)\n",
    "\n",
    "# Get the height and width of the image\n",
    "img_height, img_width, _ = IMG.shape\n",
    "\n",
    "# Convert RGB to grayscale using the gray_level_two function\n",
    "Gray_matrix = gray_level_two(IMG, img_height, img_width)\n",
    "\n",
    "# Convert the grayscale matrix to a Pillow image\n",
    "gray_image = Image.fromarray(np.array(Gray_matrix, dtype=np.uint8), mode=\"L\")\n",
    "\n",
    "# Display the grayscale image\n",
    "gray_image.show()\n",
    "\n",
    "# Calculate the size in bytes\n",
    "size_in_bytes = img_height * img_width  # Since it's 1 byte per pixel in grayscale\n",
    "print(f\"Grayscale image size: {size_in_bytes} bytes\")\n"
   ]
  },
  {
   "cell_type": "code",
   "execution_count": null,
   "id": "81728967",
   "metadata": {},
   "outputs": [],
   "source": []
  }
 ],
 "metadata": {
  "kernelspec": {
   "display_name": "Python 3 (ipykernel)",
   "language": "python",
   "name": "python3"
  },
  "language_info": {
   "codemirror_mode": {
    "name": "ipython",
    "version": 3
   },
   "file_extension": ".py",
   "mimetype": "text/x-python",
   "name": "python",
   "nbconvert_exporter": "python",
   "pygments_lexer": "ipython3",
   "version": "3.11.5"
  }
 },
 "nbformat": 4,
 "nbformat_minor": 5
}
