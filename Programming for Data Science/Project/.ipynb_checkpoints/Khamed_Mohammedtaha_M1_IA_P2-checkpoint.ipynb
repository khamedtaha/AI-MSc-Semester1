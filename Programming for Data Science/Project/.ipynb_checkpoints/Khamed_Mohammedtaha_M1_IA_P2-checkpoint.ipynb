{
 "cells": [
  {
   "cell_type": "markdown",
   "id": "bff193a6",
   "metadata": {},
   "source": [
    "<div style=\"display: flex; justify-content: center; align-items: center; background-color: #644FBA; color: #FFFF; padding: 30px;\">\n",
    "<h1 style=\"margin: 0;\">Automatic Detection Algorithm for Counterfeit Banknotes</h1>\n",
    "</div>\n"
   ]
  },
  {
   "cell_type": "markdown",
   "id": "a92239d6",
   "metadata": {},
   "source": [
    "<div style=\"font-family: Arial, sans-serif; background-color: #f9f9f9; border-left: 5px solid #644FBA; padding: 20px; margin-bottom: 20px;\">\n",
    "  <h1 style=\"color: #644FBA; margin-top: 0;\">Objective of This Notebook</h1>\n",
    "  <p style=\"color: #1E173B;\">\n",
    "    When a banknote arrives, we have a machine that records all its geometric characteristics. \n",
    "    Over our years of effort, we have observed differences in dimensions between genuine and counterfeit banknotes. \n",
    "    These differences are difficult to detect with the naked eye, but a machine should have no problem distinguishing them.\n",
    "  </p>\n",
    "  <p style=\"color: #1E173B;\">\n",
    "    Thus, an algorithm should be built that, based on the geometric characteristics of a banknote, \n",
    "    would be capable of determining whether it is genuine or counterfeit.\n",
    "  </p>\n",
    "</div>\n"
   ]
  },
  {
   "cell_type": "markdown",
   "id": "0b311e55",
   "metadata": {},
   "source": [
    "<div style=\"font-family: Arial, sans-serif; background-color: #f9f9f9; border-left: 5px solid #644FBA; padding: 20px; margin-bottom: 20px;\">\n",
    "  <h2 style=\"color: #5A45B0; margin-top: 0;\">Table of Contents</h2>\n",
    "  <ul>\n",
    "    <li><a href=\"#1\" style=\"text-decoration: none; color: #644FBA;\">Importing the libraries</a></li>\n",
    "    <li><a href=\"#2\" style=\"text-decoration: none; color: #644FBA;\">Importing the dataset</a></li>\n",
    "    <li><a href=\"#3\" style=\"text-decoration: none; color: #644FBA;\">Information about the data</a></li>\n",
    "    <li><a href=\"#4\" style=\"text-decoration: none; color: #644FBA;\">Taking care of missing data</a></li>\n",
    "    <li><a href=\"#5\" style=\"text-decoration: none; color: #644FBA;\">Training a model to predict missing values in margin_low</a></li>\n",
    "    <li><a href=\"#6\" style=\"text-decoration: none; color: #644FBA;\">Training the model using new data to detect counterfeit banknotes</a>\n",
    "      <ul>\n",
    "        <li><a href=\"#61\" style=\"text-decoration: none; color: #644FBA;\">Data Visualization</a></li>\n",
    "        <li><a href=\"#62\" style=\"text-decoration: none; color: #644FBA;\">Principal Component Analysis (PCA) from Scratch</a></li>\n",
    "        <li><a href=\"#63\" style=\"text-decoration: none; color: #644FBA;\">Principal Component Analysis (PCA) with scikit-learn</a></li>\n",
    "        <li><a href=\"#64\" style=\"text-decoration: none; color: #644FBA;\">Building and Training Models</a></li>\n",
    "        <li><a href=\"#65\" style=\"text-decoration: none; color: #644FBA;\">Choosing a More Efficient Model</a></li>\n",
    "      </ul>\n",
    "    </li>\n",
    "    <li><a href=\"#7\" style=\"text-decoration: none; color: #644FBA;\">Exporting the Model in \"joblib\" Format</a></li>\n",
    "    <li><a href=\"#8\" style=\"text-decoration: none; color: #644FBA;\">Testing the Model</a></li>\n",
    "    <li><a href=\"#9\" style=\"text-decoration: none; color: #644FBA;\">Model Performance Summary</a></li>\n",
    "  </ul>\n",
    "</div>\n"
   ]
  },
  {
   "cell_type": "markdown",
   "id": "61245014",
   "metadata": {},
   "source": [
    "------"
   ]
  },
  {
   "cell_type": "markdown",
   "id": "4e639a85",
   "metadata": {},
   "source": [
    "<div id=\"1\" style=\"font-family: Arial, sans-serif; background-color: #f9f9f9; border-left: 5px solid #644FBA; padding: 20px; margin-bottom: 20px;\">\n",
    "  <h2 style=\"color: #5A45B0; margin-top: 0;\">Importing the libraries</h2>\n",
    "</div>    \n"
   ]
  },
  {
   "cell_type": "code",
   "execution_count": 72,
   "id": "00f34df6",
   "metadata": {},
   "outputs": [],
   "source": [
    "import numpy as np\n",
    "import matplotlib.pyplot as plt\n",
    "import pandas as pd"
   ]
  },
  {
   "cell_type": "markdown",
   "id": "52e9aaab",
   "metadata": {},
   "source": [
    "<div id=\"2\" style=\"font-family: Arial, sans-serif; background-color: #f9f9f9; border-left: 5px solid #644FBA; padding: 20px; margin-bottom: 20px;\">\n",
    "  <h2 style=\"color: #5A45B0; margin-top: 0;\">Importing the dataset</h2>\n",
    "</div>    \n"
   ]
  },
  {
   "cell_type": "code",
   "execution_count": 73,
   "id": "34b06bb3",
   "metadata": {},
   "outputs": [],
   "source": [
    "df = pd.read_csv(\"dataset/billets.csv\", delimiter=\";\", header=None)"
   ]
  },
  {
   "cell_type": "markdown",
   "id": "84fc305e",
   "metadata": {},
   "source": [
    "Handling the issue of missing header for the dataset"
   ]
  },
  {
   "cell_type": "code",
   "execution_count": 74,
   "id": "ce48c346",
   "metadata": {},
   "outputs": [
    {
     "data": {
      "text/html": [
       "<div>\n",
       "<style scoped>\n",
       "    .dataframe tbody tr th:only-of-type {\n",
       "        vertical-align: middle;\n",
       "    }\n",
       "\n",
       "    .dataframe tbody tr th {\n",
       "        vertical-align: top;\n",
       "    }\n",
       "\n",
       "    .dataframe thead th {\n",
       "        text-align: right;\n",
       "    }\n",
       "</style>\n",
       "<table border=\"1\" class=\"dataframe\">\n",
       "  <thead>\n",
       "    <tr style=\"text-align: right;\">\n",
       "      <th></th>\n",
       "      <th>is_genuine</th>\n",
       "      <th>diagonal</th>\n",
       "      <th>height_left</th>\n",
       "      <th>height_right</th>\n",
       "      <th>margin_low</th>\n",
       "      <th>margin_up</th>\n",
       "      <th>length</th>\n",
       "    </tr>\n",
       "  </thead>\n",
       "  <tbody>\n",
       "    <tr>\n",
       "      <th>0</th>\n",
       "      <td>True</td>\n",
       "      <td>171.81</td>\n",
       "      <td>104.86</td>\n",
       "      <td>104.95</td>\n",
       "      <td>4.52</td>\n",
       "      <td>2.89</td>\n",
       "      <td>112.83</td>\n",
       "    </tr>\n",
       "    <tr>\n",
       "      <th>1</th>\n",
       "      <td>True</td>\n",
       "      <td>171.46</td>\n",
       "      <td>103.36</td>\n",
       "      <td>103.66</td>\n",
       "      <td>3.77</td>\n",
       "      <td>2.99</td>\n",
       "      <td>113.09</td>\n",
       "    </tr>\n",
       "    <tr>\n",
       "      <th>2</th>\n",
       "      <td>True</td>\n",
       "      <td>172.69</td>\n",
       "      <td>104.48</td>\n",
       "      <td>103.5</td>\n",
       "      <td>4.4</td>\n",
       "      <td>2.94</td>\n",
       "      <td>113.16</td>\n",
       "    </tr>\n",
       "    <tr>\n",
       "      <th>3</th>\n",
       "      <td>True</td>\n",
       "      <td>171.36</td>\n",
       "      <td>103.91</td>\n",
       "      <td>103.94</td>\n",
       "      <td>3.62</td>\n",
       "      <td>3.01</td>\n",
       "      <td>113.51</td>\n",
       "    </tr>\n",
       "    <tr>\n",
       "      <th>4</th>\n",
       "      <td>True</td>\n",
       "      <td>171.73</td>\n",
       "      <td>104.28</td>\n",
       "      <td>103.46</td>\n",
       "      <td>4.04</td>\n",
       "      <td>3.48</td>\n",
       "      <td>112.54</td>\n",
       "    </tr>\n",
       "  </tbody>\n",
       "</table>\n",
       "</div>"
      ],
      "text/plain": [
       "  is_genuine diagonal height_left height_right margin_low margin_up  length\n",
       "0       True   171.81      104.86       104.95       4.52      2.89  112.83\n",
       "1       True   171.46      103.36       103.66       3.77      2.99  113.09\n",
       "2       True   172.69      104.48        103.5        4.4      2.94  113.16\n",
       "3       True   171.36      103.91       103.94       3.62      3.01  113.51\n",
       "4       True   171.73      104.28       103.46       4.04      3.48  112.54"
      ]
     },
     "execution_count": 74,
     "metadata": {},
     "output_type": "execute_result"
    }
   ],
   "source": [
    "df.columns = ['is_genuine', 'diagonal', 'height_left', 'height_right', 'margin_low', 'margin_up', 'length']\n",
    "df = df.iloc[1:].reset_index(drop=True)\n",
    "df.head()"
   ]
  },
  {
   "cell_type": "markdown",
   "id": "ecb02858",
   "metadata": {},
   "source": [
    "<div id=\"3\" style=\"font-family: Arial, sans-serif; background-color: #f9f9f9; border-left: 5px solid #644FBA; padding: 20px; margin-bottom: 20px;\">\n",
    "  <h2 style=\"color: #5A45B0; margin-top: 0;\">Information about the data\n",
    "</h2>\n",
    "</div>    \n"
   ]
  },
  {
   "cell_type": "code",
   "execution_count": 75,
   "id": "ed13eb32",
   "metadata": {},
   "outputs": [
    {
     "data": {
      "text/plain": [
       "(1500, 7)"
      ]
     },
     "execution_count": 75,
     "metadata": {},
     "output_type": "execute_result"
    }
   ],
   "source": [
    "df.shape"
   ]
  },
  {
   "cell_type": "code",
   "execution_count": 76,
   "id": "5f3658e1",
   "metadata": {},
   "outputs": [
    {
     "data": {
      "text/plain": [
       "Index(['is_genuine', 'diagonal', 'height_left', 'height_right', 'margin_low',\n",
       "       'margin_up', 'length'],\n",
       "      dtype='object')"
      ]
     },
     "execution_count": 76,
     "metadata": {},
     "output_type": "execute_result"
    }
   ],
   "source": [
    "df.columns"
   ]
  },
  {
   "cell_type": "code",
   "execution_count": 77,
   "id": "4b9747a1",
   "metadata": {},
   "outputs": [
    {
     "data": {
      "text/html": [
       "<div>\n",
       "<style scoped>\n",
       "    .dataframe tbody tr th:only-of-type {\n",
       "        vertical-align: middle;\n",
       "    }\n",
       "\n",
       "    .dataframe tbody tr th {\n",
       "        vertical-align: top;\n",
       "    }\n",
       "\n",
       "    .dataframe thead th {\n",
       "        text-align: right;\n",
       "    }\n",
       "</style>\n",
       "<table border=\"1\" class=\"dataframe\">\n",
       "  <thead>\n",
       "    <tr style=\"text-align: right;\">\n",
       "      <th></th>\n",
       "      <th>is_genuine</th>\n",
       "      <th>diagonal</th>\n",
       "      <th>height_left</th>\n",
       "      <th>height_right</th>\n",
       "      <th>margin_low</th>\n",
       "      <th>margin_up</th>\n",
       "      <th>length</th>\n",
       "    </tr>\n",
       "  </thead>\n",
       "  <tbody>\n",
       "    <tr>\n",
       "      <th>count</th>\n",
       "      <td>1500</td>\n",
       "      <td>1500</td>\n",
       "      <td>1500</td>\n",
       "      <td>1500</td>\n",
       "      <td>1463</td>\n",
       "      <td>1500</td>\n",
       "      <td>1500</td>\n",
       "    </tr>\n",
       "    <tr>\n",
       "      <th>unique</th>\n",
       "      <td>2</td>\n",
       "      <td>159</td>\n",
       "      <td>155</td>\n",
       "      <td>170</td>\n",
       "      <td>285</td>\n",
       "      <td>123</td>\n",
       "      <td>336</td>\n",
       "    </tr>\n",
       "    <tr>\n",
       "      <th>top</th>\n",
       "      <td>True</td>\n",
       "      <td>171.99</td>\n",
       "      <td>103.95</td>\n",
       "      <td>103.76</td>\n",
       "      <td>4.08</td>\n",
       "      <td>3.08</td>\n",
       "      <td>113.38</td>\n",
       "    </tr>\n",
       "    <tr>\n",
       "      <th>freq</th>\n",
       "      <td>1000</td>\n",
       "      <td>28</td>\n",
       "      <td>30</td>\n",
       "      <td>28</td>\n",
       "      <td>20</td>\n",
       "      <td>35</td>\n",
       "      <td>19</td>\n",
       "    </tr>\n",
       "  </tbody>\n",
       "</table>\n",
       "</div>"
      ],
      "text/plain": [
       "       is_genuine diagonal height_left height_right margin_low margin_up  \\\n",
       "count        1500     1500        1500         1500       1463      1500   \n",
       "unique          2      159         155          170        285       123   \n",
       "top          True   171.99      103.95       103.76       4.08      3.08   \n",
       "freq         1000       28          30           28         20        35   \n",
       "\n",
       "        length  \n",
       "count     1500  \n",
       "unique     336  \n",
       "top     113.38  \n",
       "freq        19  "
      ]
     },
     "execution_count": 77,
     "metadata": {},
     "output_type": "execute_result"
    }
   ],
   "source": [
    "df.describe()"
   ]
  },
  {
   "cell_type": "code",
   "execution_count": 78,
   "id": "d6c08e64",
   "metadata": {},
   "outputs": [
    {
     "name": "stdout",
     "output_type": "stream",
     "text": [
      "<class 'pandas.core.frame.DataFrame'>\n",
      "RangeIndex: 1500 entries, 0 to 1499\n",
      "Data columns (total 7 columns):\n",
      " #   Column        Non-Null Count  Dtype \n",
      "---  ------        --------------  ----- \n",
      " 0   is_genuine    1500 non-null   object\n",
      " 1   diagonal      1500 non-null   object\n",
      " 2   height_left   1500 non-null   object\n",
      " 3   height_right  1500 non-null   object\n",
      " 4   margin_low    1463 non-null   object\n",
      " 5   margin_up     1500 non-null   object\n",
      " 6   length        1500 non-null   object\n",
      "dtypes: object(7)\n",
      "memory usage: 82.2+ KB\n"
     ]
    }
   ],
   "source": [
    "df.info()"
   ]
  },
  {
   "cell_type": "code",
   "execution_count": 79,
   "id": "c1c55d8c",
   "metadata": {},
   "outputs": [
    {
     "data": {
      "text/plain": [
       "is_genuine       0\n",
       "diagonal         0\n",
       "height_left      0\n",
       "height_right     0\n",
       "margin_low      37\n",
       "margin_up        0\n",
       "length           0\n",
       "dtype: int64"
      ]
     },
     "execution_count": 79,
     "metadata": {},
     "output_type": "execute_result"
    }
   ],
   "source": [
    "df.isnull().sum()"
   ]
  },
  {
   "cell_type": "markdown",
   "id": "74be3f7c",
   "metadata": {},
   "source": [
    "<div id=\"4\" style=\"font-family: Arial, sans-serif; background-color: #f9f9f9; border-left: 5px solid #5A45B0; padding: 20px; margin-bottom: 20px;\">\n",
    "  <h2 style=\"color: #5A45B0; margin-top: 0;\">Taking care of missing data\n",
    "</h2>\n",
    "</div>    "
   ]
  },
  {
   "cell_type": "code",
   "execution_count": 80,
   "id": "599b04a0",
   "metadata": {},
   "outputs": [],
   "source": [
    "df['is_genuine'] = df['is_genuine'].replace({'True': True, 'False': False})\n",
    "df['is_genuine'] = df['is_genuine'].astype(int)"
   ]
  },
  {
   "cell_type": "code",
   "execution_count": 81,
   "id": "8f4c932d",
   "metadata": {},
   "outputs": [
    {
     "data": {
      "text/html": [
       "<div>\n",
       "<style scoped>\n",
       "    .dataframe tbody tr th:only-of-type {\n",
       "        vertical-align: middle;\n",
       "    }\n",
       "\n",
       "    .dataframe tbody tr th {\n",
       "        vertical-align: top;\n",
       "    }\n",
       "\n",
       "    .dataframe thead th {\n",
       "        text-align: right;\n",
       "    }\n",
       "</style>\n",
       "<table border=\"1\" class=\"dataframe\">\n",
       "  <thead>\n",
       "    <tr style=\"text-align: right;\">\n",
       "      <th></th>\n",
       "      <th>is_genuine</th>\n",
       "      <th>diagonal</th>\n",
       "      <th>height_left</th>\n",
       "      <th>height_right</th>\n",
       "      <th>margin_low</th>\n",
       "      <th>margin_up</th>\n",
       "      <th>length</th>\n",
       "    </tr>\n",
       "  </thead>\n",
       "  <tbody>\n",
       "    <tr>\n",
       "      <th>0</th>\n",
       "      <td>1</td>\n",
       "      <td>171.81</td>\n",
       "      <td>104.86</td>\n",
       "      <td>104.95</td>\n",
       "      <td>4.52</td>\n",
       "      <td>2.89</td>\n",
       "      <td>112.83</td>\n",
       "    </tr>\n",
       "    <tr>\n",
       "      <th>1</th>\n",
       "      <td>1</td>\n",
       "      <td>171.46</td>\n",
       "      <td>103.36</td>\n",
       "      <td>103.66</td>\n",
       "      <td>3.77</td>\n",
       "      <td>2.99</td>\n",
       "      <td>113.09</td>\n",
       "    </tr>\n",
       "    <tr>\n",
       "      <th>2</th>\n",
       "      <td>1</td>\n",
       "      <td>172.69</td>\n",
       "      <td>104.48</td>\n",
       "      <td>103.5</td>\n",
       "      <td>4.4</td>\n",
       "      <td>2.94</td>\n",
       "      <td>113.16</td>\n",
       "    </tr>\n",
       "    <tr>\n",
       "      <th>3</th>\n",
       "      <td>1</td>\n",
       "      <td>171.36</td>\n",
       "      <td>103.91</td>\n",
       "      <td>103.94</td>\n",
       "      <td>3.62</td>\n",
       "      <td>3.01</td>\n",
       "      <td>113.51</td>\n",
       "    </tr>\n",
       "    <tr>\n",
       "      <th>4</th>\n",
       "      <td>1</td>\n",
       "      <td>171.73</td>\n",
       "      <td>104.28</td>\n",
       "      <td>103.46</td>\n",
       "      <td>4.04</td>\n",
       "      <td>3.48</td>\n",
       "      <td>112.54</td>\n",
       "    </tr>\n",
       "    <tr>\n",
       "      <th>5</th>\n",
       "      <td>1</td>\n",
       "      <td>172.17</td>\n",
       "      <td>103.74</td>\n",
       "      <td>104.08</td>\n",
       "      <td>4.42</td>\n",
       "      <td>2.95</td>\n",
       "      <td>112.81</td>\n",
       "    </tr>\n",
       "    <tr>\n",
       "      <th>6</th>\n",
       "      <td>1</td>\n",
       "      <td>172.34</td>\n",
       "      <td>104.18</td>\n",
       "      <td>103.85</td>\n",
       "      <td>4.58</td>\n",
       "      <td>3.26</td>\n",
       "      <td>112.81</td>\n",
       "    </tr>\n",
       "    <tr>\n",
       "      <th>7</th>\n",
       "      <td>1</td>\n",
       "      <td>171.88</td>\n",
       "      <td>103.76</td>\n",
       "      <td>104.08</td>\n",
       "      <td>3.98</td>\n",
       "      <td>2.92</td>\n",
       "      <td>113.08</td>\n",
       "    </tr>\n",
       "    <tr>\n",
       "      <th>8</th>\n",
       "      <td>1</td>\n",
       "      <td>172.47</td>\n",
       "      <td>103.92</td>\n",
       "      <td>103.67</td>\n",
       "      <td>4.0</td>\n",
       "      <td>3.25</td>\n",
       "      <td>112.85</td>\n",
       "    </tr>\n",
       "    <tr>\n",
       "      <th>9</th>\n",
       "      <td>1</td>\n",
       "      <td>172.47</td>\n",
       "      <td>104.07</td>\n",
       "      <td>104.02</td>\n",
       "      <td>4.04</td>\n",
       "      <td>3.25</td>\n",
       "      <td>113.45</td>\n",
       "    </tr>\n",
       "  </tbody>\n",
       "</table>\n",
       "</div>"
      ],
      "text/plain": [
       "   is_genuine diagonal height_left height_right margin_low margin_up  length\n",
       "0           1   171.81      104.86       104.95       4.52      2.89  112.83\n",
       "1           1   171.46      103.36       103.66       3.77      2.99  113.09\n",
       "2           1   172.69      104.48        103.5        4.4      2.94  113.16\n",
       "3           1   171.36      103.91       103.94       3.62      3.01  113.51\n",
       "4           1   171.73      104.28       103.46       4.04      3.48  112.54\n",
       "5           1   172.17      103.74       104.08       4.42      2.95  112.81\n",
       "6           1   172.34      104.18       103.85       4.58      3.26  112.81\n",
       "7           1   171.88      103.76       104.08       3.98      2.92  113.08\n",
       "8           1   172.47      103.92       103.67        4.0      3.25  112.85\n",
       "9           1   172.47      104.07       104.02       4.04      3.25  113.45"
      ]
     },
     "execution_count": 81,
     "metadata": {},
     "output_type": "execute_result"
    }
   ],
   "source": [
    "df.head(10)"
   ]
  },
  {
   "cell_type": "code",
   "execution_count": 82,
   "id": "6a9b60c5",
   "metadata": {},
   "outputs": [
    {
     "name": "stdout",
     "output_type": "stream",
     "text": [
      "<class 'pandas.core.frame.DataFrame'>\n",
      "RangeIndex: 1500 entries, 0 to 1499\n",
      "Data columns (total 7 columns):\n",
      " #   Column        Non-Null Count  Dtype \n",
      "---  ------        --------------  ----- \n",
      " 0   is_genuine    1500 non-null   int32 \n",
      " 1   diagonal      1500 non-null   object\n",
      " 2   height_left   1500 non-null   object\n",
      " 3   height_right  1500 non-null   object\n",
      " 4   margin_low    1463 non-null   object\n",
      " 5   margin_up     1500 non-null   object\n",
      " 6   length        1500 non-null   object\n",
      "dtypes: int32(1), object(6)\n",
      "memory usage: 76.3+ KB\n"
     ]
    }
   ],
   "source": [
    "df.info()"
   ]
  },
  {
   "cell_type": "code",
   "execution_count": 83,
   "id": "5e6917a1",
   "metadata": {},
   "outputs": [],
   "source": [
    "df['diagonal'] = pd.to_numeric(df['diagonal'], errors='coerce')\n",
    "df['height_left'] = pd.to_numeric(df['height_left'], errors='coerce')\n",
    "df['height_right'] = pd.to_numeric(df['height_right'], errors='coerce')\n",
    "df['margin_up'] = pd.to_numeric(df['margin_up'], errors='coerce')\n",
    "df['length'] = pd.to_numeric(df['length'], errors='coerce')"
   ]
  },
  {
   "cell_type": "code",
   "execution_count": 84,
   "id": "c646747f",
   "metadata": {},
   "outputs": [
    {
     "name": "stdout",
     "output_type": "stream",
     "text": [
      "<class 'pandas.core.frame.DataFrame'>\n",
      "RangeIndex: 1500 entries, 0 to 1499\n",
      "Data columns (total 7 columns):\n",
      " #   Column        Non-Null Count  Dtype  \n",
      "---  ------        --------------  -----  \n",
      " 0   is_genuine    1500 non-null   int32  \n",
      " 1   diagonal      1500 non-null   float64\n",
      " 2   height_left   1500 non-null   float64\n",
      " 3   height_right  1500 non-null   float64\n",
      " 4   margin_low    1463 non-null   object \n",
      " 5   margin_up     1500 non-null   float64\n",
      " 6   length        1500 non-null   float64\n",
      "dtypes: float64(5), int32(1), object(1)\n",
      "memory usage: 76.3+ KB\n"
     ]
    }
   ],
   "source": [
    "df.info()"
   ]
  },
  {
   "cell_type": "markdown",
   "id": "ec1967b1",
   "metadata": {},
   "source": [
    "<div id=\"5\" style=\"font-family: Arial, sans-serif; background-color: #f9f9f9; border-left: 5px solid #644FBA; padding: 20px; margin-bottom: 20px;\">\n",
    "  <h2 style=\"color: #5A45B0; margin-top: 0;\">Training a model to predict missing values in margin_low\n",
    "</h2>\n",
    "</div>    "
   ]
  },
  {
   "cell_type": "code",
   "execution_count": 85,
   "id": "4bc86a1f",
   "metadata": {},
   "outputs": [],
   "source": [
    "from sklearn.tree import DecisionTreeRegressor\n",
    "from sklearn.model_selection import train_test_split\n",
    "from sklearn.ensemble import RandomForestRegressor"
   ]
  },
  {
   "cell_type": "code",
   "execution_count": 163,
   "id": "4623fc3f",
   "metadata": {},
   "outputs": [],
   "source": [
    "backup_test = df.copy()"
   ]
  },
  {
   "cell_type": "code",
   "execution_count": 86,
   "id": "2e0ea2ec",
   "metadata": {},
   "outputs": [],
   "source": [
    "train_data = df.dropna(subset=['margin_low'])"
   ]
  },
  {
   "cell_type": "code",
   "execution_count": 87,
   "id": "7ef9df2e",
   "metadata": {},
   "outputs": [
    {
     "data": {
      "text/plain": [
       "(1463, 7)"
      ]
     },
     "execution_count": 87,
     "metadata": {},
     "output_type": "execute_result"
    }
   ],
   "source": [
    "train_data.shape"
   ]
  },
  {
   "cell_type": "code",
   "execution_count": 88,
   "id": "211dc5ee",
   "metadata": {},
   "outputs": [],
   "source": [
    "missing_data = df[df['margin_low'].isnull()]"
   ]
  },
  {
   "cell_type": "code",
   "execution_count": 89,
   "id": "9556ad0a",
   "metadata": {},
   "outputs": [
    {
     "name": "stdout",
     "output_type": "stream",
     "text": [
      "Shape of y_test: (1463, 6)\n",
      "Shape of y_test: (1463,)\n"
     ]
    }
   ],
   "source": [
    "X = train_data.drop(columns=['margin_low'])\n",
    "y = train_data['margin_low']\n",
    "print(f\"Shape of y_test: {X.shape}\")\n",
    "print(f\"Shape of y_test: {y.shape}\")"
   ]
  },
  {
   "cell_type": "code",
   "execution_count": 90,
   "id": "0b50b309",
   "metadata": {},
   "outputs": [
    {
     "data": {
      "text/plain": [
       "0    4.52\n",
       "1    3.77\n",
       "2     4.4\n",
       "3    3.62\n",
       "4    4.04\n",
       "Name: margin_low, dtype: object"
      ]
     },
     "execution_count": 90,
     "metadata": {},
     "output_type": "execute_result"
    }
   ],
   "source": [
    "y.head()"
   ]
  },
  {
   "cell_type": "code",
   "execution_count": 91,
   "id": "ebcaefd8",
   "metadata": {},
   "outputs": [],
   "source": [
    "X_train , X_test , y_train , y_test = train_test_split( X , y , test_size = 0.2 , random_state = 42 )"
   ]
  },
  {
   "cell_type": "code",
   "execution_count": 92,
   "id": "6ef21faf",
   "metadata": {},
   "outputs": [
    {
     "name": "stdout",
     "output_type": "stream",
     "text": [
      "Shape of y_test: (293,)\n"
     ]
    }
   ],
   "source": [
    "print(f\"Shape of y_test: {y_test.shape}\")\n"
   ]
  },
  {
   "cell_type": "code",
   "execution_count": 93,
   "id": "9bfa689c",
   "metadata": {},
   "outputs": [
    {
     "data": {
      "text/plain": [
       "margin_low\n",
       "4.12    6\n",
       "4.0     6\n",
       "3.99    6\n",
       "4.41    5\n",
       "3.84    5\n",
       "       ..\n",
       "3.71    1\n",
       "5.35    1\n",
       "4.19    1\n",
       "4.54    1\n",
       "6.0     1\n",
       "Name: count, Length: 162, dtype: int64"
      ]
     },
     "execution_count": 93,
     "metadata": {},
     "output_type": "execute_result"
    }
   ],
   "source": [
    "y_test.value_counts()"
   ]
  },
  {
   "cell_type": "code",
   "execution_count": 94,
   "id": "d003d930",
   "metadata": {},
   "outputs": [
    {
     "data": {
      "text/html": [
       "<style>#sk-container-id-3 {color: black;}#sk-container-id-3 pre{padding: 0;}#sk-container-id-3 div.sk-toggleable {background-color: white;}#sk-container-id-3 label.sk-toggleable__label {cursor: pointer;display: block;width: 100%;margin-bottom: 0;padding: 0.3em;box-sizing: border-box;text-align: center;}#sk-container-id-3 label.sk-toggleable__label-arrow:before {content: \"▸\";float: left;margin-right: 0.25em;color: #696969;}#sk-container-id-3 label.sk-toggleable__label-arrow:hover:before {color: black;}#sk-container-id-3 div.sk-estimator:hover label.sk-toggleable__label-arrow:before {color: black;}#sk-container-id-3 div.sk-toggleable__content {max-height: 0;max-width: 0;overflow: hidden;text-align: left;background-color: #f0f8ff;}#sk-container-id-3 div.sk-toggleable__content pre {margin: 0.2em;color: black;border-radius: 0.25em;background-color: #f0f8ff;}#sk-container-id-3 input.sk-toggleable__control:checked~div.sk-toggleable__content {max-height: 200px;max-width: 100%;overflow: auto;}#sk-container-id-3 input.sk-toggleable__control:checked~label.sk-toggleable__label-arrow:before {content: \"▾\";}#sk-container-id-3 div.sk-estimator input.sk-toggleable__control:checked~label.sk-toggleable__label {background-color: #d4ebff;}#sk-container-id-3 div.sk-label input.sk-toggleable__control:checked~label.sk-toggleable__label {background-color: #d4ebff;}#sk-container-id-3 input.sk-hidden--visually {border: 0;clip: rect(1px 1px 1px 1px);clip: rect(1px, 1px, 1px, 1px);height: 1px;margin: -1px;overflow: hidden;padding: 0;position: absolute;width: 1px;}#sk-container-id-3 div.sk-estimator {font-family: monospace;background-color: #f0f8ff;border: 1px dotted black;border-radius: 0.25em;box-sizing: border-box;margin-bottom: 0.5em;}#sk-container-id-3 div.sk-estimator:hover {background-color: #d4ebff;}#sk-container-id-3 div.sk-parallel-item::after {content: \"\";width: 100%;border-bottom: 1px solid gray;flex-grow: 1;}#sk-container-id-3 div.sk-label:hover label.sk-toggleable__label {background-color: #d4ebff;}#sk-container-id-3 div.sk-serial::before {content: \"\";position: absolute;border-left: 1px solid gray;box-sizing: border-box;top: 0;bottom: 0;left: 50%;z-index: 0;}#sk-container-id-3 div.sk-serial {display: flex;flex-direction: column;align-items: center;background-color: white;padding-right: 0.2em;padding-left: 0.2em;position: relative;}#sk-container-id-3 div.sk-item {position: relative;z-index: 1;}#sk-container-id-3 div.sk-parallel {display: flex;align-items: stretch;justify-content: center;background-color: white;position: relative;}#sk-container-id-3 div.sk-item::before, #sk-container-id-3 div.sk-parallel-item::before {content: \"\";position: absolute;border-left: 1px solid gray;box-sizing: border-box;top: 0;bottom: 0;left: 50%;z-index: -1;}#sk-container-id-3 div.sk-parallel-item {display: flex;flex-direction: column;z-index: 1;position: relative;background-color: white;}#sk-container-id-3 div.sk-parallel-item:first-child::after {align-self: flex-end;width: 50%;}#sk-container-id-3 div.sk-parallel-item:last-child::after {align-self: flex-start;width: 50%;}#sk-container-id-3 div.sk-parallel-item:only-child::after {width: 0;}#sk-container-id-3 div.sk-dashed-wrapped {border: 1px dashed gray;margin: 0 0.4em 0.5em 0.4em;box-sizing: border-box;padding-bottom: 0.4em;background-color: white;}#sk-container-id-3 div.sk-label label {font-family: monospace;font-weight: bold;display: inline-block;line-height: 1.2em;}#sk-container-id-3 div.sk-label-container {text-align: center;}#sk-container-id-3 div.sk-container {/* jupyter's `normalize.less` sets `[hidden] { display: none; }` but bootstrap.min.css set `[hidden] { display: none !important; }` so we also need the `!important` here to be able to override the default hidden behavior on the sphinx rendered scikit-learn.org. See: https://github.com/scikit-learn/scikit-learn/issues/21755 */display: inline-block !important;position: relative;}#sk-container-id-3 div.sk-text-repr-fallback {display: none;}</style><div id=\"sk-container-id-3\" class=\"sk-top-container\"><div class=\"sk-text-repr-fallback\"><pre>DecisionTreeRegressor(random_state=42)</pre><b>In a Jupyter environment, please rerun this cell to show the HTML representation or trust the notebook. <br />On GitHub, the HTML representation is unable to render, please try loading this page with nbviewer.org.</b></div><div class=\"sk-container\" hidden><div class=\"sk-item\"><div class=\"sk-estimator sk-toggleable\"><input class=\"sk-toggleable__control sk-hidden--visually\" id=\"sk-estimator-id-3\" type=\"checkbox\" checked><label for=\"sk-estimator-id-3\" class=\"sk-toggleable__label sk-toggleable__label-arrow\">DecisionTreeRegressor</label><div class=\"sk-toggleable__content\"><pre>DecisionTreeRegressor(random_state=42)</pre></div></div></div></div></div>"
      ],
      "text/plain": [
       "DecisionTreeRegressor(random_state=42)"
      ]
     },
     "execution_count": 94,
     "metadata": {},
     "output_type": "execute_result"
    }
   ],
   "source": [
    "model_dtr = DecisionTreeRegressor(random_state = 42)\n",
    "model_dtr.fit(X_train, y_train)"
   ]
  },
  {
   "cell_type": "code",
   "execution_count": 95,
   "id": "44658e22",
   "metadata": {},
   "outputs": [],
   "source": [
    "X_missing = missing_data.drop(columns=['margin_low'])\n",
    "predictions = model_dtr.predict(X_missing)"
   ]
  },
  {
   "cell_type": "code",
   "execution_count": 96,
   "id": "55c63643",
   "metadata": {},
   "outputs": [
    {
     "name": "stdout",
     "output_type": "stream",
     "text": [
      "R^2 Score: 0.2645464140978395\n"
     ]
    }
   ],
   "source": [
    "from sklearn.metrics import r2_score\n",
    "\n",
    "y_pred = model_dtr.predict(X_test)\n",
    "\n",
    "r2 = r2_score(y_test, y_pred)\n",
    "\n",
    "print(f\"R^2 Score: {r2}\")"
   ]
  },
  {
   "cell_type": "code",
   "execution_count": 97,
   "id": "c02291b1",
   "metadata": {},
   "outputs": [
    {
     "data": {
      "text/plain": [
       "array([5.64, 4.16, 3.67, 4.94, 4.06, 3.9 , 5.51, 3.44, 4.54, 4.47, 5.77,\n",
       "       4.63, 4.02, 3.9 , 4.31, 4.14, 4.12, 4.14, 4.06, 4.69, 3.95, 5.53,\n",
       "       5.48, 4.16, 3.89, 3.86, 4.36, 4.41, 5.14, 4.36, 5.22, 3.79, 4.26,\n",
       "       4.01, 3.64, 4.64, 3.69, 5.62, 6.11, 3.74, 3.93, 4.64, 5.65, 4.58,\n",
       "       5.86, 4.31, 4.79, 4.82, 4.28, 5.66, 4.09, 3.52, 4.03, 4.1 , 4.22,\n",
       "       4.01, 4.08, 3.83, 4.16, 4.31, 4.46, 5.25, 4.22, 3.7 , 4.93, 4.6 ,\n",
       "       4.17, 4.74, 5.04, 4.24, 5.24, 3.88, 5.13, 3.99, 3.65, 4.47, 4.73,\n",
       "       4.61, 4.14, 3.74, 5.1 , 4.92, 4.38, 5.88, 5.78, 5.26, 4.33, 4.14,\n",
       "       4.5 , 4.66, 5.64, 4.89, 5.42, 4.9 , 4.25, 4.06, 3.86, 4.39, 4.67,\n",
       "       4.56, 4.36, 3.82, 4.64, 4.  , 3.75, 4.4 , 4.09, 3.52, 6.54, 6.03,\n",
       "       3.72, 4.27, 4.4 , 4.08, 4.29, 3.94, 4.35, 4.47, 4.94, 3.96, 5.82,\n",
       "       3.97, 4.61, 5.21, 6.49, 5.97, 4.88, 5.69, 3.69, 4.07, 4.  , 3.9 ,\n",
       "       4.62, 4.32, 5.05, 3.86, 3.96, 4.48, 5.34, 3.55, 4.01, 4.47, 4.23,\n",
       "       3.52, 4.15, 3.76, 3.56, 4.23, 4.28, 4.79, 5.38, 4.39, 4.19, 3.74,\n",
       "       5.73, 4.29, 3.87, 4.51, 3.84, 5.12, 3.88, 6.03, 4.28, 3.98, 3.74,\n",
       "       4.28, 5.96, 4.17, 4.41, 4.93, 4.1 , 4.6 , 4.23, 4.06, 3.79, 4.23,\n",
       "       4.24, 3.43, 3.9 , 4.11, 3.97, 5.59, 4.36, 4.72, 4.08, 5.78, 4.3 ,\n",
       "       4.35, 4.3 , 4.06, 4.12, 4.09, 3.71, 5.56, 5.42, 3.8 , 4.09, 5.78,\n",
       "       4.19, 5.93, 3.95, 3.94, 4.95, 4.73, 3.74, 3.35, 5.71, 4.64, 4.08,\n",
       "       5.69, 4.49, 5.42, 4.64, 5.48, 4.68, 4.35, 3.39, 3.96, 5.1 , 3.54,\n",
       "       3.69, 4.48, 5.78, 3.81, 3.64, 4.04, 5.42, 4.18, 3.95, 4.  , 5.02,\n",
       "       4.33, 4.31, 4.09, 4.08, 5.15, 4.42, 4.21, 4.08, 4.1 , 4.3 , 4.18,\n",
       "       4.08, 3.43, 4.06, 4.81, 3.77, 4.12, 3.99, 5.06, 3.68, 3.66, 3.64,\n",
       "       3.49, 4.29, 4.25, 5.13, 5.28, 4.23, 4.41, 4.33, 4.4 , 5.28, 4.78,\n",
       "       4.42, 3.98, 3.58, 4.16, 5.59, 3.74, 5.76, 4.51, 4.86, 5.71, 4.8 ,\n",
       "       4.25, 5.92, 4.34, 5.92, 6.05, 4.31, 4.17, 5.78, 6.25, 6.19, 5.33,\n",
       "       4.08, 4.42, 4.42, 4.31, 4.3 , 5.18, 5.31])"
      ]
     },
     "execution_count": 97,
     "metadata": {},
     "output_type": "execute_result"
    }
   ],
   "source": [
    "y_pred"
   ]
  },
  {
   "cell_type": "code",
   "execution_count": 98,
   "id": "11ebc900",
   "metadata": {},
   "outputs": [
    {
     "data": {
      "text/plain": [
       "1208    5.19\n",
       "178     4.26\n",
       "281     4.18\n",
       "561     3.93\n",
       "891     4.25\n",
       "        ... \n",
       "1491    5.13\n",
       "493     4.25\n",
       "494     4.11\n",
       "1080    5.61\n",
       "1326     6.0\n",
       "Name: margin_low, Length: 293, dtype: object"
      ]
     },
     "execution_count": 98,
     "metadata": {},
     "output_type": "execute_result"
    }
   ],
   "source": [
    "y_test"
   ]
  },
  {
   "cell_type": "code",
   "execution_count": 164,
   "id": "99619b99",
   "metadata": {},
   "outputs": [
    {
     "data": {
      "text/plain": [
       "<matplotlib.legend.Legend at 0x26aa99bf510>"
      ]
     },
     "execution_count": 164,
     "metadata": {},
     "output_type": "execute_result"
    },
    {
     "data": {
      "image/png": "[encoded data removed]",
      "text/plain": [
       "<Figure size 1200x600 with 1 Axes>"
      ]
     },
     "metadata": {},
     "output_type": "display_data"
    }
   ],
   "source": [
    "plt.figure(figsize=(12, 6))\n",
    "\n",
    "plt.subplot(1, 2, 1)\n",
    "sns.kdeplot(data=backup_test['margin_low'], label='Original')\n",
    "sns.kdeplot(data=predictions, label='Predicted')\n",
    "plt.title('Distribution Comparison')\n",
    "plt.legend()"
   ]
  },
  {
   "cell_type": "code",
   "execution_count": 99,
   "id": "37808498",
   "metadata": {},
   "outputs": [],
   "source": [
    "df.loc[df['margin_low'].isnull(), 'margin_low'] = predictions"
   ]
  },
  {
   "cell_type": "code",
   "execution_count": 100,
   "id": "8a26b237",
   "metadata": {},
   "outputs": [
    {
     "name": "stdout",
     "output_type": "stream",
     "text": [
      "<class 'pandas.core.frame.DataFrame'>\n",
      "RangeIndex: 1500 entries, 0 to 1499\n",
      "Data columns (total 7 columns):\n",
      " #   Column        Non-Null Count  Dtype  \n",
      "---  ------        --------------  -----  \n",
      " 0   is_genuine    1500 non-null   int32  \n",
      " 1   diagonal      1500 non-null   float64\n",
      " 2   height_left   1500 non-null   float64\n",
      " 3   height_right  1500 non-null   float64\n",
      " 4   margin_low    1500 non-null   object \n",
      " 5   margin_up     1500 non-null   float64\n",
      " 6   length        1500 non-null   float64\n",
      "dtypes: float64(5), int32(1), object(1)\n",
      "memory usage: 76.3+ KB\n"
     ]
    }
   ],
   "source": [
    "df.info()"
   ]
  },
  {
   "cell_type": "code",
   "execution_count": null,
   "id": "dc4c8865",
   "metadata": {},
   "outputs": [],
   "source": []
  },
  {
   "cell_type": "markdown",
   "id": "e075d31f",
   "metadata": {},
   "source": [
    "<div id =\"6\" style=\"font-family: Arial, sans-serif; background-color: #f9f9f9; border-left: 5px solid #644FBA; padding: 20px; margin-bottom: 20px;\">\n",
    "  <h2 style=\"color: #5A45B0; margin-top: 0;\">Training the model using new data to detect counterfeit banknotes\n",
    "</h2>\n",
    "</div>    "
   ]
  },
  {
   "cell_type": "code",
   "execution_count": 101,
   "id": "72ecf3b1",
   "metadata": {},
   "outputs": [],
   "source": [
    "df_new = df"
   ]
  },
  {
   "cell_type": "code",
   "execution_count": 102,
   "id": "7b2c7324",
   "metadata": {},
   "outputs": [
    {
     "data": {
      "text/html": [
       "<div>\n",
       "<style scoped>\n",
       "    .dataframe tbody tr th:only-of-type {\n",
       "        vertical-align: middle;\n",
       "    }\n",
       "\n",
       "    .dataframe tbody tr th {\n",
       "        vertical-align: top;\n",
       "    }\n",
       "\n",
       "    .dataframe thead th {\n",
       "        text-align: right;\n",
       "    }\n",
       "</style>\n",
       "<table border=\"1\" class=\"dataframe\">\n",
       "  <thead>\n",
       "    <tr style=\"text-align: right;\">\n",
       "      <th></th>\n",
       "      <th>is_genuine</th>\n",
       "      <th>diagonal</th>\n",
       "      <th>height_left</th>\n",
       "      <th>height_right</th>\n",
       "      <th>margin_low</th>\n",
       "      <th>margin_up</th>\n",
       "      <th>length</th>\n",
       "    </tr>\n",
       "  </thead>\n",
       "  <tbody>\n",
       "    <tr>\n",
       "      <th>0</th>\n",
       "      <td>1</td>\n",
       "      <td>171.81</td>\n",
       "      <td>104.86</td>\n",
       "      <td>104.95</td>\n",
       "      <td>4.52</td>\n",
       "      <td>2.89</td>\n",
       "      <td>112.83</td>\n",
       "    </tr>\n",
       "    <tr>\n",
       "      <th>1</th>\n",
       "      <td>1</td>\n",
       "      <td>171.46</td>\n",
       "      <td>103.36</td>\n",
       "      <td>103.66</td>\n",
       "      <td>3.77</td>\n",
       "      <td>2.99</td>\n",
       "      <td>113.09</td>\n",
       "    </tr>\n",
       "    <tr>\n",
       "      <th>2</th>\n",
       "      <td>1</td>\n",
       "      <td>172.69</td>\n",
       "      <td>104.48</td>\n",
       "      <td>103.50</td>\n",
       "      <td>4.4</td>\n",
       "      <td>2.94</td>\n",
       "      <td>113.16</td>\n",
       "    </tr>\n",
       "    <tr>\n",
       "      <th>3</th>\n",
       "      <td>1</td>\n",
       "      <td>171.36</td>\n",
       "      <td>103.91</td>\n",
       "      <td>103.94</td>\n",
       "      <td>3.62</td>\n",
       "      <td>3.01</td>\n",
       "      <td>113.51</td>\n",
       "    </tr>\n",
       "    <tr>\n",
       "      <th>4</th>\n",
       "      <td>1</td>\n",
       "      <td>171.73</td>\n",
       "      <td>104.28</td>\n",
       "      <td>103.46</td>\n",
       "      <td>4.04</td>\n",
       "      <td>3.48</td>\n",
       "      <td>112.54</td>\n",
       "    </tr>\n",
       "    <tr>\n",
       "      <th>5</th>\n",
       "      <td>1</td>\n",
       "      <td>172.17</td>\n",
       "      <td>103.74</td>\n",
       "      <td>104.08</td>\n",
       "      <td>4.42</td>\n",
       "      <td>2.95</td>\n",
       "      <td>112.81</td>\n",
       "    </tr>\n",
       "    <tr>\n",
       "      <th>6</th>\n",
       "      <td>1</td>\n",
       "      <td>172.34</td>\n",
       "      <td>104.18</td>\n",
       "      <td>103.85</td>\n",
       "      <td>4.58</td>\n",
       "      <td>3.26</td>\n",
       "      <td>112.81</td>\n",
       "    </tr>\n",
       "    <tr>\n",
       "      <th>7</th>\n",
       "      <td>1</td>\n",
       "      <td>171.88</td>\n",
       "      <td>103.76</td>\n",
       "      <td>104.08</td>\n",
       "      <td>3.98</td>\n",
       "      <td>2.92</td>\n",
       "      <td>113.08</td>\n",
       "    </tr>\n",
       "    <tr>\n",
       "      <th>8</th>\n",
       "      <td>1</td>\n",
       "      <td>172.47</td>\n",
       "      <td>103.92</td>\n",
       "      <td>103.67</td>\n",
       "      <td>4.0</td>\n",
       "      <td>3.25</td>\n",
       "      <td>112.85</td>\n",
       "    </tr>\n",
       "    <tr>\n",
       "      <th>9</th>\n",
       "      <td>1</td>\n",
       "      <td>172.47</td>\n",
       "      <td>104.07</td>\n",
       "      <td>104.02</td>\n",
       "      <td>4.04</td>\n",
       "      <td>3.25</td>\n",
       "      <td>113.45</td>\n",
       "    </tr>\n",
       "  </tbody>\n",
       "</table>\n",
       "</div>"
      ],
      "text/plain": [
       "   is_genuine  diagonal  height_left  height_right margin_low  margin_up  \\\n",
       "0           1    171.81       104.86        104.95       4.52       2.89   \n",
       "1           1    171.46       103.36        103.66       3.77       2.99   \n",
       "2           1    172.69       104.48        103.50        4.4       2.94   \n",
       "3           1    171.36       103.91        103.94       3.62       3.01   \n",
       "4           1    171.73       104.28        103.46       4.04       3.48   \n",
       "5           1    172.17       103.74        104.08       4.42       2.95   \n",
       "6           1    172.34       104.18        103.85       4.58       3.26   \n",
       "7           1    171.88       103.76        104.08       3.98       2.92   \n",
       "8           1    172.47       103.92        103.67        4.0       3.25   \n",
       "9           1    172.47       104.07        104.02       4.04       3.25   \n",
       "\n",
       "   length  \n",
       "0  112.83  \n",
       "1  113.09  \n",
       "2  113.16  \n",
       "3  113.51  \n",
       "4  112.54  \n",
       "5  112.81  \n",
       "6  112.81  \n",
       "7  113.08  \n",
       "8  112.85  \n",
       "9  113.45  "
      ]
     },
     "execution_count": 102,
     "metadata": {},
     "output_type": "execute_result"
    }
   ],
   "source": [
    "df_new.head(10)"
   ]
  },
  {
   "cell_type": "markdown",
   "id": "cbbfa241",
   "metadata": {},
   "source": [
    "<div id=\"61\" style=\"font-family: Arial, sans-serif; background-color: #f9f9f9; border-left: 5px solid #E97F61; padding: 20px; margin-bottom: 20px;\">\n",
    "  <h2 style=\"color: #E97F61; margin-top: 0;\">Data Visualization\n",
    "</h2>\n",
    "</div>    "
   ]
  },
  {
   "cell_type": "code",
   "execution_count": 103,
   "id": "1fc5a030",
   "metadata": {},
   "outputs": [],
   "source": [
    "import seaborn as sns"
   ]
  },
  {
   "cell_type": "code",
   "execution_count": 104,
   "id": "18d29676",
   "metadata": {},
   "outputs": [
    {
     "data": {
      "image/png": "[encoded data removed]",
      "text/plain": [
       "<Figure size 1200x1000 with 6 Axes>"
      ]
     },
     "metadata": {},
     "output_type": "display_data"
    }
   ],
   "source": [
    "numerical_columns = df.select_dtypes(include=['float64', 'int64']).columns\n",
    "df[numerical_columns].hist(figsize=(12, 10), bins=30)\n",
    "plt.suptitle(\"Histograms of Numerical Features\")\n",
    "plt.show()"
   ]
  },
  {
   "cell_type": "code",
   "execution_count": 151,
   "id": "254bd728",
   "metadata": {
    "scrolled": true
   },
   "outputs": [
    {
     "data": {
      "image/png": "[encoded data removed]",
      "text/plain": [
       "<Figure size 640x480 with 2 Axes>"
      ]
     },
     "metadata": {},
     "output_type": "display_data"
    }
   ],
   "source": [
    "sns.heatmap(df.corr(), annot = True, cmap=\"RdBu\")\n",
    "plt.title(\"Pairwise correlation of the columns\", fontsize = 18)\n",
    "plt.show()"
   ]
  },
  {
   "cell_type": "markdown",
   "id": "d601ed9f",
   "metadata": {},
   "source": [
    "---"
   ]
  },
  {
   "cell_type": "markdown",
   "id": "b1adb60d",
   "metadata": {},
   "source": [
    "<div id=\"62\" style=\"font-family: Arial, sans-serif; background-color: #f9f9f9; border-left: 5px solid #E97F61; padding: 20px; margin-bottom: 20px;\">\n",
    "  <h2 style=\"color: #E97F61; margin-top: 0;\">Principal Component Analysis (PCA) from Scratch\n",
    "</h2>\n",
    "</div>    "
   ]
  },
  {
   "cell_type": "code",
   "execution_count": 138,
   "id": "b68ee2c0",
   "metadata": {},
   "outputs": [],
   "source": [
    "class MyPCA:\n",
    "    \n",
    "    def __init__(self, n_components):\n",
    "        self.n_components = n_components   \n",
    "        \n",
    "    def fit(self, X):\n",
    "        # Standardize data \n",
    "        X = X.copy()\n",
    "        self.mean = np.mean(X, axis = 0)\n",
    "        self.scale = np.std(X, axis = 0)\n",
    "        X_std = (X - self.mean) / self.scale\n",
    "        \n",
    "        # Eigendecomposition of covariance matrix       \n",
    "        cov_mat = np.cov(X_std.T)\n",
    "        eig_vals, eig_vecs = np.linalg.eig(cov_mat) \n",
    "        \n",
    "        # Adjusting the eigenvectors that are largest in absolute value to be positive    \n",
    "        max_abs_idx = np.argmax(np.abs(eig_vecs), axis=0)\n",
    "        signs = np.sign(eig_vecs[max_abs_idx, range(eig_vecs.shape[0])])\n",
    "        eig_vecs = eig_vecs*signs[np.newaxis,:]\n",
    "        eig_vecs = eig_vecs.T\n",
    "       \n",
    "        eig_pairs = [(np.abs(eig_vals[i]), eig_vecs[i,:]) for i in range(len(eig_vals))]\n",
    "        eig_pairs.sort(key=lambda x: x[0], reverse=True)\n",
    "        eig_vals_sorted = np.array([x[0] for x in eig_pairs])\n",
    "        eig_vecs_sorted = np.array([x[1] for x in eig_pairs])\n",
    "        \n",
    "        self.components = eig_vecs_sorted[:self.n_components,:]\n",
    "        \n",
    "        # Explained variance ratio\n",
    "        self.explained_variance_ratio = [i/np.sum(eig_vals) for i in eig_vals_sorted[:self.n_components]]\n",
    "        \n",
    "        self.cum_explained_variance = np.cumsum(self.explained_variance_ratio)\n",
    "\n",
    "        return self\n",
    "\n",
    "    def transform(self, X):\n",
    "        \n",
    "        X = X.copy()\n",
    "        X_std = (X - self.mean) / self.scale\n",
    "        X_proj = X_std.dot(self.components.T)\n",
    "        \n",
    "        return X_proj\n"
   ]
  },
  {
   "cell_type": "markdown",
   "id": "0c714e17",
   "metadata": {},
   "source": [
    "### Reference\n",
    "Reference 1 : [Principal Component Analysis from Scratch](https://bagheri365.github.io/blog/Principal-Component-Analysis-from-Scratch/)\n",
    "Reference 2 : [[PCA]Principal Component Analysis from scratch](https://www.kaggle.com/code/avikumart/pca-principal-component-analysis-from-scratch)"
   ]
  },
  {
   "cell_type": "code",
   "execution_count": 139,
   "id": "a9b723ad",
   "metadata": {},
   "outputs": [],
   "source": [
    "df_new['margin_low'] = pd.to_numeric(df_new['margin_low'], errors='coerce')"
   ]
  },
  {
   "cell_type": "code",
   "execution_count": 140,
   "id": "ec6d1d06",
   "metadata": {},
   "outputs": [
    {
     "name": "stdout",
     "output_type": "stream",
     "text": [
      "Components :\n",
      " [[ 0.50936811  0.07670661 -0.26623054 -0.32387817 -0.44511298 -0.3741602\n",
      "   0.46985426]\n",
      " [ 0.04434992  0.92814135  0.33590498  0.13516429 -0.06342523  0.01452188\n",
      "   0.03537701]]\n",
      "Explained variance ratio :\n",
      " [0.49129578657844825, 0.1457652594400092]\n",
      "Cumulative explained variance :\n",
      " [0.49129579 0.63706105]\n",
      "Transformed data shape from scratch: (1500, 2)\n"
     ]
    }
   ],
   "source": [
    "my_pca = MyPCA(n_components = 2).fit(df_new.select_dtypes(include=[np.number]))\n",
    "\n",
    "print('Components :\\n', my_pca.components)\n",
    "print('Explained variance ratio :\\n', my_pca.explained_variance_ratio)\n",
    "print('Cumulative explained variance :\\n', my_pca.cum_explained_variance)\n",
    "\n",
    "X_proj = my_pca.transform(X)\n",
    "print('Transformed data shape from scratch:', X_proj.shape)"
   ]
  },
  {
   "cell_type": "markdown",
   "id": "5b45b2c7",
   "metadata": {},
   "source": [
    "<div id=\"63\" style=\"font-family: Arial, sans-serif; background-color: #f9f9f9; border-left: 5px solid #E97F61; padding: 20px; margin-bottom: 20px;\">\n",
    "  <h2 style=\"color: #E97F61; margin-top: 0;\">Principal Component Analysis (PCA) SKlearn\n",
    "</h2>\n",
    "</div>    "
   ]
  },
  {
   "cell_type": "code",
   "execution_count": 111,
   "id": "66bade23",
   "metadata": {},
   "outputs": [
    {
     "name": "stdout",
     "output_type": "stream",
     "text": [
      "Components:\n",
      " [[-0.08570279  0.33140075  0.3942739   0.50538534  0.43973637 -0.52782028]\n",
      " [ 0.94027982  0.30906698  0.11012525 -0.07706555 -0.00254321  0.04773178]]\n",
      "Explained variance ratio:\n",
      " [0.43116453 0.16964202]\n",
      "Cumulative explained variance:\n",
      " [0.43116453 0.60080655]\n",
      "Transformed data shape: (1500, 2)\n"
     ]
    }
   ],
   "source": [
    "from sklearn.preprocessing import StandardScaler\n",
    "X_std = StandardScaler().fit_transform(df_new.drop(columns=['is_genuine']))\n",
    "\n",
    "from sklearn.decomposition import PCA\n",
    "pca = PCA(n_components = 2).fit(X_std)\n",
    "\n",
    "print('Components:\\n', pca.components_)\n",
    "print('Explained variance ratio:\\n', pca.explained_variance_ratio_)\n",
    "\n",
    "cum_explained_variance = np.cumsum(pca.explained_variance_ratio_)\n",
    "print('Cumulative explained variance:\\n', cum_explained_variance)\n",
    "\n",
    "X_pca = pca.transform(X_std) # Apply dimensionality reduction to X.\n",
    "print('Transformed data shape:', X_pca.shape)\n"
   ]
  },
  {
   "cell_type": "code",
   "execution_count": 152,
   "id": "926ad113",
   "metadata": {},
   "outputs": [
    {
     "data": {
      "image/png": "[encoded data removed]",
      "text/plain": [
       "<Figure size 640x480 with 1 Axes>"
      ]
     },
     "metadata": {},
     "output_type": "display_data"
    }
   ],
   "source": [
    "plt.scatter(x = X_pca[:,0], y = X_pca[:,1])\n",
    "plt.title(\"Dataset after transformation with PCA\", fontsize = 18)\n",
    "plt.show()"
   ]
  },
  {
   "cell_type": "markdown",
   "id": "d6ab9511",
   "metadata": {},
   "source": [
    "<div id=\"64\" style=\"font-family: Arial, sans-serif; background-color: #f9f9f9; border-left: 5px solid #E97F61; padding: 20px; margin-bottom: 20px;\">\n",
    "  <h2 style=\"color: #E97F61; margin-top: 0;\">Building and Training Models\n",
    "</h2>\n",
    "</div>    "
   ]
  },
  {
   "cell_type": "code",
   "execution_count": 112,
   "id": "788aa939",
   "metadata": {},
   "outputs": [],
   "source": [
    "from sklearn.tree import DecisionTreeClassifier\n",
    "from sklearn.linear_model import LogisticRegression\n",
    "from sklearn.ensemble import RandomForestClassifier\n",
    "from sklearn.metrics import accuracy_score, classification_report, confusion_matrix , ConfusionMatrixDisplay"
   ]
  },
  {
   "cell_type": "code",
   "execution_count": 113,
   "id": "a85b0961",
   "metadata": {},
   "outputs": [],
   "source": [
    "X = df_new.drop(columns=['is_genuine'])  \n",
    "y = df_new['is_genuine'] "
   ]
  },
  {
   "cell_type": "code",
   "execution_count": 114,
   "id": "3131d7e8",
   "metadata": {},
   "outputs": [],
   "source": [
    "X_train, X_test, y_train, y_test = train_test_split(X, y, test_size=0.2, random_state=40)"
   ]
  },
  {
   "cell_type": "code",
   "execution_count": 115,
   "id": "1f262cde",
   "metadata": {},
   "outputs": [],
   "source": [
    "def plot_confusion_matrix(y_true, y_pred, title):\n",
    "    cm = confusion_matrix(y_true, y_pred)\n",
    "    plt.figure(figsize=(8, 6))\n",
    "    sns.heatmap(cm, annot=True, fmt='d', cmap='Blues')\n",
    "    plt.title(title)\n",
    "    plt.ylabel('True Label')\n",
    "    plt.xlabel('Predicted Label')\n",
    "    plt.show()"
   ]
  },
  {
   "cell_type": "code",
   "execution_count": 116,
   "id": "d3a02aa6",
   "metadata": {},
   "outputs": [],
   "source": [
    "dtc = DecisionTreeClassifier(random_state=40)\n",
    "dtc.fit(X_train, y_train)\n",
    "y_pred_dtc = dtc.predict(X_test)"
   ]
  },
  {
   "cell_type": "code",
   "execution_count": 117,
   "id": "d2f4290e",
   "metadata": {},
   "outputs": [],
   "source": [
    "rfc = RandomForestClassifier(random_state=40)\n",
    "rfc.fit(X_train, y_train)\n",
    "y_pred_rfc = dtc.predict(X_test)"
   ]
  },
  {
   "cell_type": "code",
   "execution_count": 118,
   "id": "03ba8134",
   "metadata": {},
   "outputs": [],
   "source": [
    "lr = LogisticRegression(max_iter=1000, random_state=40)\n",
    "lr.fit(X_train, y_train)\n",
    "y_pred_lr = lr.predict(X_test)"
   ]
  },
  {
   "cell_type": "code",
   "execution_count": 119,
   "id": "c3e7ac5c",
   "metadata": {},
   "outputs": [
    {
     "data": {
      "image/png": "[encoded data removed]",
      "text/plain": [
       "<Figure size 800x600 with 2 Axes>"
      ]
     },
     "metadata": {},
     "output_type": "display_data"
    },
    {
     "data": {
      "image/png": "[encoded data removed]",
      "text/plain": [
       "<Figure size 800x600 with 2 Axes>"
      ]
     },
     "metadata": {},
     "output_type": "display_data"
    },
    {
     "data": {
      "image/png": "[encoded data removed]",
      "text/plain": [
       "<Figure size 800x600 with 2 Axes>"
      ]
     },
     "metadata": {},
     "output_type": "display_data"
    }
   ],
   "source": [
    "plot_confusion_matrix(y_test , y_pred_dtc , \"Decision Tree Classifier\" )\n",
    "plot_confusion_matrix(y_test , y_pred_rfc , \"Random Forest Classifier\" )\n",
    "plot_confusion_matrix(y_test , y_pred_lr , \"Logistic Regression\" )"
   ]
  },
  {
   "cell_type": "code",
   "execution_count": 120,
   "id": "8c6d32cd",
   "metadata": {},
   "outputs": [],
   "source": [
    "def classification_models(X, y, test_size=0.2, random_state=0):\n",
    "    \n",
    "    X_train, X_test, y_train, y_test = train_test_split(X, y, test_size=test_size, random_state=random_state)\n",
    "\n",
    "    models = {\n",
    "        'Decision Tree': DecisionTreeClassifier(random_state=random_state),\n",
    "        'Logistic Regression': LogisticRegression(max_iter=1000, random_state=random_state),\n",
    "        'Random Forest': RandomForestClassifier(random_state=random_state)\n",
    "    }\n",
    "    \n",
    "    results = {}\n",
    "    for model_name, model in models.items():\n",
    "        \n",
    "        model.fit(X_train, y_train)\n",
    "        \n",
    "        y_pred = model.predict(X_test)\n",
    "        \n",
    "        accuracy = accuracy_score(y_test, y_pred)\n",
    "        \n",
    "        report = classification_report(y_test, y_pred)\n",
    "        \n",
    "        cm = confusion_matrix(y_test, y_pred)\n",
    "        \n",
    "        results[model_name] = {\n",
    "            'Accuracy': f\"{accuracy * 100 :.3f} %\",\n",
    "            'Classification Report': report,\n",
    "            'Confusion Matrix': cm\n",
    "        }\n",
    "    \n",
    "    return results"
   ]
  },
  {
   "cell_type": "code",
   "execution_count": 153,
   "id": "19740ff0",
   "metadata": {},
   "outputs": [],
   "source": [
    "results = classification_models(X, y)"
   ]
  },
  {
   "cell_type": "code",
   "execution_count": 122,
   "id": "3902a977",
   "metadata": {},
   "outputs": [
    {
     "name": "stdout",
     "output_type": "stream",
     "text": [
      "\n",
      "\n",
      "-------------------------------------------------------\n",
      "Decision Tree Results:\n",
      "Accuracy: 98.333 %\n",
      "Classification Report:\n",
      "              precision    recall  f1-score   support\n",
      "\n",
      "           0       0.97      0.98      0.97        97\n",
      "           1       0.99      0.99      0.99       203\n",
      "\n",
      "    accuracy                           0.98       300\n",
      "   macro avg       0.98      0.98      0.98       300\n",
      "weighted avg       0.98      0.98      0.98       300\n",
      "\n",
      "Confusion Matrix:\n",
      "[[ 95   2]\n",
      " [  3 200]]\n",
      "\n",
      "\n",
      "\n",
      "\n",
      "-------------------------------------------------------\n",
      "Logistic Regression Results:\n",
      "Accuracy: 99.667 %\n",
      "Classification Report:\n",
      "              precision    recall  f1-score   support\n",
      "\n",
      "           0       1.00      0.99      0.99        97\n",
      "           1       1.00      1.00      1.00       203\n",
      "\n",
      "    accuracy                           1.00       300\n",
      "   macro avg       1.00      0.99      1.00       300\n",
      "weighted avg       1.00      1.00      1.00       300\n",
      "\n",
      "Confusion Matrix:\n",
      "[[ 96   1]\n",
      " [  0 203]]\n",
      "\n",
      "\n",
      "\n",
      "\n",
      "-------------------------------------------------------\n",
      "Random Forest Results:\n",
      "Accuracy: 99.667 %\n",
      "Classification Report:\n",
      "              precision    recall  f1-score   support\n",
      "\n",
      "           0       1.00      0.99      0.99        97\n",
      "           1       1.00      1.00      1.00       203\n",
      "\n",
      "    accuracy                           1.00       300\n",
      "   macro avg       1.00      0.99      1.00       300\n",
      "weighted avg       1.00      1.00      1.00       300\n",
      "\n",
      "Confusion Matrix:\n",
      "[[ 96   1]\n",
      " [  0 203]]\n",
      "\n",
      "\n",
      "-------------------------------------------------------\n"
     ]
    }
   ],
   "source": [
    "for model_name, result in results.items():\n",
    "    print(\"\\n\")\n",
    "    print(\"-\"*55)\n",
    "    print(f\"{model_name} Results:\")\n",
    "    print(f\"Accuracy: {result['Accuracy']}\")\n",
    "    print(\"Classification Report:\")\n",
    "    print(result['Classification Report'])\n",
    "    print(\"Confusion Matrix:\")\n",
    "    print(result['Confusion Matrix'])\n",
    "    print(\"\\n\")\n",
    "print(\"-\"*55)"
   ]
  },
  {
   "cell_type": "code",
   "execution_count": 158,
   "id": "01573bf9",
   "metadata": {},
   "outputs": [
    {
     "data": {
      "image/png": "[encoded data removed]",
      "text/plain": [
       "<Figure size 1200x600 with 1 Axes>"
      ]
     },
     "metadata": {},
     "output_type": "display_data"
    }
   ],
   "source": [
    "labels = []\n",
    "height = []\n",
    "\n",
    "for model_name, metrics in results.items():\n",
    "    labels.append(model_name)  \n",
    "    accuracy = float(metrics['Accuracy'].replace(' %', ''))  \n",
    "    height.append(accuracy)\n",
    "\n",
    "plt.figure(figsize=(12, 6))    \n",
    "ax = sns.barplot(x=labels, y=height, width=0.3)  \n",
    "\n",
    "ax.set_ylim(min(height) - 2, max(height) + 2)  \n",
    "\n",
    "plt.title(\"Comparison of the models\", fontsize=18)\n",
    "plt.ylabel(\"Prediction Accuracy (%)\", fontsize=14)\n",
    "plt.show()"
   ]
  },
  {
   "cell_type": "markdown",
   "id": "fed41c3c",
   "metadata": {},
   "source": [
    "---"
   ]
  },
  {
   "cell_type": "markdown",
   "id": "99201343",
   "metadata": {},
   "source": [
    "<div id=\"65\" style=\"font-family: Arial, sans-serif; background-color: #f9f9f9; border-left: 5px solid #E97F61; padding: 20px; margin-bottom: 20px;\">\n",
    "  <h2 style=\"color: #E97F61; margin-top: 0;\">Choosing a More Efficient Model\n",
    "</h2>\n",
    "</div>"
   ]
  },
  {
   "cell_type": "code",
   "execution_count": 123,
   "id": "6261405c",
   "metadata": {},
   "outputs": [],
   "source": [
    "X_train_new, X_test_new, y_train_new, y_test_new = train_test_split(X, y, test_size=0.2, random_state=0)"
   ]
  },
  {
   "cell_type": "code",
   "execution_count": 124,
   "id": "068ccd04",
   "metadata": {},
   "outputs": [
    {
     "data": {
      "text/html": [
       "<style>#sk-container-id-4 {color: black;}#sk-container-id-4 pre{padding: 0;}#sk-container-id-4 div.sk-toggleable {background-color: white;}#sk-container-id-4 label.sk-toggleable__label {cursor: pointer;display: block;width: 100%;margin-bottom: 0;padding: 0.3em;box-sizing: border-box;text-align: center;}#sk-container-id-4 label.sk-toggleable__label-arrow:before {content: \"▸\";float: left;margin-right: 0.25em;color: #696969;}#sk-container-id-4 label.sk-toggleable__label-arrow:hover:before {color: black;}#sk-container-id-4 div.sk-estimator:hover label.sk-toggleable__label-arrow:before {color: black;}#sk-container-id-4 div.sk-toggleable__content {max-height: 0;max-width: 0;overflow: hidden;text-align: left;background-color: #f0f8ff;}#sk-container-id-4 div.sk-toggleable__content pre {margin: 0.2em;color: black;border-radius: 0.25em;background-color: #f0f8ff;}#sk-container-id-4 input.sk-toggleable__control:checked~div.sk-toggleable__content {max-height: 200px;max-width: 100%;overflow: auto;}#sk-container-id-4 input.sk-toggleable__control:checked~label.sk-toggleable__label-arrow:before {content: \"▾\";}#sk-container-id-4 div.sk-estimator input.sk-toggleable__control:checked~label.sk-toggleable__label {background-color: #d4ebff;}#sk-container-id-4 div.sk-label input.sk-toggleable__control:checked~label.sk-toggleable__label {background-color: #d4ebff;}#sk-container-id-4 input.sk-hidden--visually {border: 0;clip: rect(1px 1px 1px 1px);clip: rect(1px, 1px, 1px, 1px);height: 1px;margin: -1px;overflow: hidden;padding: 0;position: absolute;width: 1px;}#sk-container-id-4 div.sk-estimator {font-family: monospace;background-color: #f0f8ff;border: 1px dotted black;border-radius: 0.25em;box-sizing: border-box;margin-bottom: 0.5em;}#sk-container-id-4 div.sk-estimator:hover {background-color: #d4ebff;}#sk-container-id-4 div.sk-parallel-item::after {content: \"\";width: 100%;border-bottom: 1px solid gray;flex-grow: 1;}#sk-container-id-4 div.sk-label:hover label.sk-toggleable__label {background-color: #d4ebff;}#sk-container-id-4 div.sk-serial::before {content: \"\";position: absolute;border-left: 1px solid gray;box-sizing: border-box;top: 0;bottom: 0;left: 50%;z-index: 0;}#sk-container-id-4 div.sk-serial {display: flex;flex-direction: column;align-items: center;background-color: white;padding-right: 0.2em;padding-left: 0.2em;position: relative;}#sk-container-id-4 div.sk-item {position: relative;z-index: 1;}#sk-container-id-4 div.sk-parallel {display: flex;align-items: stretch;justify-content: center;background-color: white;position: relative;}#sk-container-id-4 div.sk-item::before, #sk-container-id-4 div.sk-parallel-item::before {content: \"\";position: absolute;border-left: 1px solid gray;box-sizing: border-box;top: 0;bottom: 0;left: 50%;z-index: -1;}#sk-container-id-4 div.sk-parallel-item {display: flex;flex-direction: column;z-index: 1;position: relative;background-color: white;}#sk-container-id-4 div.sk-parallel-item:first-child::after {align-self: flex-end;width: 50%;}#sk-container-id-4 div.sk-parallel-item:last-child::after {align-self: flex-start;width: 50%;}#sk-container-id-4 div.sk-parallel-item:only-child::after {width: 0;}#sk-container-id-4 div.sk-dashed-wrapped {border: 1px dashed gray;margin: 0 0.4em 0.5em 0.4em;box-sizing: border-box;padding-bottom: 0.4em;background-color: white;}#sk-container-id-4 div.sk-label label {font-family: monospace;font-weight: bold;display: inline-block;line-height: 1.2em;}#sk-container-id-4 div.sk-label-container {text-align: center;}#sk-container-id-4 div.sk-container {/* jupyter's `normalize.less` sets `[hidden] { display: none; }` but bootstrap.min.css set `[hidden] { display: none !important; }` so we also need the `!important` here to be able to override the default hidden behavior on the sphinx rendered scikit-learn.org. See: https://github.com/scikit-learn/scikit-learn/issues/21755 */display: inline-block !important;position: relative;}#sk-container-id-4 div.sk-text-repr-fallback {display: none;}</style><div id=\"sk-container-id-4\" class=\"sk-top-container\"><div class=\"sk-text-repr-fallback\"><pre>LogisticRegression(max_iter=1000, random_state=0)</pre><b>In a Jupyter environment, please rerun this cell to show the HTML representation or trust the notebook. <br />On GitHub, the HTML representation is unable to render, please try loading this page with nbviewer.org.</b></div><div class=\"sk-container\" hidden><div class=\"sk-item\"><div class=\"sk-estimator sk-toggleable\"><input class=\"sk-toggleable__control sk-hidden--visually\" id=\"sk-estimator-id-4\" type=\"checkbox\" checked><label for=\"sk-estimator-id-4\" class=\"sk-toggleable__label sk-toggleable__label-arrow\">LogisticRegression</label><div class=\"sk-toggleable__content\"><pre>LogisticRegression(max_iter=1000, random_state=0)</pre></div></div></div></div></div>"
      ],
      "text/plain": [
       "LogisticRegression(max_iter=1000, random_state=0)"
      ]
     },
     "execution_count": 124,
     "metadata": {},
     "output_type": "execute_result"
    }
   ],
   "source": [
    "model = LogisticRegression(max_iter=1000, random_state=0)\n",
    "model.fit(X_train_new, y_train_new)"
   ]
  },
  {
   "cell_type": "code",
   "execution_count": 125,
   "id": "ecd2d710",
   "metadata": {},
   "outputs": [],
   "source": [
    "y_pred_new = model.predict(X_test_new)"
   ]
  },
  {
   "cell_type": "code",
   "execution_count": 126,
   "id": "2c6b6f1f",
   "metadata": {},
   "outputs": [
    {
     "name": "stdout",
     "output_type": "stream",
     "text": [
      "Accuracy 99.667 %\n"
     ]
    }
   ],
   "source": [
    "accuracy = accuracy_score(y_test_new, y_pred_new)\n",
    "print(f\"Accuracy {accuracy * 100 :.3f} %\")"
   ]
  },
  {
   "cell_type": "code",
   "execution_count": 127,
   "id": "75086017",
   "metadata": {},
   "outputs": [
    {
     "name": "stdout",
     "output_type": "stream",
     "text": [
      "              precision    recall  f1-score   support\n",
      "\n",
      "           0       1.00      0.99      0.99        97\n",
      "           1       1.00      1.00      1.00       203\n",
      "\n",
      "    accuracy                           1.00       300\n",
      "   macro avg       1.00      0.99      1.00       300\n",
      "weighted avg       1.00      1.00      1.00       300\n",
      "\n"
     ]
    }
   ],
   "source": [
    "report = classification_report(y_test_new, y_pred_new)\n",
    "print(report)"
   ]
  },
  {
   "cell_type": "markdown",
   "id": "7bd31f99",
   "metadata": {},
   "source": [
    "<div id=\"7\" style=\"font-family: Arial, sans-serif; background-color: #f9f9f9; border-left: 5px solid #5A45B0; padding: 20px; margin-bottom: 20px;\">\n",
    "    <h2 style=\"color: #5A45B0; margin-top: 0;\">Exporting the Model in Format \" joblib \"\n",
    "</h2>\n",
    "</div>"
   ]
  },
  {
   "cell_type": "code",
   "execution_count": 128,
   "id": "d0c50669",
   "metadata": {},
   "outputs": [],
   "source": [
    "import joblib"
   ]
  },
  {
   "cell_type": "code",
   "execution_count": 129,
   "id": "7ab1fccc",
   "metadata": {},
   "outputs": [
    {
     "name": "stdout",
     "output_type": "stream",
     "text": [
      "Model saved successfully as 'logistic_regression_model.joblib'.\n"
     ]
    }
   ],
   "source": [
    "joblib.dump(model, 'logistic_regression_model.joblib')\n",
    "print(\"Model saved successfully as 'logistic_regression_model.joblib'.\")"
   ]
  },
  {
   "cell_type": "markdown",
   "id": "469c8032",
   "metadata": {},
   "source": [
    "<div id=\"8\" style=\"font-family: Arial, sans-serif; background-color: #f9f9f9; border-left: 5px solid #5A45B0; padding: 20px; margin-bottom: 20px;\">\n",
    "    <h2 style=\"color: #5A45B0; margin-top: 0;\">Testing the Model \n",
    "</h2>\n",
    "</div>"
   ]
  },
  {
   "cell_type": "code",
   "execution_count": 130,
   "id": "c36e8a5c",
   "metadata": {},
   "outputs": [
    {
     "data": {
      "text/plain": [
       "array([1, 1, 0, 1, 0, 0, 1, 1, 1, 0, 0, 0, 0, 1, 1, 1, 0, 0, 1, 0, 1, 1,\n",
       "       1, 1, 0, 1, 0, 1, 1, 0, 0, 1, 0, 1, 0, 0, 1, 1, 1, 1, 0, 0, 0, 1,\n",
       "       1, 1, 1, 1, 1, 0, 1, 0, 1, 0, 1, 0, 1, 1, 0, 0, 1, 1, 0, 1, 1, 1,\n",
       "       1, 0, 1, 0, 1, 1, 1, 0, 1, 1, 1, 1, 1, 0, 0, 1, 1, 1, 1, 1, 0, 1,\n",
       "       1, 1, 1, 1, 1, 1, 0, 0, 1, 1, 1, 1, 0, 0, 1, 1, 0, 1, 1, 1, 1, 0,\n",
       "       1, 1, 1, 1, 0, 1, 1, 0, 1, 1, 1, 1, 1, 1, 1, 1, 1, 1, 0, 1, 1, 1,\n",
       "       1, 0, 1, 1, 1, 1, 0, 1, 1, 1, 1, 1, 1, 1, 1, 1, 0, 1, 1, 0, 1, 1,\n",
       "       1, 1, 0, 1, 1, 1, 0, 1, 1, 0, 0, 1, 0, 0, 1, 1, 1, 1, 0, 1, 1, 1,\n",
       "       1, 1, 0, 1, 1, 1, 1, 1, 1, 1, 1, 1, 1, 1, 1, 0, 0, 1, 0, 1, 0, 1,\n",
       "       1, 1, 1, 1, 1, 1, 1, 1, 1, 1, 1, 1, 0, 1, 1, 0, 0, 1, 0, 1, 1, 0,\n",
       "       1, 1, 1, 1, 1, 1, 0, 0, 1, 1, 1, 0, 0, 1, 1, 1, 0, 0, 1, 0, 1, 1,\n",
       "       1, 0, 1, 0, 0, 1, 0, 1, 0, 1, 1, 1, 1, 0, 1, 0, 1, 0, 1, 1, 1, 1,\n",
       "       0, 1, 0, 1, 1, 0, 0, 0, 0, 0, 0, 1, 0, 1, 1, 0, 0, 0, 0, 1, 0, 1,\n",
       "       1, 1, 0, 1, 0, 1, 1, 1, 0, 1, 1, 1, 0, 1])"
      ]
     },
     "execution_count": 130,
     "metadata": {},
     "output_type": "execute_result"
    }
   ],
   "source": [
    "LR_model = joblib.load('logistic_regression_model.joblib')\n",
    "y_pred = LR_model.predict(X_test_new)\n",
    "y_pred"
   ]
  },
  {
   "cell_type": "code",
   "execution_count": 131,
   "id": "f4f627fa",
   "metadata": {},
   "outputs": [],
   "source": [
    "probabilities = LR_model.predict_proba(X_test_new)[:, 1]"
   ]
  },
  {
   "cell_type": "code",
   "execution_count": 132,
   "id": "23312897",
   "metadata": {},
   "outputs": [],
   "source": [
    "df_test_view = X_test_new"
   ]
  },
  {
   "cell_type": "code",
   "execution_count": 133,
   "id": "042bd5c3",
   "metadata": {},
   "outputs": [
    {
     "data": {
      "text/html": [
       "<div>\n",
       "<style scoped>\n",
       "    .dataframe tbody tr th:only-of-type {\n",
       "        vertical-align: middle;\n",
       "    }\n",
       "\n",
       "    .dataframe tbody tr th {\n",
       "        vertical-align: top;\n",
       "    }\n",
       "\n",
       "    .dataframe thead th {\n",
       "        text-align: right;\n",
       "    }\n",
       "</style>\n",
       "<table border=\"1\" class=\"dataframe\">\n",
       "  <thead>\n",
       "    <tr style=\"text-align: right;\">\n",
       "      <th></th>\n",
       "      <th>diagonal</th>\n",
       "      <th>height_left</th>\n",
       "      <th>height_right</th>\n",
       "      <th>margin_low</th>\n",
       "      <th>margin_up</th>\n",
       "      <th>length</th>\n",
       "    </tr>\n",
       "  </thead>\n",
       "  <tbody>\n",
       "    <tr>\n",
       "      <th>471</th>\n",
       "      <td>172.58</td>\n",
       "      <td>104.17</td>\n",
       "      <td>103.13</td>\n",
       "      <td>4.64</td>\n",
       "      <td>3.17</td>\n",
       "      <td>113.05</td>\n",
       "    </tr>\n",
       "    <tr>\n",
       "      <th>9</th>\n",
       "      <td>172.47</td>\n",
       "      <td>104.07</td>\n",
       "      <td>104.02</td>\n",
       "      <td>4.04</td>\n",
       "      <td>3.25</td>\n",
       "      <td>113.45</td>\n",
       "    </tr>\n",
       "    <tr>\n",
       "      <th>1499</th>\n",
       "      <td>171.47</td>\n",
       "      <td>104.15</td>\n",
       "      <td>103.82</td>\n",
       "      <td>4.63</td>\n",
       "      <td>3.37</td>\n",
       "      <td>112.07</td>\n",
       "    </tr>\n",
       "    <tr>\n",
       "      <th>54</th>\n",
       "      <td>172.02</td>\n",
       "      <td>103.58</td>\n",
       "      <td>103.80</td>\n",
       "      <td>3.95</td>\n",
       "      <td>3.46</td>\n",
       "      <td>112.40</td>\n",
       "    </tr>\n",
       "    <tr>\n",
       "      <th>1411</th>\n",
       "      <td>171.95</td>\n",
       "      <td>104.39</td>\n",
       "      <td>104.31</td>\n",
       "      <td>5.98</td>\n",
       "      <td>3.23</td>\n",
       "      <td>111.33</td>\n",
       "    </tr>\n",
       "  </tbody>\n",
       "</table>\n",
       "</div>"
      ],
      "text/plain": [
       "      diagonal  height_left  height_right  margin_low  margin_up  length\n",
       "471     172.58       104.17        103.13        4.64       3.17  113.05\n",
       "9       172.47       104.07        104.02        4.04       3.25  113.45\n",
       "1499    171.47       104.15        103.82        4.63       3.37  112.07\n",
       "54      172.02       103.58        103.80        3.95       3.46  112.40\n",
       "1411    171.95       104.39        104.31        5.98       3.23  111.33"
      ]
     },
     "execution_count": 133,
     "metadata": {},
     "output_type": "execute_result"
    }
   ],
   "source": [
    "df_test_view.head(5)"
   ]
  },
  {
   "cell_type": "code",
   "execution_count": 134,
   "id": "08c37913",
   "metadata": {},
   "outputs": [],
   "source": [
    "test_new = y_test_new\n",
    "df_test_view[\"is_genuine_test\"] =  test_new\n",
    "df_test_view[\"is_genuine_pred\"] = y_pred_new\n",
    "df_test_view['probability'] = probabilities\n"
   ]
  },
  {
   "cell_type": "code",
   "execution_count": 135,
   "id": "0e971c30",
   "metadata": {},
   "outputs": [],
   "source": [
    "df_test_view[\"is_genuine_test\"] = df_test_view[\"is_genuine_test\"].replace({0: False, 1: True})\n",
    "df_test_view[\"is_genuine_pred\"] = df_test_view[\"is_genuine_pred\"].replace({0: False, 1: True})"
   ]
  },
  {
   "cell_type": "code",
   "execution_count": 136,
   "id": "5add77fc",
   "metadata": {},
   "outputs": [
    {
     "data": {
      "text/html": [
       "<div>\n",
       "<style scoped>\n",
       "    .dataframe tbody tr th:only-of-type {\n",
       "        vertical-align: middle;\n",
       "    }\n",
       "\n",
       "    .dataframe tbody tr th {\n",
       "        vertical-align: top;\n",
       "    }\n",
       "\n",
       "    .dataframe thead th {\n",
       "        text-align: right;\n",
       "    }\n",
       "</style>\n",
       "<table border=\"1\" class=\"dataframe\">\n",
       "  <thead>\n",
       "    <tr style=\"text-align: right;\">\n",
       "      <th></th>\n",
       "      <th>diagonal</th>\n",
       "      <th>height_left</th>\n",
       "      <th>height_right</th>\n",
       "      <th>margin_low</th>\n",
       "      <th>margin_up</th>\n",
       "      <th>length</th>\n",
       "      <th>is_genuine_test</th>\n",
       "      <th>is_genuine_pred</th>\n",
       "      <th>probability</th>\n",
       "    </tr>\n",
       "  </thead>\n",
       "  <tbody>\n",
       "    <tr>\n",
       "      <th>471</th>\n",
       "      <td>172.58</td>\n",
       "      <td>104.17</td>\n",
       "      <td>103.13</td>\n",
       "      <td>4.64</td>\n",
       "      <td>3.17</td>\n",
       "      <td>113.05</td>\n",
       "      <td>True</td>\n",
       "      <td>True</td>\n",
       "      <td>0.977030</td>\n",
       "    </tr>\n",
       "    <tr>\n",
       "      <th>9</th>\n",
       "      <td>172.47</td>\n",
       "      <td>104.07</td>\n",
       "      <td>104.02</td>\n",
       "      <td>4.04</td>\n",
       "      <td>3.25</td>\n",
       "      <td>113.45</td>\n",
       "      <td>True</td>\n",
       "      <td>True</td>\n",
       "      <td>0.994841</td>\n",
       "    </tr>\n",
       "    <tr>\n",
       "      <th>1499</th>\n",
       "      <td>171.47</td>\n",
       "      <td>104.15</td>\n",
       "      <td>103.82</td>\n",
       "      <td>4.63</td>\n",
       "      <td>3.37</td>\n",
       "      <td>112.07</td>\n",
       "      <td>False</td>\n",
       "      <td>False</td>\n",
       "      <td>0.137882</td>\n",
       "    </tr>\n",
       "    <tr>\n",
       "      <th>54</th>\n",
       "      <td>172.02</td>\n",
       "      <td>103.58</td>\n",
       "      <td>103.80</td>\n",
       "      <td>3.95</td>\n",
       "      <td>3.46</td>\n",
       "      <td>112.40</td>\n",
       "      <td>True</td>\n",
       "      <td>True</td>\n",
       "      <td>0.904248</td>\n",
       "    </tr>\n",
       "    <tr>\n",
       "      <th>1411</th>\n",
       "      <td>171.95</td>\n",
       "      <td>104.39</td>\n",
       "      <td>104.31</td>\n",
       "      <td>5.98</td>\n",
       "      <td>3.23</td>\n",
       "      <td>111.33</td>\n",
       "      <td>False</td>\n",
       "      <td>False</td>\n",
       "      <td>0.000046</td>\n",
       "    </tr>\n",
       "    <tr>\n",
       "      <th>...</th>\n",
       "      <td>...</td>\n",
       "      <td>...</td>\n",
       "      <td>...</td>\n",
       "      <td>...</td>\n",
       "      <td>...</td>\n",
       "      <td>...</td>\n",
       "      <td>...</td>\n",
       "      <td>...</td>\n",
       "      <td>...</td>\n",
       "    </tr>\n",
       "    <tr>\n",
       "      <th>220</th>\n",
       "      <td>171.26</td>\n",
       "      <td>103.59</td>\n",
       "      <td>103.80</td>\n",
       "      <td>4.11</td>\n",
       "      <td>3.25</td>\n",
       "      <td>113.03</td>\n",
       "      <td>True</td>\n",
       "      <td>True</td>\n",
       "      <td>0.991426</td>\n",
       "    </tr>\n",
       "    <tr>\n",
       "      <th>946</th>\n",
       "      <td>171.63</td>\n",
       "      <td>103.87</td>\n",
       "      <td>104.66</td>\n",
       "      <td>3.90</td>\n",
       "      <td>3.27</td>\n",
       "      <td>112.68</td>\n",
       "      <td>True</td>\n",
       "      <td>True</td>\n",
       "      <td>0.865299</td>\n",
       "    </tr>\n",
       "    <tr>\n",
       "      <th>992</th>\n",
       "      <td>171.79</td>\n",
       "      <td>103.69</td>\n",
       "      <td>103.68</td>\n",
       "      <td>3.65</td>\n",
       "      <td>2.77</td>\n",
       "      <td>112.78</td>\n",
       "      <td>True</td>\n",
       "      <td>True</td>\n",
       "      <td>0.999136</td>\n",
       "    </tr>\n",
       "    <tr>\n",
       "      <th>1496</th>\n",
       "      <td>172.19</td>\n",
       "      <td>104.63</td>\n",
       "      <td>104.44</td>\n",
       "      <td>5.27</td>\n",
       "      <td>3.37</td>\n",
       "      <td>110.97</td>\n",
       "      <td>False</td>\n",
       "      <td>False</td>\n",
       "      <td>0.000042</td>\n",
       "    </tr>\n",
       "    <tr>\n",
       "      <th>443</th>\n",
       "      <td>171.61</td>\n",
       "      <td>103.93</td>\n",
       "      <td>103.41</td>\n",
       "      <td>4.45</td>\n",
       "      <td>2.95</td>\n",
       "      <td>113.19</td>\n",
       "      <td>True</td>\n",
       "      <td>True</td>\n",
       "      <td>0.995837</td>\n",
       "    </tr>\n",
       "  </tbody>\n",
       "</table>\n",
       "<p>300 rows × 9 columns</p>\n",
       "</div>"
      ],
      "text/plain": [
       "      diagonal  height_left  height_right  margin_low  margin_up  length  \\\n",
       "471     172.58       104.17        103.13        4.64       3.17  113.05   \n",
       "9       172.47       104.07        104.02        4.04       3.25  113.45   \n",
       "1499    171.47       104.15        103.82        4.63       3.37  112.07   \n",
       "54      172.02       103.58        103.80        3.95       3.46  112.40   \n",
       "1411    171.95       104.39        104.31        5.98       3.23  111.33   \n",
       "...        ...          ...           ...         ...        ...     ...   \n",
       "220     171.26       103.59        103.80        4.11       3.25  113.03   \n",
       "946     171.63       103.87        104.66        3.90       3.27  112.68   \n",
       "992     171.79       103.69        103.68        3.65       2.77  112.78   \n",
       "1496    172.19       104.63        104.44        5.27       3.37  110.97   \n",
       "443     171.61       103.93        103.41        4.45       2.95  113.19   \n",
       "\n",
       "      is_genuine_test  is_genuine_pred  probability  \n",
       "471              True             True     0.977030  \n",
       "9                True             True     0.994841  \n",
       "1499            False            False     0.137882  \n",
       "54               True             True     0.904248  \n",
       "1411            False            False     0.000046  \n",
       "...               ...              ...          ...  \n",
       "220              True             True     0.991426  \n",
       "946              True             True     0.865299  \n",
       "992              True             True     0.999136  \n",
       "1496            False            False     0.000042  \n",
       "443              True             True     0.995837  \n",
       "\n",
       "[300 rows x 9 columns]"
      ]
     },
     "execution_count": 136,
     "metadata": {},
     "output_type": "execute_result"
    }
   ],
   "source": [
    "df_test_view"
   ]
  },
  {
   "cell_type": "code",
   "execution_count": 137,
   "id": "e293243d",
   "metadata": {},
   "outputs": [
    {
     "name": "stdout",
     "output_type": "stream",
     "text": [
      "Number of mismatched rows : 1\n"
     ]
    }
   ],
   "source": [
    "mismatch_count = (df_test_view[\"is_genuine_test\"] != df_test_view[\"is_genuine_pred\"]).sum()\n",
    "\n",
    "print(f\"Number of mismatched rows : {mismatch_count}\")"
   ]
  },
  {
   "cell_type": "markdown",
   "id": "5ac424b3",
   "metadata": {},
   "source": [
    "### Model Performance Note : Logistic Regression\n",
    "---\n",
    "<div id=\"9\" style=\"border: 2px solid #4CAF50; border-radius: 5px; padding: 10px; background-color: #f9f9f9;\">\n",
    "  <h3  style=\"color: #4CAF50;\">Model Performance Summary</h3>\n",
    "  <p>\n",
    "    Out of <b>300 rows</b>, the <b>Logistic Regression</b> model achieved an accuracy of <b>99.667%</b>, with only \n",
    "    <span style=\"color: red;\"><b>1 error</b></span>.\n",
    "  </p>\n",
    "  <h4 style=\"color: #2196F3;\">Explanation of the Error :</h4>\n",
    "  <ul>\n",
    "    <li><b>True Class :</b> <span style=\"color: #FF5722;\">0</span> (Negative class)</li>\n",
    "    <li><b>Predicted Class :</b> <span style=\"color: #4CAF50;\">1</span> (Positive class)</li>\n",
    "  </ul>\n",
    "  <p>\n",
    "    The model incorrectly identified one row as part of the positive class instead of the negative class. \n",
    "    Such errors can arise due to overlapping feature distributions or dataset limitations.\n",
    "  </p>\n",
    "  <h4 style=\"color: #2196F3;\">Key Metrics :</h4>\n",
    "  <ul>\n",
    "    <li><b>Precision :</b> 100%</li>\n",
    "    <li><b>Recall :</b> 99%</li>\n",
    "    <li><b>F1-Score :</b> 99%</li>\n",
    "  </ul>\n",
    "  <h4 style=\"color: #4CAF50;\">Conclusion :</h4>\n",
    "  <p>\n",
    "    While the model performs exceptionally well, this single misclassification highlights the need for further tuning to handle edge cases.\n",
    "  </p>\n",
    "</div>\n"
   ]
  },
  {
   "cell_type": "code",
   "execution_count": null,
   "id": "dfb0caa6",
   "metadata": {},
   "outputs": [],
   "source": []
  }
 ],
 "metadata": {
  "kernelspec": {
   "display_name": "Python 3 (ipykernel)",
   "language": "python",
   "name": "python3"
  },
  "language_info": {
   "codemirror_mode": {
    "name": "ipython",
    "version": 3
   },
   "file_extension": ".py",
   "mimetype": "text/x-python",
   "name": "python",
   "nbconvert_exporter": "python",
   "pygments_lexer": "ipython3",
   "version": "3.11.5"
  }
 },
 "nbformat": 4,
 "nbformat_minor": 5
}
