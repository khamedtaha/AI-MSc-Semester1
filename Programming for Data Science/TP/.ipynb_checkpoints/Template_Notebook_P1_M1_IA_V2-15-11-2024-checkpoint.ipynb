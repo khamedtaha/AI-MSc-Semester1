{
 "cells": [
  {
   "cell_type": "markdown",
   "id": "97dccc01",
   "metadata": {},
   "source": [
    "<div style=\"display: flex; background-color: RGB(255,114,0);\" >\n",
    "<h1 style=\"margin: auto; padding: 30px; \">ANALYSE DU STOCK ET DES VENTES</h1>\n",
    "</div>"
   ]
  },
  {
   "cell_type": "markdown",
   "id": "4d0d1bb8",
   "metadata": {},
   "source": [
    "# OBJECTIF DE CE NOTEBOOK\n",
    "\n",
    "Il s'agit d'un outil permettant de mixer et d'alterner codes, textes et graphique.\n",
    "\n",
    "\n",
    "Pour vous aider dans vos premiers pas à l'usage de Jupyter et de Python, nous avons rédigé ce notebook en vous indiquant les instructions à suivre."
   ]
  },
  {
   "cell_type": "markdown",
   "id": "b85efb87",
   "metadata": {},
   "source": [
    "<div style=\"background-color: RGB(51,165,182);\" >\n",
    "<h2 style=\"margin: auto; padding: 20px; color:#fff; \">Etape 1 - Importation des librairies et chargement des fichiers</h2>\n",
    "</div>"
   ]
  },
  {
   "cell_type": "markdown",
   "id": "b5449401",
   "metadata": {},
   "source": [
    "<div style=\"border: 1px solid RGB(51,165,182);\" >\n",
    "<h3 style=\"margin: auto; padding: 20px; color: RGB(51,165,182); \">1.1 - Importation des librairies</h3>\n",
    "</div>"
   ]
  },
  {
   "cell_type": "code",
   "execution_count": null,
   "id": "e6ef06ec",
   "metadata": {},
   "outputs": [],
   "source": [
    "#Importation de la librairie Pandas\n",
    "import pandas as pd"
   ]
  },
  {
   "cell_type": "code",
   "execution_count": null,
   "id": "a38ce0fc",
   "metadata": {},
   "outputs": [],
   "source": [
    "#Importation de la librairie plotly express\n",
    "import numpy as np\n",
    "import matplotlib.pyplot as plt\n"
   ]
  },
  {
   "cell_type": "code",
   "execution_count": null,
   "id": "0a718067",
   "metadata": {},
   "outputs": [],
   "source": [
    "#privilégiez les solutions provenants de Stack Overflow ou Medium"
   ]
  },
  {
   "cell_type": "code",
   "execution_count": null,
   "id": "223932fa",
   "metadata": {},
   "outputs": [],
   "source": [
    "import warnings\n",
    "warnings.simplefilter(\"ignore\")"
   ]
  },
  {
   "cell_type": "markdown",
   "id": "f4918299",
   "metadata": {},
   "source": [
    "<div style=\"border: 1px solid RGB(51,165,182);\" >\n",
    "<h3 style=\"margin: auto; padding: 20px; color: RGB(51,165,182); \">1.2 - Chargements des fichiers</h3>\n",
    "</div>"
   ]
  },
  {
   "cell_type": "code",
   "execution_count": null,
   "id": "9642cf03",
   "metadata": {},
   "outputs": [],
   "source": [
    "#Importation du fichier web.xlsx\n",
    "df_web = pd.read_excel(\"dataset/Datagestion-stock/web.xlsx\")\n",
    "#Importation du fichier erp.xlsx\n",
    "df_erp = pd.read_excel('dataset/Datagestion-stock/erp.xlsx')\n",
    "#importation du fichier liaison.xlsx\n",
    "df_liaison = pd.read_excel('dataset/Datagestion-stock/liaison.xlsx')\n"
   ]
  },
  {
   "cell_type": "markdown",
   "id": "605f7056",
   "metadata": {},
   "source": [
    "<div style=\"background-color: RGB(51,165,182);\" >\n",
    "<h2 style=\"margin: auto; padding: 20px; color:#fff; \">Etape 2 - Analyse exploratoire des fichiers</h2>\n",
    "</div>"
   ]
  },
  {
   "cell_type": "markdown",
   "id": "47d3a649",
   "metadata": {},
   "source": [
    "<div style=\"border: 1px solid RGB(51,165,182);\" >\n",
    "<h3 style=\"margin: auto; padding: 20px; color: RGB(51,165,182); \">2.1 - Analyse exploratoire du fichier erp.xlsx</h3>\n",
    "</div>\n"
   ]
  },
  {
   "cell_type": "code",
   "execution_count": null,
   "id": "094ef206",
   "metadata": {},
   "outputs": [],
   "source": [
    "#Afficher les dimensions du dataset\n",
    "print(\"Le tableau comporte {} observation(s) ou article(s)\".format(df_erp.shape[0]))\n",
    "print(\"Le tableau comporte {} colonne(s)\".format(df_erp.shape[1]))"
   ]
  },
  {
   "cell_type": "code",
   "execution_count": null,
   "id": "182441f0",
   "metadata": {},
   "outputs": [],
   "source": [
    "#Consulter le nombre de colonnes\n",
    "print(\"Le tableau comporte {} colonne(s)\".format(df_erp.shape[1]))\n",
    "\n",
    "#La nature des données dans chacune des colonnes\n",
    "print(\"La nature des données :\")\n",
    "df_erp.info()\n",
    "#Le nombre de valeurs présentes dans chacune des colonnes\n",
    "valeurs = df_erp.count()\n",
    "print(\"Le nombre de valeurs présentes dans chacune des colonnes :\")\n",
    "valeurs"
   ]
  },
  {
   "cell_type": "code",
   "execution_count": null,
   "id": "d3977646",
   "metadata": {},
   "outputs": [],
   "source": [
    "#Afficher les 5 premières lignes de la table\n",
    "df_erp.head(5)"
   ]
  },
  {
   "cell_type": "code",
   "execution_count": null,
   "id": "db102a4a",
   "metadata": {},
   "outputs": [],
   "source": [
    "#Vérifier si il y a les lignes en doublons dans la colonne product_id\n",
    "doublons = df_erp[df_erp.duplicated('product_id', keep=False)]\n",
    "if not doublons.empty:\n",
    "    print(\"Il y a des doublons.\")\n",
    "else:\n",
    "    print(\"Il n'y a pas de doublons.\")"
   ]
  },
  {
   "cell_type": "code",
   "execution_count": null,
   "id": "d443d4ff",
   "metadata": {},
   "outputs": [],
   "source": [
    "#Afficher les valeurs distinctes de la colonne stock_status\n",
    "valeurs_distinctes = df_erp['stock_status'].unique()\n",
    "print(\"Les valeurs distinctes de la colonne 'stock_status' :\")\n",
    "print(valeurs_distinctes)\n",
    "#À quelle(s) autre(s) colonne(s) sont-elles liées ?\n"
   ]
  },
  {
   "cell_type": "code",
   "execution_count": null,
   "id": "68088943",
   "metadata": {},
   "outputs": [],
   "source": [
    "#Création d'une colonne \"stock_status_2\n",
    "df_erp['stock_status_2'] = np.where(df_erp['stock_quantity'] > 0, 'instock', 'outofstock')\n",
    "\n",
    "\n",
    "\n",
    "#La valeur de cette deuxième colonne sera fonction de la valeur dans la colonne \"stock_quantity\"\n",
    "df_erp['stock_status_validation'] = np.where(df_erp['stock_status'] == df_erp['stock_status_2'], True, False)\n",
    "df_erp\n",
    "\n",
    "\n",
    "#si la valeur de la colonne \"stock_quantity\" est nulle renseigner \"outofstock\" sinon mettre \"instock\"\n",
    "\n"
   ]
  },
  {
   "cell_type": "code",
   "execution_count": null,
   "id": "90a1c8ae",
   "metadata": {},
   "outputs": [],
   "source": [
    "#Vérifions que les 2 colonnes sont identiques:\n",
    "#Les 2 colonnes sont strictement identiques si les valeurs de chaque ligne sont strictement identiques 2 à 2\n",
    "#La comparaison de 2 colonnes peut se réaliser simplement avec l'instruction ci-dessous:\n",
    "df_erp[\"stock_status\"] == df_erp[\"stock_status_2\"]\n",
    "false_validations = df_erp[df_erp['stock_status_validation'] == False]\n",
    "\n",
    "false_validations\n",
    "#Le résultat est l'affichage de True ou False pour chacune des lignes du dataset\n",
    "#C'est un bon début, mais difficile à exploiter"
   ]
  },
  {
   "cell_type": "code",
   "execution_count": null,
   "id": "ebe3650a",
   "metadata": {},
   "outputs": [],
   "source": [
    "#Mais il est possible de synthétiser ce résultat en effectuant la somme de cette colonne:\n",
    "#True vaut 1 et False 0\n",
    "#Nous devrions obtenir la somme de 824 qui correspond au nombre de lignes dans ce dataset\n",
    "df_erp[\"stock_status_validation_numbers\"] = np.where(df_erp['stock_status_validation'], 1, 0)\n",
    "\n",
    "someOfStockValidation = df_erp[\"stock_status_validation_numbers\"].sum()\n",
    "print(\"The total number of validated stock statuses is:\", someOfStockValidation)\n"
   ]
  },
  {
   "cell_type": "code",
   "execution_count": null,
   "id": "1ca6060a",
   "metadata": {},
   "outputs": [],
   "source": [
    "#Si les colonnes ne sont absolument pas identiques ligne à ligne alors identifier la ligne en écart\n",
    "##Dans ce cas je vous ce lien pour apprendre à réaliser des filtres dans Pandas:\n",
    "##https://bitbucket.org/hrojas/learn-pandas/src/master/\n",
    "##Lesson 3"
   ]
  },
  {
   "cell_type": "code",
   "execution_count": null,
   "id": "ce1b9704",
   "metadata": {},
   "outputs": [],
   "source": [
    "#Corriger la ou les données incohérentes\n",
    "df_erp[\"stock_status\"] =   df_erp[\"stock_status_2\"]\n",
    "\n",
    "#Verification en utilisant le même code que plus haut pour afficher les problemes\n",
    "df_erp[\"stock_status\"] == df_erp[\"stock_status_2\"]\n"
   ]
  },
  {
   "cell_type": "code",
   "execution_count": null,
   "id": "df744e53-0ee1-4b8d-b751-5e71d0873989",
   "metadata": {
    "scrolled": true
   },
   "outputs": [],
   "source": [
    "if 'stock_status_validation' in df_erp.columns:\n",
    "    df_erp.drop(columns=['stock_status_validation'], inplace=True)\n",
    "if 'stock_status_validation_numbers' in df_erp.columns:\n",
    "    df_erp.drop(columns=['stock_status_validation_numbers'], inplace=True)\n",
    "if 'stock_status_2' in df_erp.columns:\n",
    "    df_erp.drop(columns=['stock_status_2'], inplace=True)\n",
    "if 'new_stock_status' in df_erp.columns:\n",
    "    df_erp.drop(columns=['new_stock_status'], inplace=True)\n",
    "df_erp"
   ]
  },
  {
   "cell_type": "markdown",
   "id": "08bd4b08",
   "metadata": {},
   "source": [
    "<div style=\"border: 1px solid RGB(51,165,182);\" >\n",
    "<h3 style=\"margin: auto; padding: 20px; color: RGB(51,165,182); \">2.1.1 - Analyse exploratoire de chaque variable du fichier erp.xlsx</h3>\n",
    "</div>"
   ]
  },
  {
   "cell_type": "markdown",
   "id": "3476df40",
   "metadata": {},
   "source": [
    "<div style=\"border: 1px solid RGB(51,165,182);\" >\n",
    "<h3 style=\"margin: auto; padding: 20px; color: RGB(51,165,182); \">2.1.1.1 - Analyse de la variable PRIX</h3>\n",
    "</div>"
   ]
  },
  {
   "cell_type": "code",
   "execution_count": null,
   "id": "a7fc3384",
   "metadata": {},
   "outputs": [],
   "source": [
    "###############\n",
    "## LES PRIX  ##\n",
    "###############\n",
    "\n",
    "#Vérification des prix: Y a t-il des prix non renseignés, négatif ou nul?\n",
    "\n",
    "print(\"Nombre d'articles avec un prix non renseigné: {}, négatif: {}, nul: {}\".format(\n",
    "    df_erp['price'].isnull().sum(),\n",
    "    (df_erp['price'] < 0).sum(),\n",
    "    (df_erp['price'] == 0).sum()\n",
    "))\n",
    "#Afficher le ou les prix non renseignés dans la colonne \"price\"\n",
    "print(\"Nombres d'article avec un prix non renseignés: {}\".format(df_erp['price'].sum())) #Saisir l'instruction manquante dans la fonction format\n",
    "#Afficher le prix minimum de la colonne \"price\"\n",
    "print(\"Prix minimum (excluant les valeurs nulles):\", df_erp['price'].min(skipna=True))\n",
    "\n",
    "#Afficher le prix maximum de la colonne \"price\"\n",
    "print(\"Prix minimum (excluant les valeurs nulles):\", df_erp['price'].max(skipna=True))\n",
    "#Affichier les prix inférieurs à 0 (qu'est ce qu'il faut en faire ?)\n",
    "negative_prices = df_erp[df_erp['price'] < 0]\n",
    "print(\"Produits avec un prix négatif:\\n\", negative_prices[\"price\"])\n",
    "\n",
    "# i  need to  correct  those foult  so  i  should to change  the price   as  we know there  is relation bettwen the  price and  the porchase_price\n",
    "# wich  is the porchase_price *  2 is the  allmost  the  some with price so  i will change it  to  the real  one  \n",
    "\n",
    "def adjust_price(row):\n",
    "    if row['price'] < 0:\n",
    "        return row['purchase_price'] * 2\n",
    "    return row['price']\n",
    "\n",
    "# Appliquer la fonction pour corriger les prix\n",
    "df_erp['price'] = df_erp.apply(adjust_price, axis=1)\n",
    "\n",
    "# Afficher le DataFrame après correction\n",
    "print(\"\\nDataFrame après correction des prix:\\n\", df_erp)\n",
    "print(\"Nombre d'articles avec un prix non renseigné: {}, négatif: {}, nul: {}\".format(\n",
    "    df_erp['price'].isnull().sum(),\n",
    "    (df_erp['price'] < 0).sum(),\n",
    "    (df_erp['price'] == 0).sum()\n",
    "))"
   ]
  },
  {
   "cell_type": "markdown",
   "id": "c5fce58c",
   "metadata": {},
   "source": [
    "<div style=\"border: 1px solid RGB(51,165,182);\" >\n",
    "<h3 style=\"margin: auto; padding: 20px; color: RGB(51,165,182); \">2.1.1.2 - Analyse de la variable STOCK</h3>\n",
    "</div>"
   ]
  },
  {
   "cell_type": "code",
   "execution_count": null,
   "id": "3d14c4a0",
   "metadata": {},
   "outputs": [],
   "source": [
    "#######################\n",
    "### stock_quantity  ###\n",
    "#######################\n",
    "\n",
    "#Vérification de la colonne stock quantity\n",
    "#Afficher la quantité minimum de la colonne \"stock_quantity\"\n",
    "print(\"Quantité minimum:\", df_erp['stock_quantity'].min())\n",
    "\n",
    "\n",
    "#Afficher la quantité maximum de la colonne \"stock_quantity\"\n",
    "print(\"Quantité maximum:\", df_erp['stock_quantity'].max())\n",
    "\n",
    "#Affichier les stocks inférieurs à 0 (qu'est ce qu'il faut en faire ?)\n",
    "negative_stock = df_erp[df_erp['stock_quantity'] < 0]\n",
    "print(\"Produits avec un stock négatif:\\n\", negative_stock['stock_quantity'])\n"
   ]
  },
  {
   "cell_type": "markdown",
   "id": "20e8c554",
   "metadata": {},
   "source": [
    "<div style=\"border: 1px solid RGB(51,165,182);\" >\n",
    "<h3 style=\"margin: auto; padding: 20px; color: RGB(51,165,182); \">2.1.1.3 - Analyse de la variable ONSALE_WEB</h3>\n",
    "</div>"
   ]
  },
  {
   "cell_type": "code",
   "execution_count": null,
   "id": "99b936ca",
   "metadata": {},
   "outputs": [],
   "source": [
    "#Vérification de la colonne onsale_web et des valeurs qu'elle contient? Que signifient-elles?\n",
    "print(\"Valeurs uniques dans la colonne onsale_web:\", df_erp['onsale_web'].unique())\n"
   ]
  },
  {
   "cell_type": "code",
   "execution_count": null,
   "id": "5a79444d",
   "metadata": {},
   "outputs": [],
   "source": [
    "#Quelles sont les colonnes à conserver selon vous?\n",
    "###### i think  we  should to  keep the column  that  have  1 "
   ]
  },
  {
   "cell_type": "code",
   "execution_count": null,
   "id": "8053aeda",
   "metadata": {},
   "outputs": [],
   "source": [
    "#Supprimer la colonnecomportant le libellé \"stock_status_2\" car elle est redondante \n",
    "#avec la colonne \"stock_status\".\n"
   ]
  },
  {
   "cell_type": "markdown",
   "id": "eca4fce9",
   "metadata": {},
   "source": [
    "<div style=\"border: 1px solid RGB(51,165,182);\" >\n",
    "<h3 style=\"margin: auto; padding: 20px; color: RGB(51,165,182); \">2.1.1.4 - Analyse de la variable prix d'achat</h3>\n",
    "</div>"
   ]
  },
  {
   "cell_type": "code",
   "execution_count": null,
   "id": "6b85ba0d",
   "metadata": {},
   "outputs": [],
   "source": [
    "######################\n",
    "##   prix d'achat   ##\n",
    "######################\n",
    "\n",
    "#Vérification de la colonne purchase_price : \n",
    "#Afficher le ou les prix non renseignés dans la colonne \"purchase_price\"\n",
    "print(\"Nombre d'articles avec un prix non renseigné dans purchase_price:\", df_erp['purchase_price'].isnull().sum())\n",
    "\n",
    "# Afficher le prix minimum de la colonne \"purchase_price\"\n",
    "print(\"Prix minimum dans purchase_price:\", df_erp['purchase_price'].min())\n",
    "\n",
    "# Afficher le prix maximum de la colonne \"purchase_price\"\n",
    "print(\"Prix maximum dans purchase_price:\", df_erp['purchase_price'].max())"
   ]
  },
  {
   "cell_type": "markdown",
   "id": "a550f996",
   "metadata": {},
   "source": [
    "<div style=\"border: 1px solid RGB(51,165,182);\" >\n",
    "<h3 style=\"margin: auto; padding: 20px; color: RGB(51,165,182); \">2.2 - Analyse exploratoire du fichier web.xlsx</h3>\n",
    "</div>\n",
    " "
   ]
  },
  {
   "cell_type": "code",
   "execution_count": null,
   "id": "bb7e292c",
   "metadata": {},
   "outputs": [],
   "source": [
    "#Dimension du dataset\n",
    "n_observations = df_web.shape[0]  # Number of rows\n",
    "n_caracteristiques = df_web.shape[1]  # Number of columns\n",
    "#Nombre d'observations\n",
    "print(\"Nombre d'observations :\", n_observations)\n",
    "#Nombre de caractéristiques\n",
    "\n",
    "print(\"Nombre de caractéristiques :\", n_caracteristiques)"
   ]
  },
  {
   "cell_type": "code",
   "execution_count": null,
   "id": "0b70a8da",
   "metadata": {},
   "outputs": [],
   "source": [
    "# Consulter le nombre de colonnes\n",
    "nombre_de_colonnes = df_web.shape[1]  # ou len(df_erp.columns)\n",
    "print(\"Nombre de colonnes :\", nombre_de_colonnes)\n",
    "\n",
    "# La nature des données dans chacune des colonnes\n",
    "nature_des_donnees = df_web.dtypes\n",
    "print(\"\\nNature des données dans chaque colonne :\\n\", nature_des_donnees)\n",
    "\n",
    "# Le nombre de valeurs présentes dans chacune des colonnes\n",
    "nombre_de_valeurs = df_web.count()\n",
    "print(\"\\nNombre de valeurs présentes dans chaque colonne :\\n\", nombre_de_valeurs)"
   ]
  },
  {
   "cell_type": "code",
   "execution_count": null,
   "id": "b0d2f149",
   "metadata": {},
   "outputs": [],
   "source": [
    "#Selon vous, quelles sont les colonnes à conserver ?\n",
    "#we  should remove  the colonne that have 0 in Nombre de valeurs présentes dans chaque colonne "
   ]
  },
  {
   "cell_type": "code",
   "execution_count": null,
   "id": "30b2196b",
   "metadata": {},
   "outputs": [],
   "source": [
    "#Si vous avez défini des colonnes à supprimer, effectuer l'opération\n",
    "df_web.drop(columns=[\"tax_class\", \"post_content\", \"post_password\", \"post_content_filtered\"], inplace=True)\n",
    "\n",
    "#Le nombre de valeurs présentes dans chacune des colonnes\n",
    "print(\"Non-null values per column:\")\n",
    "print(df_web.count())"
   ]
  },
  {
   "cell_type": "code",
   "execution_count": null,
   "id": "1b965d06",
   "metadata": {},
   "outputs": [],
   "source": [
    "#Visualisation des valeurs de la colonne sku\n",
    "print (df_web[\"sku\"])\n",
    "#Quelles sont les valeurs qui ne semblent pas respecter la régle de codification?\n",
    "df_web[df_web[\"sku\"].str.match(r\"^(?![0-9]\\b).*\", na=False)]\n",
    "# df_web[df_web[\"sku\"].str.match(r\"^[0-9]\", na=False)]\n",
    "duplicate_skus = df_web[df_web.duplicated(subset=\"sku\", keep=False)]\n",
    "print(duplicate_skus)"
   ]
  },
  {
   "cell_type": "code",
   "execution_count": null,
   "id": "1226dcfd",
   "metadata": {},
   "outputs": [],
   "source": [
    "#Si vous avez identifié des codes articles ne respectant pas la régle de codification, consultez-les?\n",
    "#Si vous avez identifié des codes articles ne respectant pas la régle de codification, consultez-les?\n",
    "df_web[\"sku\"] = df_web[\"sku\"].apply(lambda x: x if str(x).isdigit() else \"INVALID\")\n",
    "df_web[df_web[\"sku\"] == 'INVALID']\n"
   ]
  },
  {
   "cell_type": "code",
   "execution_count": null,
   "id": "eb8d31bf",
   "metadata": {},
   "outputs": [],
   "source": [
    "#Identifier les lignes sans code articles\n",
    "missing_sku_df = df_web[df_web[\"sku\"].isna() | (df_web[\"sku\"] == \"\")]\n",
    "print(\"Rows without SKU:\")\n",
    "print(missing_sku_df)\n"
   ]
  },
  {
   "cell_type": "code",
   "execution_count": null,
   "id": "967495da",
   "metadata": {},
   "outputs": [],
   "source": [
    "#Pour les codes articles identifiés, réalisé une analyse et définissez l'action à entreprendre\n",
    "# Remove rows where SKU is 'INVALID'\n",
    "df_web = df_web[df_web[\"sku\"] != \"INVALID\"]\n"
   ]
  },
  {
   "cell_type": "code",
   "execution_count": null,
   "id": "27bf30de",
   "metadata": {},
   "outputs": [],
   "source": [
    "#La clé pour chaque ligne est-elle uniques? ou autrement dit, y a-t-il des doublons?\n",
    "\n",
    "df_web = df_web.drop_duplicates(subset=\"sku\", keep=\"first\")\n",
    "df_web "
   ]
  },
  {
   "cell_type": "code",
   "execution_count": null,
   "id": "8b81d617",
   "metadata": {},
   "outputs": [],
   "source": [
    "#Les lignes sans code article semble être toutes non renseignés\n",
    "#Pour s'en assurer réaliser les étapes suivantes:\n",
    "#1 - Créer un dataframe avec uniquement les lignes sans code article\n",
    "#2 - utiliser la fonction df.info() sur ce nouveau dataframe pour observer le nombre de valeur reseigner dans chacune des colonnes\n",
    "\n",
    "#3 - Que constatez-vous?"
   ]
  },
  {
   "cell_type": "markdown",
   "id": "dbff6403",
   "metadata": {},
   "source": [
    "<div style=\"border: 1px solid RGB(51,165,182);\" >\n",
    "<h3 style=\"margin: auto; padding: 20px; color: RGB(51,165,182); \">2.3 - Analyse exploratoire du fichier liaison.xlsx</h3>\n",
    "</div>"
   ]
  },
  {
   "cell_type": "code",
   "execution_count": null,
   "id": "de426b74",
   "metadata": {},
   "outputs": [],
   "source": [
    "#Dimension du dataset\n",
    "num_rows, num_columns = df_liaison.shape\n",
    "print(f\"Number of observations (rows): {num_rows}\")\n",
    "print(f\"Number of characteristics (columns): {num_columns}\")\n",
    "\n",
    "#Nombre d'observations\n",
    "print(df_liaison.info())\n",
    "\n",
    "#Nombre de caractéristiques\n",
    "print(df_liaison.count())"
   ]
  },
  {
   "cell_type": "code",
   "execution_count": null,
   "id": "9834ae33",
   "metadata": {},
   "outputs": [],
   "source": [
    "#Consulter le nombre de colonnes\n",
    "print(df_liaison.describe())\n",
    "\n",
    "#La nature des données dans chacune des colonnes\n",
    "df_liaison.info()\n",
    "#Le nombre de valeurs présentes dans chacune des colonnes\n",
    "df_liaison.describe()"
   ]
  },
  {
   "cell_type": "code",
   "execution_count": null,
   "id": "2b30d6b2",
   "metadata": {},
   "outputs": [],
   "source": [
    "#Les valeurs de la colonne \"product_id\" sont elles toutes uniques?\n",
    "is_product_id_unique = df_liaison[\"product_id\"].is_unique\n",
    "print(f\"Are all 'product_id' values unique? {is_product_id_unique}\")"
   ]
  },
  {
   "cell_type": "code",
   "execution_count": null,
   "id": "4d8ca13c",
   "metadata": {},
   "outputs": [],
   "source": [
    "#Les valeurs de la colonne \"id_web\" sont-elles toutes uniques?\n",
    "is_id_web_unique = df_liaison[\"id_web\"].is_unique\n",
    "print(f\"Are all 'id_web' values unique? {is_id_web_unique}\")"
   ]
  },
  {
   "cell_type": "code",
   "execution_count": null,
   "id": "52f7c843",
   "metadata": {},
   "outputs": [],
   "source": [
    "#Avons-nous des articles sans correspondances?\n",
    "missing_product_id = df_liaison[\"product_id\"].isnull().sum()\n",
    "missing_id_web = df_liaison[\"id_web\"].isnull().sum()\n",
    "\n",
    "print(f\"Number of missing 'product_id': {missing_product_id}\")\n",
    "print(f\"Number of missing 'id_web': {missing_id_web}\")\n"
   ]
  },
  {
   "cell_type": "code",
   "execution_count": null,
   "id": "6d9cfcee",
   "metadata": {},
   "outputs": [],
   "source": []
  },
  {
   "cell_type": "markdown",
   "id": "1a359137",
   "metadata": {},
   "source": [
    "<div style=\"background-color: RGB(51,165,182);\" >\n",
    "<h2 style=\"margin: auto; padding: 20px; color:#fff; \">Etape 3 - Jonction des fichiers</h2>\n",
    "</div>"
   ]
  },
  {
   "cell_type": "markdown",
   "id": "b7750c10",
   "metadata": {},
   "source": [
    "<div style=\"border: 1px solid RGB(51,165,182);\" >\n",
    "<h3 style=\"margin: auto; padding: 20px; color: RGB(51,165,182); \">Etape 3.1 - Jonction du fichier df_erp et df_liaison</h3>\n",
    "</div>"
   ]
  },
  {
   "cell_type": "code",
   "execution_count": null,
   "id": "e756ec7d",
   "metadata": {},
   "outputs": [],
   "source": [
    "#Fusion des fichiers df_erp et df_liaison\n",
    "df_merged = pd.merge(df_erp, df_liaison, how=\"outer\", on=\"product_id\", indicator=True)\n"
   ]
  },
  {
   "cell_type": "code",
   "execution_count": null,
   "id": "a66c8348",
   "metadata": {},
   "outputs": [],
   "source": [
    "df_merged.duplicated().sum()"
   ]
  },
  {
   "cell_type": "code",
   "execution_count": null,
   "id": "69cc1e5c",
   "metadata": {},
   "outputs": [],
   "source": [
    "df_merged[df_merged[\"_merge\"] != \"both\" ]"
   ]
  },
  {
   "cell_type": "code",
   "execution_count": null,
   "id": "80c8d6c9",
   "metadata": {},
   "outputs": [],
   "source": [
    "df_merged.info()"
   ]
  },
  {
   "cell_type": "code",
   "execution_count": null,
   "id": "b7e1da5e",
   "metadata": {},
   "outputs": [],
   "source": [
    "df_web.info()"
   ]
  },
  {
   "cell_type": "markdown",
   "id": "fe4c51d7",
   "metadata": {},
   "source": [
    "<div style=\"border: 1px solid RGB(51,165,182);\" >\n",
    "<h3 style=\"margin: auto; padding: 20px; color: RGB(51,165,182); \">Etape 3.2 - Jonction du fichier df_merge et df_web</h3>\n",
    "</div>"
   ]
  },
  {
   "cell_type": "code",
   "execution_count": null,
   "id": "46d9382b",
   "metadata": {},
   "outputs": [],
   "source": [
    "#Fusionnez les datasets df_merge et df_web\n",
    "# df_merged\n",
    "#df_web = pd.merge(df_web, df_liaison[['id_web', 'product_id']], left_on='sku', right_on='id_web', how='left')\n",
    "#df_web.head()\n",
    "#df_web.drop(columns=['id_web'], inplace=True)"
   ]
  },
  {
   "cell_type": "code",
   "execution_count": null,
   "id": "be81a66b",
   "metadata": {},
   "outputs": [],
   "source": []
  },
  {
   "cell_type": "code",
   "execution_count": null,
   "id": "2021762f",
   "metadata": {},
   "outputs": [],
   "source": [
    "#Avons-nous des lignes sans correspondances?\n",
    "df_merged = df_merged.rename(columns={'_merge': 'merge_status'})\n",
    "df_final_merge = pd.merge(df_merged, df_web, left_on=\"id_web\", right_on=\"sku\", how=\"inner\", indicator=True)\n"
   ]
  },
  {
   "cell_type": "code",
   "execution_count": null,
   "id": "e435735c",
   "metadata": {},
   "outputs": [],
   "source": [
    "df_final_merge.head()\n"
   ]
  },
  {
   "cell_type": "markdown",
   "id": "13d81fd6",
   "metadata": {},
   "source": [
    "<div style=\"background-color: RGB(51,165,182);\" >\n",
    "<h2 style=\"margin: auto; padding: 20px; color:#fff; \">Etape 4 - Analyse univarié des prix</h2>\n",
    "</div>"
   ]
  },
  {
   "cell_type": "markdown",
   "id": "9c8d0615",
   "metadata": {},
   "source": [
    "<div style=\"border: 1px solid RGB(51,165,182);\" >\n",
    "<h3 style=\"margin: auto; padding: 20px; color: RGB(51,165,182); \">Etape 4.1 - Exploration par la visualisation de données</h3>\n",
    "</div>"
   ]
  },
  {
   "cell_type": "code",
   "execution_count": null,
   "id": "3be61f06",
   "metadata": {},
   "outputs": [],
   "source": [
    "#Création d'une Boite à moustache de la répartition des prix grâce à Pandas\n",
    "import matplotlib.pyplot as plt\n",
    "\n",
    "plt.figure(figsize=(10, 6))\n",
    "df_final_merge['price'].plot(kind='box', vert=False, color='skyblue')\n",
    "\n",
    "plt.title('Distribution of Prices')\n",
    "plt.xlabel('Price')\n",
    "\n",
    "plt.show()"
   ]
  },
  {
   "cell_type": "code",
   "execution_count": null,
   "id": "cbfe6346",
   "metadata": {},
   "outputs": [],
   "source": [
    "#Autre méthode avec plotly express\n",
    "\n",
    "import plotly.express as px\n",
    "\n",
    "# Create a box plot using Plotly Express for the 'price' column\n",
    "fig = px.box(df_final_merge, x='price', title='Distribution of Prices')\n",
    "\n",
    "# Show the plot\n",
    "fig.show()"
   ]
  },
  {
   "cell_type": "markdown",
   "id": "79e2f2eb",
   "metadata": {},
   "source": [
    "<div style=\"border: 1px solid RGB(51,165,182);\" >\n",
    "<h3 style=\"margin: auto; padding: 20px; color: RGB(51,165,182); \">Etape 4.2 - Exploration par l'utisation de méthodes statistique</h3>\n",
    "</div>"
   ]
  },
  {
   "cell_type": "markdown",
   "id": "750f54f3",
   "metadata": {},
   "source": [
    "<div style=\"border: 1px solid RGB(51,165,182);\" >\n",
    "<h3 style=\"margin: auto; padding: 20px; color: RGB(51,165,182); \">Etape 4.2.1 - Identification par l'interval interquartile</h3>\n",
    "</div>"
   ]
  },
  {
   "cell_type": "code",
   "execution_count": null,
   "id": "6c0db8c0",
   "metadata": {},
   "outputs": [],
   "source": [
    "#Utilisation de la fonction describe de Pandas pour l'etude des mesures de dispersions\n",
    "df_final_merge.describe()"
   ]
  },
  {
   "cell_type": "code",
   "execution_count": null,
   "id": "a458ca14",
   "metadata": {},
   "outputs": [],
   "source": [
    "#Définissez un seuil pour les articles \"outliers\" en prix\n",
    "# Calcul des quartiles et de l'IQR\n",
    "Q1 = df_final_merge['price'].quantile(0.25)\n",
    "Q3 = df_final_merge['price'].quantile(0.75)\n",
    "IQR = Q3 - Q1\n",
    "\n",
    "# Définir les seuils pour les outliers\n",
    "lower_bound = Q1 - 1.5 * IQR\n",
    "upper_bound = Q3 + 1.5 * IQR\n",
    "\n",
    "# Identifier les outliers\n",
    "outliers = df_final_merge[(df_final_merge['price'] < lower_bound) | (df_final_merge['price'] > upper_bound)]\n",
    "\n",
    "# Optionnel : afficher les outliers\n",
    "print(outliers[['price']].count())\n"
   ]
  },
  {
   "cell_type": "code",
   "execution_count": null,
   "id": "7d05cde7",
   "metadata": {},
   "outputs": [],
   "source": [
    "#Définissez le nombre d'articles et la proportion de l'ensemble du catalogue \"outliers\"\n",
    "# Nombre total d'articles (taille de l'ensemble du catalogue)\n",
    "total_items = df_final_merge.shape[0]\n",
    "\n",
    "# Calcul du nombre d'outliers\n",
    "outliers_count = outliers.shape[0]\n",
    "\n",
    "# Calcul de la proportion d'outliers\n",
    "outliers_proportion = outliers_count / total_items\n",
    "\n",
    "# Affichage des résultats\n",
    "print(f\"Nombre total d'articles dans le catalogue : {total_items}\")\n",
    "print(f\"Nombre d'outliers détectés : {outliers_count}\")\n",
    "print(f\"Proportion d'outliers dans le catalogue : {outliers_proportion:.4f} ({outliers_proportion*100:.2f}%)\")\n"
   ]
  },
  {
   "cell_type": "code",
   "execution_count": null,
   "id": "ce225343",
   "metadata": {},
   "outputs": [],
   "source": [
    "df_final_merge[\"product_id\"].duplicated().sum()"
   ]
  },
  {
   "cell_type": "code",
   "execution_count": null,
   "id": "06138432",
   "metadata": {},
   "outputs": [],
   "source": [
    "#Selon vous, ces outliers sont-ils justifiés ? Comment le démontrer si cela est possible ?\n"
   ]
  },
  {
   "cell_type": "markdown",
   "id": "640da2c8",
   "metadata": {},
   "source": [
    "<div style=\"background-color: RGB(51,165,182);\" >\n",
    "<h2 style=\"margin: auto; padding: 20px; color:#fff; \">Etape 5 - Analyse univarié du CA, des quantités vendues, des stocks et de la marge ainsi qu'une analyse multivarié  </h2>\n",
    "</div>"
   ]
  },
  {
   "cell_type": "markdown",
   "id": "5871c808",
   "metadata": {},
   "source": [
    "<div style=\"border: 1px solid RGB(51,165,182);\" >\n",
    "<h3 style=\"margin: auto; padding: 20px; color: RGB(51,165,182); \">Etape 5.1 - Analyse des ventes en CA</h3>\n",
    "</div>"
   ]
  },
  {
   "cell_type": "code",
   "execution_count": null,
   "id": "da0d5834",
   "metadata": {},
   "outputs": [],
   "source": [
    "##############################\n",
    "# Calculer le CA su site web #\n",
    "##############################\n",
    "\n",
    "# Créer la colonne \"ca_par_article\" en multipliant le prix par la quantité vendue\n",
    "df_final_merge['ca_par_article'] = df_final_merge['price'] * df_final_merge['total_sales']\n",
    "\n",
    "# Calculer la somme de la colonne \"ca_par_article\" pour obtenir le CA total\n",
    "ca_total = df_final_merge['ca_par_article'].sum()\n",
    "\n",
    "# Afficher le chiffre d'affaires total\n",
    "print(f\"Le chiffre d'affaires total du site web est : {ca_total:.2f}\")\n",
    "\n"
   ]
  },
  {
   "cell_type": "code",
   "execution_count": null,
   "id": "eb73db9b",
   "metadata": {},
   "outputs": [],
   "source": [
    "df_final_merge.head()"
   ]
  },
  {
   "cell_type": "code",
   "execution_count": null,
   "id": "536a197c",
   "metadata": {},
   "outputs": [],
   "source": [
    "df_final_merge[\"ca_par_article\"]"
   ]
  },
  {
   "cell_type": "code",
   "execution_count": null,
   "id": "215e4ef4",
   "metadata": {},
   "outputs": [],
   "source": [
    "###############################\n",
    "# Palmares des articles en CA #\n",
    "###############################\n",
    "\n",
    "#Effectuer le tri dans l'ordre décroissant du CA du dataset df_merge\n",
    "df_final_merge = df_final_merge.sort_values(by='ca_par_article', ascending=False)"
   ]
  },
  {
   "cell_type": "code",
   "execution_count": null,
   "id": "40dbad15",
   "metadata": {},
   "outputs": [],
   "source": [
    "#Réinitialiser l'index du dataset par un reset_index\n",
    "df_final_merge.reset_index(drop=True, inplace=True)\n",
    "#Afficher les 20 premier articles en CA\n",
    "df_final_merge.head(20)"
   ]
  },
  {
   "cell_type": "code",
   "execution_count": null,
   "id": "4040ced7",
   "metadata": {},
   "outputs": [],
   "source": [
    "top_20 = df_final_merge.head(20)\n",
    "#Graphique en barre des 20 premiers articles avec plotly express\n",
    "fig = px.bar(top_20, x= top_20.index, y='ca_par_article',\n",
    "             title='Top 20 Products by Sales Revenue (CA)',\n",
    "             labels={'index': 'Product Index', 'ca_par_article': 'Sales Revenue (CA)'})\n",
    "fig.show()"
   ]
  },
  {
   "cell_type": "code",
   "execution_count": null,
   "id": "d7e5e87b",
   "metadata": {},
   "outputs": [],
   "source": [
    "#############################\n",
    "# Calculer le 20 / 80 en CA #\n",
    "#############################\n",
    "\n",
    "#Créer une colonne calculant la part du CA de la ligne dans le dataset\n",
    "df_final_merge['ca_share'] = df_final_merge['ca_par_article'] / df_final_merge['ca_par_article'].sum()\n",
    "\n",
    "#Créer une colonne réalisant la somme cumulative de la colonne précedemment créée\n",
    "df_final_merge['cumulative_ca_share'] = df_final_merge['ca_share'].cumsum()\n",
    "\n",
    "#Grâce au deux colonnes créées précedemment, calculer le nombre d'articles représentant 80% du CA\n",
    "articles_80 = df_final_merge[df_final_merge['cumulative_ca_share'] <= 0.80]\n",
    "\n",
    "#Afficher la proportion que représentent ce groupe d'articles dans le catalogue entier du site web\n",
    "proportion = len(articles_80) / len(df_sorted) * 100\n",
    "\n",
    "print(f\"Number of articles representing 80% of the total CA: {len(articles_80)}\")\n",
    "print(f\"Proportion of these articles in the entire catalog: {proportion:.2f}%\")"
   ]
  },
  {
   "cell_type": "markdown",
   "id": "8de7af87",
   "metadata": {},
   "source": [
    "<div style=\"border: 1px solid RGB(51,165,182);\" >\n",
    "<h3 style=\"margin: auto; padding: 20px; color: RGB(51,165,182); \">Etape 5.2 - Analyse des ventes en Quantités</h3>\n",
    "</div>"
   ]
  },
  {
   "cell_type": "code",
   "execution_count": null,
   "id": "7b7e1c65",
   "metadata": {},
   "outputs": [],
   "source": [
    "df_final_merge.columns"
   ]
  },
  {
   "cell_type": "code",
   "execution_count": null,
   "id": "ab222e08",
   "metadata": {},
   "outputs": [],
   "source": [
    "#####################################\n",
    "# Palmares des articles en quantité #\n",
    "#####################################\n",
    "\n",
    "#Effectuer le tri dans l'ordre décroissant de quantités vendues du dataset df_merge\n",
    "df_final_merge = df_final_merge.sort_values(by='total_sales', ascending=False)\n",
    "\n",
    "#Réinitialiser l'index du dataset par un reset_index\n",
    "df_final_merge.reset_index(drop=True, inplace=True)\n",
    "\n",
    "#Afficher les 20 premier articles en quantité\n",
    "top_20_sales = df_final_merge.head(20)\n",
    "\n",
    "#Graphique en barre des 20 premiers articles avec plotly express\n",
    "fig = px.bar(top_20_sales, x=top_20_sales.index, y='total_sales',\n",
    "             title='Top 20 Products by Quantity Sold',\n",
    "             labels={'x': 'Index', 'total_sales': 'Quantity Sold'})\n",
    "fig.show()"
   ]
  },
  {
   "cell_type": "code",
   "execution_count": null,
   "id": "2aad021e",
   "metadata": {},
   "outputs": [],
   "source": [
    "#############################\n",
    "# Calculer le 20 / 80 en CA #\n",
    "#############################\n",
    "\n",
    "total_quantity_sold = df_final_merge['total_sales'].sum()\n",
    "\n",
    "#Créer une colonne calculant la part en quantité de la ligne dans le dataset\n",
    "\n",
    "df_final_merge['percentage_of_total_sales'] = (df_final_merge['total_sales'] / total_quantity_sold) * 100\n",
    "\n",
    "\n",
    "#Créer une colonne réalisant la somme cumulative de la colonne précedemment créée\n",
    "\n",
    "df_final_merge['cumulative_percentage'] = df_final_merge['percentage_of_total_sales'].cumsum()\n",
    "\n",
    "#Grâce au deux colonnes créées précedemment, calculer le nombre d'articles représentant 80% des ventes en quantité\n",
    "\n",
    "products_80_percent = df_final_merge[df_final_merge['cumulative_percentage'] <= 80]\n",
    "\n",
    "proportion_80_percent = len(products_80_percent) / len(df_sorted_by_sales) * 100\n",
    "\n",
    "\n",
    "#Afficher la proportion que représentent ce groupe d'articles dans le catalogue entier du site web\n",
    "print(\"Products representing 80% of total sales:\")\n",
    "print(products_80_percent[['product_id', 'total_sales', 'percentage_of_total_sales', 'cumulative_percentage']])\n",
    "\n",
    "print(\"\\nProportion of products that make up 80% of sales:\", proportion_80_percent, \"%\")"
   ]
  },
  {
   "cell_type": "markdown",
   "id": "077789b1",
   "metadata": {},
   "source": [
    "<div style=\"border: 1px solid RGB(51,165,182);\" >\n",
    "<h3 style=\"margin: auto; padding: 20px; color: RGB(51,165,182); \">Etape 5.3 - Analyse des stocks</h3>\n",
    "</div>"
   ]
  },
  {
   "cell_type": "code",
   "execution_count": null,
   "id": "14e45472",
   "metadata": {},
   "outputs": [],
   "source": [
    "######################################\n",
    "# Calcule le nombre de mois de stock #\n",
    "######################################\n",
    "\n",
    "#Import de numpy \n",
    "import numpy as np \n",
    "\n",
    "#Création de la colonne Rotation de stock\n",
    "df_final_merge['stock_rotation'] = df_final_merge['stock_quantity'] / df_final_merge['total_sales'] * 12  # 12 months in a year\n",
    "\n",
    "\n",
    "#Remplacement des \"inf\" par 0\n",
    "df_final_merge['stock_rotation'].replace(np.inf, 0, inplace=True)\n",
    "\n",
    "#Effectuer le tri dans l'ordre décroissant du nombre de mois de stock dans le dataset df_merge\n",
    "df_sorted_by_stock = df_final_merge.sort_values(by='stock_rotation', ascending=False)\n",
    "\n",
    "#Graphique en barre du flop 20 des produits qui ont le plus de mois de stock\n",
    "\n",
    "top_20_stock = df_sorted_by_stock.head(20)\n",
    "\n",
    "# Display the products and stock rotation\n",
    "print(top_20_stock[['product_id', 'stock_quantity', 'total_sales', 'stock_rotation']])\n",
    "\n",
    "# Step 5: Plotting a bar chart using Plotly Express\n",
    "fig = px.bar(top_20_stock, x= top_20_stock.index, y='stock_rotation',\n",
    "             title='Top 20 Products with Most Months of Stock',\n",
    "             labels={'x': 'Index', 'stock_rotation': 'Months of Stock'})\n",
    "fig.show()"
   ]
  },
  {
   "cell_type": "code",
   "execution_count": null,
   "id": "0cd6696c",
   "metadata": {},
   "outputs": [],
   "source": [
    "####################################\n",
    "# Valorisation des stocks en euros #\n",
    "####################################\n",
    "\n",
    "#Création de la colonne Valorisation des stocks en euros\n",
    "df_final_merge['Valorisation_stock_euros'] = df_final_merge['stock_quantity'] * df_final_merge['purchase_price']\n",
    "\n",
    "#Calculer la somme de la colonne \"Valorisation_stock_euros\"\n",
    "total_stock_value = df_final_merge['Valorisation_stock_euros'].sum()\n",
    "\n",
    "print(df_final_merge[['product_id', 'stock_quantity', 'purchase_price', 'Valorisation_stock_euros']])\n",
    "print(f\"Total Valorisation des Stocks en Euros: {total_stock_value:.2f} €\")"
   ]
  },
  {
   "cell_type": "code",
   "execution_count": null,
   "id": "4a3dd99d",
   "metadata": {},
   "outputs": [],
   "source": [
    "##############################################\n",
    "# Valorisation du nombre de produit en stock #\n",
    "##############################################\n",
    "\n",
    "#Calculer la somme de la colonne stock quantity\n",
    "\n",
    "total_stock_quantity = df_final_merge['stock_quantity'].sum()\n",
    "\n",
    "print(f\"Total Number of Products in Stock: {total_stock_quantity}\")\n"
   ]
  },
  {
   "cell_type": "markdown",
   "id": "9e48f6dc",
   "metadata": {},
   "source": [
    "<div style=\"border: 1px solid RGB(51,165,182);\" >\n",
    "<h3 style=\"margin: auto; padding: 20px; color: RGB(51,165,182); \">Etape 5.4 - Analyse du taux de marge</h3>\n",
    "</div>"
   ]
  },
  {
   "cell_type": "code",
   "execution_count": null,
   "id": "7de5ca46",
   "metadata": {},
   "outputs": [],
   "source": [
    "############################\n",
    "# Analyse du taux de marge #\n",
    "############################\n",
    "\n",
    "#Création de la colonne prix HT\n",
    "df_final_merge['prix_HT'] = df_final_merge['price']\n",
    "\n",
    "#Création de la colonne Taux de marge\n",
    "df_final_merge['Taux_de_marge'] = ((df_final_merge['price'] - df_final_merge['purchase_price']) / df_final_merge['price']) * 100\n",
    "\n",
    "#Afficher le prix minimum de la colonne \"taux_marge\"\n",
    "min_margin_rate = df_final_merge['Taux_de_marge'].min()\n",
    "\n",
    "#Afficher le prix maximum de la colonne \"taux_marge\"\n",
    "max_margin_rate = df_final_merge['Taux_de_marge'].max()\n",
    "\n",
    "print(f\"Minimum Margin Rate: {min_margin_rate:.2f}%\")\n",
    "print(f\"Maximum Margin Rate: {max_margin_rate:.2f}%\")"
   ]
  },
  {
   "cell_type": "code",
   "execution_count": null,
   "id": "6082d42b",
   "metadata": {},
   "outputs": [],
   "source": [
    "#affichage de la ligne avec un taux de marge inférieur à 0\n",
    "products_with_negative_margin = df_final_merge[df_final_merge['Taux_de_marge'] < 0]\n",
    "print(products_with_negative_margin[['product_id', 'price', 'purchase_price', 'Taux_de_marge']])\n"
   ]
  },
  {
   "cell_type": "code",
   "execution_count": null,
   "id": "d756037c",
   "metadata": {},
   "outputs": [],
   "source": [
    "#création d'un dataframe avec les taux positifs\n",
    "df_positive_margin = df_final_merge[df_final_merge['Taux_de_marge'] > 0]\n",
    "\n",
    "#Afficher le prix minimum de la colonne \"taux_marge\"\n",
    "min_positive_margin = df_positive_margin['Taux_de_marge'].min()\n",
    "\n",
    "#Afficher le prix maximum de la colonne \"taux_marge\"\n",
    "max_positive_margin = df_positive_margin['Taux_de_marge'].max()\n",
    "\n",
    "\n",
    "print(f\"Minimum Positive Margin Rate: {min_positive_margin:.2f}%\")\n",
    "print(f\"Maximum Positive Margin Rate: {max_positive_margin:.2f}%\")"
   ]
  },
  {
   "cell_type": "code",
   "execution_count": null,
   "id": "b24042f8",
   "metadata": {},
   "outputs": [],
   "source": [
    "#création d'un dataframe avec le taux de marge moyen par type de produit\n",
    "df_avg_margin_by_type = df_final_merge.groupby('product_type')['Taux_de_marge'].mean().reset_index()\n",
    "\n",
    "#Affichage dans un graphique du taux de marge par type de produit\n",
    "\n",
    "fig = px.bar(df_avg_margin_by_type, x='product_type', y='Taux_de_marge',\n",
    "             title='Average Margin Rate by Product Type',\n",
    "             labels={'product_type': 'Product Type', 'Taux_de_marge': 'Average Margin Rate (%)'},\n",
    "             color='Taux_de_marge', color_continuous_scale='Viridis')\n",
    "\n",
    "fig.show()"
   ]
  },
  {
   "cell_type": "markdown",
   "id": "ce216060",
   "metadata": {},
   "source": [
    "<div style=\"border: 1px solid RGB(51,165,182);\" >\n",
    "<h3 style=\"margin: auto; padding: 20px; color: RGB(51,165,182); \">Etape 5.5 - Analyse des correlations entre les variables stock, sales et price</h3>\n",
    "</div>"
   ]
  },
  {
   "cell_type": "code",
   "execution_count": null,
   "id": "12e4a540",
   "metadata": {},
   "outputs": [],
   "source": [
    "############################\n",
    "# Analyse des correlations #\n",
    "############################\n",
    "\n",
    "#Importation de Seaborn\n",
    "import seaborn as sns\n",
    "\n",
    "#Création d'un heatmap de correlation avec les variables stock, sales et price\n",
    "df_corr = df_final_merge[['stock_quantity', 'total_sales', 'price']]\n",
    "\n",
    "correlation_matrix = df_corr.corr()\n",
    "\n",
    "mask = np.triu(np.ones_like(correlation_matrix, dtype=bool))\n",
    "\n",
    "#on peut également créer un mask pour n'afficher qu'une demi heatmap\n",
    "plt.figure(figsize=(8, 6))\n",
    "sns.heatmap(correlation_matrix, annot=True, cmap='coolwarm', mask=mask, fmt='.2f', linewidths=0.5, vmin=-1, vmax=1)\n",
    "\n",
    "plt.title('Correlation Heatmap of Stock, Sales, and Price')\n",
    "plt.show()"
   ]
  },
  {
   "cell_type": "code",
   "execution_count": null,
   "id": "c49d1459",
   "metadata": {},
   "outputs": [],
   "source": [
    "#Que peut-on conclure des correlations ?"
   ]
  },
  {
   "cell_type": "markdown",
   "id": "f1d22f1d",
   "metadata": {},
   "source": [
    "<div style=\"border: 1px solid RGB(51,165,182);\" >\n",
    "<h3 style=\"margin: auto; padding: 20px; color: RGB(51,165,182); \">Etape 5.6 - Mettre à disposition la nouvelle table sur un fichier Excel</h3>\n",
    "</div>"
   ]
  },
  {
   "cell_type": "code",
   "execution_count": null,
   "id": "a20c2eb5",
   "metadata": {},
   "outputs": [],
   "source": [
    "!pip install openpyxl"
   ]
  },
  {
   "cell_type": "code",
   "execution_count": null,
   "id": "09bfe632",
   "metadata": {},
   "outputs": [],
   "source": [
    "#Mettre le dataset df_merge sur un fichier Excel\n",
    "#Cette étape peut-être utile pour partager le résultat du dataset obtenu pour le partager avec les équipes.  \n",
    "#df_final_merge.to_excel('df_merge_output.xlsx', index=False, engine='openpyxl')\n"
   ]
  },
  {
   "cell_type": "code",
   "execution_count": null,
   "id": "6a48abcb",
   "metadata": {},
   "outputs": [],
   "source": []
  }
 ],
 "metadata": {
  "kernelspec": {
   "display_name": "Python 3 (ipykernel)",
   "language": "python",
   "name": "python3"
  },
  "language_info": {
   "codemirror_mode": {
    "name": "ipython",
    "version": 3
   },
   "file_extension": ".py",
   "mimetype": "text/x-python",
   "name": "python",
   "nbconvert_exporter": "python",
   "pygments_lexer": "ipython3",
   "version": "3.11.5"
  }
 },
 "nbformat": 4,
 "nbformat_minor": 5
}
