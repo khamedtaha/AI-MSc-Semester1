{
 "cells": [
  {
   "cell_type": "markdown",
   "id": "97dccc01",
   "metadata": {},
   "source": [
    "<div style=\"display: flex; background-color: RGB(255,114,0);\" >\n",
    "<h1 style=\"margin: auto; padding: 30px; \">ANALYSE DU STOCK ET DES VENTES</h1>\n",
    "</div>"
   ]
  },
  {
   "cell_type": "markdown",
   "id": "4d0d1bb8",
   "metadata": {},
   "source": [
    "# OBJECTIF DE CE NOTEBOOK\n",
    "\n",
    "Il s'agit d'un outil permettant de mixer et d'alterner codes, textes et graphique.\n",
    "\n",
    "\n",
    "Pour vous aider dans vos premiers pas à l'usage de Jupyter et de Python, nous avons rédigé ce notebook en vous indiquant les instructions à suivre."
   ]
  },
  {
   "cell_type": "markdown",
   "id": "b85efb87",
   "metadata": {},
   "source": [
    "<div style=\"background-color: RGB(51,165,182);\" >\n",
    "<h2 style=\"margin: auto; padding: 20px; color:#fff; \">Etape 1 - Importation des librairies et chargement des fichiers</h2>\n",
    "</div>"
   ]
  },
  {
   "cell_type": "markdown",
   "id": "b5449401",
   "metadata": {},
   "source": [
    "<div style=\"border: 1px solid RGB(51,165,182);\" >\n",
    "<h3 style=\"margin: auto; padding: 20px; color: RGB(51,165,182); \">1.1 - Importation des librairies</h3>\n",
    "</div>"
   ]
  },
  {
   "cell_type": "code",
   "execution_count": 60,
   "id": "e6ef06ec",
   "metadata": {},
   "outputs": [],
   "source": [
    "#Importation de la librairie Pandas\n",
    "import pandas as pd"
   ]
  },
  {
   "cell_type": "code",
   "execution_count": 61,
   "id": "a38ce0fc",
   "metadata": {},
   "outputs": [],
   "source": [
    "#Importation de la librairie plotly express\n",
    "import numpy as np\n",
    "import matplotlib.pyplot as plt\n"
   ]
  },
  {
   "cell_type": "code",
   "execution_count": 62,
   "id": "0a718067",
   "metadata": {},
   "outputs": [],
   "source": [
    "#privilégiez les solutions provenants de Stack Overflow ou Medium"
   ]
  },
  {
   "cell_type": "code",
   "execution_count": 63,
   "id": "223932fa",
   "metadata": {},
   "outputs": [],
   "source": [
    "import warnings\n",
    "warnings.simplefilter(\"ignore\")"
   ]
  },
  {
   "cell_type": "markdown",
   "id": "f4918299",
   "metadata": {},
   "source": [
    "<div style=\"border: 1px solid RGB(51,165,182);\" >\n",
    "<h3 style=\"margin: auto; padding: 20px; color: RGB(51,165,182); \">1.2 - Chargements des fichiers</h3>\n",
    "</div>"
   ]
  },
  {
   "cell_type": "code",
   "execution_count": 64,
   "id": "9642cf03",
   "metadata": {},
   "outputs": [],
   "source": [
    "#Importation du fichier web.xlsx\n",
    "df_web = pd.read_excel(\"dataset/Datagestion-stock/web.xlsx\")\n",
    "#Importation du fichier erp.xlsx\n",
    "df_erp = pd.read_excel('dataset/Datagestion-stock/erp.xlsx')\n",
    "#importation du fichier liaison.xlsx\n",
    "df_liaison = pd.read_excel('dataset/Datagestion-stock/liaison.xlsx')\n"
   ]
  },
  {
   "cell_type": "markdown",
   "id": "605f7056",
   "metadata": {},
   "source": [
    "<div style=\"background-color: RGB(51,165,182);\" >\n",
    "<h2 style=\"margin: auto; padding: 20px; color:#fff; \">Etape 2 - Analyse exploratoire des fichiers</h2>\n",
    "</div>"
   ]
  },
  {
   "cell_type": "markdown",
   "id": "47d3a649",
   "metadata": {},
   "source": [
    "<div style=\"border: 1px solid RGB(51,165,182);\" >\n",
    "<h3 style=\"margin: auto; padding: 20px; color: RGB(51,165,182); \">2.1 - Analyse exploratoire du fichier erp.xlsx</h3>\n",
    "</div>\n"
   ]
  },
  {
   "cell_type": "code",
   "execution_count": 65,
   "id": "094ef206",
   "metadata": {},
   "outputs": [
    {
     "name": "stdout",
     "output_type": "stream",
     "text": [
      "Le tableau comporte 825 observation(s) ou article(s)\n",
      "Le tableau comporte 6 colonne(s)\n"
     ]
    }
   ],
   "source": [
    "#Afficher les dimensions du dataset\n",
    "print(\"Le tableau comporte {} observation(s) ou article(s)\".format(df_erp.shape[0]))\n",
    "print(\"Le tableau comporte {} colonne(s)\".format(df_erp.shape[1]))"
   ]
  },
  {
   "cell_type": "code",
   "execution_count": 66,
   "id": "182441f0",
   "metadata": {},
   "outputs": [
    {
     "name": "stdout",
     "output_type": "stream",
     "text": [
      "Le tableau comporte 6 colonne(s)\n",
      "La nature des données :\n",
      "<class 'pandas.core.frame.DataFrame'>\n",
      "RangeIndex: 825 entries, 0 to 824\n",
      "Data columns (total 6 columns):\n",
      " #   Column          Non-Null Count  Dtype  \n",
      "---  ------          --------------  -----  \n",
      " 0   product_id      825 non-null    int64  \n",
      " 1   onsale_web      825 non-null    int64  \n",
      " 2   price           825 non-null    float64\n",
      " 3   stock_quantity  825 non-null    int64  \n",
      " 4   stock_status    825 non-null    object \n",
      " 5   purchase_price  825 non-null    float64\n",
      "dtypes: float64(2), int64(3), object(1)\n",
      "memory usage: 38.8+ KB\n",
      "Le nombre de valeurs présentes dans chacune des colonnes :\n"
     ]
    },
    {
     "data": {
      "text/plain": [
       "product_id        825\n",
       "onsale_web        825\n",
       "price             825\n",
       "stock_quantity    825\n",
       "stock_status      825\n",
       "purchase_price    825\n",
       "dtype: int64"
      ]
     },
     "execution_count": 66,
     "metadata": {},
     "output_type": "execute_result"
    }
   ],
   "source": [
    "#Consulter le nombre de colonnes\n",
    "print(\"Le tableau comporte {} colonne(s)\".format(df_erp.shape[1]))\n",
    "\n",
    "#La nature des données dans chacune des colonnes\n",
    "print(\"La nature des données :\")\n",
    "df_erp.info()\n",
    "#Le nombre de valeurs présentes dans chacune des colonnes\n",
    "valeurs = df_erp.count()\n",
    "print(\"Le nombre de valeurs présentes dans chacune des colonnes :\")\n",
    "valeurs"
   ]
  },
  {
   "cell_type": "code",
   "execution_count": 67,
   "id": "d3977646",
   "metadata": {},
   "outputs": [
    {
     "data": {
      "text/html": [
       "<div>\n",
       "<style scoped>\n",
       "    .dataframe tbody tr th:only-of-type {\n",
       "        vertical-align: middle;\n",
       "    }\n",
       "\n",
       "    .dataframe tbody tr th {\n",
       "        vertical-align: top;\n",
       "    }\n",
       "\n",
       "    .dataframe thead th {\n",
       "        text-align: right;\n",
       "    }\n",
       "</style>\n",
       "<table border=\"1\" class=\"dataframe\">\n",
       "  <thead>\n",
       "    <tr style=\"text-align: right;\">\n",
       "      <th></th>\n",
       "      <th>product_id</th>\n",
       "      <th>onsale_web</th>\n",
       "      <th>price</th>\n",
       "      <th>stock_quantity</th>\n",
       "      <th>stock_status</th>\n",
       "      <th>purchase_price</th>\n",
       "    </tr>\n",
       "  </thead>\n",
       "  <tbody>\n",
       "    <tr>\n",
       "      <th>0</th>\n",
       "      <td>3847</td>\n",
       "      <td>1</td>\n",
       "      <td>24.2</td>\n",
       "      <td>16</td>\n",
       "      <td>instock</td>\n",
       "      <td>12.88</td>\n",
       "    </tr>\n",
       "    <tr>\n",
       "      <th>1</th>\n",
       "      <td>3849</td>\n",
       "      <td>1</td>\n",
       "      <td>34.3</td>\n",
       "      <td>10</td>\n",
       "      <td>instock</td>\n",
       "      <td>17.54</td>\n",
       "    </tr>\n",
       "    <tr>\n",
       "      <th>2</th>\n",
       "      <td>3850</td>\n",
       "      <td>1</td>\n",
       "      <td>20.8</td>\n",
       "      <td>0</td>\n",
       "      <td>outofstock</td>\n",
       "      <td>10.64</td>\n",
       "    </tr>\n",
       "    <tr>\n",
       "      <th>3</th>\n",
       "      <td>4032</td>\n",
       "      <td>1</td>\n",
       "      <td>14.1</td>\n",
       "      <td>26</td>\n",
       "      <td>instock</td>\n",
       "      <td>6.92</td>\n",
       "    </tr>\n",
       "    <tr>\n",
       "      <th>4</th>\n",
       "      <td>4039</td>\n",
       "      <td>1</td>\n",
       "      <td>46.0</td>\n",
       "      <td>3</td>\n",
       "      <td>outofstock</td>\n",
       "      <td>23.77</td>\n",
       "    </tr>\n",
       "  </tbody>\n",
       "</table>\n",
       "</div>"
      ],
      "text/plain": [
       "   product_id  onsale_web  price  stock_quantity stock_status  purchase_price\n",
       "0        3847           1   24.2              16      instock           12.88\n",
       "1        3849           1   34.3              10      instock           17.54\n",
       "2        3850           1   20.8               0   outofstock           10.64\n",
       "3        4032           1   14.1              26      instock            6.92\n",
       "4        4039           1   46.0               3   outofstock           23.77"
      ]
     },
     "execution_count": 67,
     "metadata": {},
     "output_type": "execute_result"
    }
   ],
   "source": [
    "#Afficher les 5 premières lignes de la table\n",
    "df_erp.head(5)"
   ]
  },
  {
   "cell_type": "code",
   "execution_count": 68,
   "id": "db102a4a",
   "metadata": {},
   "outputs": [
    {
     "name": "stdout",
     "output_type": "stream",
     "text": [
      "Il n'y a pas de doublons.\n"
     ]
    }
   ],
   "source": [
    "#Vérifier si il y a les lignes en doublons dans la colonne product_id\n",
    "doublons = df_erp[df_erp.duplicated('product_id', keep=False)]\n",
    "if not doublons.empty:\n",
    "    print(\"Il y a des doublons.\")\n",
    "else:\n",
    "    print(\"Il n'y a pas de doublons.\")"
   ]
  },
  {
   "cell_type": "code",
   "execution_count": 69,
   "id": "d443d4ff",
   "metadata": {},
   "outputs": [
    {
     "name": "stdout",
     "output_type": "stream",
     "text": [
      "Les valeurs distinctes de la colonne 'stock_status' :\n",
      "['instock' 'outofstock']\n"
     ]
    }
   ],
   "source": [
    "#Afficher les valeurs distinctes de la colonne stock_status\n",
    "valeurs_distinctes = df_erp['stock_status'].unique()\n",
    "print(\"Les valeurs distinctes de la colonne 'stock_status' :\")\n",
    "print(valeurs_distinctes)\n",
    "#À quelle(s) autre(s) colonne(s) sont-elles liées ?\n"
   ]
  },
  {
   "cell_type": "code",
   "execution_count": 70,
   "id": "68088943",
   "metadata": {},
   "outputs": [
    {
     "data": {
      "text/html": [
       "<div>\n",
       "<style scoped>\n",
       "    .dataframe tbody tr th:only-of-type {\n",
       "        vertical-align: middle;\n",
       "    }\n",
       "\n",
       "    .dataframe tbody tr th {\n",
       "        vertical-align: top;\n",
       "    }\n",
       "\n",
       "    .dataframe thead th {\n",
       "        text-align: right;\n",
       "    }\n",
       "</style>\n",
       "<table border=\"1\" class=\"dataframe\">\n",
       "  <thead>\n",
       "    <tr style=\"text-align: right;\">\n",
       "      <th></th>\n",
       "      <th>product_id</th>\n",
       "      <th>onsale_web</th>\n",
       "      <th>price</th>\n",
       "      <th>stock_quantity</th>\n",
       "      <th>stock_status</th>\n",
       "      <th>purchase_price</th>\n",
       "      <th>stock_status_2</th>\n",
       "      <th>stock_status_validation</th>\n",
       "    </tr>\n",
       "  </thead>\n",
       "  <tbody>\n",
       "    <tr>\n",
       "      <th>0</th>\n",
       "      <td>3847</td>\n",
       "      <td>1</td>\n",
       "      <td>24.2</td>\n",
       "      <td>16</td>\n",
       "      <td>instock</td>\n",
       "      <td>12.88</td>\n",
       "      <td>instock</td>\n",
       "      <td>True</td>\n",
       "    </tr>\n",
       "    <tr>\n",
       "      <th>1</th>\n",
       "      <td>3849</td>\n",
       "      <td>1</td>\n",
       "      <td>34.3</td>\n",
       "      <td>10</td>\n",
       "      <td>instock</td>\n",
       "      <td>17.54</td>\n",
       "      <td>instock</td>\n",
       "      <td>True</td>\n",
       "    </tr>\n",
       "    <tr>\n",
       "      <th>2</th>\n",
       "      <td>3850</td>\n",
       "      <td>1</td>\n",
       "      <td>20.8</td>\n",
       "      <td>0</td>\n",
       "      <td>outofstock</td>\n",
       "      <td>10.64</td>\n",
       "      <td>outofstock</td>\n",
       "      <td>True</td>\n",
       "    </tr>\n",
       "    <tr>\n",
       "      <th>3</th>\n",
       "      <td>4032</td>\n",
       "      <td>1</td>\n",
       "      <td>14.1</td>\n",
       "      <td>26</td>\n",
       "      <td>instock</td>\n",
       "      <td>6.92</td>\n",
       "      <td>instock</td>\n",
       "      <td>True</td>\n",
       "    </tr>\n",
       "    <tr>\n",
       "      <th>4</th>\n",
       "      <td>4039</td>\n",
       "      <td>1</td>\n",
       "      <td>46.0</td>\n",
       "      <td>3</td>\n",
       "      <td>outofstock</td>\n",
       "      <td>23.77</td>\n",
       "      <td>instock</td>\n",
       "      <td>False</td>\n",
       "    </tr>\n",
       "    <tr>\n",
       "      <th>...</th>\n",
       "      <td>...</td>\n",
       "      <td>...</td>\n",
       "      <td>...</td>\n",
       "      <td>...</td>\n",
       "      <td>...</td>\n",
       "      <td>...</td>\n",
       "      <td>...</td>\n",
       "      <td>...</td>\n",
       "    </tr>\n",
       "    <tr>\n",
       "      <th>820</th>\n",
       "      <td>7203</td>\n",
       "      <td>0</td>\n",
       "      <td>45.0</td>\n",
       "      <td>30</td>\n",
       "      <td>instock</td>\n",
       "      <td>23.48</td>\n",
       "      <td>instock</td>\n",
       "      <td>True</td>\n",
       "    </tr>\n",
       "    <tr>\n",
       "      <th>821</th>\n",
       "      <td>7204</td>\n",
       "      <td>0</td>\n",
       "      <td>45.0</td>\n",
       "      <td>9</td>\n",
       "      <td>instock</td>\n",
       "      <td>24.18</td>\n",
       "      <td>instock</td>\n",
       "      <td>True</td>\n",
       "    </tr>\n",
       "    <tr>\n",
       "      <th>822</th>\n",
       "      <td>7247</td>\n",
       "      <td>1</td>\n",
       "      <td>54.8</td>\n",
       "      <td>6</td>\n",
       "      <td>instock</td>\n",
       "      <td>27.18</td>\n",
       "      <td>instock</td>\n",
       "      <td>True</td>\n",
       "    </tr>\n",
       "    <tr>\n",
       "      <th>823</th>\n",
       "      <td>7329</td>\n",
       "      <td>0</td>\n",
       "      <td>26.5</td>\n",
       "      <td>14</td>\n",
       "      <td>instock</td>\n",
       "      <td>13.42</td>\n",
       "      <td>instock</td>\n",
       "      <td>True</td>\n",
       "    </tr>\n",
       "    <tr>\n",
       "      <th>824</th>\n",
       "      <td>7338</td>\n",
       "      <td>1</td>\n",
       "      <td>16.3</td>\n",
       "      <td>40</td>\n",
       "      <td>instock</td>\n",
       "      <td>8.00</td>\n",
       "      <td>instock</td>\n",
       "      <td>True</td>\n",
       "    </tr>\n",
       "  </tbody>\n",
       "</table>\n",
       "<p>825 rows × 8 columns</p>\n",
       "</div>"
      ],
      "text/plain": [
       "     product_id  onsale_web  price  stock_quantity stock_status  \\\n",
       "0          3847           1   24.2              16      instock   \n",
       "1          3849           1   34.3              10      instock   \n",
       "2          3850           1   20.8               0   outofstock   \n",
       "3          4032           1   14.1              26      instock   \n",
       "4          4039           1   46.0               3   outofstock   \n",
       "..          ...         ...    ...             ...          ...   \n",
       "820        7203           0   45.0              30      instock   \n",
       "821        7204           0   45.0               9      instock   \n",
       "822        7247           1   54.8               6      instock   \n",
       "823        7329           0   26.5              14      instock   \n",
       "824        7338           1   16.3              40      instock   \n",
       "\n",
       "     purchase_price stock_status_2  stock_status_validation  \n",
       "0             12.88        instock                     True  \n",
       "1             17.54        instock                     True  \n",
       "2             10.64     outofstock                     True  \n",
       "3              6.92        instock                     True  \n",
       "4             23.77        instock                    False  \n",
       "..              ...            ...                      ...  \n",
       "820           23.48        instock                     True  \n",
       "821           24.18        instock                     True  \n",
       "822           27.18        instock                     True  \n",
       "823           13.42        instock                     True  \n",
       "824            8.00        instock                     True  \n",
       "\n",
       "[825 rows x 8 columns]"
      ]
     },
     "execution_count": 70,
     "metadata": {},
     "output_type": "execute_result"
    }
   ],
   "source": [
    "#Création d'une colonne \"stock_status_2\n",
    "df_erp['stock_status_2'] = np.where(df_erp['stock_quantity'] > 0, 'instock', 'outofstock')\n",
    "\n",
    "\n",
    "\n",
    "#La valeur de cette deuxième colonne sera fonction de la valeur dans la colonne \"stock_quantity\"\n",
    "df_erp['stock_status_validation'] = np.where(df_erp['stock_status'] == df_erp['stock_status_2'], True, False)\n",
    "df_erp\n",
    "\n",
    "\n",
    "#si la valeur de la colonne \"stock_quantity\" est nulle renseigner \"outofstock\" sinon mettre \"instock\"\n",
    "\n"
   ]
  },
  {
   "cell_type": "code",
   "execution_count": 71,
   "id": "90a1c8ae",
   "metadata": {},
   "outputs": [
    {
     "data": {
      "text/html": [
       "<div>\n",
       "<style scoped>\n",
       "    .dataframe tbody tr th:only-of-type {\n",
       "        vertical-align: middle;\n",
       "    }\n",
       "\n",
       "    .dataframe tbody tr th {\n",
       "        vertical-align: top;\n",
       "    }\n",
       "\n",
       "    .dataframe thead th {\n",
       "        text-align: right;\n",
       "    }\n",
       "</style>\n",
       "<table border=\"1\" class=\"dataframe\">\n",
       "  <thead>\n",
       "    <tr style=\"text-align: right;\">\n",
       "      <th></th>\n",
       "      <th>product_id</th>\n",
       "      <th>onsale_web</th>\n",
       "      <th>price</th>\n",
       "      <th>stock_quantity</th>\n",
       "      <th>stock_status</th>\n",
       "      <th>purchase_price</th>\n",
       "      <th>stock_status_2</th>\n",
       "      <th>stock_status_validation</th>\n",
       "    </tr>\n",
       "  </thead>\n",
       "  <tbody>\n",
       "    <tr>\n",
       "      <th>4</th>\n",
       "      <td>4039</td>\n",
       "      <td>1</td>\n",
       "      <td>46.0</td>\n",
       "      <td>3</td>\n",
       "      <td>outofstock</td>\n",
       "      <td>23.77</td>\n",
       "      <td>instock</td>\n",
       "      <td>False</td>\n",
       "    </tr>\n",
       "    <tr>\n",
       "      <th>398</th>\n",
       "      <td>4885</td>\n",
       "      <td>1</td>\n",
       "      <td>18.7</td>\n",
       "      <td>0</td>\n",
       "      <td>instock</td>\n",
       "      <td>9.66</td>\n",
       "      <td>outofstock</td>\n",
       "      <td>False</td>\n",
       "    </tr>\n",
       "  </tbody>\n",
       "</table>\n",
       "</div>"
      ],
      "text/plain": [
       "     product_id  onsale_web  price  stock_quantity stock_status  \\\n",
       "4          4039           1   46.0               3   outofstock   \n",
       "398        4885           1   18.7               0      instock   \n",
       "\n",
       "     purchase_price stock_status_2  stock_status_validation  \n",
       "4             23.77        instock                    False  \n",
       "398            9.66     outofstock                    False  "
      ]
     },
     "execution_count": 71,
     "metadata": {},
     "output_type": "execute_result"
    }
   ],
   "source": [
    "#Vérifions que les 2 colonnes sont identiques:\n",
    "#Les 2 colonnes sont strictement identiques si les valeurs de chaque ligne sont strictement identiques 2 à 2\n",
    "#La comparaison de 2 colonnes peut se réaliser simplement avec l'instruction ci-dessous:\n",
    "df_erp[\"stock_status\"] == df_erp[\"stock_status_2\"]\n",
    "false_validations = df_erp[df_erp['stock_status_validation'] == False]\n",
    "\n",
    "false_validations\n",
    "#Le résultat est l'affichage de True ou False pour chacune des lignes du dataset\n",
    "#C'est un bon début, mais difficile à exploiter"
   ]
  },
  {
   "cell_type": "code",
   "execution_count": 72,
   "id": "ebe3650a",
   "metadata": {},
   "outputs": [
    {
     "name": "stdout",
     "output_type": "stream",
     "text": [
      "The total number of validated stock statuses is: 823\n"
     ]
    }
   ],
   "source": [
    "#Mais il est possible de synthétiser ce résultat en effectuant la somme de cette colonne:\n",
    "#True vaut 1 et False 0\n",
    "#Nous devrions obtenir la somme de 824 qui correspond au nombre de lignes dans ce dataset\n",
    "df_erp[\"stock_status_validation_numbers\"] = np.where(df_erp['stock_status_validation'], 1, 0)\n",
    "\n",
    "someOfStockValidation = df_erp[\"stock_status_validation_numbers\"].sum()\n",
    "print(\"The total number of validated stock statuses is:\", someOfStockValidation)\n"
   ]
  },
  {
   "cell_type": "code",
   "execution_count": 73,
   "id": "1ca6060a",
   "metadata": {},
   "outputs": [],
   "source": [
    "#Si les colonnes ne sont absolument pas identiques ligne à ligne alors identifier la ligne en écart\n",
    "##Dans ce cas je vous ce lien pour apprendre à réaliser des filtres dans Pandas:\n",
    "##https://bitbucket.org/hrojas/learn-pandas/src/master/\n",
    "##Lesson 3"
   ]
  },
  {
   "cell_type": "code",
   "execution_count": 74,
   "id": "ce1b9704",
   "metadata": {},
   "outputs": [
    {
     "data": {
      "text/plain": [
       "0      True\n",
       "1      True\n",
       "2      True\n",
       "3      True\n",
       "4      True\n",
       "       ... \n",
       "820    True\n",
       "821    True\n",
       "822    True\n",
       "823    True\n",
       "824    True\n",
       "Length: 825, dtype: bool"
      ]
     },
     "execution_count": 74,
     "metadata": {},
     "output_type": "execute_result"
    }
   ],
   "source": [
    "#Corriger la ou les données incohérentes\n",
    "df_erp[\"stock_status\"] =   df_erp[\"stock_status_2\"]\n",
    "\n",
    "#Verification en utilisant le même code que plus haut pour afficher les problemes\n",
    "df_erp[\"stock_status\"] == df_erp[\"stock_status_2\"]\n"
   ]
  },
  {
   "cell_type": "code",
   "execution_count": 75,
   "id": "df744e53-0ee1-4b8d-b751-5e71d0873989",
   "metadata": {
    "scrolled": true
   },
   "outputs": [
    {
     "data": {
      "text/html": [
       "<div>\n",
       "<style scoped>\n",
       "    .dataframe tbody tr th:only-of-type {\n",
       "        vertical-align: middle;\n",
       "    }\n",
       "\n",
       "    .dataframe tbody tr th {\n",
       "        vertical-align: top;\n",
       "    }\n",
       "\n",
       "    .dataframe thead th {\n",
       "        text-align: right;\n",
       "    }\n",
       "</style>\n",
       "<table border=\"1\" class=\"dataframe\">\n",
       "  <thead>\n",
       "    <tr style=\"text-align: right;\">\n",
       "      <th></th>\n",
       "      <th>product_id</th>\n",
       "      <th>onsale_web</th>\n",
       "      <th>price</th>\n",
       "      <th>stock_quantity</th>\n",
       "      <th>stock_status</th>\n",
       "      <th>purchase_price</th>\n",
       "    </tr>\n",
       "  </thead>\n",
       "  <tbody>\n",
       "    <tr>\n",
       "      <th>0</th>\n",
       "      <td>3847</td>\n",
       "      <td>1</td>\n",
       "      <td>24.2</td>\n",
       "      <td>16</td>\n",
       "      <td>instock</td>\n",
       "      <td>12.88</td>\n",
       "    </tr>\n",
       "    <tr>\n",
       "      <th>1</th>\n",
       "      <td>3849</td>\n",
       "      <td>1</td>\n",
       "      <td>34.3</td>\n",
       "      <td>10</td>\n",
       "      <td>instock</td>\n",
       "      <td>17.54</td>\n",
       "    </tr>\n",
       "    <tr>\n",
       "      <th>2</th>\n",
       "      <td>3850</td>\n",
       "      <td>1</td>\n",
       "      <td>20.8</td>\n",
       "      <td>0</td>\n",
       "      <td>outofstock</td>\n",
       "      <td>10.64</td>\n",
       "    </tr>\n",
       "    <tr>\n",
       "      <th>3</th>\n",
       "      <td>4032</td>\n",
       "      <td>1</td>\n",
       "      <td>14.1</td>\n",
       "      <td>26</td>\n",
       "      <td>instock</td>\n",
       "      <td>6.92</td>\n",
       "    </tr>\n",
       "    <tr>\n",
       "      <th>4</th>\n",
       "      <td>4039</td>\n",
       "      <td>1</td>\n",
       "      <td>46.0</td>\n",
       "      <td>3</td>\n",
       "      <td>instock</td>\n",
       "      <td>23.77</td>\n",
       "    </tr>\n",
       "    <tr>\n",
       "      <th>...</th>\n",
       "      <td>...</td>\n",
       "      <td>...</td>\n",
       "      <td>...</td>\n",
       "      <td>...</td>\n",
       "      <td>...</td>\n",
       "      <td>...</td>\n",
       "    </tr>\n",
       "    <tr>\n",
       "      <th>820</th>\n",
       "      <td>7203</td>\n",
       "      <td>0</td>\n",
       "      <td>45.0</td>\n",
       "      <td>30</td>\n",
       "      <td>instock</td>\n",
       "      <td>23.48</td>\n",
       "    </tr>\n",
       "    <tr>\n",
       "      <th>821</th>\n",
       "      <td>7204</td>\n",
       "      <td>0</td>\n",
       "      <td>45.0</td>\n",
       "      <td>9</td>\n",
       "      <td>instock</td>\n",
       "      <td>24.18</td>\n",
       "    </tr>\n",
       "    <tr>\n",
       "      <th>822</th>\n",
       "      <td>7247</td>\n",
       "      <td>1</td>\n",
       "      <td>54.8</td>\n",
       "      <td>6</td>\n",
       "      <td>instock</td>\n",
       "      <td>27.18</td>\n",
       "    </tr>\n",
       "    <tr>\n",
       "      <th>823</th>\n",
       "      <td>7329</td>\n",
       "      <td>0</td>\n",
       "      <td>26.5</td>\n",
       "      <td>14</td>\n",
       "      <td>instock</td>\n",
       "      <td>13.42</td>\n",
       "    </tr>\n",
       "    <tr>\n",
       "      <th>824</th>\n",
       "      <td>7338</td>\n",
       "      <td>1</td>\n",
       "      <td>16.3</td>\n",
       "      <td>40</td>\n",
       "      <td>instock</td>\n",
       "      <td>8.00</td>\n",
       "    </tr>\n",
       "  </tbody>\n",
       "</table>\n",
       "<p>825 rows × 6 columns</p>\n",
       "</div>"
      ],
      "text/plain": [
       "     product_id  onsale_web  price  stock_quantity stock_status  \\\n",
       "0          3847           1   24.2              16      instock   \n",
       "1          3849           1   34.3              10      instock   \n",
       "2          3850           1   20.8               0   outofstock   \n",
       "3          4032           1   14.1              26      instock   \n",
       "4          4039           1   46.0               3      instock   \n",
       "..          ...         ...    ...             ...          ...   \n",
       "820        7203           0   45.0              30      instock   \n",
       "821        7204           0   45.0               9      instock   \n",
       "822        7247           1   54.8               6      instock   \n",
       "823        7329           0   26.5              14      instock   \n",
       "824        7338           1   16.3              40      instock   \n",
       "\n",
       "     purchase_price  \n",
       "0             12.88  \n",
       "1             17.54  \n",
       "2             10.64  \n",
       "3              6.92  \n",
       "4             23.77  \n",
       "..              ...  \n",
       "820           23.48  \n",
       "821           24.18  \n",
       "822           27.18  \n",
       "823           13.42  \n",
       "824            8.00  \n",
       "\n",
       "[825 rows x 6 columns]"
      ]
     },
     "execution_count": 75,
     "metadata": {},
     "output_type": "execute_result"
    }
   ],
   "source": [
    "if 'stock_status_validation' in df_erp.columns:\n",
    "    df_erp.drop(columns=['stock_status_validation'], inplace=True)\n",
    "if 'stock_status_validation_numbers' in df_erp.columns:\n",
    "    df_erp.drop(columns=['stock_status_validation_numbers'], inplace=True)\n",
    "if 'stock_status_2' in df_erp.columns:\n",
    "    df_erp.drop(columns=['stock_status_2'], inplace=True)\n",
    "if 'new_stock_status' in df_erp.columns:\n",
    "    df_erp.drop(columns=['new_stock_status'], inplace=True)\n",
    "df_erp"
   ]
  },
  {
   "cell_type": "markdown",
   "id": "08bd4b08",
   "metadata": {},
   "source": [
    "<div style=\"border: 1px solid RGB(51,165,182);\" >\n",
    "<h3 style=\"margin: auto; padding: 20px; color: RGB(51,165,182); \">2.1.1 - Analyse exploratoire de chaque variable du fichier erp.xlsx</h3>\n",
    "</div>"
   ]
  },
  {
   "cell_type": "markdown",
   "id": "3476df40",
   "metadata": {},
   "source": [
    "<div style=\"border: 1px solid RGB(51,165,182);\" >\n",
    "<h3 style=\"margin: auto; padding: 20px; color: RGB(51,165,182); \">2.1.1.1 - Analyse de la variable PRIX</h3>\n",
    "</div>"
   ]
  },
  {
   "cell_type": "code",
   "execution_count": 76,
   "id": "a7fc3384",
   "metadata": {},
   "outputs": [
    {
     "name": "stdout",
     "output_type": "stream",
     "text": [
      "Nombre d'articles avec un prix non renseigné: 0, négatif: 3, nul: 0\n",
      "Nombres d'article avec un prix non renseignés: 26554.85\n",
      "Prix minimum (excluant les valeurs nulles): -20.0\n",
      "Prix minimum (excluant les valeurs nulles): 225.0\n",
      "Produits avec un prix négatif:\n",
      " 151   -20.0\n",
      "469    -8.0\n",
      "739    -9.1\n",
      "Name: price, dtype: float64\n",
      "\n",
      "DataFrame après correction des prix:\n",
      "      product_id  onsale_web  price  stock_quantity stock_status  \\\n",
      "0          3847           1   24.2              16      instock   \n",
      "1          3849           1   34.3              10      instock   \n",
      "2          3850           1   20.8               0   outofstock   \n",
      "3          4032           1   14.1              26      instock   \n",
      "4          4039           1   46.0               3      instock   \n",
      "..          ...         ...    ...             ...          ...   \n",
      "820        7203           0   45.0              30      instock   \n",
      "821        7204           0   45.0               9      instock   \n",
      "822        7247           1   54.8               6      instock   \n",
      "823        7329           0   26.5              14      instock   \n",
      "824        7338           1   16.3              40      instock   \n",
      "\n",
      "     purchase_price  \n",
      "0             12.88  \n",
      "1             17.54  \n",
      "2             10.64  \n",
      "3              6.92  \n",
      "4             23.77  \n",
      "..              ...  \n",
      "820           23.48  \n",
      "821           24.18  \n",
      "822           27.18  \n",
      "823           13.42  \n",
      "824            8.00  \n",
      "\n",
      "[825 rows x 6 columns]\n",
      "Nombre d'articles avec un prix non renseigné: 0, négatif: 0, nul: 0\n"
     ]
    }
   ],
   "source": [
    "###############\n",
    "## LES PRIX  ##\n",
    "###############\n",
    "\n",
    "#Vérification des prix: Y a t-il des prix non renseignés, négatif ou nul?\n",
    "\n",
    "print(\"Nombre d'articles avec un prix non renseigné: {}, négatif: {}, nul: {}\".format(\n",
    "    df_erp['price'].isnull().sum(),\n",
    "    (df_erp['price'] < 0).sum(),\n",
    "    (df_erp['price'] == 0).sum()\n",
    "))\n",
    "#Afficher le ou les prix non renseignés dans la colonne \"price\"\n",
    "print(\"Nombres d'article avec un prix non renseignés: {}\".format(df_erp['price'].sum())) #Saisir l'instruction manquante dans la fonction format\n",
    "#Afficher le prix minimum de la colonne \"price\"\n",
    "print(\"Prix minimum (excluant les valeurs nulles):\", df_erp['price'].min(skipna=True))\n",
    "\n",
    "#Afficher le prix maximum de la colonne \"price\"\n",
    "print(\"Prix minimum (excluant les valeurs nulles):\", df_erp['price'].max(skipna=True))\n",
    "#Affichier les prix inférieurs à 0 (qu'est ce qu'il faut en faire ?)\n",
    "negative_prices = df_erp[df_erp['price'] < 0]\n",
    "print(\"Produits avec un prix négatif:\\n\", negative_prices[\"price\"])\n",
    "\n",
    "# i  need to  correct  those foult  so  i  should to change  the price   as  we know there  is relation bettwen the  price and  the porchase_price\n",
    "# wich  is the porchase_price *  2 is the  allmost  the  some with price so  i will change it  to  the real  one  \n",
    "\n",
    "def adjust_price(row):\n",
    "    if row['price'] < 0:\n",
    "        return row['purchase_price'] * 2\n",
    "    return row['price']\n",
    "\n",
    "# Appliquer la fonction pour corriger les prix\n",
    "df_erp['price'] = df_erp.apply(adjust_price, axis=1)\n",
    "\n",
    "# Afficher le DataFrame après correction\n",
    "print(\"\\nDataFrame après correction des prix:\\n\", df_erp)\n",
    "print(\"Nombre d'articles avec un prix non renseigné: {}, négatif: {}, nul: {}\".format(\n",
    "    df_erp['price'].isnull().sum(),\n",
    "    (df_erp['price'] < 0).sum(),\n",
    "    (df_erp['price'] == 0).sum()\n",
    "))"
   ]
  },
  {
   "cell_type": "markdown",
   "id": "c5fce58c",
   "metadata": {},
   "source": [
    "<div style=\"border: 1px solid RGB(51,165,182);\" >\n",
    "<h3 style=\"margin: auto; padding: 20px; color: RGB(51,165,182); \">2.1.1.2 - Analyse de la variable STOCK</h3>\n",
    "</div>"
   ]
  },
  {
   "cell_type": "code",
   "execution_count": 77,
   "id": "3d14c4a0",
   "metadata": {},
   "outputs": [
    {
     "name": "stdout",
     "output_type": "stream",
     "text": [
      "Quantité minimum: -10\n",
      "Quantité maximum: 145\n",
      "Produits avec un stock négatif:\n",
      " 449   -10\n",
      "573    -1\n",
      "Name: stock_quantity, dtype: int64\n"
     ]
    }
   ],
   "source": [
    "#######################\n",
    "### stock_quantity  ###\n",
    "#######################\n",
    "\n",
    "#Vérification de la colonne stock quantity\n",
    "#Afficher la quantité minimum de la colonne \"stock_quantity\"\n",
    "print(\"Quantité minimum:\", df_erp['stock_quantity'].min())\n",
    "\n",
    "\n",
    "#Afficher la quantité maximum de la colonne \"stock_quantity\"\n",
    "print(\"Quantité maximum:\", df_erp['stock_quantity'].max())\n",
    "\n",
    "#Affichier les stocks inférieurs à 0 (qu'est ce qu'il faut en faire ?)\n",
    "negative_stock = df_erp[df_erp['stock_quantity'] < 0]\n",
    "print(\"Produits avec un stock négatif:\\n\", negative_stock['stock_quantity'])\n"
   ]
  },
  {
   "cell_type": "markdown",
   "id": "20e8c554",
   "metadata": {},
   "source": [
    "<div style=\"border: 1px solid RGB(51,165,182);\" >\n",
    "<h3 style=\"margin: auto; padding: 20px; color: RGB(51,165,182); \">2.1.1.3 - Analyse de la variable ONSALE_WEB</h3>\n",
    "</div>"
   ]
  },
  {
   "cell_type": "code",
   "execution_count": 78,
   "id": "99b936ca",
   "metadata": {},
   "outputs": [
    {
     "name": "stdout",
     "output_type": "stream",
     "text": [
      "Valeurs uniques dans la colonne onsale_web: [1 0]\n"
     ]
    }
   ],
   "source": [
    "#Vérification de la colonne onsale_web et des valeurs qu'elle contient? Que signifient-elles?\n",
    "print(\"Valeurs uniques dans la colonne onsale_web:\", df_erp['onsale_web'].unique())\n"
   ]
  },
  {
   "cell_type": "code",
   "execution_count": 79,
   "id": "5a79444d",
   "metadata": {},
   "outputs": [],
   "source": [
    "#Quelles sont les colonnes à conserver selon vous?\n",
    "###### i think  we  should to  keep the column  that  have  1 "
   ]
  },
  {
   "cell_type": "code",
   "execution_count": 80,
   "id": "8053aeda",
   "metadata": {},
   "outputs": [],
   "source": [
    "#Supprimer la colonnecomportant le libellé \"stock_status_2\" car elle est redondante \n",
    "#avec la colonne \"stock_status\".\n"
   ]
  },
  {
   "cell_type": "markdown",
   "id": "eca4fce9",
   "metadata": {},
   "source": [
    "<div style=\"border: 1px solid RGB(51,165,182);\" >\n",
    "<h3 style=\"margin: auto; padding: 20px; color: RGB(51,165,182); \">2.1.1.4 - Analyse de la variable prix d'achat</h3>\n",
    "</div>"
   ]
  },
  {
   "cell_type": "code",
   "execution_count": 81,
   "id": "6b85ba0d",
   "metadata": {},
   "outputs": [
    {
     "name": "stdout",
     "output_type": "stream",
     "text": [
      "Nombre d'articles avec un prix non renseigné dans purchase_price: 0\n",
      "Prix minimum dans purchase_price: 2.74\n",
      "Prix maximum dans purchase_price: 137.81\n"
     ]
    }
   ],
   "source": [
    "######################\n",
    "##   prix d'achat   ##\n",
    "######################\n",
    "\n",
    "#Vérification de la colonne purchase_price : \n",
    "#Afficher le ou les prix non renseignés dans la colonne \"purchase_price\"\n",
    "print(\"Nombre d'articles avec un prix non renseigné dans purchase_price:\", df_erp['purchase_price'].isnull().sum())\n",
    "\n",
    "# Afficher le prix minimum de la colonne \"purchase_price\"\n",
    "print(\"Prix minimum dans purchase_price:\", df_erp['purchase_price'].min())\n",
    "\n",
    "# Afficher le prix maximum de la colonne \"purchase_price\"\n",
    "print(\"Prix maximum dans purchase_price:\", df_erp['purchase_price'].max())"
   ]
  },
  {
   "cell_type": "markdown",
   "id": "a550f996",
   "metadata": {},
   "source": [
    "<div style=\"border: 1px solid RGB(51,165,182);\" >\n",
    "<h3 style=\"margin: auto; padding: 20px; color: RGB(51,165,182); \">2.2 - Analyse exploratoire du fichier web.xlsx</h3>\n",
    "</div>\n",
    " "
   ]
  },
  {
   "cell_type": "code",
   "execution_count": 82,
   "id": "bb7e292c",
   "metadata": {},
   "outputs": [
    {
     "name": "stdout",
     "output_type": "stream",
     "text": [
      "Nombre d'observations : 1513\n",
      "Nombre de caractéristiques : 29\n"
     ]
    }
   ],
   "source": [
    "#Dimension du dataset\n",
    "n_observations = df_web.shape[0]  # Number of rows\n",
    "n_caracteristiques = df_web.shape[1]  # Number of columns\n",
    "#Nombre d'observations\n",
    "print(\"Nombre d'observations :\", n_observations)\n",
    "#Nombre de caractéristiques\n",
    "\n",
    "print(\"Nombre de caractéristiques :\", n_caracteristiques)"
   ]
  },
  {
   "cell_type": "code",
   "execution_count": 83,
   "id": "0b70a8da",
   "metadata": {},
   "outputs": [
    {
     "name": "stdout",
     "output_type": "stream",
     "text": [
      "Nombre de colonnes : 29\n",
      "\n",
      "Nature des données dans chaque colonne :\n",
      " sku                              object\n",
      "virtual                           int64\n",
      "downloadable                      int64\n",
      "rating_count                      int64\n",
      "average_rating                  float64\n",
      "total_sales                     float64\n",
      "tax_status                       object\n",
      "tax_class                       float64\n",
      "post_author                     float64\n",
      "post_date                datetime64[ns]\n",
      "post_date_gmt            datetime64[ns]\n",
      "post_content                    float64\n",
      "product_type                     object\n",
      "post_title                       object\n",
      "post_excerpt                     object\n",
      "post_status                      object\n",
      "comment_status                   object\n",
      "ping_status                      object\n",
      "post_password                   float64\n",
      "post_name                        object\n",
      "post_modified            datetime64[ns]\n",
      "post_modified_gmt        datetime64[ns]\n",
      "post_content_filtered           float64\n",
      "post_parent                     float64\n",
      "guid                             object\n",
      "menu_order                      float64\n",
      "post_type                        object\n",
      "post_mime_type                   object\n",
      "comment_count                   float64\n",
      "dtype: object\n",
      "\n",
      "Nombre de valeurs présentes dans chaque colonne :\n",
      " sku                      1428\n",
      "virtual                  1513\n",
      "downloadable             1513\n",
      "rating_count             1513\n",
      "average_rating           1430\n",
      "total_sales              1430\n",
      "tax_status                716\n",
      "tax_class                   0\n",
      "post_author              1430\n",
      "post_date                1430\n",
      "post_date_gmt            1430\n",
      "post_content                0\n",
      "product_type             1429\n",
      "post_title               1430\n",
      "post_excerpt              716\n",
      "post_status              1430\n",
      "comment_status           1430\n",
      "ping_status              1430\n",
      "post_password               0\n",
      "post_name                1430\n",
      "post_modified            1430\n",
      "post_modified_gmt        1430\n",
      "post_content_filtered       0\n",
      "post_parent              1430\n",
      "guid                     1430\n",
      "menu_order               1430\n",
      "post_type                1430\n",
      "post_mime_type            714\n",
      "comment_count            1430\n",
      "dtype: int64\n"
     ]
    }
   ],
   "source": [
    "# Consulter le nombre de colonnes\n",
    "nombre_de_colonnes = df_web.shape[1]  # ou len(df_erp.columns)\n",
    "print(\"Nombre de colonnes :\", nombre_de_colonnes)\n",
    "\n",
    "# La nature des données dans chacune des colonnes\n",
    "nature_des_donnees = df_web.dtypes\n",
    "print(\"\\nNature des données dans chaque colonne :\\n\", nature_des_donnees)\n",
    "\n",
    "# Le nombre de valeurs présentes dans chacune des colonnes\n",
    "nombre_de_valeurs = df_web.count()\n",
    "print(\"\\nNombre de valeurs présentes dans chaque colonne :\\n\", nombre_de_valeurs)"
   ]
  },
  {
   "cell_type": "code",
   "execution_count": 84,
   "id": "b0d2f149",
   "metadata": {},
   "outputs": [],
   "source": [
    "#Selon vous, quelles sont les colonnes à conserver ?\n",
    "#we  should remove  the colonne that have 0 in Nombre de valeurs présentes dans chaque colonne "
   ]
  },
  {
   "cell_type": "code",
   "execution_count": 85,
   "id": "30b2196b",
   "metadata": {},
   "outputs": [
    {
     "name": "stdout",
     "output_type": "stream",
     "text": [
      "Non-null values per column:\n",
      "sku                  1428\n",
      "virtual              1513\n",
      "downloadable         1513\n",
      "rating_count         1513\n",
      "average_rating       1430\n",
      "total_sales          1430\n",
      "tax_status            716\n",
      "post_author          1430\n",
      "post_date            1430\n",
      "post_date_gmt        1430\n",
      "product_type         1429\n",
      "post_title           1430\n",
      "post_excerpt          716\n",
      "post_status          1430\n",
      "comment_status       1430\n",
      "ping_status          1430\n",
      "post_name            1430\n",
      "post_modified        1430\n",
      "post_modified_gmt    1430\n",
      "post_parent          1430\n",
      "guid                 1430\n",
      "menu_order           1430\n",
      "post_type            1430\n",
      "post_mime_type        714\n",
      "comment_count        1430\n",
      "dtype: int64\n"
     ]
    }
   ],
   "source": [
    "#Si vous avez défini des colonnes à supprimer, effectuer l'opération\n",
    "df_web.drop(columns=[\"tax_class\", \"post_content\", \"post_password\", \"post_content_filtered\"], inplace=True)\n",
    "\n",
    "#Le nombre de valeurs présentes dans chacune des colonnes\n",
    "print(\"Non-null values per column:\")\n",
    "print(df_web.count())"
   ]
  },
  {
   "cell_type": "code",
   "execution_count": 86,
   "id": "1b965d06",
   "metadata": {},
   "outputs": [
    {
     "name": "stdout",
     "output_type": "stream",
     "text": [
      "0       11862\n",
      "1       16057\n",
      "2       14692\n",
      "3       16295\n",
      "4       15328\n",
      "        ...  \n",
      "1508    16326\n",
      "1509    15662\n",
      "1510    15329\n",
      "1511    14827\n",
      "1512    16004\n",
      "Name: sku, Length: 1513, dtype: object\n",
      "        sku  virtual  downloadable  rating_count  average_rating  total_sales  \\\n",
      "0     11862        0             0             0             0.0          3.0   \n",
      "1     16057        0             0             0             0.0          5.0   \n",
      "2     14692        0             0             0             0.0          5.0   \n",
      "3     16295        0             0             0             0.0         14.0   \n",
      "4     15328        0             0             0             0.0          2.0   \n",
      "...     ...      ...           ...           ...             ...          ...   \n",
      "1508  16326        0             0             0             0.0          5.0   \n",
      "1509  15662        0             0             0             0.0         15.0   \n",
      "1510  15329        0             0             0             0.0          3.0   \n",
      "1511  14827        0             0             0             0.0          7.0   \n",
      "1512  16004        0             0             0             0.0          5.0   \n",
      "\n",
      "     tax_status  post_author           post_date       post_date_gmt  ...  \\\n",
      "0           NaN          2.0 2018-02-12 13:46:23 2018-02-12 12:46:23  ...   \n",
      "1           NaN          2.0 2018-04-17 15:29:17 2018-04-17 13:29:17  ...   \n",
      "2       taxable          2.0 2019-03-19 10:06:47 2019-03-19 09:06:47  ...   \n",
      "3           NaN          2.0 2018-02-15 14:05:06 2018-02-15 13:05:06  ...   \n",
      "4       taxable          2.0 2019-03-27 18:05:09 2019-03-27 17:05:09  ...   \n",
      "...         ...          ...                 ...                 ...  ...   \n",
      "1508    taxable          2.0 2019-04-18 11:32:46 2019-04-18 09:32:46  ...   \n",
      "1509    taxable          2.0 2018-02-27 10:13:03 2018-02-27 09:13:03  ...   \n",
      "1510        NaN          2.0 2019-03-27 18:28:15 2019-03-27 17:28:15  ...   \n",
      "1511        NaN          2.0 2018-11-26 09:56:52 2018-11-26 08:56:52  ...   \n",
      "1512        NaN          2.0 2018-06-07 16:27:25 2018-06-07 14:27:25  ...   \n",
      "\n",
      "     ping_status                                          post_name  \\\n",
      "0         closed                        gilles-robin-hermitage-2012   \n",
      "1         closed        pelle-sancerre-rouge-la-croix-au-garde-2017   \n",
      "2         closed              fonreaud-bordeaux-blanc-le-cygne-2016   \n",
      "3         closed  moulin-de-gassac-igp-pays-dherault-guilhem-ros...   \n",
      "4         closed               agnes-levet-cote-rotie-maestria-2017   \n",
      "...          ...                                                ...   \n",
      "1508      closed       camin-larredya-jurancon-moelleux-capceu-2018   \n",
      "1509      closed  chermette-domaine-du-vissoux-beaujolais-griott...   \n",
      "1510      closed               agnes-levet-cote-rotie-peroline-2017   \n",
      "1511      closed  marc-colin-et-fils-chassagne-montrachet-blanc-...   \n",
      "1512      closed                    chateau-du-couvent-pomerol-2017   \n",
      "\n",
      "           post_modified   post_modified_gmt post_parent  \\\n",
      "0    2019-01-31 12:12:56 2019-01-31 11:12:56         0.0   \n",
      "1    2020-07-07 10:05:02 2020-07-07 08:05:02         0.0   \n",
      "2    2020-04-25 21:40:31 2020-04-25 19:40:31         0.0   \n",
      "3    2020-08-27 18:55:03 2020-08-27 16:55:03         0.0   \n",
      "4    2020-07-25 15:45:02 2020-07-25 13:45:02         0.0   \n",
      "...                  ...                 ...         ...   \n",
      "1508 2020-08-27 09:24:46 2020-08-27 07:24:46         0.0   \n",
      "1509 2020-07-11 11:25:03 2020-07-11 09:25:03         0.0   \n",
      "1510 2020-07-28 09:45:02 2020-07-28 07:45:02         0.0   \n",
      "1511 2020-07-28 09:45:02 2020-07-28 07:45:02         0.0   \n",
      "1512 2020-08-25 18:35:02 2020-08-25 16:35:02         0.0   \n",
      "\n",
      "                                                   guid menu_order  \\\n",
      "0     https://www.bottle-neck.fr/wp-content/uploads/...        0.0   \n",
      "1     https://www.bottle-neck.fr/wp-content/uploads/...        0.0   \n",
      "2     https://www.bottle-neck.fr/?post_type=product&...        0.0   \n",
      "3     https://www.bottle-neck.fr/wp-content/uploads/...        0.0   \n",
      "4     https://www.bottle-neck.fr/?post_type=product&...        0.0   \n",
      "...                                                 ...        ...   \n",
      "1508  https://www.bottle-neck.fr/?post_type=product&...        0.0   \n",
      "1509  https://www.bottle-neck.fr/?post_type=product&...        0.0   \n",
      "1510  https://www.bottle-neck.fr/wp-content/uploads/...        0.0   \n",
      "1511  https://www.bottle-neck.fr/wp-content/uploads/...        0.0   \n",
      "1512  https://www.bottle-neck.fr/wp-content/uploads/...        0.0   \n",
      "\n",
      "       post_type post_mime_type  comment_count  \n",
      "0     attachment     image/jpeg            0.0  \n",
      "1     attachment     image/jpeg            0.0  \n",
      "2        product            NaN            0.0  \n",
      "3     attachment     image/jpeg            0.0  \n",
      "4        product            NaN            0.0  \n",
      "...          ...            ...            ...  \n",
      "1508     product            NaN            0.0  \n",
      "1509     product            NaN            0.0  \n",
      "1510  attachment     image/jpeg            0.0  \n",
      "1511  attachment     image/jpeg            0.0  \n",
      "1512  attachment     image/jpeg            0.0  \n",
      "\n",
      "[1513 rows x 25 columns]\n"
     ]
    }
   ],
   "source": [
    "#Visualisation des valeurs de la colonne sku\n",
    "print (df_web[\"sku\"])\n",
    "#Quelles sont les valeurs qui ne semblent pas respecter la régle de codification?\n",
    "df_web[df_web[\"sku\"].str.match(r\"^(?![0-9]\\b).*\", na=False)]\n",
    "# df_web[df_web[\"sku\"].str.match(r\"^[0-9]\", na=False)]\n",
    "duplicate_skus = df_web[df_web.duplicated(subset=\"sku\", keep=False)]\n",
    "print(duplicate_skus)"
   ]
  },
  {
   "cell_type": "code",
   "execution_count": 87,
   "id": "1226dcfd",
   "metadata": {},
   "outputs": [
    {
     "data": {
      "text/html": [
       "<div>\n",
       "<style scoped>\n",
       "    .dataframe tbody tr th:only-of-type {\n",
       "        vertical-align: middle;\n",
       "    }\n",
       "\n",
       "    .dataframe tbody tr th {\n",
       "        vertical-align: top;\n",
       "    }\n",
       "\n",
       "    .dataframe thead th {\n",
       "        text-align: right;\n",
       "    }\n",
       "</style>\n",
       "<table border=\"1\" class=\"dataframe\">\n",
       "  <thead>\n",
       "    <tr style=\"text-align: right;\">\n",
       "      <th></th>\n",
       "      <th>sku</th>\n",
       "      <th>virtual</th>\n",
       "      <th>downloadable</th>\n",
       "      <th>rating_count</th>\n",
       "      <th>average_rating</th>\n",
       "      <th>total_sales</th>\n",
       "      <th>tax_status</th>\n",
       "      <th>post_author</th>\n",
       "      <th>post_date</th>\n",
       "      <th>post_date_gmt</th>\n",
       "      <th>...</th>\n",
       "      <th>ping_status</th>\n",
       "      <th>post_name</th>\n",
       "      <th>post_modified</th>\n",
       "      <th>post_modified_gmt</th>\n",
       "      <th>post_parent</th>\n",
       "      <th>guid</th>\n",
       "      <th>menu_order</th>\n",
       "      <th>post_type</th>\n",
       "      <th>post_mime_type</th>\n",
       "      <th>comment_count</th>\n",
       "    </tr>\n",
       "  </thead>\n",
       "  <tbody>\n",
       "    <tr>\n",
       "      <th>8</th>\n",
       "      <td>INVALID</td>\n",
       "      <td>0</td>\n",
       "      <td>0</td>\n",
       "      <td>0</td>\n",
       "      <td>NaN</td>\n",
       "      <td>NaN</td>\n",
       "      <td>NaN</td>\n",
       "      <td>NaN</td>\n",
       "      <td>NaT</td>\n",
       "      <td>NaT</td>\n",
       "      <td>...</td>\n",
       "      <td>NaN</td>\n",
       "      <td>NaN</td>\n",
       "      <td>NaT</td>\n",
       "      <td>NaT</td>\n",
       "      <td>NaN</td>\n",
       "      <td>NaN</td>\n",
       "      <td>NaN</td>\n",
       "      <td>NaN</td>\n",
       "      <td>NaN</td>\n",
       "      <td>NaN</td>\n",
       "    </tr>\n",
       "    <tr>\n",
       "      <th>20</th>\n",
       "      <td>INVALID</td>\n",
       "      <td>0</td>\n",
       "      <td>0</td>\n",
       "      <td>0</td>\n",
       "      <td>NaN</td>\n",
       "      <td>NaN</td>\n",
       "      <td>NaN</td>\n",
       "      <td>NaN</td>\n",
       "      <td>NaT</td>\n",
       "      <td>NaT</td>\n",
       "      <td>...</td>\n",
       "      <td>NaN</td>\n",
       "      <td>NaN</td>\n",
       "      <td>NaT</td>\n",
       "      <td>NaT</td>\n",
       "      <td>NaN</td>\n",
       "      <td>NaN</td>\n",
       "      <td>NaN</td>\n",
       "      <td>NaN</td>\n",
       "      <td>NaN</td>\n",
       "      <td>NaN</td>\n",
       "    </tr>\n",
       "    <tr>\n",
       "      <th>30</th>\n",
       "      <td>INVALID</td>\n",
       "      <td>0</td>\n",
       "      <td>0</td>\n",
       "      <td>0</td>\n",
       "      <td>NaN</td>\n",
       "      <td>NaN</td>\n",
       "      <td>NaN</td>\n",
       "      <td>NaN</td>\n",
       "      <td>NaT</td>\n",
       "      <td>NaT</td>\n",
       "      <td>...</td>\n",
       "      <td>NaN</td>\n",
       "      <td>NaN</td>\n",
       "      <td>NaT</td>\n",
       "      <td>NaT</td>\n",
       "      <td>NaN</td>\n",
       "      <td>NaN</td>\n",
       "      <td>NaN</td>\n",
       "      <td>NaN</td>\n",
       "      <td>NaN</td>\n",
       "      <td>NaN</td>\n",
       "    </tr>\n",
       "    <tr>\n",
       "      <th>37</th>\n",
       "      <td>INVALID</td>\n",
       "      <td>0</td>\n",
       "      <td>0</td>\n",
       "      <td>0</td>\n",
       "      <td>NaN</td>\n",
       "      <td>NaN</td>\n",
       "      <td>NaN</td>\n",
       "      <td>NaN</td>\n",
       "      <td>NaT</td>\n",
       "      <td>NaT</td>\n",
       "      <td>...</td>\n",
       "      <td>NaN</td>\n",
       "      <td>NaN</td>\n",
       "      <td>NaT</td>\n",
       "      <td>NaT</td>\n",
       "      <td>NaN</td>\n",
       "      <td>NaN</td>\n",
       "      <td>NaN</td>\n",
       "      <td>NaN</td>\n",
       "      <td>NaN</td>\n",
       "      <td>NaN</td>\n",
       "    </tr>\n",
       "    <tr>\n",
       "      <th>41</th>\n",
       "      <td>INVALID</td>\n",
       "      <td>0</td>\n",
       "      <td>0</td>\n",
       "      <td>0</td>\n",
       "      <td>NaN</td>\n",
       "      <td>NaN</td>\n",
       "      <td>NaN</td>\n",
       "      <td>NaN</td>\n",
       "      <td>NaT</td>\n",
       "      <td>NaT</td>\n",
       "      <td>...</td>\n",
       "      <td>NaN</td>\n",
       "      <td>NaN</td>\n",
       "      <td>NaT</td>\n",
       "      <td>NaT</td>\n",
       "      <td>NaN</td>\n",
       "      <td>NaN</td>\n",
       "      <td>NaN</td>\n",
       "      <td>NaN</td>\n",
       "      <td>NaN</td>\n",
       "      <td>NaN</td>\n",
       "    </tr>\n",
       "    <tr>\n",
       "      <th>...</th>\n",
       "      <td>...</td>\n",
       "      <td>...</td>\n",
       "      <td>...</td>\n",
       "      <td>...</td>\n",
       "      <td>...</td>\n",
       "      <td>...</td>\n",
       "      <td>...</td>\n",
       "      <td>...</td>\n",
       "      <td>...</td>\n",
       "      <td>...</td>\n",
       "      <td>...</td>\n",
       "      <td>...</td>\n",
       "      <td>...</td>\n",
       "      <td>...</td>\n",
       "      <td>...</td>\n",
       "      <td>...</td>\n",
       "      <td>...</td>\n",
       "      <td>...</td>\n",
       "      <td>...</td>\n",
       "      <td>...</td>\n",
       "      <td>...</td>\n",
       "    </tr>\n",
       "    <tr>\n",
       "      <th>1387</th>\n",
       "      <td>INVALID</td>\n",
       "      <td>0</td>\n",
       "      <td>0</td>\n",
       "      <td>0</td>\n",
       "      <td>0.0</td>\n",
       "      <td>7.0</td>\n",
       "      <td>taxable</td>\n",
       "      <td>1.0</td>\n",
       "      <td>2018-06-01 13:53:46</td>\n",
       "      <td>2018-06-01 11:53:46</td>\n",
       "      <td>...</td>\n",
       "      <td>closed</td>\n",
       "      <td>bon-cadeau-de-25-euros</td>\n",
       "      <td>2018-06-01 14:13:57</td>\n",
       "      <td>2018-06-01 12:13:57</td>\n",
       "      <td>0.0</td>\n",
       "      <td>https://www.bottle-neck.fr/?post_type=product&amp;...</td>\n",
       "      <td>0.0</td>\n",
       "      <td>product</td>\n",
       "      <td>NaN</td>\n",
       "      <td>0.0</td>\n",
       "    </tr>\n",
       "    <tr>\n",
       "      <th>1429</th>\n",
       "      <td>INVALID</td>\n",
       "      <td>0</td>\n",
       "      <td>0</td>\n",
       "      <td>0</td>\n",
       "      <td>NaN</td>\n",
       "      <td>NaN</td>\n",
       "      <td>NaN</td>\n",
       "      <td>NaN</td>\n",
       "      <td>NaT</td>\n",
       "      <td>NaT</td>\n",
       "      <td>...</td>\n",
       "      <td>NaN</td>\n",
       "      <td>NaN</td>\n",
       "      <td>NaT</td>\n",
       "      <td>NaT</td>\n",
       "      <td>NaN</td>\n",
       "      <td>NaN</td>\n",
       "      <td>NaN</td>\n",
       "      <td>NaN</td>\n",
       "      <td>NaN</td>\n",
       "      <td>NaN</td>\n",
       "    </tr>\n",
       "    <tr>\n",
       "      <th>1432</th>\n",
       "      <td>INVALID</td>\n",
       "      <td>0</td>\n",
       "      <td>0</td>\n",
       "      <td>0</td>\n",
       "      <td>NaN</td>\n",
       "      <td>NaN</td>\n",
       "      <td>NaN</td>\n",
       "      <td>NaN</td>\n",
       "      <td>NaT</td>\n",
       "      <td>NaT</td>\n",
       "      <td>...</td>\n",
       "      <td>NaN</td>\n",
       "      <td>NaN</td>\n",
       "      <td>NaT</td>\n",
       "      <td>NaT</td>\n",
       "      <td>NaN</td>\n",
       "      <td>NaN</td>\n",
       "      <td>NaN</td>\n",
       "      <td>NaN</td>\n",
       "      <td>NaN</td>\n",
       "      <td>NaN</td>\n",
       "    </tr>\n",
       "    <tr>\n",
       "      <th>1445</th>\n",
       "      <td>INVALID</td>\n",
       "      <td>0</td>\n",
       "      <td>0</td>\n",
       "      <td>0</td>\n",
       "      <td>NaN</td>\n",
       "      <td>NaN</td>\n",
       "      <td>NaN</td>\n",
       "      <td>NaN</td>\n",
       "      <td>NaT</td>\n",
       "      <td>NaT</td>\n",
       "      <td>...</td>\n",
       "      <td>NaN</td>\n",
       "      <td>NaN</td>\n",
       "      <td>NaT</td>\n",
       "      <td>NaT</td>\n",
       "      <td>NaN</td>\n",
       "      <td>NaN</td>\n",
       "      <td>NaN</td>\n",
       "      <td>NaN</td>\n",
       "      <td>NaN</td>\n",
       "      <td>NaN</td>\n",
       "    </tr>\n",
       "    <tr>\n",
       "      <th>1457</th>\n",
       "      <td>INVALID</td>\n",
       "      <td>0</td>\n",
       "      <td>0</td>\n",
       "      <td>0</td>\n",
       "      <td>NaN</td>\n",
       "      <td>NaN</td>\n",
       "      <td>NaN</td>\n",
       "      <td>NaN</td>\n",
       "      <td>NaT</td>\n",
       "      <td>NaT</td>\n",
       "      <td>...</td>\n",
       "      <td>NaN</td>\n",
       "      <td>NaN</td>\n",
       "      <td>NaT</td>\n",
       "      <td>NaT</td>\n",
       "      <td>NaN</td>\n",
       "      <td>NaN</td>\n",
       "      <td>NaN</td>\n",
       "      <td>NaN</td>\n",
       "      <td>NaN</td>\n",
       "      <td>NaN</td>\n",
       "    </tr>\n",
       "  </tbody>\n",
       "</table>\n",
       "<p>89 rows × 25 columns</p>\n",
       "</div>"
      ],
      "text/plain": [
       "          sku  virtual  downloadable  rating_count  average_rating  \\\n",
       "8     INVALID        0             0             0             NaN   \n",
       "20    INVALID        0             0             0             NaN   \n",
       "30    INVALID        0             0             0             NaN   \n",
       "37    INVALID        0             0             0             NaN   \n",
       "41    INVALID        0             0             0             NaN   \n",
       "...       ...      ...           ...           ...             ...   \n",
       "1387  INVALID        0             0             0             0.0   \n",
       "1429  INVALID        0             0             0             NaN   \n",
       "1432  INVALID        0             0             0             NaN   \n",
       "1445  INVALID        0             0             0             NaN   \n",
       "1457  INVALID        0             0             0             NaN   \n",
       "\n",
       "      total_sales tax_status  post_author           post_date  \\\n",
       "8             NaN        NaN          NaN                 NaT   \n",
       "20            NaN        NaN          NaN                 NaT   \n",
       "30            NaN        NaN          NaN                 NaT   \n",
       "37            NaN        NaN          NaN                 NaT   \n",
       "41            NaN        NaN          NaN                 NaT   \n",
       "...           ...        ...          ...                 ...   \n",
       "1387          7.0    taxable          1.0 2018-06-01 13:53:46   \n",
       "1429          NaN        NaN          NaN                 NaT   \n",
       "1432          NaN        NaN          NaN                 NaT   \n",
       "1445          NaN        NaN          NaN                 NaT   \n",
       "1457          NaN        NaN          NaN                 NaT   \n",
       "\n",
       "           post_date_gmt  ... ping_status               post_name  \\\n",
       "8                    NaT  ...         NaN                     NaN   \n",
       "20                   NaT  ...         NaN                     NaN   \n",
       "30                   NaT  ...         NaN                     NaN   \n",
       "37                   NaT  ...         NaN                     NaN   \n",
       "41                   NaT  ...         NaN                     NaN   \n",
       "...                  ...  ...         ...                     ...   \n",
       "1387 2018-06-01 11:53:46  ...      closed  bon-cadeau-de-25-euros   \n",
       "1429                 NaT  ...         NaN                     NaN   \n",
       "1432                 NaT  ...         NaN                     NaN   \n",
       "1445                 NaT  ...         NaN                     NaN   \n",
       "1457                 NaT  ...         NaN                     NaN   \n",
       "\n",
       "           post_modified   post_modified_gmt post_parent  \\\n",
       "8                    NaT                 NaT         NaN   \n",
       "20                   NaT                 NaT         NaN   \n",
       "30                   NaT                 NaT         NaN   \n",
       "37                   NaT                 NaT         NaN   \n",
       "41                   NaT                 NaT         NaN   \n",
       "...                  ...                 ...         ...   \n",
       "1387 2018-06-01 14:13:57 2018-06-01 12:13:57         0.0   \n",
       "1429                 NaT                 NaT         NaN   \n",
       "1432                 NaT                 NaT         NaN   \n",
       "1445                 NaT                 NaT         NaN   \n",
       "1457                 NaT                 NaT         NaN   \n",
       "\n",
       "                                                   guid menu_order post_type  \\\n",
       "8                                                   NaN        NaN       NaN   \n",
       "20                                                  NaN        NaN       NaN   \n",
       "30                                                  NaN        NaN       NaN   \n",
       "37                                                  NaN        NaN       NaN   \n",
       "41                                                  NaN        NaN       NaN   \n",
       "...                                                 ...        ...       ...   \n",
       "1387  https://www.bottle-neck.fr/?post_type=product&...        0.0   product   \n",
       "1429                                                NaN        NaN       NaN   \n",
       "1432                                                NaN        NaN       NaN   \n",
       "1445                                                NaN        NaN       NaN   \n",
       "1457                                                NaN        NaN       NaN   \n",
       "\n",
       "     post_mime_type  comment_count  \n",
       "8               NaN            NaN  \n",
       "20              NaN            NaN  \n",
       "30              NaN            NaN  \n",
       "37              NaN            NaN  \n",
       "41              NaN            NaN  \n",
       "...             ...            ...  \n",
       "1387            NaN            0.0  \n",
       "1429            NaN            NaN  \n",
       "1432            NaN            NaN  \n",
       "1445            NaN            NaN  \n",
       "1457            NaN            NaN  \n",
       "\n",
       "[89 rows x 25 columns]"
      ]
     },
     "execution_count": 87,
     "metadata": {},
     "output_type": "execute_result"
    }
   ],
   "source": [
    "#Si vous avez identifié des codes articles ne respectant pas la régle de codification, consultez-les?\n",
    "#Si vous avez identifié des codes articles ne respectant pas la régle de codification, consultez-les?\n",
    "df_web[\"sku\"] = df_web[\"sku\"].apply(lambda x: x if str(x).isdigit() else \"INVALID\")\n",
    "df_web[df_web[\"sku\"] == 'INVALID']\n"
   ]
  },
  {
   "cell_type": "code",
   "execution_count": 88,
   "id": "eb8d31bf",
   "metadata": {},
   "outputs": [
    {
     "name": "stdout",
     "output_type": "stream",
     "text": [
      "Rows without SKU:\n",
      "Empty DataFrame\n",
      "Columns: [sku, virtual, downloadable, rating_count, average_rating, total_sales, tax_status, post_author, post_date, post_date_gmt, product_type, post_title, post_excerpt, post_status, comment_status, ping_status, post_name, post_modified, post_modified_gmt, post_parent, guid, menu_order, post_type, post_mime_type, comment_count]\n",
      "Index: []\n",
      "\n",
      "[0 rows x 25 columns]\n"
     ]
    }
   ],
   "source": [
    "#Identifier les lignes sans code articles\n",
    "missing_sku_df = df_web[df_web[\"sku\"].isna() | (df_web[\"sku\"] == \"\")]\n",
    "print(\"Rows without SKU:\")\n",
    "print(missing_sku_df)\n"
   ]
  },
  {
   "cell_type": "code",
   "execution_count": 89,
   "id": "967495da",
   "metadata": {},
   "outputs": [],
   "source": [
    "#Pour les codes articles identifiés, réalisé une analyse et définissez l'action à entreprendre\n",
    "# Remove rows where SKU is 'INVALID'\n",
    "df_web = df_web[df_web[\"sku\"] != \"INVALID\"]\n"
   ]
  },
  {
   "cell_type": "code",
   "execution_count": 90,
   "id": "27bf30de",
   "metadata": {},
   "outputs": [
    {
     "data": {
      "text/html": [
       "<div>\n",
       "<style scoped>\n",
       "    .dataframe tbody tr th:only-of-type {\n",
       "        vertical-align: middle;\n",
       "    }\n",
       "\n",
       "    .dataframe tbody tr th {\n",
       "        vertical-align: top;\n",
       "    }\n",
       "\n",
       "    .dataframe thead th {\n",
       "        text-align: right;\n",
       "    }\n",
       "</style>\n",
       "<table border=\"1\" class=\"dataframe\">\n",
       "  <thead>\n",
       "    <tr style=\"text-align: right;\">\n",
       "      <th></th>\n",
       "      <th>sku</th>\n",
       "      <th>virtual</th>\n",
       "      <th>downloadable</th>\n",
       "      <th>rating_count</th>\n",
       "      <th>average_rating</th>\n",
       "      <th>total_sales</th>\n",
       "      <th>tax_status</th>\n",
       "      <th>post_author</th>\n",
       "      <th>post_date</th>\n",
       "      <th>post_date_gmt</th>\n",
       "      <th>...</th>\n",
       "      <th>ping_status</th>\n",
       "      <th>post_name</th>\n",
       "      <th>post_modified</th>\n",
       "      <th>post_modified_gmt</th>\n",
       "      <th>post_parent</th>\n",
       "      <th>guid</th>\n",
       "      <th>menu_order</th>\n",
       "      <th>post_type</th>\n",
       "      <th>post_mime_type</th>\n",
       "      <th>comment_count</th>\n",
       "    </tr>\n",
       "  </thead>\n",
       "  <tbody>\n",
       "    <tr>\n",
       "      <th>0</th>\n",
       "      <td>11862</td>\n",
       "      <td>0</td>\n",
       "      <td>0</td>\n",
       "      <td>0</td>\n",
       "      <td>0.0</td>\n",
       "      <td>3.0</td>\n",
       "      <td>NaN</td>\n",
       "      <td>2.0</td>\n",
       "      <td>2018-02-12 13:46:23</td>\n",
       "      <td>2018-02-12 12:46:23</td>\n",
       "      <td>...</td>\n",
       "      <td>closed</td>\n",
       "      <td>gilles-robin-hermitage-2012</td>\n",
       "      <td>2019-01-31 12:12:56</td>\n",
       "      <td>2019-01-31 11:12:56</td>\n",
       "      <td>0.0</td>\n",
       "      <td>https://www.bottle-neck.fr/wp-content/uploads/...</td>\n",
       "      <td>0.0</td>\n",
       "      <td>attachment</td>\n",
       "      <td>image/jpeg</td>\n",
       "      <td>0.0</td>\n",
       "    </tr>\n",
       "    <tr>\n",
       "      <th>1</th>\n",
       "      <td>16057</td>\n",
       "      <td>0</td>\n",
       "      <td>0</td>\n",
       "      <td>0</td>\n",
       "      <td>0.0</td>\n",
       "      <td>5.0</td>\n",
       "      <td>NaN</td>\n",
       "      <td>2.0</td>\n",
       "      <td>2018-04-17 15:29:17</td>\n",
       "      <td>2018-04-17 13:29:17</td>\n",
       "      <td>...</td>\n",
       "      <td>closed</td>\n",
       "      <td>pelle-sancerre-rouge-la-croix-au-garde-2017</td>\n",
       "      <td>2020-07-07 10:05:02</td>\n",
       "      <td>2020-07-07 08:05:02</td>\n",
       "      <td>0.0</td>\n",
       "      <td>https://www.bottle-neck.fr/wp-content/uploads/...</td>\n",
       "      <td>0.0</td>\n",
       "      <td>attachment</td>\n",
       "      <td>image/jpeg</td>\n",
       "      <td>0.0</td>\n",
       "    </tr>\n",
       "    <tr>\n",
       "      <th>2</th>\n",
       "      <td>14692</td>\n",
       "      <td>0</td>\n",
       "      <td>0</td>\n",
       "      <td>0</td>\n",
       "      <td>0.0</td>\n",
       "      <td>5.0</td>\n",
       "      <td>taxable</td>\n",
       "      <td>2.0</td>\n",
       "      <td>2019-03-19 10:06:47</td>\n",
       "      <td>2019-03-19 09:06:47</td>\n",
       "      <td>...</td>\n",
       "      <td>closed</td>\n",
       "      <td>fonreaud-bordeaux-blanc-le-cygne-2016</td>\n",
       "      <td>2020-04-25 21:40:31</td>\n",
       "      <td>2020-04-25 19:40:31</td>\n",
       "      <td>0.0</td>\n",
       "      <td>https://www.bottle-neck.fr/?post_type=product&amp;...</td>\n",
       "      <td>0.0</td>\n",
       "      <td>product</td>\n",
       "      <td>NaN</td>\n",
       "      <td>0.0</td>\n",
       "    </tr>\n",
       "    <tr>\n",
       "      <th>3</th>\n",
       "      <td>16295</td>\n",
       "      <td>0</td>\n",
       "      <td>0</td>\n",
       "      <td>0</td>\n",
       "      <td>0.0</td>\n",
       "      <td>14.0</td>\n",
       "      <td>NaN</td>\n",
       "      <td>2.0</td>\n",
       "      <td>2018-02-15 14:05:06</td>\n",
       "      <td>2018-02-15 13:05:06</td>\n",
       "      <td>...</td>\n",
       "      <td>closed</td>\n",
       "      <td>moulin-de-gassac-igp-pays-dherault-guilhem-ros...</td>\n",
       "      <td>2020-08-27 18:55:03</td>\n",
       "      <td>2020-08-27 16:55:03</td>\n",
       "      <td>0.0</td>\n",
       "      <td>https://www.bottle-neck.fr/wp-content/uploads/...</td>\n",
       "      <td>0.0</td>\n",
       "      <td>attachment</td>\n",
       "      <td>image/jpeg</td>\n",
       "      <td>0.0</td>\n",
       "    </tr>\n",
       "    <tr>\n",
       "      <th>4</th>\n",
       "      <td>15328</td>\n",
       "      <td>0</td>\n",
       "      <td>0</td>\n",
       "      <td>0</td>\n",
       "      <td>0.0</td>\n",
       "      <td>2.0</td>\n",
       "      <td>taxable</td>\n",
       "      <td>2.0</td>\n",
       "      <td>2019-03-27 18:05:09</td>\n",
       "      <td>2019-03-27 17:05:09</td>\n",
       "      <td>...</td>\n",
       "      <td>closed</td>\n",
       "      <td>agnes-levet-cote-rotie-maestria-2017</td>\n",
       "      <td>2020-07-25 15:45:02</td>\n",
       "      <td>2020-07-25 13:45:02</td>\n",
       "      <td>0.0</td>\n",
       "      <td>https://www.bottle-neck.fr/?post_type=product&amp;...</td>\n",
       "      <td>0.0</td>\n",
       "      <td>product</td>\n",
       "      <td>NaN</td>\n",
       "      <td>0.0</td>\n",
       "    </tr>\n",
       "    <tr>\n",
       "      <th>...</th>\n",
       "      <td>...</td>\n",
       "      <td>...</td>\n",
       "      <td>...</td>\n",
       "      <td>...</td>\n",
       "      <td>...</td>\n",
       "      <td>...</td>\n",
       "      <td>...</td>\n",
       "      <td>...</td>\n",
       "      <td>...</td>\n",
       "      <td>...</td>\n",
       "      <td>...</td>\n",
       "      <td>...</td>\n",
       "      <td>...</td>\n",
       "      <td>...</td>\n",
       "      <td>...</td>\n",
       "      <td>...</td>\n",
       "      <td>...</td>\n",
       "      <td>...</td>\n",
       "      <td>...</td>\n",
       "      <td>...</td>\n",
       "      <td>...</td>\n",
       "    </tr>\n",
       "    <tr>\n",
       "      <th>1325</th>\n",
       "      <td>16043</td>\n",
       "      <td>0</td>\n",
       "      <td>0</td>\n",
       "      <td>0</td>\n",
       "      <td>0.0</td>\n",
       "      <td>10.0</td>\n",
       "      <td>taxable</td>\n",
       "      <td>2.0</td>\n",
       "      <td>2018-02-12 10:41:11</td>\n",
       "      <td>2018-02-12 09:41:11</td>\n",
       "      <td>...</td>\n",
       "      <td>closed</td>\n",
       "      <td>pierre-gaillard-saint-joseph-2018</td>\n",
       "      <td>2020-08-26 14:05:02</td>\n",
       "      <td>2020-08-26 12:05:02</td>\n",
       "      <td>0.0</td>\n",
       "      <td>https://www.bottle-neck.fr/?post_type=product&amp;...</td>\n",
       "      <td>0.0</td>\n",
       "      <td>product</td>\n",
       "      <td>NaN</td>\n",
       "      <td>0.0</td>\n",
       "    </tr>\n",
       "    <tr>\n",
       "      <th>1327</th>\n",
       "      <td>15845</td>\n",
       "      <td>0</td>\n",
       "      <td>0</td>\n",
       "      <td>0</td>\n",
       "      <td>0.0</td>\n",
       "      <td>9.0</td>\n",
       "      <td>NaN</td>\n",
       "      <td>2.0</td>\n",
       "      <td>2020-04-25 12:43:23</td>\n",
       "      <td>2020-04-25 10:43:23</td>\n",
       "      <td>...</td>\n",
       "      <td>closed</td>\n",
       "      <td>chateau-jean-faure-saint-emilion-grand-cru-2016</td>\n",
       "      <td>2020-07-20 17:09:23</td>\n",
       "      <td>2020-07-20 15:09:23</td>\n",
       "      <td>0.0</td>\n",
       "      <td>https://www.bottle-neck.fr/wp-content/uploads/...</td>\n",
       "      <td>0.0</td>\n",
       "      <td>attachment</td>\n",
       "      <td>image/jpeg</td>\n",
       "      <td>0.0</td>\n",
       "    </tr>\n",
       "    <tr>\n",
       "      <th>1339</th>\n",
       "      <td>15951</td>\n",
       "      <td>0</td>\n",
       "      <td>0</td>\n",
       "      <td>0</td>\n",
       "      <td>0.0</td>\n",
       "      <td>9.0</td>\n",
       "      <td>NaN</td>\n",
       "      <td>2.0</td>\n",
       "      <td>2019-05-16 15:54:52</td>\n",
       "      <td>2019-05-16 13:54:52</td>\n",
       "      <td>...</td>\n",
       "      <td>closed</td>\n",
       "      <td>jacqueson-rully-rouge-1er-cru-les-preaux-2018</td>\n",
       "      <td>2020-08-07 15:55:03</td>\n",
       "      <td>2020-08-07 13:55:03</td>\n",
       "      <td>0.0</td>\n",
       "      <td>https://www.bottle-neck.fr/wp-content/uploads/...</td>\n",
       "      <td>0.0</td>\n",
       "      <td>attachment</td>\n",
       "      <td>image/jpeg</td>\n",
       "      <td>0.0</td>\n",
       "    </tr>\n",
       "    <tr>\n",
       "      <th>1353</th>\n",
       "      <td>13074</td>\n",
       "      <td>0</td>\n",
       "      <td>0</td>\n",
       "      <td>0</td>\n",
       "      <td>0.0</td>\n",
       "      <td>4.0</td>\n",
       "      <td>NaN</td>\n",
       "      <td>2.0</td>\n",
       "      <td>2018-02-12 14:25:28</td>\n",
       "      <td>2018-02-12 13:25:28</td>\n",
       "      <td>...</td>\n",
       "      <td>closed</td>\n",
       "      <td>chateau-de-vaudieu-chateauneuf-du-pape-lavenue...</td>\n",
       "      <td>2019-12-09 10:40:03</td>\n",
       "      <td>2019-12-09 09:40:03</td>\n",
       "      <td>0.0</td>\n",
       "      <td>https://www.bottle-neck.fr/wp-content/uploads/...</td>\n",
       "      <td>0.0</td>\n",
       "      <td>attachment</td>\n",
       "      <td>image/jpeg</td>\n",
       "      <td>0.0</td>\n",
       "    </tr>\n",
       "    <tr>\n",
       "      <th>1391</th>\n",
       "      <td>14569</td>\n",
       "      <td>0</td>\n",
       "      <td>0</td>\n",
       "      <td>0</td>\n",
       "      <td>0.0</td>\n",
       "      <td>13.0</td>\n",
       "      <td>NaN</td>\n",
       "      <td>2.0</td>\n",
       "      <td>2019-06-28 17:56:00</td>\n",
       "      <td>2019-06-28 15:56:00</td>\n",
       "      <td>...</td>\n",
       "      <td>closed</td>\n",
       "      <td>moulin-de-gassac-igp-pays-dherault-faune-2017</td>\n",
       "      <td>2020-08-14 17:35:02</td>\n",
       "      <td>2020-08-14 15:35:02</td>\n",
       "      <td>0.0</td>\n",
       "      <td>https://www.bottle-neck.fr/wp-content/uploads/...</td>\n",
       "      <td>0.0</td>\n",
       "      <td>attachment</td>\n",
       "      <td>image/jpeg</td>\n",
       "      <td>0.0</td>\n",
       "    </tr>\n",
       "  </tbody>\n",
       "</table>\n",
       "<p>712 rows × 25 columns</p>\n",
       "</div>"
      ],
      "text/plain": [
       "        sku  virtual  downloadable  rating_count  average_rating  total_sales  \\\n",
       "0     11862        0             0             0             0.0          3.0   \n",
       "1     16057        0             0             0             0.0          5.0   \n",
       "2     14692        0             0             0             0.0          5.0   \n",
       "3     16295        0             0             0             0.0         14.0   \n",
       "4     15328        0             0             0             0.0          2.0   \n",
       "...     ...      ...           ...           ...             ...          ...   \n",
       "1325  16043        0             0             0             0.0         10.0   \n",
       "1327  15845        0             0             0             0.0          9.0   \n",
       "1339  15951        0             0             0             0.0          9.0   \n",
       "1353  13074        0             0             0             0.0          4.0   \n",
       "1391  14569        0             0             0             0.0         13.0   \n",
       "\n",
       "     tax_status  post_author           post_date       post_date_gmt  ...  \\\n",
       "0           NaN          2.0 2018-02-12 13:46:23 2018-02-12 12:46:23  ...   \n",
       "1           NaN          2.0 2018-04-17 15:29:17 2018-04-17 13:29:17  ...   \n",
       "2       taxable          2.0 2019-03-19 10:06:47 2019-03-19 09:06:47  ...   \n",
       "3           NaN          2.0 2018-02-15 14:05:06 2018-02-15 13:05:06  ...   \n",
       "4       taxable          2.0 2019-03-27 18:05:09 2019-03-27 17:05:09  ...   \n",
       "...         ...          ...                 ...                 ...  ...   \n",
       "1325    taxable          2.0 2018-02-12 10:41:11 2018-02-12 09:41:11  ...   \n",
       "1327        NaN          2.0 2020-04-25 12:43:23 2020-04-25 10:43:23  ...   \n",
       "1339        NaN          2.0 2019-05-16 15:54:52 2019-05-16 13:54:52  ...   \n",
       "1353        NaN          2.0 2018-02-12 14:25:28 2018-02-12 13:25:28  ...   \n",
       "1391        NaN          2.0 2019-06-28 17:56:00 2019-06-28 15:56:00  ...   \n",
       "\n",
       "     ping_status                                          post_name  \\\n",
       "0         closed                        gilles-robin-hermitage-2012   \n",
       "1         closed        pelle-sancerre-rouge-la-croix-au-garde-2017   \n",
       "2         closed              fonreaud-bordeaux-blanc-le-cygne-2016   \n",
       "3         closed  moulin-de-gassac-igp-pays-dherault-guilhem-ros...   \n",
       "4         closed               agnes-levet-cote-rotie-maestria-2017   \n",
       "...          ...                                                ...   \n",
       "1325      closed                  pierre-gaillard-saint-joseph-2018   \n",
       "1327      closed    chateau-jean-faure-saint-emilion-grand-cru-2016   \n",
       "1339      closed      jacqueson-rully-rouge-1er-cru-les-preaux-2018   \n",
       "1353      closed  chateau-de-vaudieu-chateauneuf-du-pape-lavenue...   \n",
       "1391      closed      moulin-de-gassac-igp-pays-dherault-faune-2017   \n",
       "\n",
       "           post_modified   post_modified_gmt post_parent  \\\n",
       "0    2019-01-31 12:12:56 2019-01-31 11:12:56         0.0   \n",
       "1    2020-07-07 10:05:02 2020-07-07 08:05:02         0.0   \n",
       "2    2020-04-25 21:40:31 2020-04-25 19:40:31         0.0   \n",
       "3    2020-08-27 18:55:03 2020-08-27 16:55:03         0.0   \n",
       "4    2020-07-25 15:45:02 2020-07-25 13:45:02         0.0   \n",
       "...                  ...                 ...         ...   \n",
       "1325 2020-08-26 14:05:02 2020-08-26 12:05:02         0.0   \n",
       "1327 2020-07-20 17:09:23 2020-07-20 15:09:23         0.0   \n",
       "1339 2020-08-07 15:55:03 2020-08-07 13:55:03         0.0   \n",
       "1353 2019-12-09 10:40:03 2019-12-09 09:40:03         0.0   \n",
       "1391 2020-08-14 17:35:02 2020-08-14 15:35:02         0.0   \n",
       "\n",
       "                                                   guid menu_order  \\\n",
       "0     https://www.bottle-neck.fr/wp-content/uploads/...        0.0   \n",
       "1     https://www.bottle-neck.fr/wp-content/uploads/...        0.0   \n",
       "2     https://www.bottle-neck.fr/?post_type=product&...        0.0   \n",
       "3     https://www.bottle-neck.fr/wp-content/uploads/...        0.0   \n",
       "4     https://www.bottle-neck.fr/?post_type=product&...        0.0   \n",
       "...                                                 ...        ...   \n",
       "1325  https://www.bottle-neck.fr/?post_type=product&...        0.0   \n",
       "1327  https://www.bottle-neck.fr/wp-content/uploads/...        0.0   \n",
       "1339  https://www.bottle-neck.fr/wp-content/uploads/...        0.0   \n",
       "1353  https://www.bottle-neck.fr/wp-content/uploads/...        0.0   \n",
       "1391  https://www.bottle-neck.fr/wp-content/uploads/...        0.0   \n",
       "\n",
       "       post_type post_mime_type  comment_count  \n",
       "0     attachment     image/jpeg            0.0  \n",
       "1     attachment     image/jpeg            0.0  \n",
       "2        product            NaN            0.0  \n",
       "3     attachment     image/jpeg            0.0  \n",
       "4        product            NaN            0.0  \n",
       "...          ...            ...            ...  \n",
       "1325     product            NaN            0.0  \n",
       "1327  attachment     image/jpeg            0.0  \n",
       "1339  attachment     image/jpeg            0.0  \n",
       "1353  attachment     image/jpeg            0.0  \n",
       "1391  attachment     image/jpeg            0.0  \n",
       "\n",
       "[712 rows x 25 columns]"
      ]
     },
     "execution_count": 90,
     "metadata": {},
     "output_type": "execute_result"
    }
   ],
   "source": [
    "#La clé pour chaque ligne est-elle uniques? ou autrement dit, y a-t-il des doublons?\n",
    "\n",
    "df_web = df_web.drop_duplicates(subset=\"sku\", keep=\"first\")\n",
    "df_web "
   ]
  },
  {
   "cell_type": "code",
   "execution_count": 91,
   "id": "8b81d617",
   "metadata": {},
   "outputs": [],
   "source": [
    "#Les lignes sans code article semble être toutes non renseignés\n",
    "#Pour s'en assurer réaliser les étapes suivantes:\n",
    "#1 - Créer un dataframe avec uniquement les lignes sans code article\n",
    "#2 - utiliser la fonction df.info() sur ce nouveau dataframe pour observer le nombre de valeur reseigner dans chacune des colonnes\n",
    "\n",
    "#3 - Que constatez-vous?"
   ]
  },
  {
   "cell_type": "markdown",
   "id": "dbff6403",
   "metadata": {},
   "source": [
    "<div style=\"border: 1px solid RGB(51,165,182);\" >\n",
    "<h3 style=\"margin: auto; padding: 20px; color: RGB(51,165,182); \">2.3 - Analyse exploratoire du fichier liaison.xlsx</h3>\n",
    "</div>"
   ]
  },
  {
   "cell_type": "code",
   "execution_count": 92,
   "id": "de426b74",
   "metadata": {},
   "outputs": [
    {
     "name": "stdout",
     "output_type": "stream",
     "text": [
      "Number of observations (rows): 825\n",
      "Number of characteristics (columns): 2\n",
      "<class 'pandas.core.frame.DataFrame'>\n",
      "RangeIndex: 825 entries, 0 to 824\n",
      "Data columns (total 2 columns):\n",
      " #   Column      Non-Null Count  Dtype \n",
      "---  ------      --------------  ----- \n",
      " 0   id_web      734 non-null    object\n",
      " 1   product_id  825 non-null    int64 \n",
      "dtypes: int64(1), object(1)\n",
      "memory usage: 13.0+ KB\n",
      "None\n",
      "id_web        734\n",
      "product_id    825\n",
      "dtype: int64\n"
     ]
    }
   ],
   "source": [
    "#Dimension du dataset\n",
    "num_rows, num_columns = df_liaison.shape\n",
    "print(f\"Number of observations (rows): {num_rows}\")\n",
    "print(f\"Number of characteristics (columns): {num_columns}\")\n",
    "\n",
    "#Nombre d'observations\n",
    "print(df_liaison.info())\n",
    "\n",
    "#Nombre de caractéristiques\n",
    "print(df_liaison.count())"
   ]
  },
  {
   "cell_type": "code",
   "execution_count": 93,
   "id": "9834ae33",
   "metadata": {},
   "outputs": [
    {
     "name": "stdout",
     "output_type": "stream",
     "text": [
      "        product_id\n",
      "count   825.000000\n",
      "mean   5162.597576\n",
      "std     902.644635\n",
      "min    3847.000000\n",
      "25%    4348.000000\n",
      "50%    4907.000000\n",
      "75%    5805.000000\n",
      "max    7338.000000\n",
      "<class 'pandas.core.frame.DataFrame'>\n",
      "RangeIndex: 825 entries, 0 to 824\n",
      "Data columns (total 2 columns):\n",
      " #   Column      Non-Null Count  Dtype \n",
      "---  ------      --------------  ----- \n",
      " 0   id_web      734 non-null    object\n",
      " 1   product_id  825 non-null    int64 \n",
      "dtypes: int64(1), object(1)\n",
      "memory usage: 13.0+ KB\n"
     ]
    },
    {
     "data": {
      "text/html": [
       "<div>\n",
       "<style scoped>\n",
       "    .dataframe tbody tr th:only-of-type {\n",
       "        vertical-align: middle;\n",
       "    }\n",
       "\n",
       "    .dataframe tbody tr th {\n",
       "        vertical-align: top;\n",
       "    }\n",
       "\n",
       "    .dataframe thead th {\n",
       "        text-align: right;\n",
       "    }\n",
       "</style>\n",
       "<table border=\"1\" class=\"dataframe\">\n",
       "  <thead>\n",
       "    <tr style=\"text-align: right;\">\n",
       "      <th></th>\n",
       "      <th>product_id</th>\n",
       "    </tr>\n",
       "  </thead>\n",
       "  <tbody>\n",
       "    <tr>\n",
       "      <th>count</th>\n",
       "      <td>825.000000</td>\n",
       "    </tr>\n",
       "    <tr>\n",
       "      <th>mean</th>\n",
       "      <td>5162.597576</td>\n",
       "    </tr>\n",
       "    <tr>\n",
       "      <th>std</th>\n",
       "      <td>902.644635</td>\n",
       "    </tr>\n",
       "    <tr>\n",
       "      <th>min</th>\n",
       "      <td>3847.000000</td>\n",
       "    </tr>\n",
       "    <tr>\n",
       "      <th>25%</th>\n",
       "      <td>4348.000000</td>\n",
       "    </tr>\n",
       "    <tr>\n",
       "      <th>50%</th>\n",
       "      <td>4907.000000</td>\n",
       "    </tr>\n",
       "    <tr>\n",
       "      <th>75%</th>\n",
       "      <td>5805.000000</td>\n",
       "    </tr>\n",
       "    <tr>\n",
       "      <th>max</th>\n",
       "      <td>7338.000000</td>\n",
       "    </tr>\n",
       "  </tbody>\n",
       "</table>\n",
       "</div>"
      ],
      "text/plain": [
       "        product_id\n",
       "count   825.000000\n",
       "mean   5162.597576\n",
       "std     902.644635\n",
       "min    3847.000000\n",
       "25%    4348.000000\n",
       "50%    4907.000000\n",
       "75%    5805.000000\n",
       "max    7338.000000"
      ]
     },
     "execution_count": 93,
     "metadata": {},
     "output_type": "execute_result"
    }
   ],
   "source": [
    "#Consulter le nombre de colonnes\n",
    "print(df_liaison.describe())\n",
    "\n",
    "#La nature des données dans chacune des colonnes\n",
    "df_liaison.info()\n",
    "#Le nombre de valeurs présentes dans chacune des colonnes\n",
    "df_liaison.describe()"
   ]
  },
  {
   "cell_type": "code",
   "execution_count": 94,
   "id": "2b30d6b2",
   "metadata": {},
   "outputs": [
    {
     "name": "stdout",
     "output_type": "stream",
     "text": [
      "Are all 'product_id' values unique? True\n"
     ]
    }
   ],
   "source": [
    "#Les valeurs de la colonne \"product_id\" sont elles toutes uniques?\n",
    "is_product_id_unique = df_liaison[\"product_id\"].is_unique\n",
    "print(f\"Are all 'product_id' values unique? {is_product_id_unique}\")"
   ]
  },
  {
   "cell_type": "code",
   "execution_count": 95,
   "id": "4d8ca13c",
   "metadata": {},
   "outputs": [
    {
     "name": "stdout",
     "output_type": "stream",
     "text": [
      "Are all 'id_web' values unique? False\n"
     ]
    }
   ],
   "source": [
    "#Les valeurs de la colonne \"id_web\" sont-elles toutes uniques?\n",
    "is_id_web_unique = df_liaison[\"id_web\"].is_unique\n",
    "print(f\"Are all 'id_web' values unique? {is_id_web_unique}\")"
   ]
  },
  {
   "cell_type": "code",
   "execution_count": 96,
   "id": "52f7c843",
   "metadata": {},
   "outputs": [
    {
     "name": "stdout",
     "output_type": "stream",
     "text": [
      "Number of missing 'product_id': 0\n",
      "Number of missing 'id_web': 91\n"
     ]
    }
   ],
   "source": [
    "#Avons-nous des articles sans correspondances?\n",
    "missing_product_id = df_liaison[\"product_id\"].isnull().sum()\n",
    "missing_id_web = df_liaison[\"id_web\"].isnull().sum()\n",
    "\n",
    "print(f\"Number of missing 'product_id': {missing_product_id}\")\n",
    "print(f\"Number of missing 'id_web': {missing_id_web}\")\n"
   ]
  },
  {
   "cell_type": "code",
   "execution_count": null,
   "id": "6d9cfcee",
   "metadata": {},
   "outputs": [],
   "source": []
  },
  {
   "cell_type": "markdown",
   "id": "1a359137",
   "metadata": {},
   "source": [
    "<div style=\"background-color: RGB(51,165,182);\" >\n",
    "<h2 style=\"margin: auto; padding: 20px; color:#fff; \">Etape 3 - Jonction des fichiers</h2>\n",
    "</div>"
   ]
  },
  {
   "cell_type": "markdown",
   "id": "b7750c10",
   "metadata": {},
   "source": [
    "<div style=\"border: 1px solid RGB(51,165,182);\" >\n",
    "<h3 style=\"margin: auto; padding: 20px; color: RGB(51,165,182); \">Etape 3.1 - Jonction du fichier df_erp et df_liaison</h3>\n",
    "</div>"
   ]
  },
  {
   "cell_type": "code",
   "execution_count": 97,
   "id": "e756ec7d",
   "metadata": {},
   "outputs": [],
   "source": [
    "#Fusion des fichiers df_erp et df_liaison\n",
    "df_merged = pd.merge(df_erp, df_liaison, how=\"outer\", on=\"product_id\", indicator=True)\n"
   ]
  },
  {
   "cell_type": "code",
   "execution_count": 98,
   "id": "a66c8348",
   "metadata": {},
   "outputs": [
    {
     "data": {
      "text/plain": [
       "0"
      ]
     },
     "execution_count": 98,
     "metadata": {},
     "output_type": "execute_result"
    }
   ],
   "source": [
    "df_merged.duplicated().sum()"
   ]
  },
  {
   "cell_type": "code",
   "execution_count": 99,
   "id": "69cc1e5c",
   "metadata": {},
   "outputs": [
    {
     "data": {
      "text/html": [
       "<div>\n",
       "<style scoped>\n",
       "    .dataframe tbody tr th:only-of-type {\n",
       "        vertical-align: middle;\n",
       "    }\n",
       "\n",
       "    .dataframe tbody tr th {\n",
       "        vertical-align: top;\n",
       "    }\n",
       "\n",
       "    .dataframe thead th {\n",
       "        text-align: right;\n",
       "    }\n",
       "</style>\n",
       "<table border=\"1\" class=\"dataframe\">\n",
       "  <thead>\n",
       "    <tr style=\"text-align: right;\">\n",
       "      <th></th>\n",
       "      <th>product_id</th>\n",
       "      <th>onsale_web</th>\n",
       "      <th>price</th>\n",
       "      <th>stock_quantity</th>\n",
       "      <th>stock_status</th>\n",
       "      <th>purchase_price</th>\n",
       "      <th>id_web</th>\n",
       "      <th>_merge</th>\n",
       "    </tr>\n",
       "  </thead>\n",
       "  <tbody>\n",
       "  </tbody>\n",
       "</table>\n",
       "</div>"
      ],
      "text/plain": [
       "Empty DataFrame\n",
       "Columns: [product_id, onsale_web, price, stock_quantity, stock_status, purchase_price, id_web, _merge]\n",
       "Index: []"
      ]
     },
     "execution_count": 99,
     "metadata": {},
     "output_type": "execute_result"
    }
   ],
   "source": [
    "df_merged[df_merged[\"_merge\"] != \"both\" ]"
   ]
  },
  {
   "cell_type": "code",
   "execution_count": 100,
   "id": "80c8d6c9",
   "metadata": {},
   "outputs": [
    {
     "name": "stdout",
     "output_type": "stream",
     "text": [
      "<class 'pandas.core.frame.DataFrame'>\n",
      "RangeIndex: 825 entries, 0 to 824\n",
      "Data columns (total 8 columns):\n",
      " #   Column          Non-Null Count  Dtype   \n",
      "---  ------          --------------  -----   \n",
      " 0   product_id      825 non-null    int64   \n",
      " 1   onsale_web      825 non-null    int64   \n",
      " 2   price           825 non-null    float64 \n",
      " 3   stock_quantity  825 non-null    int64   \n",
      " 4   stock_status    825 non-null    object  \n",
      " 5   purchase_price  825 non-null    float64 \n",
      " 6   id_web          734 non-null    object  \n",
      " 7   _merge          825 non-null    category\n",
      "dtypes: category(1), float64(2), int64(3), object(2)\n",
      "memory usage: 46.2+ KB\n"
     ]
    }
   ],
   "source": [
    "df_merged.info()"
   ]
  },
  {
   "cell_type": "code",
   "execution_count": 101,
   "id": "b7e1da5e",
   "metadata": {},
   "outputs": [
    {
     "name": "stdout",
     "output_type": "stream",
     "text": [
      "<class 'pandas.core.frame.DataFrame'>\n",
      "Index: 712 entries, 0 to 1391\n",
      "Data columns (total 25 columns):\n",
      " #   Column             Non-Null Count  Dtype         \n",
      "---  ------             --------------  -----         \n",
      " 0   sku                712 non-null    object        \n",
      " 1   virtual            712 non-null    int64         \n",
      " 2   downloadable       712 non-null    int64         \n",
      " 3   rating_count       712 non-null    int64         \n",
      " 4   average_rating     712 non-null    float64       \n",
      " 5   total_sales        712 non-null    float64       \n",
      " 6   tax_status         360 non-null    object        \n",
      " 7   post_author        712 non-null    float64       \n",
      " 8   post_date          712 non-null    datetime64[ns]\n",
      " 9   post_date_gmt      712 non-null    datetime64[ns]\n",
      " 10  product_type       712 non-null    object        \n",
      " 11  post_title         712 non-null    object        \n",
      " 12  post_excerpt       360 non-null    object        \n",
      " 13  post_status        712 non-null    object        \n",
      " 14  comment_status     712 non-null    object        \n",
      " 15  ping_status        712 non-null    object        \n",
      " 16  post_name          712 non-null    object        \n",
      " 17  post_modified      712 non-null    datetime64[ns]\n",
      " 18  post_modified_gmt  712 non-null    datetime64[ns]\n",
      " 19  post_parent        712 non-null    float64       \n",
      " 20  guid               712 non-null    object        \n",
      " 21  menu_order         712 non-null    float64       \n",
      " 22  post_type          712 non-null    object        \n",
      " 23  post_mime_type     352 non-null    object        \n",
      " 24  comment_count      712 non-null    float64       \n",
      "dtypes: datetime64[ns](4), float64(6), int64(3), object(12)\n",
      "memory usage: 144.6+ KB\n"
     ]
    }
   ],
   "source": [
    "df_web.info()"
   ]
  },
  {
   "cell_type": "markdown",
   "id": "fe4c51d7",
   "metadata": {},
   "source": [
    "<div style=\"border: 1px solid RGB(51,165,182);\" >\n",
    "<h3 style=\"margin: auto; padding: 20px; color: RGB(51,165,182); \">Etape 3.2 - Jonction du fichier df_merge et df_web</h3>\n",
    "</div>"
   ]
  },
  {
   "cell_type": "code",
   "execution_count": 102,
   "id": "46d9382b",
   "metadata": {},
   "outputs": [],
   "source": [
    "#Fusionnez les datasets df_merge et df_web\n",
    "# df_merged\n",
    "#df_web = pd.merge(df_web, df_liaison[['id_web', 'product_id']], left_on='sku', right_on='id_web', how='left')\n",
    "#df_web.head()\n",
    "#df_web.drop(columns=['id_web'], inplace=True)"
   ]
  },
  {
   "cell_type": "code",
   "execution_count": null,
   "id": "be81a66b",
   "metadata": {},
   "outputs": [],
   "source": []
  },
  {
   "cell_type": "code",
   "execution_count": 103,
   "id": "2021762f",
   "metadata": {},
   "outputs": [],
   "source": [
    "#Avons-nous des lignes sans correspondances?\n",
    "df_merged = df_merged.rename(columns={'_merge': 'merge_status'})\n",
    "df_final_merge = pd.merge(df_merged, df_web, left_on=\"id_web\", right_on=\"sku\", how=\"inner\", indicator=True)\n"
   ]
  },
  {
   "cell_type": "code",
   "execution_count": 104,
   "id": "e435735c",
   "metadata": {},
   "outputs": [
    {
     "data": {
      "text/html": [
       "<div>\n",
       "<style scoped>\n",
       "    .dataframe tbody tr th:only-of-type {\n",
       "        vertical-align: middle;\n",
       "    }\n",
       "\n",
       "    .dataframe tbody tr th {\n",
       "        vertical-align: top;\n",
       "    }\n",
       "\n",
       "    .dataframe thead th {\n",
       "        text-align: right;\n",
       "    }\n",
       "</style>\n",
       "<table border=\"1\" class=\"dataframe\">\n",
       "  <thead>\n",
       "    <tr style=\"text-align: right;\">\n",
       "      <th></th>\n",
       "      <th>product_id</th>\n",
       "      <th>onsale_web</th>\n",
       "      <th>price</th>\n",
       "      <th>stock_quantity</th>\n",
       "      <th>stock_status</th>\n",
       "      <th>purchase_price</th>\n",
       "      <th>id_web</th>\n",
       "      <th>merge_status</th>\n",
       "      <th>sku</th>\n",
       "      <th>virtual</th>\n",
       "      <th>...</th>\n",
       "      <th>post_name</th>\n",
       "      <th>post_modified</th>\n",
       "      <th>post_modified_gmt</th>\n",
       "      <th>post_parent</th>\n",
       "      <th>guid</th>\n",
       "      <th>menu_order</th>\n",
       "      <th>post_type</th>\n",
       "      <th>post_mime_type</th>\n",
       "      <th>comment_count</th>\n",
       "      <th>_merge</th>\n",
       "    </tr>\n",
       "  </thead>\n",
       "  <tbody>\n",
       "    <tr>\n",
       "      <th>0</th>\n",
       "      <td>3847</td>\n",
       "      <td>1</td>\n",
       "      <td>24.2</td>\n",
       "      <td>16</td>\n",
       "      <td>instock</td>\n",
       "      <td>12.88</td>\n",
       "      <td>15298</td>\n",
       "      <td>both</td>\n",
       "      <td>15298</td>\n",
       "      <td>0</td>\n",
       "      <td>...</td>\n",
       "      <td>pierre-jean-villa-saint-joseph-preface-2018</td>\n",
       "      <td>2019-12-30 09:30:29</td>\n",
       "      <td>2019-12-30 08:30:29</td>\n",
       "      <td>0.0</td>\n",
       "      <td>https://www.bottle-neck.fr/?post_type=product&amp;...</td>\n",
       "      <td>0.0</td>\n",
       "      <td>product</td>\n",
       "      <td>NaN</td>\n",
       "      <td>0.0</td>\n",
       "      <td>both</td>\n",
       "    </tr>\n",
       "    <tr>\n",
       "      <th>1</th>\n",
       "      <td>3849</td>\n",
       "      <td>1</td>\n",
       "      <td>34.3</td>\n",
       "      <td>10</td>\n",
       "      <td>instock</td>\n",
       "      <td>17.54</td>\n",
       "      <td>15296</td>\n",
       "      <td>both</td>\n",
       "      <td>15296</td>\n",
       "      <td>0</td>\n",
       "      <td>...</td>\n",
       "      <td>pierre-jean-villa-saint-joseph-tilde-2017</td>\n",
       "      <td>2019-12-21 09:00:17</td>\n",
       "      <td>2019-12-21 08:00:17</td>\n",
       "      <td>0.0</td>\n",
       "      <td>https://www.bottle-neck.fr/?post_type=product&amp;...</td>\n",
       "      <td>0.0</td>\n",
       "      <td>product</td>\n",
       "      <td>NaN</td>\n",
       "      <td>0.0</td>\n",
       "      <td>both</td>\n",
       "    </tr>\n",
       "    <tr>\n",
       "      <th>2</th>\n",
       "      <td>3850</td>\n",
       "      <td>1</td>\n",
       "      <td>20.8</td>\n",
       "      <td>0</td>\n",
       "      <td>outofstock</td>\n",
       "      <td>10.64</td>\n",
       "      <td>15300</td>\n",
       "      <td>both</td>\n",
       "      <td>15300</td>\n",
       "      <td>0</td>\n",
       "      <td>...</td>\n",
       "      <td>pierre-jean-villa-croze-hermitage-accroche-coe...</td>\n",
       "      <td>2020-06-26 18:15:03</td>\n",
       "      <td>2020-06-26 16:15:03</td>\n",
       "      <td>0.0</td>\n",
       "      <td>https://www.bottle-neck.fr/wp-content/uploads/...</td>\n",
       "      <td>0.0</td>\n",
       "      <td>attachment</td>\n",
       "      <td>image/jpeg</td>\n",
       "      <td>0.0</td>\n",
       "      <td>both</td>\n",
       "    </tr>\n",
       "    <tr>\n",
       "      <th>3</th>\n",
       "      <td>4032</td>\n",
       "      <td>1</td>\n",
       "      <td>14.1</td>\n",
       "      <td>26</td>\n",
       "      <td>instock</td>\n",
       "      <td>6.92</td>\n",
       "      <td>19814</td>\n",
       "      <td>both</td>\n",
       "      <td>19814</td>\n",
       "      <td>0</td>\n",
       "      <td>...</td>\n",
       "      <td>pierre-jean-villa-igp-gamine-2018</td>\n",
       "      <td>2020-01-04 16:36:01</td>\n",
       "      <td>2020-01-04 15:36:01</td>\n",
       "      <td>0.0</td>\n",
       "      <td>https://www.bottle-neck.fr/wp-content/uploads/...</td>\n",
       "      <td>0.0</td>\n",
       "      <td>attachment</td>\n",
       "      <td>image/jpeg</td>\n",
       "      <td>0.0</td>\n",
       "      <td>both</td>\n",
       "    </tr>\n",
       "    <tr>\n",
       "      <th>4</th>\n",
       "      <td>4039</td>\n",
       "      <td>1</td>\n",
       "      <td>46.0</td>\n",
       "      <td>3</td>\n",
       "      <td>instock</td>\n",
       "      <td>23.77</td>\n",
       "      <td>19815</td>\n",
       "      <td>both</td>\n",
       "      <td>19815</td>\n",
       "      <td>0</td>\n",
       "      <td>...</td>\n",
       "      <td>pierre-jean-villa-cote-rotie-carmina-2017</td>\n",
       "      <td>2020-01-04 16:36:10</td>\n",
       "      <td>2020-01-04 15:36:10</td>\n",
       "      <td>0.0</td>\n",
       "      <td>https://www.bottle-neck.fr/wp-content/uploads/...</td>\n",
       "      <td>0.0</td>\n",
       "      <td>attachment</td>\n",
       "      <td>image/jpeg</td>\n",
       "      <td>0.0</td>\n",
       "      <td>both</td>\n",
       "    </tr>\n",
       "  </tbody>\n",
       "</table>\n",
       "<p>5 rows × 34 columns</p>\n",
       "</div>"
      ],
      "text/plain": [
       "   product_id  onsale_web  price  stock_quantity stock_status  purchase_price  \\\n",
       "0        3847           1   24.2              16      instock           12.88   \n",
       "1        3849           1   34.3              10      instock           17.54   \n",
       "2        3850           1   20.8               0   outofstock           10.64   \n",
       "3        4032           1   14.1              26      instock            6.92   \n",
       "4        4039           1   46.0               3      instock           23.77   \n",
       "\n",
       "  id_web merge_status    sku  virtual  ...  \\\n",
       "0  15298         both  15298        0  ...   \n",
       "1  15296         both  15296        0  ...   \n",
       "2  15300         both  15300        0  ...   \n",
       "3  19814         both  19814        0  ...   \n",
       "4  19815         both  19815        0  ...   \n",
       "\n",
       "                                           post_name       post_modified  \\\n",
       "0        pierre-jean-villa-saint-joseph-preface-2018 2019-12-30 09:30:29   \n",
       "1          pierre-jean-villa-saint-joseph-tilde-2017 2019-12-21 09:00:17   \n",
       "2  pierre-jean-villa-croze-hermitage-accroche-coe... 2020-06-26 18:15:03   \n",
       "3                  pierre-jean-villa-igp-gamine-2018 2020-01-04 16:36:01   \n",
       "4          pierre-jean-villa-cote-rotie-carmina-2017 2020-01-04 16:36:10   \n",
       "\n",
       "    post_modified_gmt  post_parent  \\\n",
       "0 2019-12-30 08:30:29          0.0   \n",
       "1 2019-12-21 08:00:17          0.0   \n",
       "2 2020-06-26 16:15:03          0.0   \n",
       "3 2020-01-04 15:36:01          0.0   \n",
       "4 2020-01-04 15:36:10          0.0   \n",
       "\n",
       "                                                guid  menu_order   post_type  \\\n",
       "0  https://www.bottle-neck.fr/?post_type=product&...         0.0     product   \n",
       "1  https://www.bottle-neck.fr/?post_type=product&...         0.0     product   \n",
       "2  https://www.bottle-neck.fr/wp-content/uploads/...         0.0  attachment   \n",
       "3  https://www.bottle-neck.fr/wp-content/uploads/...         0.0  attachment   \n",
       "4  https://www.bottle-neck.fr/wp-content/uploads/...         0.0  attachment   \n",
       "\n",
       "  post_mime_type comment_count _merge  \n",
       "0            NaN           0.0   both  \n",
       "1            NaN           0.0   both  \n",
       "2     image/jpeg           0.0   both  \n",
       "3     image/jpeg           0.0   both  \n",
       "4     image/jpeg           0.0   both  \n",
       "\n",
       "[5 rows x 34 columns]"
      ]
     },
     "execution_count": 104,
     "metadata": {},
     "output_type": "execute_result"
    }
   ],
   "source": [
    "df_final_merge.head()\n"
   ]
  },
  {
   "cell_type": "markdown",
   "id": "13d81fd6",
   "metadata": {},
   "source": [
    "<div style=\"background-color: RGB(51,165,182);\" >\n",
    "<h2 style=\"margin: auto; padding: 20px; color:#fff; \">Etape 4 - Analyse univarié des prix</h2>\n",
    "</div>"
   ]
  },
  {
   "cell_type": "markdown",
   "id": "9c8d0615",
   "metadata": {},
   "source": [
    "<div style=\"border: 1px solid RGB(51,165,182);\" >\n",
    "<h3 style=\"margin: auto; padding: 20px; color: RGB(51,165,182); \">Etape 4.1 - Exploration par la visualisation de données</h3>\n",
    "</div>"
   ]
  },
  {
   "cell_type": "code",
   "execution_count": 105,
   "id": "3be61f06",
   "metadata": {},
   "outputs": [
    {
     "data": {
      "image/png": "[encoded data removed]",
      "text/plain": [
       "<Figure size 1000x600 with 1 Axes>"
      ]
     },
     "metadata": {},
     "output_type": "display_data"
    }
   ],
   "source": [
    "#Création d'une Boite à moustache de la répartition des prix grâce à Pandas\n",
    "import matplotlib.pyplot as plt\n",
    "\n",
    "plt.figure(figsize=(10, 6))\n",
    "df_final_merge['price'].plot(kind='box', vert=False, color='skyblue')\n",
    "\n",
    "plt.title('Distribution of Prices')\n",
    "plt.xlabel('Price')\n",
    "\n",
    "plt.show()"
   ]
  },
  {
   "cell_type": "code",
   "execution_count": 106,
   "id": "cbfe6346",
   "metadata": {},
   "outputs": [
    {
     "data": {
      "application/vnd.plotly.v1+json": {
       "config": {
        "plotlyServerURL": "https://plot.ly"
       },
       "data": [
        {
         "alignmentgroup": "True",
         "hovertemplate": "price=%{x}<extra></extra>",
         "legendgroup": "",
         "marker": {
          "color": "#636efa"
         },
         "name": "",
         "notched": false,
         "offsetgroup": "",
         "orientation": "h",
         "showlegend": false,
         "type": "box",
         "x": [
          24.2,
          34.3,
          20.8,
          14.1,
          46,
          34.3,
          32.7,
          31.2,
          60,
          42.6,
          80,
          18.3,
          22.8,
          19.3,
          21.8,
          7.7,
          33.7,
          44.3,
          71.6,
          12.7,
          8.7,
          8.7,
          8.7,
          11.9,
          11.9,
          14.5,
          14.4,
          19.5,
          20.8,
          22,
          16.6,
          60,
          23.4,
          33.2,
          32,
          77.8,
          12.7,
          14.7,
          14.05,
          22.9,
          44,
          37,
          39,
          17,
          23.2,
          19,
          16.4,
          14.4,
          13.7,
          12.6,
          22.8,
          12.8,
          22.1,
          12.8,
          15.8,
          15.8,
          16.3,
          16.3,
          9.7,
          6.8,
          12.6,
          35,
          31.7,
          100,
          23,
          88.4,
          29.8,
          25.7,
          77.4,
          39,
          53,
          49,
          29.5,
          33,
          37.5,
          69,
          59,
          13.7,
          19.2,
          29,
          9.8,
          14.5,
          20.35,
          12,
          18.5,
          9.3,
          9.3,
          11.6,
          14.3,
          10.8,
          7.6,
          12,
          20.5,
          14.3,
          18.2,
          9,
          7.8,
          5.7,
          5.7,
          5.7,
          13.5,
          13.5,
          11.5,
          24,
          24,
          11.9,
          16.7,
          21.4,
          16.6,
          13.3,
          9.5,
          12.1,
          9.3,
          17.8,
          13.5,
          10.8,
          27.2,
          9.4,
          5.8,
          5.8,
          38,
          38,
          9.9,
          11.3,
          23,
          6.7,
          7.6,
          79.8,
          48.5,
          39.8,
          58.8,
          26.5,
          13.4,
          17.1,
          16.7,
          11.6,
          12.8,
          8.9,
          9.7,
          17.2,
          16.9,
          12.6,
          29.9,
          9.6,
          11.1,
          11.1,
          17.1,
          28,
          28,
          8.9,
          8.6,
          13.5,
          8.9,
          15.3,
          14.8,
          19.5,
          14.1,
          59.6,
          26.9,
          24.4,
          31.7,
          32.1,
          12.2,
          9.9,
          15.8,
          15.8,
          17.8,
          9.6,
          19,
          15.2,
          10.2,
          15.5,
          16.6,
          9.2,
          12.9,
          14.9,
          17.6,
          24.8,
          18.9,
          11.6,
          27,
          41,
          69.8,
          38.6,
          26.7,
          19,
          23.2,
          39.1,
          44,
          17.5,
          30,
          8.1,
          10.7,
          10.9,
          49,
          35.5,
          83,
          59,
          79.5,
          225,
          79.5,
          12.65,
          51.6,
          39,
          77,
          85.6,
          49.5,
          49.5,
          49.5,
          57,
          59.8,
          27.5,
          62,
          59,
          59,
          59,
          44,
          62.5,
          176,
          108.5,
          68.1,
          157,
          104,
          28.1,
          21.7,
          28.5,
          67.2,
          109.6,
          43.9,
          61.6,
          41.8,
          26.5,
          16.1,
          31.5,
          31.5,
          49,
          32.2,
          50.1,
          13.4,
          11.8,
          13.1,
          26.2,
          20.6,
          16.9,
          19,
          24,
          57,
          67.5,
          30.6,
          59,
          11.9,
          16.5,
          52.4,
          52.9,
          58.3,
          39.6,
          52.4,
          62.4,
          76.8,
          50,
          52.4,
          41,
          62.4,
          50,
          21.5,
          28.5,
          24.3,
          16.5,
          25.3,
          49,
          36.2,
          33.4,
          40.2,
          43,
          43,
          48.8,
          20.8,
          16.4,
          14.4,
          21,
          12.3,
          20.2,
          17,
          21.9,
          17.8,
          19.8,
          19,
          10.7,
          12.9,
          9.5,
          29.8,
          13.2,
          6.3,
          7.1,
          9.1,
          9.1,
          18.1,
          14,
          30.1,
          12.8,
          12.8,
          19.8,
          18.2,
          31.6,
          16.8,
          22.8,
          32.6,
          44,
          55.4,
          15.8,
          18.4,
          13.3,
          11.1,
          18.6,
          23.4,
          18.2,
          12.5,
          15.9,
          13.7,
          29,
          23.4,
          12.7,
          26,
          29.5,
          8.6,
          14.3,
          22,
          16.8,
          15.3,
          7.4,
          9.7,
          14.5,
          11.9,
          16.4,
          27.9,
          12,
          7.4,
          26.5,
          24.3,
          16.9,
          6.8,
          13.9,
          7.8,
          13.7,
          9.8,
          29.5,
          28.5,
          10.1,
          12.1,
          12.3,
          11.1,
          11.1,
          13.6,
          21,
          18.7,
          41.6,
          12,
          78,
          14.9,
          6.5,
          8.7,
          8.5,
          9.9,
          8.2,
          9.8,
          9.9,
          9.3,
          22.8,
          18.7,
          28.4,
          27.9,
          25.3,
          17,
          27.9,
          20.1,
          27.9,
          21.2,
          20.8,
          41,
          46,
          102.3,
          137,
          22.9,
          53.2,
          25.9,
          17.3,
          25.9,
          28,
          25.9,
          25.9,
          37.2,
          24.4,
          24.4,
          7,
          12.8,
          23.2,
          7.9,
          6.5,
          7.9,
          16.7,
          17.5,
          27.8,
          25.7,
          18.4,
          22.2,
          11.1,
          9.9,
          12.5,
          12.9,
          20.5,
          11.3,
          7,
          12.1,
          7.1,
          49.5,
          23,
          23.7,
          16.45,
          16.3,
          18.5,
          26.5,
          78,
          78,
          78,
          27.3,
          217.5,
          64.9,
          48.7,
          59.4,
          48.7,
          105,
          105,
          55.6,
          9.3,
          19.8,
          45,
          112,
          86.8,
          62.1,
          22.5,
          7.5,
          52.6,
          45,
          67,
          59.9,
          59.9,
          65,
          15.2,
          19,
          11.1,
          18,
          22.8,
          19.5,
          28.8,
          16.1,
          24.2,
          35.3,
          10.7,
          12.7,
          17.1,
          24,
          39,
          13.2,
          23.6,
          15.5,
          16.3,
          16.2,
          7.2,
          54.8,
          42,
          19.8,
          10.2,
          10.4,
          11.5,
          17.9,
          21.6,
          33.4,
          49.5,
          43.5,
          43.5,
          26.5,
          13.8,
          18.2,
          12.9,
          38.6,
          48.4,
          60.4,
          38.6,
          12,
          61.6,
          65.9,
          15.2,
          24.6,
          48.8,
          34.3,
          36.3,
          57.7,
          38,
          58,
          58,
          30.8,
          92,
          27.5,
          34.7,
          59.6,
          83.7,
          30.5,
          38.6,
          18,
          63.4,
          124.8,
          19.2,
          19.2,
          56.4,
          38.4,
          27.8,
          71.3,
          71.3,
          25,
          10.3,
          28,
          44.6,
          13,
          12.7,
          6.5,
          17.5,
          29.9,
          44.5,
          29.4,
          16.9,
          19.8,
          10.3,
          10.8,
          31.7,
          25,
          57.6,
          13.7,
          7.1,
          14.9,
          11,
          14.6,
          10.7,
          73.3,
          42.1,
          57,
          24.5,
          10.1,
          42.2,
          13.1,
          19.5,
          12.9,
          35.6,
          175,
          35.6,
          33.6,
          34.4,
          38.4,
          29.7,
          32.8,
          5.7,
          5.8,
          5.8,
          21.7,
          23,
          12.5,
          17.2,
          40.2,
          24,
          23.8,
          17.1,
          25,
          17.4,
          27.3,
          17.9,
          24,
          16.6,
          16.9,
          57.6,
          63.5,
          56,
          63.5,
          41.2,
          55,
          57,
          19.3,
          19,
          191.3,
          26.6,
          15.4,
          24.7,
          28.1,
          18.25,
          35.1,
          27.3,
          18.8,
          43.9,
          19.8,
          17.7,
          57,
          36,
          36,
          93,
          122,
          114,
          48.5,
          49.5,
          14.1,
          59.9,
          46,
          74.5,
          17.2,
          8.7,
          15.4,
          12.7,
          30,
          13.5,
          16.3,
          56.3,
          71.5,
          69,
          17.9,
          48.5,
          71.7,
          8.5,
          10.9,
          21.8,
          38.5,
          9.3,
          13.6,
          24.5,
          12.6,
          13.4,
          29.8,
          36.9,
          40.7,
          33.2,
          34.8,
          74.8,
          62.4,
          46,
          39.2,
          135,
          10.6,
          10.6,
          5.2,
          46,
          105.6,
          116.4,
          31,
          20.2,
          25.2,
          25.2,
          115,
          121,
          99,
          115,
          121,
          23.5,
          26.4,
          26.7,
          20.4,
          20.4,
          40.2,
          9,
          45.9,
          10.4,
          78,
          40.5,
          27.9,
          22.4,
          28.4,
          72,
          29,
          29.2,
          44,
          68.3,
          41.8,
          40,
          13.5,
          19,
          24.4,
          32.8,
          15.4,
          9.9,
          13.5,
          51,
          35.2,
          42.2,
          33.2,
          41.8,
          32.2,
          37.7,
          47.2,
          52.7,
          22.4,
          50.4,
          35.6,
          27.7,
          48.5,
          15.4,
          46.5,
          46.5,
          46.5,
          42,
          21.8,
          50.5,
          49.9,
          19,
          8.4,
          27.5,
          69,
          16.3
         ],
         "x0": " ",
         "xaxis": "x",
         "y0": " ",
         "yaxis": "y"
        }
       ],
       "layout": {
        "boxmode": "group",
        "legend": {
         "tracegroupgap": 0
        },
        "template": {
         "data": {
          "bar": [
           {
            "error_x": {
             "color": "#2a3f5f"
            },
            "error_y": {
             "color": "#2a3f5f"
            },
            "marker": {
             "line": {
              "color": "#E5ECF6",
              "width": 0.5
             },
             "pattern": {
              "fillmode": "overlay",
              "size": 10,
              "solidity": 0.2
             }
            },
            "type": "bar"
           }
          ],
          "barpolar": [
           {
            "marker": {
             "line": {
              "color": "#E5ECF6",
              "width": 0.5
             },
             "pattern": {
              "fillmode": "overlay",
              "size": 10,
              "solidity": 0.2
             }
            },
            "type": "barpolar"
           }
          ],
          "carpet": [
           {
            "aaxis": {
             "endlinecolor": "#2a3f5f",
             "gridcolor": "white",
             "linecolor": "white",
             "minorgridcolor": "white",
             "startlinecolor": "#2a3f5f"
            },
            "baxis": {
             "endlinecolor": "#2a3f5f",
             "gridcolor": "white",
             "linecolor": "white",
             "minorgridcolor": "white",
             "startlinecolor": "#2a3f5f"
            },
            "type": "carpet"
           }
          ],
          "choropleth": [
           {
            "colorbar": {
             "outlinewidth": 0,
             "ticks": ""
            },
            "type": "choropleth"
           }
          ],
          "contour": [
           {
            "colorbar": {
             "outlinewidth": 0,
             "ticks": ""
            },
            "colorscale": [
             [
              0,
              "#0d0887"
             ],
             [
              0.1111111111111111,
              "#46039f"
             ],
             [
              0.2222222222222222,
              "#7201a8"
             ],
             [
              0.3333333333333333,
              "#9c179e"
             ],
             [
              0.4444444444444444,
              "#bd3786"
             ],
             [
              0.5555555555555556,
              "#d8576b"
             ],
             [
              0.6666666666666666,
              "#ed7953"
             ],
             [
              0.7777777777777778,
              "#fb9f3a"
             ],
             [
              0.8888888888888888,
              "#fdca26"
             ],
             [
              1,
              "#f0f921"
             ]
            ],
            "type": "contour"
           }
          ],
          "contourcarpet": [
           {
            "colorbar": {
             "outlinewidth": 0,
             "ticks": ""
            },
            "type": "contourcarpet"
           }
          ],
          "heatmap": [
           {
            "colorbar": {
             "outlinewidth": 0,
             "ticks": ""
            },
            "colorscale": [
             [
              0,
              "#0d0887"
             ],
             [
              0.1111111111111111,
              "#46039f"
             ],
             [
              0.2222222222222222,
              "#7201a8"
             ],
             [
              0.3333333333333333,
              "#9c179e"
             ],
             [
              0.4444444444444444,
              "#bd3786"
             ],
             [
              0.5555555555555556,
              "#d8576b"
             ],
             [
              0.6666666666666666,
              "#ed7953"
             ],
             [
              0.7777777777777778,
              "#fb9f3a"
             ],
             [
              0.8888888888888888,
              "#fdca26"
             ],
             [
              1,
              "#f0f921"
             ]
            ],
            "type": "heatmap"
           }
          ],
          "heatmapgl": [
           {
            "colorbar": {
             "outlinewidth": 0,
             "ticks": ""
            },
            "colorscale": [
             [
              0,
              "#0d0887"
             ],
             [
              0.1111111111111111,
              "#46039f"
             ],
             [
              0.2222222222222222,
              "#7201a8"
             ],
             [
              0.3333333333333333,
              "#9c179e"
             ],
             [
              0.4444444444444444,
              "#bd3786"
             ],
             [
              0.5555555555555556,
              "#d8576b"
             ],
             [
              0.6666666666666666,
              "#ed7953"
             ],
             [
              0.7777777777777778,
              "#fb9f3a"
             ],
             [
              0.8888888888888888,
              "#fdca26"
             ],
             [
              1,
              "#f0f921"
             ]
            ],
            "type": "heatmapgl"
           }
          ],
          "histogram": [
           {
            "marker": {
             "pattern": {
              "fillmode": "overlay",
              "size": 10,
              "solidity": 0.2
             }
            },
            "type": "histogram"
           }
          ],
          "histogram2d": [
           {
            "colorbar": {
             "outlinewidth": 0,
             "ticks": ""
            },
            "colorscale": [
             [
              0,
              "#0d0887"
             ],
             [
              0.1111111111111111,
              "#46039f"
             ],
             [
              0.2222222222222222,
              "#7201a8"
             ],
             [
              0.3333333333333333,
              "#9c179e"
             ],
             [
              0.4444444444444444,
              "#bd3786"
             ],
             [
              0.5555555555555556,
              "#d8576b"
             ],
             [
              0.6666666666666666,
              "#ed7953"
             ],
             [
              0.7777777777777778,
              "#fb9f3a"
             ],
             [
              0.8888888888888888,
              "#fdca26"
             ],
             [
              1,
              "#f0f921"
             ]
            ],
            "type": "histogram2d"
           }
          ],
          "histogram2dcontour": [
           {
            "colorbar": {
             "outlinewidth": 0,
             "ticks": ""
            },
            "colorscale": [
             [
              0,
              "#0d0887"
             ],
             [
              0.1111111111111111,
              "#46039f"
             ],
             [
              0.2222222222222222,
              "#7201a8"
             ],
             [
              0.3333333333333333,
              "#9c179e"
             ],
             [
              0.4444444444444444,
              "#bd3786"
             ],
             [
              0.5555555555555556,
              "#d8576b"
             ],
             [
              0.6666666666666666,
              "#ed7953"
             ],
             [
              0.7777777777777778,
              "#fb9f3a"
             ],
             [
              0.8888888888888888,
              "#fdca26"
             ],
             [
              1,
              "#f0f921"
             ]
            ],
            "type": "histogram2dcontour"
           }
          ],
          "mesh3d": [
           {
            "colorbar": {
             "outlinewidth": 0,
             "ticks": ""
            },
            "type": "mesh3d"
           }
          ],
          "parcoords": [
           {
            "line": {
             "colorbar": {
              "outlinewidth": 0,
              "ticks": ""
             }
            },
            "type": "parcoords"
           }
          ],
          "pie": [
           {
            "automargin": true,
            "type": "pie"
           }
          ],
          "scatter": [
           {
            "fillpattern": {
             "fillmode": "overlay",
             "size": 10,
             "solidity": 0.2
            },
            "type": "scatter"
           }
          ],
          "scatter3d": [
           {
            "line": {
             "colorbar": {
              "outlinewidth": 0,
              "ticks": ""
             }
            },
            "marker": {
             "colorbar": {
              "outlinewidth": 0,
              "ticks": ""
             }
            },
            "type": "scatter3d"
           }
          ],
          "scattercarpet": [
           {
            "marker": {
             "colorbar": {
              "outlinewidth": 0,
              "ticks": ""
             }
            },
            "type": "scattercarpet"
           }
          ],
          "scattergeo": [
           {
            "marker": {
             "colorbar": {
              "outlinewidth": 0,
              "ticks": ""
             }
            },
            "type": "scattergeo"
           }
          ],
          "scattergl": [
           {
            "marker": {
             "colorbar": {
              "outlinewidth": 0,
              "ticks": ""
             }
            },
            "type": "scattergl"
           }
          ],
          "scattermapbox": [
           {
            "marker": {
             "colorbar": {
              "outlinewidth": 0,
              "ticks": ""
             }
            },
            "type": "scattermapbox"
           }
          ],
          "scatterpolar": [
           {
            "marker": {
             "colorbar": {
              "outlinewidth": 0,
              "ticks": ""
             }
            },
            "type": "scatterpolar"
           }
          ],
          "scatterpolargl": [
           {
            "marker": {
             "colorbar": {
              "outlinewidth": 0,
              "ticks": ""
             }
            },
            "type": "scatterpolargl"
           }
          ],
          "scatterternary": [
           {
            "marker": {
             "colorbar": {
              "outlinewidth": 0,
              "ticks": ""
             }
            },
            "type": "scatterternary"
           }
          ],
          "surface": [
           {
            "colorbar": {
             "outlinewidth": 0,
             "ticks": ""
            },
            "colorscale": [
             [
              0,
              "#0d0887"
             ],
             [
              0.1111111111111111,
              "#46039f"
             ],
             [
              0.2222222222222222,
              "#7201a8"
             ],
             [
              0.3333333333333333,
              "#9c179e"
             ],
             [
              0.4444444444444444,
              "#bd3786"
             ],
             [
              0.5555555555555556,
              "#d8576b"
             ],
             [
              0.6666666666666666,
              "#ed7953"
             ],
             [
              0.7777777777777778,
              "#fb9f3a"
             ],
             [
              0.8888888888888888,
              "#fdca26"
             ],
             [
              1,
              "#f0f921"
             ]
            ],
            "type": "surface"
           }
          ],
          "table": [
           {
            "cells": {
             "fill": {
              "color": "#EBF0F8"
             },
             "line": {
              "color": "white"
             }
            },
            "header": {
             "fill": {
              "color": "#C8D4E3"
             },
             "line": {
              "color": "white"
             }
            },
            "type": "table"
           }
          ]
         },
         "layout": {
          "annotationdefaults": {
           "arrowcolor": "#2a3f5f",
           "arrowhead": 0,
           "arrowwidth": 1
          },
          "autotypenumbers": "strict",
          "coloraxis": {
           "colorbar": {
            "outlinewidth": 0,
            "ticks": ""
           }
          },
          "colorscale": {
           "diverging": [
            [
             0,
             "#8e0152"
            ],
            [
             0.1,
             "#c51b7d"
            ],
            [
             0.2,
             "#de77ae"
            ],
            [
             0.3,
             "#f1b6da"
            ],
            [
             0.4,
             "#fde0ef"
            ],
            [
             0.5,
             "#f7f7f7"
            ],
            [
             0.6,
             "#e6f5d0"
            ],
            [
             0.7,
             "#b8e186"
            ],
            [
             0.8,
             "#7fbc41"
            ],
            [
             0.9,
             "#4d9221"
            ],
            [
             1,
             "#276419"
            ]
           ],
           "sequential": [
            [
             0,
             "#0d0887"
            ],
            [
             0.1111111111111111,
             "#46039f"
            ],
            [
             0.2222222222222222,
             "#7201a8"
            ],
            [
             0.3333333333333333,
             "#9c179e"
            ],
            [
             0.4444444444444444,
             "#bd3786"
            ],
            [
             0.5555555555555556,
             "#d8576b"
            ],
            [
             0.6666666666666666,
             "#ed7953"
            ],
            [
             0.7777777777777778,
             "#fb9f3a"
            ],
            [
             0.8888888888888888,
             "#fdca26"
            ],
            [
             1,
             "#f0f921"
            ]
           ],
           "sequentialminus": [
            [
             0,
             "#0d0887"
            ],
            [
             0.1111111111111111,
             "#46039f"
            ],
            [
             0.2222222222222222,
             "#7201a8"
            ],
            [
             0.3333333333333333,
             "#9c179e"
            ],
            [
             0.4444444444444444,
             "#bd3786"
            ],
            [
             0.5555555555555556,
             "#d8576b"
            ],
            [
             0.6666666666666666,
             "#ed7953"
            ],
            [
             0.7777777777777778,
             "#fb9f3a"
            ],
            [
             0.8888888888888888,
             "#fdca26"
            ],
            [
             1,
             "#f0f921"
            ]
           ]
          },
          "colorway": [
           "#636efa",
           "#EF553B",
           "#00cc96",
           "#ab63fa",
           "#FFA15A",
           "#19d3f3",
           "#FF6692",
           "#B6E880",
           "#FF97FF",
           "#FECB52"
          ],
          "font": {
           "color": "#2a3f5f"
          },
          "geo": {
           "bgcolor": "white",
           "lakecolor": "white",
           "landcolor": "#E5ECF6",
           "showlakes": true,
           "showland": true,
           "subunitcolor": "white"
          },
          "hoverlabel": {
           "align": "left"
          },
          "hovermode": "closest",
          "mapbox": {
           "style": "light"
          },
          "paper_bgcolor": "white",
          "plot_bgcolor": "#E5ECF6",
          "polar": {
           "angularaxis": {
            "gridcolor": "white",
            "linecolor": "white",
            "ticks": ""
           },
           "bgcolor": "#E5ECF6",
           "radialaxis": {
            "gridcolor": "white",
            "linecolor": "white",
            "ticks": ""
           }
          },
          "scene": {
           "xaxis": {
            "backgroundcolor": "#E5ECF6",
            "gridcolor": "white",
            "gridwidth": 2,
            "linecolor": "white",
            "showbackground": true,
            "ticks": "",
            "zerolinecolor": "white"
           },
           "yaxis": {
            "backgroundcolor": "#E5ECF6",
            "gridcolor": "white",
            "gridwidth": 2,
            "linecolor": "white",
            "showbackground": true,
            "ticks": "",
            "zerolinecolor": "white"
           },
           "zaxis": {
            "backgroundcolor": "#E5ECF6",
            "gridcolor": "white",
            "gridwidth": 2,
            "linecolor": "white",
            "showbackground": true,
            "ticks": "",
            "zerolinecolor": "white"
           }
          },
          "shapedefaults": {
           "line": {
            "color": "#2a3f5f"
           }
          },
          "ternary": {
           "aaxis": {
            "gridcolor": "white",
            "linecolor": "white",
            "ticks": ""
           },
           "baxis": {
            "gridcolor": "white",
            "linecolor": "white",
            "ticks": ""
           },
           "bgcolor": "#E5ECF6",
           "caxis": {
            "gridcolor": "white",
            "linecolor": "white",
            "ticks": ""
           }
          },
          "title": {
           "x": 0.05
          },
          "xaxis": {
           "automargin": true,
           "gridcolor": "white",
           "linecolor": "white",
           "ticks": "",
           "title": {
            "standoff": 15
           },
           "zerolinecolor": "white",
           "zerolinewidth": 2
          },
          "yaxis": {
           "automargin": true,
           "gridcolor": "white",
           "linecolor": "white",
           "ticks": "",
           "title": {
            "standoff": 15
           },
           "zerolinecolor": "white",
           "zerolinewidth": 2
          }
         }
        },
        "title": {
         "text": "Distribution of Prices"
        },
        "xaxis": {
         "anchor": "y",
         "domain": [
          0,
          1
         ],
         "title": {
          "text": "price"
         }
        },
        "yaxis": {
         "anchor": "x",
         "domain": [
          0,
          1
         ]
        }
       }
      },
      "text/html": [
       "<div>                            <div id=\"a93f6011-cdac-40df-accf-3b6932cfddeb\" class=\"plotly-graph-div\" style=\"height:525px; width:100%;\"></div>            <script type=\"text/javascript\">                require([\"plotly\"], function(Plotly) {                    window.PLOTLYENV=window.PLOTLYENV || {};                                    if (document.getElementById(\"a93f6011-cdac-40df-accf-3b6932cfddeb\")) {                    Plotly.newPlot(                        \"a93f6011-cdac-40df-accf-3b6932cfddeb\",                        [{\"alignmentgroup\":\"True\",\"hovertemplate\":\"price=%{x}<extra></extra>\",\"legendgroup\":\"\",\"marker\":{\"color\":\"#636efa\"},\"name\":\"\",\"notched\":false,\"offsetgroup\":\"\",\"orientation\":\"h\",\"showlegend\":false,\"x\":[24.2,34.3,20.8,14.1,46.0,34.3,32.7,31.2,60.0,42.6,80.0,18.3,22.8,19.3,21.8,7.7,33.7,44.3,71.6,12.7,8.7,8.7,8.7,11.9,11.9,14.5,14.4,19.5,20.8,22.0,16.6,60.0,23.4,33.2,32.0,77.8,12.7,14.7,14.05,22.9,44.0,37.0,39.0,17.0,23.2,19.0,16.4,14.4,13.7,12.6,22.8,12.8,22.1,12.8,15.8,15.8,16.3,16.3,9.7,6.8,12.6,35.0,31.7,100.0,23.0,88.4,29.8,25.7,77.4,39.0,53.0,49.0,29.5,33.0,37.5,69.0,59.0,13.7,19.2,29.0,9.8,14.5,20.35,12.0,18.5,9.3,9.3,11.6,14.3,10.8,7.6,12.0,20.5,14.3,18.2,9.0,7.8,5.7,5.7,5.7,13.5,13.5,11.5,24.0,24.0,11.9,16.7,21.4,16.6,13.3,9.5,12.1,9.3,17.8,13.5,10.8,27.2,9.4,5.8,5.8,38.0,38.0,9.9,11.3,23.0,6.7,7.6,79.8,48.5,39.8,58.8,26.5,13.4,17.1,16.7,11.6,12.8,8.9,9.7,17.2,16.9,12.6,29.9,9.6,11.1,11.1,17.1,28.0,28.0,8.9,8.6,13.5,8.9,15.3,14.8,19.5,14.1,59.6,26.9,24.4,31.7,32.1,12.2,9.9,15.8,15.8,17.8,9.6,19.0,15.2,10.2,15.5,16.6,9.2,12.9,14.9,17.6,24.8,18.9,11.6,27.0,41.0,69.8,38.6,26.7,19.0,23.2,39.1,44.0,17.5,30.0,8.1,10.7,10.9,49.0,35.5,83.0,59.0,79.5,225.0,79.5,12.65,51.6,39.0,77.0,85.6,49.5,49.5,49.5,57.0,59.8,27.5,62.0,59.0,59.0,59.0,44.0,62.5,176.0,108.5,68.1,157.0,104.0,28.1,21.7,28.5,67.2,109.6,43.9,61.6,41.8,26.5,16.1,31.5,31.5,49.0,32.2,50.1,13.4,11.8,13.1,26.2,20.6,16.9,19.0,24.0,57.0,67.5,30.6,59.0,11.9,16.5,52.4,52.9,58.3,39.6,52.4,62.4,76.8,50.0,52.4,41.0,62.4,50.0,21.5,28.5,24.3,16.5,25.3,49.0,36.2,33.4,40.2,43.0,43.0,48.8,20.8,16.4,14.4,21.0,12.3,20.2,17.0,21.9,17.8,19.8,19.0,10.7,12.9,9.5,29.8,13.2,6.3,7.1,9.1,9.1,18.1,14.0,30.1,12.8,12.8,19.8,18.2,31.6,16.8,22.8,32.6,44.0,55.4,15.8,18.4,13.3,11.1,18.6,23.4,18.2,12.5,15.9,13.7,29.0,23.4,12.7,26.0,29.5,8.6,14.3,22.0,16.8,15.3,7.4,9.7,14.5,11.9,16.4,27.9,12.0,7.4,26.5,24.3,16.9,6.8,13.9,7.8,13.7,9.8,29.5,28.5,10.1,12.1,12.3,11.1,11.1,13.6,21.0,18.7,41.6,12.0,78.0,14.9,6.5,8.7,8.5,9.9,8.2,9.8,9.9,9.3,22.8,18.7,28.4,27.9,25.3,17.0,27.9,20.1,27.9,21.2,20.8,41.0,46.0,102.3,137.0,22.9,53.2,25.9,17.3,25.9,28.0,25.9,25.9,37.2,24.4,24.4,7.0,12.8,23.2,7.9,6.5,7.9,16.7,17.5,27.8,25.7,18.4,22.2,11.1,9.9,12.5,12.9,20.5,11.3,7.0,12.1,7.1,49.5,23.0,23.7,16.45,16.3,18.5,26.5,78.0,78.0,78.0,27.3,217.5,64.9,48.7,59.4,48.7,105.0,105.0,55.6,9.3,19.8,45.0,112.0,86.8,62.1,22.5,7.5,52.6,45.0,67.0,59.9,59.9,65.0,15.2,19.0,11.1,18.0,22.8,19.5,28.8,16.1,24.2,35.3,10.7,12.7,17.1,24.0,39.0,13.2,23.6,15.5,16.3,16.2,7.2,54.8,42.0,19.8,10.2,10.4,11.5,17.9,21.6,33.4,49.5,43.5,43.5,26.5,13.8,18.2,12.9,38.6,48.4,60.4,38.6,12.0,61.6,65.9,15.2,24.6,48.8,34.3,36.3,57.7,38.0,58.0,58.0,30.8,92.0,27.5,34.7,59.6,83.7,30.5,38.6,18.0,63.4,124.8,19.2,19.2,56.4,38.4,27.8,71.3,71.3,25.0,10.3,28.0,44.6,13.0,12.7,6.5,17.5,29.9,44.5,29.4,16.9,19.8,10.3,10.8,31.7,25.0,57.6,13.7,7.1,14.9,11.0,14.6,10.7,73.3,42.1,57.0,24.5,10.1,42.2,13.1,19.5,12.9,35.6,175.0,35.6,33.6,34.4,38.4,29.7,32.8,5.7,5.8,5.8,21.7,23.0,12.5,17.2,40.2,24.0,23.8,17.1,25.0,17.4,27.3,17.9,24.0,16.6,16.9,57.6,63.5,56.0,63.5,41.2,55.0,57.0,19.3,19.0,191.3,26.6,15.4,24.7,28.1,18.25,35.1,27.3,18.8,43.9,19.8,17.7,57.0,36.0,36.0,93.0,122.0,114.0,48.5,49.5,14.1,59.9,46.0,74.5,17.2,8.7,15.4,12.7,30.0,13.5,16.3,56.3,71.5,69.0,17.9,48.5,71.7,8.5,10.9,21.8,38.5,9.3,13.6,24.5,12.6,13.4,29.8,36.9,40.7,33.2,34.8,74.8,62.4,46.0,39.2,135.0,10.6,10.6,5.2,46.0,105.6,116.4,31.0,20.2,25.2,25.2,115.0,121.0,99.0,115.0,121.0,23.5,26.4,26.7,20.4,20.4,40.2,9.0,45.9,10.4,78.0,40.5,27.9,22.4,28.4,72.0,29.0,29.2,44.0,68.3,41.8,40.0,13.5,19.0,24.4,32.8,15.4,9.9,13.5,51.0,35.2,42.2,33.2,41.8,32.2,37.7,47.2,52.7,22.4,50.4,35.6,27.7,48.5,15.4,46.5,46.5,46.5,42.0,21.8,50.5,49.9,19.0,8.4,27.5,69.0,16.3],\"x0\":\" \",\"xaxis\":\"x\",\"y0\":\" \",\"yaxis\":\"y\",\"type\":\"box\"}],                        {\"template\":{\"data\":{\"histogram2dcontour\":[{\"type\":\"histogram2dcontour\",\"colorbar\":{\"outlinewidth\":0,\"ticks\":\"\"},\"colorscale\":[[0.0,\"#0d0887\"],[0.1111111111111111,\"#46039f\"],[0.2222222222222222,\"#7201a8\"],[0.3333333333333333,\"#9c179e\"],[0.4444444444444444,\"#bd3786\"],[0.5555555555555556,\"#d8576b\"],[0.6666666666666666,\"#ed7953\"],[0.7777777777777778,\"#fb9f3a\"],[0.8888888888888888,\"#fdca26\"],[1.0,\"#f0f921\"]]}],\"choropleth\":[{\"type\":\"choropleth\",\"colorbar\":{\"outlinewidth\":0,\"ticks\":\"\"}}],\"histogram2d\":[{\"type\":\"histogram2d\",\"colorbar\":{\"outlinewidth\":0,\"ticks\":\"\"},\"colorscale\":[[0.0,\"#0d0887\"],[0.1111111111111111,\"#46039f\"],[0.2222222222222222,\"#7201a8\"],[0.3333333333333333,\"#9c179e\"],[0.4444444444444444,\"#bd3786\"],[0.5555555555555556,\"#d8576b\"],[0.6666666666666666,\"#ed7953\"],[0.7777777777777778,\"#fb9f3a\"],[0.8888888888888888,\"#fdca26\"],[1.0,\"#f0f921\"]]}],\"heatmap\":[{\"type\":\"heatmap\",\"colorbar\":{\"outlinewidth\":0,\"ticks\":\"\"},\"colorscale\":[[0.0,\"#0d0887\"],[0.1111111111111111,\"#46039f\"],[0.2222222222222222,\"#7201a8\"],[0.3333333333333333,\"#9c179e\"],[0.4444444444444444,\"#bd3786\"],[0.5555555555555556,\"#d8576b\"],[0.6666666666666666,\"#ed7953\"],[0.7777777777777778,\"#fb9f3a\"],[0.8888888888888888,\"#fdca26\"],[1.0,\"#f0f921\"]]}],\"heatmapgl\":[{\"type\":\"heatmapgl\",\"colorbar\":{\"outlinewidth\":0,\"ticks\":\"\"},\"colorscale\":[[0.0,\"#0d0887\"],[0.1111111111111111,\"#46039f\"],[0.2222222222222222,\"#7201a8\"],[0.3333333333333333,\"#9c179e\"],[0.4444444444444444,\"#bd3786\"],[0.5555555555555556,\"#d8576b\"],[0.6666666666666666,\"#ed7953\"],[0.7777777777777778,\"#fb9f3a\"],[0.8888888888888888,\"#fdca26\"],[1.0,\"#f0f921\"]]}],\"contourcarpet\":[{\"type\":\"contourcarpet\",\"colorbar\":{\"outlinewidth\":0,\"ticks\":\"\"}}],\"contour\":[{\"type\":\"contour\",\"colorbar\":{\"outlinewidth\":0,\"ticks\":\"\"},\"colorscale\":[[0.0,\"#0d0887\"],[0.1111111111111111,\"#46039f\"],[0.2222222222222222,\"#7201a8\"],[0.3333333333333333,\"#9c179e\"],[0.4444444444444444,\"#bd3786\"],[0.5555555555555556,\"#d8576b\"],[0.6666666666666666,\"#ed7953\"],[0.7777777777777778,\"#fb9f3a\"],[0.8888888888888888,\"#fdca26\"],[1.0,\"#f0f921\"]]}],\"surface\":[{\"type\":\"surface\",\"colorbar\":{\"outlinewidth\":0,\"ticks\":\"\"},\"colorscale\":[[0.0,\"#0d0887\"],[0.1111111111111111,\"#46039f\"],[0.2222222222222222,\"#7201a8\"],[0.3333333333333333,\"#9c179e\"],[0.4444444444444444,\"#bd3786\"],[0.5555555555555556,\"#d8576b\"],[0.6666666666666666,\"#ed7953\"],[0.7777777777777778,\"#fb9f3a\"],[0.8888888888888888,\"#fdca26\"],[1.0,\"#f0f921\"]]}],\"mesh3d\":[{\"type\":\"mesh3d\",\"colorbar\":{\"outlinewidth\":0,\"ticks\":\"\"}}],\"scatter\":[{\"fillpattern\":{\"fillmode\":\"overlay\",\"size\":10,\"solidity\":0.2},\"type\":\"scatter\"}],\"parcoords\":[{\"type\":\"parcoords\",\"line\":{\"colorbar\":{\"outlinewidth\":0,\"ticks\":\"\"}}}],\"scatterpolargl\":[{\"type\":\"scatterpolargl\",\"marker\":{\"colorbar\":{\"outlinewidth\":0,\"ticks\":\"\"}}}],\"bar\":[{\"error_x\":{\"color\":\"#2a3f5f\"},\"error_y\":{\"color\":\"#2a3f5f\"},\"marker\":{\"line\":{\"color\":\"#E5ECF6\",\"width\":0.5},\"pattern\":{\"fillmode\":\"overlay\",\"size\":10,\"solidity\":0.2}},\"type\":\"bar\"}],\"scattergeo\":[{\"type\":\"scattergeo\",\"marker\":{\"colorbar\":{\"outlinewidth\":0,\"ticks\":\"\"}}}],\"scatterpolar\":[{\"type\":\"scatterpolar\",\"marker\":{\"colorbar\":{\"outlinewidth\":0,\"ticks\":\"\"}}}],\"histogram\":[{\"marker\":{\"pattern\":{\"fillmode\":\"overlay\",\"size\":10,\"solidity\":0.2}},\"type\":\"histogram\"}],\"scattergl\":[{\"type\":\"scattergl\",\"marker\":{\"colorbar\":{\"outlinewidth\":0,\"ticks\":\"\"}}}],\"scatter3d\":[{\"type\":\"scatter3d\",\"line\":{\"colorbar\":{\"outlinewidth\":0,\"ticks\":\"\"}},\"marker\":{\"colorbar\":{\"outlinewidth\":0,\"ticks\":\"\"}}}],\"scattermapbox\":[{\"type\":\"scattermapbox\",\"marker\":{\"colorbar\":{\"outlinewidth\":0,\"ticks\":\"\"}}}],\"scatterternary\":[{\"type\":\"scatterternary\",\"marker\":{\"colorbar\":{\"outlinewidth\":0,\"ticks\":\"\"}}}],\"scattercarpet\":[{\"type\":\"scattercarpet\",\"marker\":{\"colorbar\":{\"outlinewidth\":0,\"ticks\":\"\"}}}],\"carpet\":[{\"aaxis\":{\"endlinecolor\":\"#2a3f5f\",\"gridcolor\":\"white\",\"linecolor\":\"white\",\"minorgridcolor\":\"white\",\"startlinecolor\":\"#2a3f5f\"},\"baxis\":{\"endlinecolor\":\"#2a3f5f\",\"gridcolor\":\"white\",\"linecolor\":\"white\",\"minorgridcolor\":\"white\",\"startlinecolor\":\"#2a3f5f\"},\"type\":\"carpet\"}],\"table\":[{\"cells\":{\"fill\":{\"color\":\"#EBF0F8\"},\"line\":{\"color\":\"white\"}},\"header\":{\"fill\":{\"color\":\"#C8D4E3\"},\"line\":{\"color\":\"white\"}},\"type\":\"table\"}],\"barpolar\":[{\"marker\":{\"line\":{\"color\":\"#E5ECF6\",\"width\":0.5},\"pattern\":{\"fillmode\":\"overlay\",\"size\":10,\"solidity\":0.2}},\"type\":\"barpolar\"}],\"pie\":[{\"automargin\":true,\"type\":\"pie\"}]},\"layout\":{\"autotypenumbers\":\"strict\",\"colorway\":[\"#636efa\",\"#EF553B\",\"#00cc96\",\"#ab63fa\",\"#FFA15A\",\"#19d3f3\",\"#FF6692\",\"#B6E880\",\"#FF97FF\",\"#FECB52\"],\"font\":{\"color\":\"#2a3f5f\"},\"hovermode\":\"closest\",\"hoverlabel\":{\"align\":\"left\"},\"paper_bgcolor\":\"white\",\"plot_bgcolor\":\"#E5ECF6\",\"polar\":{\"bgcolor\":\"#E5ECF6\",\"angularaxis\":{\"gridcolor\":\"white\",\"linecolor\":\"white\",\"ticks\":\"\"},\"radialaxis\":{\"gridcolor\":\"white\",\"linecolor\":\"white\",\"ticks\":\"\"}},\"ternary\":{\"bgcolor\":\"#E5ECF6\",\"aaxis\":{\"gridcolor\":\"white\",\"linecolor\":\"white\",\"ticks\":\"\"},\"baxis\":{\"gridcolor\":\"white\",\"linecolor\":\"white\",\"ticks\":\"\"},\"caxis\":{\"gridcolor\":\"white\",\"linecolor\":\"white\",\"ticks\":\"\"}},\"coloraxis\":{\"colorbar\":{\"outlinewidth\":0,\"ticks\":\"\"}},\"colorscale\":{\"sequential\":[[0.0,\"#0d0887\"],[0.1111111111111111,\"#46039f\"],[0.2222222222222222,\"#7201a8\"],[0.3333333333333333,\"#9c179e\"],[0.4444444444444444,\"#bd3786\"],[0.5555555555555556,\"#d8576b\"],[0.6666666666666666,\"#ed7953\"],[0.7777777777777778,\"#fb9f3a\"],[0.8888888888888888,\"#fdca26\"],[1.0,\"#f0f921\"]],\"sequentialminus\":[[0.0,\"#0d0887\"],[0.1111111111111111,\"#46039f\"],[0.2222222222222222,\"#7201a8\"],[0.3333333333333333,\"#9c179e\"],[0.4444444444444444,\"#bd3786\"],[0.5555555555555556,\"#d8576b\"],[0.6666666666666666,\"#ed7953\"],[0.7777777777777778,\"#fb9f3a\"],[0.8888888888888888,\"#fdca26\"],[1.0,\"#f0f921\"]],\"diverging\":[[0,\"#8e0152\"],[0.1,\"#c51b7d\"],[0.2,\"#de77ae\"],[0.3,\"#f1b6da\"],[0.4,\"#fde0ef\"],[0.5,\"#f7f7f7\"],[0.6,\"#e6f5d0\"],[0.7,\"#b8e186\"],[0.8,\"#7fbc41\"],[0.9,\"#4d9221\"],[1,\"#276419\"]]},\"xaxis\":{\"gridcolor\":\"white\",\"linecolor\":\"white\",\"ticks\":\"\",\"title\":{\"standoff\":15},\"zerolinecolor\":\"white\",\"automargin\":true,\"zerolinewidth\":2},\"yaxis\":{\"gridcolor\":\"white\",\"linecolor\":\"white\",\"ticks\":\"\",\"title\":{\"standoff\":15},\"zerolinecolor\":\"white\",\"automargin\":true,\"zerolinewidth\":2},\"scene\":{\"xaxis\":{\"backgroundcolor\":\"#E5ECF6\",\"gridcolor\":\"white\",\"linecolor\":\"white\",\"showbackground\":true,\"ticks\":\"\",\"zerolinecolor\":\"white\",\"gridwidth\":2},\"yaxis\":{\"backgroundcolor\":\"#E5ECF6\",\"gridcolor\":\"white\",\"linecolor\":\"white\",\"showbackground\":true,\"ticks\":\"\",\"zerolinecolor\":\"white\",\"gridwidth\":2},\"zaxis\":{\"backgroundcolor\":\"#E5ECF6\",\"gridcolor\":\"white\",\"linecolor\":\"white\",\"showbackground\":true,\"ticks\":\"\",\"zerolinecolor\":\"white\",\"gridwidth\":2}},\"shapedefaults\":{\"line\":{\"color\":\"#2a3f5f\"}},\"annotationdefaults\":{\"arrowcolor\":\"#2a3f5f\",\"arrowhead\":0,\"arrowwidth\":1},\"geo\":{\"bgcolor\":\"white\",\"landcolor\":\"#E5ECF6\",\"subunitcolor\":\"white\",\"showland\":true,\"showlakes\":true,\"lakecolor\":\"white\"},\"title\":{\"x\":0.05},\"mapbox\":{\"style\":\"light\"}}},\"xaxis\":{\"anchor\":\"y\",\"domain\":[0.0,1.0],\"title\":{\"text\":\"price\"}},\"yaxis\":{\"anchor\":\"x\",\"domain\":[0.0,1.0]},\"legend\":{\"tracegroupgap\":0},\"title\":{\"text\":\"Distribution of Prices\"},\"boxmode\":\"group\"},                        {\"responsive\": true}                    ).then(function(){\n",
       "                            \n",
       "var gd = document.getElementById('a93f6011-cdac-40df-accf-3b6932cfddeb');\n",
       "var x = new MutationObserver(function (mutations, observer) {{\n",
       "        var display = window.getComputedStyle(gd).display;\n",
       "        if (!display || display === 'none') {{\n",
       "            console.log([gd, 'removed!']);\n",
       "            Plotly.purge(gd);\n",
       "            observer.disconnect();\n",
       "        }}\n",
       "}});\n",
       "\n",
       "// Listen for the removal of the full notebook cells\n",
       "var notebookContainer = gd.closest('#notebook-container');\n",
       "if (notebookContainer) {{\n",
       "    x.observe(notebookContainer, {childList: true});\n",
       "}}\n",
       "\n",
       "// Listen for the clearing of the current output cell\n",
       "var outputEl = gd.closest('.output');\n",
       "if (outputEl) {{\n",
       "    x.observe(outputEl, {childList: true});\n",
       "}}\n",
       "\n",
       "                        })                };                });            </script>        </div>"
      ]
     },
     "metadata": {},
     "output_type": "display_data"
    }
   ],
   "source": [
    "#Autre méthode avec plotly express\n",
    "\n",
    "import plotly.express as px\n",
    "\n",
    "# Create a box plot using Plotly Express for the 'price' column\n",
    "fig = px.box(df_final_merge, x='price', title='Distribution of Prices')\n",
    "\n",
    "# Show the plot\n",
    "fig.show()"
   ]
  },
  {
   "cell_type": "markdown",
   "id": "79e2f2eb",
   "metadata": {},
   "source": [
    "<div style=\"border: 1px solid RGB(51,165,182);\" >\n",
    "<h3 style=\"margin: auto; padding: 20px; color: RGB(51,165,182); \">Etape 4.2 - Exploration par l'utisation de méthodes statistique</h3>\n",
    "</div>"
   ]
  },
  {
   "cell_type": "markdown",
   "id": "750f54f3",
   "metadata": {},
   "source": [
    "<div style=\"border: 1px solid RGB(51,165,182);\" >\n",
    "<h3 style=\"margin: auto; padding: 20px; color: RGB(51,165,182); \">Etape 4.2.1 - Identification par l'interval interquartile</h3>\n",
    "</div>"
   ]
  },
  {
   "cell_type": "code",
   "execution_count": 107,
   "id": "6c0db8c0",
   "metadata": {},
   "outputs": [
    {
     "data": {
      "text/html": [
       "<div>\n",
       "<style scoped>\n",
       "    .dataframe tbody tr th:only-of-type {\n",
       "        vertical-align: middle;\n",
       "    }\n",
       "\n",
       "    .dataframe tbody tr th {\n",
       "        vertical-align: top;\n",
       "    }\n",
       "\n",
       "    .dataframe thead th {\n",
       "        text-align: right;\n",
       "    }\n",
       "</style>\n",
       "<table border=\"1\" class=\"dataframe\">\n",
       "  <thead>\n",
       "    <tr style=\"text-align: right;\">\n",
       "      <th></th>\n",
       "      <th>product_id</th>\n",
       "      <th>onsale_web</th>\n",
       "      <th>price</th>\n",
       "      <th>stock_quantity</th>\n",
       "      <th>purchase_price</th>\n",
       "      <th>virtual</th>\n",
       "      <th>downloadable</th>\n",
       "      <th>rating_count</th>\n",
       "      <th>average_rating</th>\n",
       "      <th>total_sales</th>\n",
       "      <th>post_author</th>\n",
       "      <th>post_date</th>\n",
       "      <th>post_date_gmt</th>\n",
       "      <th>post_modified</th>\n",
       "      <th>post_modified_gmt</th>\n",
       "      <th>post_parent</th>\n",
       "      <th>menu_order</th>\n",
       "      <th>comment_count</th>\n",
       "    </tr>\n",
       "  </thead>\n",
       "  <tbody>\n",
       "    <tr>\n",
       "      <th>count</th>\n",
       "      <td>712.000000</td>\n",
       "      <td>712.000000</td>\n",
       "      <td>712.000000</td>\n",
       "      <td>712.000000</td>\n",
       "      <td>712.000000</td>\n",
       "      <td>712.0</td>\n",
       "      <td>712.0</td>\n",
       "      <td>712.0</td>\n",
       "      <td>712.0</td>\n",
       "      <td>712.000000</td>\n",
       "      <td>712.0</td>\n",
       "      <td>712</td>\n",
       "      <td>712</td>\n",
       "      <td>712</td>\n",
       "      <td>712</td>\n",
       "      <td>712.0</td>\n",
       "      <td>712.0</td>\n",
       "      <td>712.0</td>\n",
       "    </tr>\n",
       "    <tr>\n",
       "      <th>mean</th>\n",
       "      <td>5029.557584</td>\n",
       "      <td>0.998596</td>\n",
       "      <td>32.312430</td>\n",
       "      <td>23.469101</td>\n",
       "      <td>16.894635</td>\n",
       "      <td>0.0</td>\n",
       "      <td>0.0</td>\n",
       "      <td>0.0</td>\n",
       "      <td>0.0</td>\n",
       "      <td>8.525281</td>\n",
       "      <td>2.0</td>\n",
       "      <td>2018-08-21 08:33:08.113764096</td>\n",
       "      <td>2018-08-21 07:04:29.012640512</td>\n",
       "      <td>2020-06-21 22:02:37.813202432</td>\n",
       "      <td>2020-06-21 20:09:07.139044864</td>\n",
       "      <td>0.0</td>\n",
       "      <td>0.0</td>\n",
       "      <td>0.0</td>\n",
       "    </tr>\n",
       "    <tr>\n",
       "      <th>min</th>\n",
       "      <td>3847.000000</td>\n",
       "      <td>0.000000</td>\n",
       "      <td>5.200000</td>\n",
       "      <td>-1.000000</td>\n",
       "      <td>2.740000</td>\n",
       "      <td>0.0</td>\n",
       "      <td>0.0</td>\n",
       "      <td>0.0</td>\n",
       "      <td>0.0</td>\n",
       "      <td>0.000000</td>\n",
       "      <td>2.0</td>\n",
       "      <td>2018-02-08 12:58:52</td>\n",
       "      <td>2018-02-08 11:58:52</td>\n",
       "      <td>2018-02-20 15:19:23</td>\n",
       "      <td>2018-02-20 14:19:23</td>\n",
       "      <td>0.0</td>\n",
       "      <td>0.0</td>\n",
       "      <td>0.0</td>\n",
       "    </tr>\n",
       "    <tr>\n",
       "      <th>25%</th>\n",
       "      <td>4279.250000</td>\n",
       "      <td>1.000000</td>\n",
       "      <td>14.037500</td>\n",
       "      <td>9.000000</td>\n",
       "      <td>7.235000</td>\n",
       "      <td>0.0</td>\n",
       "      <td>0.0</td>\n",
       "      <td>0.0</td>\n",
       "      <td>0.0</td>\n",
       "      <td>5.000000</td>\n",
       "      <td>2.0</td>\n",
       "      <td>2018-02-27 14:12:06.750000128</td>\n",
       "      <td>2018-02-27 13:12:06.750000128</td>\n",
       "      <td>2020-06-19 10:07:33</td>\n",
       "      <td>2020-06-19 08:07:33</td>\n",
       "      <td>0.0</td>\n",
       "      <td>0.0</td>\n",
       "      <td>0.0</td>\n",
       "    </tr>\n",
       "    <tr>\n",
       "      <th>50%</th>\n",
       "      <td>4794.500000</td>\n",
       "      <td>1.000000</td>\n",
       "      <td>23.400000</td>\n",
       "      <td>20.000000</td>\n",
       "      <td>12.280000</td>\n",
       "      <td>0.0</td>\n",
       "      <td>0.0</td>\n",
       "      <td>0.0</td>\n",
       "      <td>0.0</td>\n",
       "      <td>8.000000</td>\n",
       "      <td>2.0</td>\n",
       "      <td>2018-04-19 14:44:46.500000</td>\n",
       "      <td>2018-04-19 12:44:46.500000</td>\n",
       "      <td>2020-08-04 09:30:10.500000</td>\n",
       "      <td>2020-08-04 07:30:10.500000</td>\n",
       "      <td>0.0</td>\n",
       "      <td>0.0</td>\n",
       "      <td>0.0</td>\n",
       "    </tr>\n",
       "    <tr>\n",
       "      <th>75%</th>\n",
       "      <td>5709.500000</td>\n",
       "      <td>1.000000</td>\n",
       "      <td>42.025000</td>\n",
       "      <td>30.250000</td>\n",
       "      <td>22.030000</td>\n",
       "      <td>0.0</td>\n",
       "      <td>0.0</td>\n",
       "      <td>0.0</td>\n",
       "      <td>0.0</td>\n",
       "      <td>11.000000</td>\n",
       "      <td>2.0</td>\n",
       "      <td>2019-01-31 14:29:05</td>\n",
       "      <td>2019-01-31 13:29:05</td>\n",
       "      <td>2020-08-25 10:42:32</td>\n",
       "      <td>2020-08-25 08:42:32</td>\n",
       "      <td>0.0</td>\n",
       "      <td>0.0</td>\n",
       "      <td>0.0</td>\n",
       "    </tr>\n",
       "    <tr>\n",
       "      <th>max</th>\n",
       "      <td>7338.000000</td>\n",
       "      <td>1.000000</td>\n",
       "      <td>225.000000</td>\n",
       "      <td>145.000000</td>\n",
       "      <td>137.810000</td>\n",
       "      <td>0.0</td>\n",
       "      <td>0.0</td>\n",
       "      <td>0.0</td>\n",
       "      <td>0.0</td>\n",
       "      <td>122.000000</td>\n",
       "      <td>2.0</td>\n",
       "      <td>2020-07-20 11:00:00</td>\n",
       "      <td>2020-07-20 09:00:00</td>\n",
       "      <td>2020-08-27 18:55:03</td>\n",
       "      <td>2020-08-27 16:55:03</td>\n",
       "      <td>0.0</td>\n",
       "      <td>0.0</td>\n",
       "      <td>0.0</td>\n",
       "    </tr>\n",
       "    <tr>\n",
       "      <th>std</th>\n",
       "      <td>787.242401</td>\n",
       "      <td>0.037477</td>\n",
       "      <td>27.620894</td>\n",
       "      <td>22.242346</td>\n",
       "      <td>14.842603</td>\n",
       "      <td>0.0</td>\n",
       "      <td>0.0</td>\n",
       "      <td>0.0</td>\n",
       "      <td>0.0</td>\n",
       "      <td>8.161136</td>\n",
       "      <td>0.0</td>\n",
       "      <td>NaN</td>\n",
       "      <td>NaN</td>\n",
       "      <td>NaN</td>\n",
       "      <td>NaN</td>\n",
       "      <td>0.0</td>\n",
       "      <td>0.0</td>\n",
       "      <td>0.0</td>\n",
       "    </tr>\n",
       "  </tbody>\n",
       "</table>\n",
       "</div>"
      ],
      "text/plain": [
       "        product_id  onsale_web       price  stock_quantity  purchase_price  \\\n",
       "count   712.000000  712.000000  712.000000      712.000000      712.000000   \n",
       "mean   5029.557584    0.998596   32.312430       23.469101       16.894635   \n",
       "min    3847.000000    0.000000    5.200000       -1.000000        2.740000   \n",
       "25%    4279.250000    1.000000   14.037500        9.000000        7.235000   \n",
       "50%    4794.500000    1.000000   23.400000       20.000000       12.280000   \n",
       "75%    5709.500000    1.000000   42.025000       30.250000       22.030000   \n",
       "max    7338.000000    1.000000  225.000000      145.000000      137.810000   \n",
       "std     787.242401    0.037477   27.620894       22.242346       14.842603   \n",
       "\n",
       "       virtual  downloadable  rating_count  average_rating  total_sales  \\\n",
       "count    712.0         712.0         712.0           712.0   712.000000   \n",
       "mean       0.0           0.0           0.0             0.0     8.525281   \n",
       "min        0.0           0.0           0.0             0.0     0.000000   \n",
       "25%        0.0           0.0           0.0             0.0     5.000000   \n",
       "50%        0.0           0.0           0.0             0.0     8.000000   \n",
       "75%        0.0           0.0           0.0             0.0    11.000000   \n",
       "max        0.0           0.0           0.0             0.0   122.000000   \n",
       "std        0.0           0.0           0.0             0.0     8.161136   \n",
       "\n",
       "       post_author                      post_date  \\\n",
       "count        712.0                            712   \n",
       "mean           2.0  2018-08-21 08:33:08.113764096   \n",
       "min            2.0            2018-02-08 12:58:52   \n",
       "25%            2.0  2018-02-27 14:12:06.750000128   \n",
       "50%            2.0     2018-04-19 14:44:46.500000   \n",
       "75%            2.0            2019-01-31 14:29:05   \n",
       "max            2.0            2020-07-20 11:00:00   \n",
       "std            0.0                            NaN   \n",
       "\n",
       "                       post_date_gmt                  post_modified  \\\n",
       "count                            712                            712   \n",
       "mean   2018-08-21 07:04:29.012640512  2020-06-21 22:02:37.813202432   \n",
       "min              2018-02-08 11:58:52            2018-02-20 15:19:23   \n",
       "25%    2018-02-27 13:12:06.750000128            2020-06-19 10:07:33   \n",
       "50%       2018-04-19 12:44:46.500000     2020-08-04 09:30:10.500000   \n",
       "75%              2019-01-31 13:29:05            2020-08-25 10:42:32   \n",
       "max              2020-07-20 09:00:00            2020-08-27 18:55:03   \n",
       "std                              NaN                            NaN   \n",
       "\n",
       "                   post_modified_gmt  post_parent  menu_order  comment_count  \n",
       "count                            712        712.0       712.0          712.0  \n",
       "mean   2020-06-21 20:09:07.139044864          0.0         0.0            0.0  \n",
       "min              2018-02-20 14:19:23          0.0         0.0            0.0  \n",
       "25%              2020-06-19 08:07:33          0.0         0.0            0.0  \n",
       "50%       2020-08-04 07:30:10.500000          0.0         0.0            0.0  \n",
       "75%              2020-08-25 08:42:32          0.0         0.0            0.0  \n",
       "max              2020-08-27 16:55:03          0.0         0.0            0.0  \n",
       "std                              NaN          0.0         0.0            0.0  "
      ]
     },
     "execution_count": 107,
     "metadata": {},
     "output_type": "execute_result"
    }
   ],
   "source": [
    "#Utilisation de la fonction describe de Pandas pour l'etude des mesures de dispersions\n",
    "df_final_merge.describe()"
   ]
  },
  {
   "cell_type": "code",
   "execution_count": 108,
   "id": "a458ca14",
   "metadata": {},
   "outputs": [
    {
     "name": "stdout",
     "output_type": "stream",
     "text": [
      "price    31\n",
      "dtype: int64\n"
     ]
    }
   ],
   "source": [
    "#Définissez un seuil pour les articles \"outliers\" en prix\n",
    "# Calcul des quartiles et de l'IQR\n",
    "Q1 = df_final_merge['price'].quantile(0.25)\n",
    "Q3 = df_final_merge['price'].quantile(0.75)\n",
    "IQR = Q3 - Q1\n",
    "\n",
    "# Définir les seuils pour les outliers\n",
    "lower_bound = Q1 - 1.5 * IQR\n",
    "upper_bound = Q3 + 1.5 * IQR\n",
    "\n",
    "# Identifier les outliers\n",
    "outliers = df_final_merge[(df_final_merge['price'] < lower_bound) | (df_final_merge['price'] > upper_bound)]\n",
    "\n",
    "# Optionnel : afficher les outliers\n",
    "print(outliers[['price']].count())\n"
   ]
  },
  {
   "cell_type": "code",
   "execution_count": 109,
   "id": "7d05cde7",
   "metadata": {},
   "outputs": [
    {
     "name": "stdout",
     "output_type": "stream",
     "text": [
      "Nombre total d'articles dans le catalogue : 712\n",
      "Nombre d'outliers détectés : 31\n",
      "Proportion d'outliers dans le catalogue : 0.0435 (4.35%)\n"
     ]
    }
   ],
   "source": [
    "#Définissez le nombre d'articles et la proportion de l'ensemble du catalogue \"outliers\"\n",
    "# Nombre total d'articles (taille de l'ensemble du catalogue)\n",
    "total_items = df_final_merge.shape[0]\n",
    "\n",
    "# Calcul du nombre d'outliers\n",
    "outliers_count = outliers.shape[0]\n",
    "\n",
    "# Calcul de la proportion d'outliers\n",
    "outliers_proportion = outliers_count / total_items\n",
    "\n",
    "# Affichage des résultats\n",
    "print(f\"Nombre total d'articles dans le catalogue : {total_items}\")\n",
    "print(f\"Nombre d'outliers détectés : {outliers_count}\")\n",
    "print(f\"Proportion d'outliers dans le catalogue : {outliers_proportion:.4f} ({outliers_proportion*100:.2f}%)\")\n"
   ]
  },
  {
   "cell_type": "code",
   "execution_count": 110,
   "id": "ce225343",
   "metadata": {},
   "outputs": [
    {
     "data": {
      "text/plain": [
       "0"
      ]
     },
     "execution_count": 110,
     "metadata": {},
     "output_type": "execute_result"
    }
   ],
   "source": [
    "df_final_merge[\"product_id\"].duplicated().sum()"
   ]
  },
  {
   "cell_type": "code",
   "execution_count": 111,
   "id": "06138432",
   "metadata": {},
   "outputs": [],
   "source": [
    "#Selon vous, ces outliers sont-ils justifiés ? Comment le démontrer si cela est possible ?\n"
   ]
  },
  {
   "cell_type": "markdown",
   "id": "640da2c8",
   "metadata": {},
   "source": [
    "<div style=\"background-color: RGB(51,165,182);\" >\n",
    "<h2 style=\"margin: auto; padding: 20px; color:#fff; \">Etape 5 - Analyse univarié du CA, des quantités vendues, des stocks et de la marge ainsi qu'une analyse multivarié  </h2>\n",
    "</div>"
   ]
  },
  {
   "cell_type": "markdown",
   "id": "5871c808",
   "metadata": {},
   "source": [
    "<div style=\"border: 1px solid RGB(51,165,182);\" >\n",
    "<h3 style=\"margin: auto; padding: 20px; color: RGB(51,165,182); \">Etape 5.1 - Analyse des ventes en CA</h3>\n",
    "</div>"
   ]
  },
  {
   "cell_type": "code",
   "execution_count": 112,
   "id": "da0d5834",
   "metadata": {},
   "outputs": [
    {
     "name": "stdout",
     "output_type": "stream",
     "text": [
      "Le chiffre d'affaires total du site web est : 153353.90\n"
     ]
    }
   ],
   "source": [
    "##############################\n",
    "# Calculer le CA su site web #\n",
    "##############################\n",
    "\n",
    "# Créer la colonne \"ca_par_article\" en multipliant le prix par la quantité vendue\n",
    "df_final_merge['ca_par_article'] = df_final_merge['price'] * df_final_merge['total_sales']\n",
    "\n",
    "# Calculer la somme de la colonne \"ca_par_article\" pour obtenir le CA total\n",
    "ca_total = df_final_merge['ca_par_article'].sum()\n",
    "\n",
    "# Afficher le chiffre d'affaires total\n",
    "print(f\"Le chiffre d'affaires total du site web est : {ca_total:.2f}\")\n",
    "\n"
   ]
  },
  {
   "cell_type": "code",
   "execution_count": 113,
   "id": "eb73db9b",
   "metadata": {},
   "outputs": [
    {
     "data": {
      "text/html": [
       "<div>\n",
       "<style scoped>\n",
       "    .dataframe tbody tr th:only-of-type {\n",
       "        vertical-align: middle;\n",
       "    }\n",
       "\n",
       "    .dataframe tbody tr th {\n",
       "        vertical-align: top;\n",
       "    }\n",
       "\n",
       "    .dataframe thead th {\n",
       "        text-align: right;\n",
       "    }\n",
       "</style>\n",
       "<table border=\"1\" class=\"dataframe\">\n",
       "  <thead>\n",
       "    <tr style=\"text-align: right;\">\n",
       "      <th></th>\n",
       "      <th>product_id</th>\n",
       "      <th>onsale_web</th>\n",
       "      <th>price</th>\n",
       "      <th>stock_quantity</th>\n",
       "      <th>stock_status</th>\n",
       "      <th>purchase_price</th>\n",
       "      <th>id_web</th>\n",
       "      <th>merge_status</th>\n",
       "      <th>sku</th>\n",
       "      <th>virtual</th>\n",
       "      <th>...</th>\n",
       "      <th>post_modified</th>\n",
       "      <th>post_modified_gmt</th>\n",
       "      <th>post_parent</th>\n",
       "      <th>guid</th>\n",
       "      <th>menu_order</th>\n",
       "      <th>post_type</th>\n",
       "      <th>post_mime_type</th>\n",
       "      <th>comment_count</th>\n",
       "      <th>_merge</th>\n",
       "      <th>ca_par_article</th>\n",
       "    </tr>\n",
       "  </thead>\n",
       "  <tbody>\n",
       "    <tr>\n",
       "      <th>0</th>\n",
       "      <td>3847</td>\n",
       "      <td>1</td>\n",
       "      <td>24.2</td>\n",
       "      <td>16</td>\n",
       "      <td>instock</td>\n",
       "      <td>12.88</td>\n",
       "      <td>15298</td>\n",
       "      <td>both</td>\n",
       "      <td>15298</td>\n",
       "      <td>0</td>\n",
       "      <td>...</td>\n",
       "      <td>2019-12-30 09:30:29</td>\n",
       "      <td>2019-12-30 08:30:29</td>\n",
       "      <td>0.0</td>\n",
       "      <td>https://www.bottle-neck.fr/?post_type=product&amp;...</td>\n",
       "      <td>0.0</td>\n",
       "      <td>product</td>\n",
       "      <td>NaN</td>\n",
       "      <td>0.0</td>\n",
       "      <td>both</td>\n",
       "      <td>145.2</td>\n",
       "    </tr>\n",
       "    <tr>\n",
       "      <th>1</th>\n",
       "      <td>3849</td>\n",
       "      <td>1</td>\n",
       "      <td>34.3</td>\n",
       "      <td>10</td>\n",
       "      <td>instock</td>\n",
       "      <td>17.54</td>\n",
       "      <td>15296</td>\n",
       "      <td>both</td>\n",
       "      <td>15296</td>\n",
       "      <td>0</td>\n",
       "      <td>...</td>\n",
       "      <td>2019-12-21 09:00:17</td>\n",
       "      <td>2019-12-21 08:00:17</td>\n",
       "      <td>0.0</td>\n",
       "      <td>https://www.bottle-neck.fr/?post_type=product&amp;...</td>\n",
       "      <td>0.0</td>\n",
       "      <td>product</td>\n",
       "      <td>NaN</td>\n",
       "      <td>0.0</td>\n",
       "      <td>both</td>\n",
       "      <td>308.7</td>\n",
       "    </tr>\n",
       "    <tr>\n",
       "      <th>2</th>\n",
       "      <td>3850</td>\n",
       "      <td>1</td>\n",
       "      <td>20.8</td>\n",
       "      <td>0</td>\n",
       "      <td>outofstock</td>\n",
       "      <td>10.64</td>\n",
       "      <td>15300</td>\n",
       "      <td>both</td>\n",
       "      <td>15300</td>\n",
       "      <td>0</td>\n",
       "      <td>...</td>\n",
       "      <td>2020-06-26 18:15:03</td>\n",
       "      <td>2020-06-26 16:15:03</td>\n",
       "      <td>0.0</td>\n",
       "      <td>https://www.bottle-neck.fr/wp-content/uploads/...</td>\n",
       "      <td>0.0</td>\n",
       "      <td>attachment</td>\n",
       "      <td>image/jpeg</td>\n",
       "      <td>0.0</td>\n",
       "      <td>both</td>\n",
       "      <td>0.0</td>\n",
       "    </tr>\n",
       "    <tr>\n",
       "      <th>3</th>\n",
       "      <td>4032</td>\n",
       "      <td>1</td>\n",
       "      <td>14.1</td>\n",
       "      <td>26</td>\n",
       "      <td>instock</td>\n",
       "      <td>6.92</td>\n",
       "      <td>19814</td>\n",
       "      <td>both</td>\n",
       "      <td>19814</td>\n",
       "      <td>0</td>\n",
       "      <td>...</td>\n",
       "      <td>2020-01-04 16:36:01</td>\n",
       "      <td>2020-01-04 15:36:01</td>\n",
       "      <td>0.0</td>\n",
       "      <td>https://www.bottle-neck.fr/wp-content/uploads/...</td>\n",
       "      <td>0.0</td>\n",
       "      <td>attachment</td>\n",
       "      <td>image/jpeg</td>\n",
       "      <td>0.0</td>\n",
       "      <td>both</td>\n",
       "      <td>169.2</td>\n",
       "    </tr>\n",
       "    <tr>\n",
       "      <th>4</th>\n",
       "      <td>4039</td>\n",
       "      <td>1</td>\n",
       "      <td>46.0</td>\n",
       "      <td>3</td>\n",
       "      <td>instock</td>\n",
       "      <td>23.77</td>\n",
       "      <td>19815</td>\n",
       "      <td>both</td>\n",
       "      <td>19815</td>\n",
       "      <td>0</td>\n",
       "      <td>...</td>\n",
       "      <td>2020-01-04 16:36:10</td>\n",
       "      <td>2020-01-04 15:36:10</td>\n",
       "      <td>0.0</td>\n",
       "      <td>https://www.bottle-neck.fr/wp-content/uploads/...</td>\n",
       "      <td>0.0</td>\n",
       "      <td>attachment</td>\n",
       "      <td>image/jpeg</td>\n",
       "      <td>0.0</td>\n",
       "      <td>both</td>\n",
       "      <td>138.0</td>\n",
       "    </tr>\n",
       "  </tbody>\n",
       "</table>\n",
       "<p>5 rows × 35 columns</p>\n",
       "</div>"
      ],
      "text/plain": [
       "   product_id  onsale_web  price  stock_quantity stock_status  purchase_price  \\\n",
       "0        3847           1   24.2              16      instock           12.88   \n",
       "1        3849           1   34.3              10      instock           17.54   \n",
       "2        3850           1   20.8               0   outofstock           10.64   \n",
       "3        4032           1   14.1              26      instock            6.92   \n",
       "4        4039           1   46.0               3      instock           23.77   \n",
       "\n",
       "  id_web merge_status    sku  virtual  ...       post_modified  \\\n",
       "0  15298         both  15298        0  ... 2019-12-30 09:30:29   \n",
       "1  15296         both  15296        0  ... 2019-12-21 09:00:17   \n",
       "2  15300         both  15300        0  ... 2020-06-26 18:15:03   \n",
       "3  19814         both  19814        0  ... 2020-01-04 16:36:01   \n",
       "4  19815         both  19815        0  ... 2020-01-04 16:36:10   \n",
       "\n",
       "    post_modified_gmt  post_parent  \\\n",
       "0 2019-12-30 08:30:29          0.0   \n",
       "1 2019-12-21 08:00:17          0.0   \n",
       "2 2020-06-26 16:15:03          0.0   \n",
       "3 2020-01-04 15:36:01          0.0   \n",
       "4 2020-01-04 15:36:10          0.0   \n",
       "\n",
       "                                                guid menu_order   post_type  \\\n",
       "0  https://www.bottle-neck.fr/?post_type=product&...        0.0     product   \n",
       "1  https://www.bottle-neck.fr/?post_type=product&...        0.0     product   \n",
       "2  https://www.bottle-neck.fr/wp-content/uploads/...        0.0  attachment   \n",
       "3  https://www.bottle-neck.fr/wp-content/uploads/...        0.0  attachment   \n",
       "4  https://www.bottle-neck.fr/wp-content/uploads/...        0.0  attachment   \n",
       "\n",
       "  post_mime_type comment_count _merge ca_par_article  \n",
       "0            NaN           0.0   both          145.2  \n",
       "1            NaN           0.0   both          308.7  \n",
       "2     image/jpeg           0.0   both            0.0  \n",
       "3     image/jpeg           0.0   both          169.2  \n",
       "4     image/jpeg           0.0   both          138.0  \n",
       "\n",
       "[5 rows x 35 columns]"
      ]
     },
     "execution_count": 113,
     "metadata": {},
     "output_type": "execute_result"
    }
   ],
   "source": [
    "df_final_merge.head()"
   ]
  },
  {
   "cell_type": "code",
   "execution_count": 114,
   "id": "536a197c",
   "metadata": {},
   "outputs": [
    {
     "data": {
      "text/plain": [
       "0      145.2\n",
       "1      308.7\n",
       "2        0.0\n",
       "3      169.2\n",
       "4      138.0\n",
       "       ...  \n",
       "707    133.0\n",
       "708     75.6\n",
       "709    247.5\n",
       "710    345.0\n",
       "711    211.9\n",
       "Name: ca_par_article, Length: 712, dtype: float64"
      ]
     },
     "execution_count": 114,
     "metadata": {},
     "output_type": "execute_result"
    }
   ],
   "source": [
    "df_final_merge[\"ca_par_article\"]"
   ]
  },
  {
   "cell_type": "code",
   "execution_count": 115,
   "id": "215e4ef4",
   "metadata": {},
   "outputs": [],
   "source": [
    "###############################\n",
    "# Palmares des articles en CA #\n",
    "###############################\n",
    "\n",
    "#Effectuer le tri dans l'ordre décroissant du CA du dataset df_merge\n",
    "df_final_merge = df_final_merge.sort_values(by='ca_par_article', ascending=False)"
   ]
  },
  {
   "cell_type": "code",
   "execution_count": 116,
   "id": "40dbad15",
   "metadata": {},
   "outputs": [
    {
     "data": {
      "text/html": [
       "<div>\n",
       "<style scoped>\n",
       "    .dataframe tbody tr th:only-of-type {\n",
       "        vertical-align: middle;\n",
       "    }\n",
       "\n",
       "    .dataframe tbody tr th {\n",
       "        vertical-align: top;\n",
       "    }\n",
       "\n",
       "    .dataframe thead th {\n",
       "        text-align: right;\n",
       "    }\n",
       "</style>\n",
       "<table border=\"1\" class=\"dataframe\">\n",
       "  <thead>\n",
       "    <tr style=\"text-align: right;\">\n",
       "      <th></th>\n",
       "      <th>product_id</th>\n",
       "      <th>onsale_web</th>\n",
       "      <th>price</th>\n",
       "      <th>stock_quantity</th>\n",
       "      <th>stock_status</th>\n",
       "      <th>purchase_price</th>\n",
       "      <th>id_web</th>\n",
       "      <th>merge_status</th>\n",
       "      <th>sku</th>\n",
       "      <th>virtual</th>\n",
       "      <th>...</th>\n",
       "      <th>post_modified</th>\n",
       "      <th>post_modified_gmt</th>\n",
       "      <th>post_parent</th>\n",
       "      <th>guid</th>\n",
       "      <th>menu_order</th>\n",
       "      <th>post_type</th>\n",
       "      <th>post_mime_type</th>\n",
       "      <th>comment_count</th>\n",
       "      <th>_merge</th>\n",
       "      <th>ca_par_article</th>\n",
       "    </tr>\n",
       "  </thead>\n",
       "  <tbody>\n",
       "    <tr>\n",
       "      <th>0</th>\n",
       "      <td>4150</td>\n",
       "      <td>1</td>\n",
       "      <td>59.0</td>\n",
       "      <td>123</td>\n",
       "      <td>instock</td>\n",
       "      <td>35.45</td>\n",
       "      <td>1366</td>\n",
       "      <td>both</td>\n",
       "      <td>1366</td>\n",
       "      <td>0</td>\n",
       "      <td>...</td>\n",
       "      <td>2020-08-26 18:05:02</td>\n",
       "      <td>2020-08-26 16:05:02</td>\n",
       "      <td>0.0</td>\n",
       "      <td>https://www.bottle-neck.fr/wp-content/uploads/...</td>\n",
       "      <td>0.0</td>\n",
       "      <td>attachment</td>\n",
       "      <td>image/jpeg</td>\n",
       "      <td>0.0</td>\n",
       "      <td>both</td>\n",
       "      <td>6844.0</td>\n",
       "    </tr>\n",
       "    <tr>\n",
       "      <th>1</th>\n",
       "      <td>4352</td>\n",
       "      <td>1</td>\n",
       "      <td>225.0</td>\n",
       "      <td>0</td>\n",
       "      <td>outofstock</td>\n",
       "      <td>137.81</td>\n",
       "      <td>15940</td>\n",
       "      <td>both</td>\n",
       "      <td>15940</td>\n",
       "      <td>0</td>\n",
       "      <td>...</td>\n",
       "      <td>2020-03-07 11:18:45</td>\n",
       "      <td>2020-03-07 10:18:45</td>\n",
       "      <td>0.0</td>\n",
       "      <td>https://www.bottle-neck.fr/wp-content/uploads/...</td>\n",
       "      <td>0.0</td>\n",
       "      <td>attachment</td>\n",
       "      <td>image/jpeg</td>\n",
       "      <td>0.0</td>\n",
       "      <td>both</td>\n",
       "      <td>2475.0</td>\n",
       "    </tr>\n",
       "    <tr>\n",
       "      <th>2</th>\n",
       "      <td>4726</td>\n",
       "      <td>1</td>\n",
       "      <td>12.7</td>\n",
       "      <td>0</td>\n",
       "      <td>outofstock</td>\n",
       "      <td>6.82</td>\n",
       "      <td>14950</td>\n",
       "      <td>both</td>\n",
       "      <td>14950</td>\n",
       "      <td>0</td>\n",
       "      <td>...</td>\n",
       "      <td>2020-05-06 11:35:01</td>\n",
       "      <td>2020-05-06 09:35:01</td>\n",
       "      <td>0.0</td>\n",
       "      <td>https://www.bottle-neck.fr/wp-content/uploads/...</td>\n",
       "      <td>0.0</td>\n",
       "      <td>attachment</td>\n",
       "      <td>image/jpeg</td>\n",
       "      <td>0.0</td>\n",
       "      <td>both</td>\n",
       "      <td>1549.4</td>\n",
       "    </tr>\n",
       "    <tr>\n",
       "      <th>3</th>\n",
       "      <td>5067</td>\n",
       "      <td>1</td>\n",
       "      <td>59.9</td>\n",
       "      <td>3</td>\n",
       "      <td>instock</td>\n",
       "      <td>30.95</td>\n",
       "      <td>15346</td>\n",
       "      <td>both</td>\n",
       "      <td>15346</td>\n",
       "      <td>0</td>\n",
       "      <td>...</td>\n",
       "      <td>2020-02-13 17:00:01</td>\n",
       "      <td>2020-02-13 16:00:01</td>\n",
       "      <td>0.0</td>\n",
       "      <td>https://www.bottle-neck.fr/wp-content/uploads/...</td>\n",
       "      <td>0.0</td>\n",
       "      <td>attachment</td>\n",
       "      <td>image/jpeg</td>\n",
       "      <td>0.0</td>\n",
       "      <td>both</td>\n",
       "      <td>1317.8</td>\n",
       "    </tr>\n",
       "    <tr>\n",
       "      <th>4</th>\n",
       "      <td>5379</td>\n",
       "      <td>1</td>\n",
       "      <td>11.1</td>\n",
       "      <td>33</td>\n",
       "      <td>instock</td>\n",
       "      <td>5.68</td>\n",
       "      <td>14561</td>\n",
       "      <td>both</td>\n",
       "      <td>14561</td>\n",
       "      <td>0</td>\n",
       "      <td>...</td>\n",
       "      <td>2020-07-11 14:00:03</td>\n",
       "      <td>2020-07-11 12:00:03</td>\n",
       "      <td>0.0</td>\n",
       "      <td>https://www.bottle-neck.fr/wp-content/uploads/...</td>\n",
       "      <td>0.0</td>\n",
       "      <td>attachment</td>\n",
       "      <td>image/jpeg</td>\n",
       "      <td>0.0</td>\n",
       "      <td>both</td>\n",
       "      <td>1232.1</td>\n",
       "    </tr>\n",
       "    <tr>\n",
       "      <th>5</th>\n",
       "      <td>5892</td>\n",
       "      <td>1</td>\n",
       "      <td>191.3</td>\n",
       "      <td>98</td>\n",
       "      <td>instock</td>\n",
       "      <td>116.06</td>\n",
       "      <td>14983</td>\n",
       "      <td>both</td>\n",
       "      <td>14983</td>\n",
       "      <td>0</td>\n",
       "      <td>...</td>\n",
       "      <td>2020-04-01 09:30:09</td>\n",
       "      <td>2020-04-01 07:30:09</td>\n",
       "      <td>0.0</td>\n",
       "      <td>https://www.bottle-neck.fr/wp-content/uploads/...</td>\n",
       "      <td>0.0</td>\n",
       "      <td>attachment</td>\n",
       "      <td>image/jpeg</td>\n",
       "      <td>0.0</td>\n",
       "      <td>both</td>\n",
       "      <td>1147.8</td>\n",
       "    </tr>\n",
       "    <tr>\n",
       "      <th>6</th>\n",
       "      <td>4353</td>\n",
       "      <td>1</td>\n",
       "      <td>79.5</td>\n",
       "      <td>127</td>\n",
       "      <td>instock</td>\n",
       "      <td>45.91</td>\n",
       "      <td>12587</td>\n",
       "      <td>both</td>\n",
       "      <td>12587</td>\n",
       "      <td>0</td>\n",
       "      <td>...</td>\n",
       "      <td>2020-08-22 11:45:02</td>\n",
       "      <td>2020-08-22 09:45:02</td>\n",
       "      <td>0.0</td>\n",
       "      <td>https://www.bottle-neck.fr/?post_type=product&amp;...</td>\n",
       "      <td>0.0</td>\n",
       "      <td>product</td>\n",
       "      <td>NaN</td>\n",
       "      <td>0.0</td>\n",
       "      <td>both</td>\n",
       "      <td>1113.0</td>\n",
       "    </tr>\n",
       "    <tr>\n",
       "      <th>7</th>\n",
       "      <td>5826</td>\n",
       "      <td>1</td>\n",
       "      <td>41.2</td>\n",
       "      <td>34</td>\n",
       "      <td>instock</td>\n",
       "      <td>21.71</td>\n",
       "      <td>15325</td>\n",
       "      <td>both</td>\n",
       "      <td>15325</td>\n",
       "      <td>0</td>\n",
       "      <td>...</td>\n",
       "      <td>2020-05-21 14:00:02</td>\n",
       "      <td>2020-05-21 12:00:02</td>\n",
       "      <td>0.0</td>\n",
       "      <td>https://www.bottle-neck.fr/wp-content/uploads/...</td>\n",
       "      <td>0.0</td>\n",
       "      <td>attachment</td>\n",
       "      <td>image/jpeg</td>\n",
       "      <td>0.0</td>\n",
       "      <td>both</td>\n",
       "      <td>824.0</td>\n",
       "    </tr>\n",
       "    <tr>\n",
       "      <th>8</th>\n",
       "      <td>6212</td>\n",
       "      <td>1</td>\n",
       "      <td>115.0</td>\n",
       "      <td>16</td>\n",
       "      <td>instock</td>\n",
       "      <td>59.42</td>\n",
       "      <td>13996</td>\n",
       "      <td>both</td>\n",
       "      <td>13996</td>\n",
       "      <td>0</td>\n",
       "      <td>...</td>\n",
       "      <td>2020-06-16 09:30:16</td>\n",
       "      <td>2020-06-16 07:30:16</td>\n",
       "      <td>0.0</td>\n",
       "      <td>https://www.bottle-neck.fr/wp-content/uploads/...</td>\n",
       "      <td>0.0</td>\n",
       "      <td>attachment</td>\n",
       "      <td>image/jpeg</td>\n",
       "      <td>0.0</td>\n",
       "      <td>both</td>\n",
       "      <td>805.0</td>\n",
       "    </tr>\n",
       "    <tr>\n",
       "      <th>9</th>\n",
       "      <td>5026</td>\n",
       "      <td>1</td>\n",
       "      <td>86.8</td>\n",
       "      <td>101</td>\n",
       "      <td>instock</td>\n",
       "      <td>50.13</td>\n",
       "      <td>13913</td>\n",
       "      <td>both</td>\n",
       "      <td>13913</td>\n",
       "      <td>0</td>\n",
       "      <td>...</td>\n",
       "      <td>2020-05-11 14:35:02</td>\n",
       "      <td>2020-05-11 12:35:02</td>\n",
       "      <td>0.0</td>\n",
       "      <td>https://www.bottle-neck.fr/wp-content/uploads/...</td>\n",
       "      <td>0.0</td>\n",
       "      <td>attachment</td>\n",
       "      <td>image/jpeg</td>\n",
       "      <td>0.0</td>\n",
       "      <td>both</td>\n",
       "      <td>781.2</td>\n",
       "    </tr>\n",
       "    <tr>\n",
       "      <th>10</th>\n",
       "      <td>5008</td>\n",
       "      <td>1</td>\n",
       "      <td>105.0</td>\n",
       "      <td>12</td>\n",
       "      <td>instock</td>\n",
       "      <td>56.42</td>\n",
       "      <td>11602</td>\n",
       "      <td>both</td>\n",
       "      <td>11602</td>\n",
       "      <td>0</td>\n",
       "      <td>...</td>\n",
       "      <td>2020-06-23 15:35:02</td>\n",
       "      <td>2020-06-23 13:35:02</td>\n",
       "      <td>0.0</td>\n",
       "      <td>https://www.bottle-neck.fr/?post_type=product&amp;...</td>\n",
       "      <td>0.0</td>\n",
       "      <td>product</td>\n",
       "      <td>NaN</td>\n",
       "      <td>0.0</td>\n",
       "      <td>both</td>\n",
       "      <td>735.0</td>\n",
       "    </tr>\n",
       "    <tr>\n",
       "      <th>11</th>\n",
       "      <td>5767</td>\n",
       "      <td>1</td>\n",
       "      <td>175.0</td>\n",
       "      <td>12</td>\n",
       "      <td>instock</td>\n",
       "      <td>90.42</td>\n",
       "      <td>15185</td>\n",
       "      <td>both</td>\n",
       "      <td>15185</td>\n",
       "      <td>0</td>\n",
       "      <td>...</td>\n",
       "      <td>2020-06-11 15:25:04</td>\n",
       "      <td>2020-06-11 13:25:04</td>\n",
       "      <td>0.0</td>\n",
       "      <td>https://www.bottle-neck.fr/wp-content/uploads/...</td>\n",
       "      <td>0.0</td>\n",
       "      <td>attachment</td>\n",
       "      <td>image/jpeg</td>\n",
       "      <td>0.0</td>\n",
       "      <td>both</td>\n",
       "      <td>700.0</td>\n",
       "    </tr>\n",
       "    <tr>\n",
       "      <th>12</th>\n",
       "      <td>6126</td>\n",
       "      <td>1</td>\n",
       "      <td>135.0</td>\n",
       "      <td>138</td>\n",
       "      <td>instock</td>\n",
       "      <td>80.33</td>\n",
       "      <td>14923</td>\n",
       "      <td>both</td>\n",
       "      <td>14923</td>\n",
       "      <td>0</td>\n",
       "      <td>...</td>\n",
       "      <td>2020-08-27 11:45:02</td>\n",
       "      <td>2020-08-27 09:45:02</td>\n",
       "      <td>0.0</td>\n",
       "      <td>https://www.bottle-neck.fr/?post_type=product&amp;...</td>\n",
       "      <td>0.0</td>\n",
       "      <td>product</td>\n",
       "      <td>NaN</td>\n",
       "      <td>0.0</td>\n",
       "      <td>both</td>\n",
       "      <td>675.0</td>\n",
       "    </tr>\n",
       "    <tr>\n",
       "      <th>13</th>\n",
       "      <td>5025</td>\n",
       "      <td>1</td>\n",
       "      <td>112.0</td>\n",
       "      <td>136</td>\n",
       "      <td>instock</td>\n",
       "      <td>68.60</td>\n",
       "      <td>13914</td>\n",
       "      <td>both</td>\n",
       "      <td>13914</td>\n",
       "      <td>0</td>\n",
       "      <td>...</td>\n",
       "      <td>2020-07-09 17:05:02</td>\n",
       "      <td>2020-07-09 15:05:02</td>\n",
       "      <td>0.0</td>\n",
       "      <td>https://www.bottle-neck.fr/wp-content/uploads/...</td>\n",
       "      <td>0.0</td>\n",
       "      <td>attachment</td>\n",
       "      <td>image/jpeg</td>\n",
       "      <td>0.0</td>\n",
       "      <td>both</td>\n",
       "      <td>672.0</td>\n",
       "    </tr>\n",
       "    <tr>\n",
       "      <th>14</th>\n",
       "      <td>6201</td>\n",
       "      <td>1</td>\n",
       "      <td>105.6</td>\n",
       "      <td>16</td>\n",
       "      <td>instock</td>\n",
       "      <td>57.29</td>\n",
       "      <td>14596</td>\n",
       "      <td>both</td>\n",
       "      <td>14596</td>\n",
       "      <td>0</td>\n",
       "      <td>...</td>\n",
       "      <td>2020-02-29 15:25:02</td>\n",
       "      <td>2020-02-29 14:25:02</td>\n",
       "      <td>0.0</td>\n",
       "      <td>https://www.bottle-neck.fr/?post_type=product&amp;...</td>\n",
       "      <td>0.0</td>\n",
       "      <td>product</td>\n",
       "      <td>NaN</td>\n",
       "      <td>0.0</td>\n",
       "      <td>both</td>\n",
       "      <td>633.6</td>\n",
       "    </tr>\n",
       "    <tr>\n",
       "      <th>15</th>\n",
       "      <td>4406</td>\n",
       "      <td>1</td>\n",
       "      <td>157.0</td>\n",
       "      <td>12</td>\n",
       "      <td>instock</td>\n",
       "      <td>69.08</td>\n",
       "      <td>7819</td>\n",
       "      <td>both</td>\n",
       "      <td>7819</td>\n",
       "      <td>0</td>\n",
       "      <td>...</td>\n",
       "      <td>2020-03-14 16:05:04</td>\n",
       "      <td>2020-03-14 15:05:04</td>\n",
       "      <td>0.0</td>\n",
       "      <td>https://www.bottle-neck.fr/?post_type=product&amp;...</td>\n",
       "      <td>0.0</td>\n",
       "      <td>product</td>\n",
       "      <td>NaN</td>\n",
       "      <td>0.0</td>\n",
       "      <td>both</td>\n",
       "      <td>628.0</td>\n",
       "    </tr>\n",
       "    <tr>\n",
       "      <th>16</th>\n",
       "      <td>4647</td>\n",
       "      <td>1</td>\n",
       "      <td>28.5</td>\n",
       "      <td>45</td>\n",
       "      <td>instock</td>\n",
       "      <td>14.14</td>\n",
       "      <td>16525</td>\n",
       "      <td>both</td>\n",
       "      <td>16525</td>\n",
       "      <td>0</td>\n",
       "      <td>...</td>\n",
       "      <td>2020-07-31 09:31:39</td>\n",
       "      <td>2020-07-31 07:31:39</td>\n",
       "      <td>0.0</td>\n",
       "      <td>https://www.bottle-neck.fr/?post_type=product&amp;...</td>\n",
       "      <td>0.0</td>\n",
       "      <td>product</td>\n",
       "      <td>NaN</td>\n",
       "      <td>0.0</td>\n",
       "      <td>both</td>\n",
       "      <td>627.0</td>\n",
       "    </tr>\n",
       "    <tr>\n",
       "      <th>17</th>\n",
       "      <td>4358</td>\n",
       "      <td>1</td>\n",
       "      <td>77.0</td>\n",
       "      <td>81</td>\n",
       "      <td>instock</td>\n",
       "      <td>47.16</td>\n",
       "      <td>13854</td>\n",
       "      <td>both</td>\n",
       "      <td>13854</td>\n",
       "      <td>0</td>\n",
       "      <td>...</td>\n",
       "      <td>2020-01-04 11:07:14</td>\n",
       "      <td>2020-01-04 10:07:14</td>\n",
       "      <td>0.0</td>\n",
       "      <td>https://www.bottle-neck.fr/wp-content/uploads/...</td>\n",
       "      <td>0.0</td>\n",
       "      <td>attachment</td>\n",
       "      <td>image/jpeg</td>\n",
       "      <td>0.0</td>\n",
       "      <td>both</td>\n",
       "      <td>616.0</td>\n",
       "    </tr>\n",
       "    <tr>\n",
       "      <th>18</th>\n",
       "      <td>4359</td>\n",
       "      <td>1</td>\n",
       "      <td>85.6</td>\n",
       "      <td>112</td>\n",
       "      <td>instock</td>\n",
       "      <td>51.93</td>\n",
       "      <td>13853</td>\n",
       "      <td>both</td>\n",
       "      <td>13853</td>\n",
       "      <td>0</td>\n",
       "      <td>...</td>\n",
       "      <td>2019-12-23 09:30:11</td>\n",
       "      <td>2019-12-23 08:30:11</td>\n",
       "      <td>0.0</td>\n",
       "      <td>https://www.bottle-neck.fr/wp-content/uploads/...</td>\n",
       "      <td>0.0</td>\n",
       "      <td>attachment</td>\n",
       "      <td>image/jpeg</td>\n",
       "      <td>0.0</td>\n",
       "      <td>both</td>\n",
       "      <td>599.2</td>\n",
       "    </tr>\n",
       "    <tr>\n",
       "      <th>19</th>\n",
       "      <td>6214</td>\n",
       "      <td>1</td>\n",
       "      <td>99.0</td>\n",
       "      <td>9</td>\n",
       "      <td>instock</td>\n",
       "      <td>49.62</td>\n",
       "      <td>11601</td>\n",
       "      <td>both</td>\n",
       "      <td>11601</td>\n",
       "      <td>0</td>\n",
       "      <td>...</td>\n",
       "      <td>2020-07-04 11:35:02</td>\n",
       "      <td>2020-07-04 09:35:02</td>\n",
       "      <td>0.0</td>\n",
       "      <td>https://www.bottle-neck.fr/wp-content/uploads/...</td>\n",
       "      <td>0.0</td>\n",
       "      <td>attachment</td>\n",
       "      <td>image/jpeg</td>\n",
       "      <td>0.0</td>\n",
       "      <td>both</td>\n",
       "      <td>594.0</td>\n",
       "    </tr>\n",
       "  </tbody>\n",
       "</table>\n",
       "<p>20 rows × 35 columns</p>\n",
       "</div>"
      ],
      "text/plain": [
       "    product_id  onsale_web  price  stock_quantity stock_status  \\\n",
       "0         4150           1   59.0             123      instock   \n",
       "1         4352           1  225.0               0   outofstock   \n",
       "2         4726           1   12.7               0   outofstock   \n",
       "3         5067           1   59.9               3      instock   \n",
       "4         5379           1   11.1              33      instock   \n",
       "5         5892           1  191.3              98      instock   \n",
       "6         4353           1   79.5             127      instock   \n",
       "7         5826           1   41.2              34      instock   \n",
       "8         6212           1  115.0              16      instock   \n",
       "9         5026           1   86.8             101      instock   \n",
       "10        5008           1  105.0              12      instock   \n",
       "11        5767           1  175.0              12      instock   \n",
       "12        6126           1  135.0             138      instock   \n",
       "13        5025           1  112.0             136      instock   \n",
       "14        6201           1  105.6              16      instock   \n",
       "15        4406           1  157.0              12      instock   \n",
       "16        4647           1   28.5              45      instock   \n",
       "17        4358           1   77.0              81      instock   \n",
       "18        4359           1   85.6             112      instock   \n",
       "19        6214           1   99.0               9      instock   \n",
       "\n",
       "    purchase_price id_web merge_status    sku  virtual  ...  \\\n",
       "0            35.45   1366         both   1366        0  ...   \n",
       "1           137.81  15940         both  15940        0  ...   \n",
       "2             6.82  14950         both  14950        0  ...   \n",
       "3            30.95  15346         both  15346        0  ...   \n",
       "4             5.68  14561         both  14561        0  ...   \n",
       "5           116.06  14983         both  14983        0  ...   \n",
       "6            45.91  12587         both  12587        0  ...   \n",
       "7            21.71  15325         both  15325        0  ...   \n",
       "8            59.42  13996         both  13996        0  ...   \n",
       "9            50.13  13913         both  13913        0  ...   \n",
       "10           56.42  11602         both  11602        0  ...   \n",
       "11           90.42  15185         both  15185        0  ...   \n",
       "12           80.33  14923         both  14923        0  ...   \n",
       "13           68.60  13914         both  13914        0  ...   \n",
       "14           57.29  14596         both  14596        0  ...   \n",
       "15           69.08   7819         both   7819        0  ...   \n",
       "16           14.14  16525         both  16525        0  ...   \n",
       "17           47.16  13854         both  13854        0  ...   \n",
       "18           51.93  13853         both  13853        0  ...   \n",
       "19           49.62  11601         both  11601        0  ...   \n",
       "\n",
       "         post_modified   post_modified_gmt  post_parent  \\\n",
       "0  2020-08-26 18:05:02 2020-08-26 16:05:02          0.0   \n",
       "1  2020-03-07 11:18:45 2020-03-07 10:18:45          0.0   \n",
       "2  2020-05-06 11:35:01 2020-05-06 09:35:01          0.0   \n",
       "3  2020-02-13 17:00:01 2020-02-13 16:00:01          0.0   \n",
       "4  2020-07-11 14:00:03 2020-07-11 12:00:03          0.0   \n",
       "5  2020-04-01 09:30:09 2020-04-01 07:30:09          0.0   \n",
       "6  2020-08-22 11:45:02 2020-08-22 09:45:02          0.0   \n",
       "7  2020-05-21 14:00:02 2020-05-21 12:00:02          0.0   \n",
       "8  2020-06-16 09:30:16 2020-06-16 07:30:16          0.0   \n",
       "9  2020-05-11 14:35:02 2020-05-11 12:35:02          0.0   \n",
       "10 2020-06-23 15:35:02 2020-06-23 13:35:02          0.0   \n",
       "11 2020-06-11 15:25:04 2020-06-11 13:25:04          0.0   \n",
       "12 2020-08-27 11:45:02 2020-08-27 09:45:02          0.0   \n",
       "13 2020-07-09 17:05:02 2020-07-09 15:05:02          0.0   \n",
       "14 2020-02-29 15:25:02 2020-02-29 14:25:02          0.0   \n",
       "15 2020-03-14 16:05:04 2020-03-14 15:05:04          0.0   \n",
       "16 2020-07-31 09:31:39 2020-07-31 07:31:39          0.0   \n",
       "17 2020-01-04 11:07:14 2020-01-04 10:07:14          0.0   \n",
       "18 2019-12-23 09:30:11 2019-12-23 08:30:11          0.0   \n",
       "19 2020-07-04 11:35:02 2020-07-04 09:35:02          0.0   \n",
       "\n",
       "                                                 guid menu_order   post_type  \\\n",
       "0   https://www.bottle-neck.fr/wp-content/uploads/...        0.0  attachment   \n",
       "1   https://www.bottle-neck.fr/wp-content/uploads/...        0.0  attachment   \n",
       "2   https://www.bottle-neck.fr/wp-content/uploads/...        0.0  attachment   \n",
       "3   https://www.bottle-neck.fr/wp-content/uploads/...        0.0  attachment   \n",
       "4   https://www.bottle-neck.fr/wp-content/uploads/...        0.0  attachment   \n",
       "5   https://www.bottle-neck.fr/wp-content/uploads/...        0.0  attachment   \n",
       "6   https://www.bottle-neck.fr/?post_type=product&...        0.0     product   \n",
       "7   https://www.bottle-neck.fr/wp-content/uploads/...        0.0  attachment   \n",
       "8   https://www.bottle-neck.fr/wp-content/uploads/...        0.0  attachment   \n",
       "9   https://www.bottle-neck.fr/wp-content/uploads/...        0.0  attachment   \n",
       "10  https://www.bottle-neck.fr/?post_type=product&...        0.0     product   \n",
       "11  https://www.bottle-neck.fr/wp-content/uploads/...        0.0  attachment   \n",
       "12  https://www.bottle-neck.fr/?post_type=product&...        0.0     product   \n",
       "13  https://www.bottle-neck.fr/wp-content/uploads/...        0.0  attachment   \n",
       "14  https://www.bottle-neck.fr/?post_type=product&...        0.0     product   \n",
       "15  https://www.bottle-neck.fr/?post_type=product&...        0.0     product   \n",
       "16  https://www.bottle-neck.fr/?post_type=product&...        0.0     product   \n",
       "17  https://www.bottle-neck.fr/wp-content/uploads/...        0.0  attachment   \n",
       "18  https://www.bottle-neck.fr/wp-content/uploads/...        0.0  attachment   \n",
       "19  https://www.bottle-neck.fr/wp-content/uploads/...        0.0  attachment   \n",
       "\n",
       "   post_mime_type comment_count _merge ca_par_article  \n",
       "0      image/jpeg           0.0   both         6844.0  \n",
       "1      image/jpeg           0.0   both         2475.0  \n",
       "2      image/jpeg           0.0   both         1549.4  \n",
       "3      image/jpeg           0.0   both         1317.8  \n",
       "4      image/jpeg           0.0   both         1232.1  \n",
       "5      image/jpeg           0.0   both         1147.8  \n",
       "6             NaN           0.0   both         1113.0  \n",
       "7      image/jpeg           0.0   both          824.0  \n",
       "8      image/jpeg           0.0   both          805.0  \n",
       "9      image/jpeg           0.0   both          781.2  \n",
       "10            NaN           0.0   both          735.0  \n",
       "11     image/jpeg           0.0   both          700.0  \n",
       "12            NaN           0.0   both          675.0  \n",
       "13     image/jpeg           0.0   both          672.0  \n",
       "14            NaN           0.0   both          633.6  \n",
       "15            NaN           0.0   both          628.0  \n",
       "16            NaN           0.0   both          627.0  \n",
       "17     image/jpeg           0.0   both          616.0  \n",
       "18     image/jpeg           0.0   both          599.2  \n",
       "19     image/jpeg           0.0   both          594.0  \n",
       "\n",
       "[20 rows x 35 columns]"
      ]
     },
     "execution_count": 116,
     "metadata": {},
     "output_type": "execute_result"
    }
   ],
   "source": [
    "#Réinitialiser l'index du dataset par un reset_index\n",
    "df_final_merge.reset_index(drop=True, inplace=True)\n",
    "#Afficher les 20 premier articles en CA\n",
    "df_final_merge.head(20)"
   ]
  },
  {
   "cell_type": "code",
   "execution_count": 117,
   "id": "4040ced7",
   "metadata": {},
   "outputs": [
    {
     "data": {
      "application/vnd.plotly.v1+json": {
       "config": {
        "plotlyServerURL": "https://plot.ly"
       },
       "data": [
        {
         "alignmentgroup": "True",
         "hovertemplate": "Product Index=%{x}<br>Sales Revenue (CA)=%{y}<extra></extra>",
         "legendgroup": "",
         "marker": {
          "color": "#636efa",
          "pattern": {
           "shape": ""
          }
         },
         "name": "",
         "offsetgroup": "",
         "orientation": "v",
         "showlegend": false,
         "textposition": "auto",
         "type": "bar",
         "x": [
          0,
          1,
          2,
          3,
          4,
          5,
          6,
          7,
          8,
          9,
          10,
          11,
          12,
          13,
          14,
          15,
          16,
          17,
          18,
          19
         ],
         "xaxis": "x",
         "y": [
          6844,
          2475,
          1549.3999999999999,
          1317.8,
          1232.1,
          1147.8000000000002,
          1113,
          824,
          805,
          781.1999999999999,
          735,
          700,
          675,
          672,
          633.5999999999999,
          628,
          627,
          616,
          599.1999999999999,
          594
         ],
         "yaxis": "y"
        }
       ],
       "layout": {
        "barmode": "relative",
        "legend": {
         "tracegroupgap": 0
        },
        "template": {
         "data": {
          "bar": [
           {
            "error_x": {
             "color": "#2a3f5f"
            },
            "error_y": {
             "color": "#2a3f5f"
            },
            "marker": {
             "line": {
              "color": "#E5ECF6",
              "width": 0.5
             },
             "pattern": {
              "fillmode": "overlay",
              "size": 10,
              "solidity": 0.2
             }
            },
            "type": "bar"
           }
          ],
          "barpolar": [
           {
            "marker": {
             "line": {
              "color": "#E5ECF6",
              "width": 0.5
             },
             "pattern": {
              "fillmode": "overlay",
              "size": 10,
              "solidity": 0.2
             }
            },
            "type": "barpolar"
           }
          ],
          "carpet": [
           {
            "aaxis": {
             "endlinecolor": "#2a3f5f",
             "gridcolor": "white",
             "linecolor": "white",
             "minorgridcolor": "white",
             "startlinecolor": "#2a3f5f"
            },
            "baxis": {
             "endlinecolor": "#2a3f5f",
             "gridcolor": "white",
             "linecolor": "white",
             "minorgridcolor": "white",
             "startlinecolor": "#2a3f5f"
            },
            "type": "carpet"
           }
          ],
          "choropleth": [
           {
            "colorbar": {
             "outlinewidth": 0,
             "ticks": ""
            },
            "type": "choropleth"
           }
          ],
          "contour": [
           {
            "colorbar": {
             "outlinewidth": 0,
             "ticks": ""
            },
            "colorscale": [
             [
              0,
              "#0d0887"
             ],
             [
              0.1111111111111111,
              "#46039f"
             ],
             [
              0.2222222222222222,
              "#7201a8"
             ],
             [
              0.3333333333333333,
              "#9c179e"
             ],
             [
              0.4444444444444444,
              "#bd3786"
             ],
             [
              0.5555555555555556,
              "#d8576b"
             ],
             [
              0.6666666666666666,
              "#ed7953"
             ],
             [
              0.7777777777777778,
              "#fb9f3a"
             ],
             [
              0.8888888888888888,
              "#fdca26"
             ],
             [
              1,
              "#f0f921"
             ]
            ],
            "type": "contour"
           }
          ],
          "contourcarpet": [
           {
            "colorbar": {
             "outlinewidth": 0,
             "ticks": ""
            },
            "type": "contourcarpet"
           }
          ],
          "heatmap": [
           {
            "colorbar": {
             "outlinewidth": 0,
             "ticks": ""
            },
            "colorscale": [
             [
              0,
              "#0d0887"
             ],
             [
              0.1111111111111111,
              "#46039f"
             ],
             [
              0.2222222222222222,
              "#7201a8"
             ],
             [
              0.3333333333333333,
              "#9c179e"
             ],
             [
              0.4444444444444444,
              "#bd3786"
             ],
             [
              0.5555555555555556,
              "#d8576b"
             ],
             [
              0.6666666666666666,
              "#ed7953"
             ],
             [
              0.7777777777777778,
              "#fb9f3a"
             ],
             [
              0.8888888888888888,
              "#fdca26"
             ],
             [
              1,
              "#f0f921"
             ]
            ],
            "type": "heatmap"
           }
          ],
          "heatmapgl": [
           {
            "colorbar": {
             "outlinewidth": 0,
             "ticks": ""
            },
            "colorscale": [
             [
              0,
              "#0d0887"
             ],
             [
              0.1111111111111111,
              "#46039f"
             ],
             [
              0.2222222222222222,
              "#7201a8"
             ],
             [
              0.3333333333333333,
              "#9c179e"
             ],
             [
              0.4444444444444444,
              "#bd3786"
             ],
             [
              0.5555555555555556,
              "#d8576b"
             ],
             [
              0.6666666666666666,
              "#ed7953"
             ],
             [
              0.7777777777777778,
              "#fb9f3a"
             ],
             [
              0.8888888888888888,
              "#fdca26"
             ],
             [
              1,
              "#f0f921"
             ]
            ],
            "type": "heatmapgl"
           }
          ],
          "histogram": [
           {
            "marker": {
             "pattern": {
              "fillmode": "overlay",
              "size": 10,
              "solidity": 0.2
             }
            },
            "type": "histogram"
           }
          ],
          "histogram2d": [
           {
            "colorbar": {
             "outlinewidth": 0,
             "ticks": ""
            },
            "colorscale": [
             [
              0,
              "#0d0887"
             ],
             [
              0.1111111111111111,
              "#46039f"
             ],
             [
              0.2222222222222222,
              "#7201a8"
             ],
             [
              0.3333333333333333,
              "#9c179e"
             ],
             [
              0.4444444444444444,
              "#bd3786"
             ],
             [
              0.5555555555555556,
              "#d8576b"
             ],
             [
              0.6666666666666666,
              "#ed7953"
             ],
             [
              0.7777777777777778,
              "#fb9f3a"
             ],
             [
              0.8888888888888888,
              "#fdca26"
             ],
             [
              1,
              "#f0f921"
             ]
            ],
            "type": "histogram2d"
           }
          ],
          "histogram2dcontour": [
           {
            "colorbar": {
             "outlinewidth": 0,
             "ticks": ""
            },
            "colorscale": [
             [
              0,
              "#0d0887"
             ],
             [
              0.1111111111111111,
              "#46039f"
             ],
             [
              0.2222222222222222,
              "#7201a8"
             ],
             [
              0.3333333333333333,
              "#9c179e"
             ],
             [
              0.4444444444444444,
              "#bd3786"
             ],
             [
              0.5555555555555556,
              "#d8576b"
             ],
             [
              0.6666666666666666,
              "#ed7953"
             ],
             [
              0.7777777777777778,
              "#fb9f3a"
             ],
             [
              0.8888888888888888,
              "#fdca26"
             ],
             [
              1,
              "#f0f921"
             ]
            ],
            "type": "histogram2dcontour"
           }
          ],
          "mesh3d": [
           {
            "colorbar": {
             "outlinewidth": 0,
             "ticks": ""
            },
            "type": "mesh3d"
           }
          ],
          "parcoords": [
           {
            "line": {
             "colorbar": {
              "outlinewidth": 0,
              "ticks": ""
             }
            },
            "type": "parcoords"
           }
          ],
          "pie": [
           {
            "automargin": true,
            "type": "pie"
           }
          ],
          "scatter": [
           {
            "fillpattern": {
             "fillmode": "overlay",
             "size": 10,
             "solidity": 0.2
            },
            "type": "scatter"
           }
          ],
          "scatter3d": [
           {
            "line": {
             "colorbar": {
              "outlinewidth": 0,
              "ticks": ""
             }
            },
            "marker": {
             "colorbar": {
              "outlinewidth": 0,
              "ticks": ""
             }
            },
            "type": "scatter3d"
           }
          ],
          "scattercarpet": [
           {
            "marker": {
             "colorbar": {
              "outlinewidth": 0,
              "ticks": ""
             }
            },
            "type": "scattercarpet"
           }
          ],
          "scattergeo": [
           {
            "marker": {
             "colorbar": {
              "outlinewidth": 0,
              "ticks": ""
             }
            },
            "type": "scattergeo"
           }
          ],
          "scattergl": [
           {
            "marker": {
             "colorbar": {
              "outlinewidth": 0,
              "ticks": ""
             }
            },
            "type": "scattergl"
           }
          ],
          "scattermapbox": [
           {
            "marker": {
             "colorbar": {
              "outlinewidth": 0,
              "ticks": ""
             }
            },
            "type": "scattermapbox"
           }
          ],
          "scatterpolar": [
           {
            "marker": {
             "colorbar": {
              "outlinewidth": 0,
              "ticks": ""
             }
            },
            "type": "scatterpolar"
           }
          ],
          "scatterpolargl": [
           {
            "marker": {
             "colorbar": {
              "outlinewidth": 0,
              "ticks": ""
             }
            },
            "type": "scatterpolargl"
           }
          ],
          "scatterternary": [
           {
            "marker": {
             "colorbar": {
              "outlinewidth": 0,
              "ticks": ""
             }
            },
            "type": "scatterternary"
           }
          ],
          "surface": [
           {
            "colorbar": {
             "outlinewidth": 0,
             "ticks": ""
            },
            "colorscale": [
             [
              0,
              "#0d0887"
             ],
             [
              0.1111111111111111,
              "#46039f"
             ],
             [
              0.2222222222222222,
              "#7201a8"
             ],
             [
              0.3333333333333333,
              "#9c179e"
             ],
             [
              0.4444444444444444,
              "#bd3786"
             ],
             [
              0.5555555555555556,
              "#d8576b"
             ],
             [
              0.6666666666666666,
              "#ed7953"
             ],
             [
              0.7777777777777778,
              "#fb9f3a"
             ],
             [
              0.8888888888888888,
              "#fdca26"
             ],
             [
              1,
              "#f0f921"
             ]
            ],
            "type": "surface"
           }
          ],
          "table": [
           {
            "cells": {
             "fill": {
              "color": "#EBF0F8"
             },
             "line": {
              "color": "white"
             }
            },
            "header": {
             "fill": {
              "color": "#C8D4E3"
             },
             "line": {
              "color": "white"
             }
            },
            "type": "table"
           }
          ]
         },
         "layout": {
          "annotationdefaults": {
           "arrowcolor": "#2a3f5f",
           "arrowhead": 0,
           "arrowwidth": 1
          },
          "autotypenumbers": "strict",
          "coloraxis": {
           "colorbar": {
            "outlinewidth": 0,
            "ticks": ""
           }
          },
          "colorscale": {
           "diverging": [
            [
             0,
             "#8e0152"
            ],
            [
             0.1,
             "#c51b7d"
            ],
            [
             0.2,
             "#de77ae"
            ],
            [
             0.3,
             "#f1b6da"
            ],
            [
             0.4,
             "#fde0ef"
            ],
            [
             0.5,
             "#f7f7f7"
            ],
            [
             0.6,
             "#e6f5d0"
            ],
            [
             0.7,
             "#b8e186"
            ],
            [
             0.8,
             "#7fbc41"
            ],
            [
             0.9,
             "#4d9221"
            ],
            [
             1,
             "#276419"
            ]
           ],
           "sequential": [
            [
             0,
             "#0d0887"
            ],
            [
             0.1111111111111111,
             "#46039f"
            ],
            [
             0.2222222222222222,
             "#7201a8"
            ],
            [
             0.3333333333333333,
             "#9c179e"
            ],
            [
             0.4444444444444444,
             "#bd3786"
            ],
            [
             0.5555555555555556,
             "#d8576b"
            ],
            [
             0.6666666666666666,
             "#ed7953"
            ],
            [
             0.7777777777777778,
             "#fb9f3a"
            ],
            [
             0.8888888888888888,
             "#fdca26"
            ],
            [
             1,
             "#f0f921"
            ]
           ],
           "sequentialminus": [
            [
             0,
             "#0d0887"
            ],
            [
             0.1111111111111111,
             "#46039f"
            ],
            [
             0.2222222222222222,
             "#7201a8"
            ],
            [
             0.3333333333333333,
             "#9c179e"
            ],
            [
             0.4444444444444444,
             "#bd3786"
            ],
            [
             0.5555555555555556,
             "#d8576b"
            ],
            [
             0.6666666666666666,
             "#ed7953"
            ],
            [
             0.7777777777777778,
             "#fb9f3a"
            ],
            [
             0.8888888888888888,
             "#fdca26"
            ],
            [
             1,
             "#f0f921"
            ]
           ]
          },
          "colorway": [
           "#636efa",
           "#EF553B",
           "#00cc96",
           "#ab63fa",
           "#FFA15A",
           "#19d3f3",
           "#FF6692",
           "#B6E880",
           "#FF97FF",
           "#FECB52"
          ],
          "font": {
           "color": "#2a3f5f"
          },
          "geo": {
           "bgcolor": "white",
           "lakecolor": "white",
           "landcolor": "#E5ECF6",
           "showlakes": true,
           "showland": true,
           "subunitcolor": "white"
          },
          "hoverlabel": {
           "align": "left"
          },
          "hovermode": "closest",
          "mapbox": {
           "style": "light"
          },
          "paper_bgcolor": "white",
          "plot_bgcolor": "#E5ECF6",
          "polar": {
           "angularaxis": {
            "gridcolor": "white",
            "linecolor": "white",
            "ticks": ""
           },
           "bgcolor": "#E5ECF6",
           "radialaxis": {
            "gridcolor": "white",
            "linecolor": "white",
            "ticks": ""
           }
          },
          "scene": {
           "xaxis": {
            "backgroundcolor": "#E5ECF6",
            "gridcolor": "white",
            "gridwidth": 2,
            "linecolor": "white",
            "showbackground": true,
            "ticks": "",
            "zerolinecolor": "white"
           },
           "yaxis": {
            "backgroundcolor": "#E5ECF6",
            "gridcolor": "white",
            "gridwidth": 2,
            "linecolor": "white",
            "showbackground": true,
            "ticks": "",
            "zerolinecolor": "white"
           },
           "zaxis": {
            "backgroundcolor": "#E5ECF6",
            "gridcolor": "white",
            "gridwidth": 2,
            "linecolor": "white",
            "showbackground": true,
            "ticks": "",
            "zerolinecolor": "white"
           }
          },
          "shapedefaults": {
           "line": {
            "color": "#2a3f5f"
           }
          },
          "ternary": {
           "aaxis": {
            "gridcolor": "white",
            "linecolor": "white",
            "ticks": ""
           },
           "baxis": {
            "gridcolor": "white",
            "linecolor": "white",
            "ticks": ""
           },
           "bgcolor": "#E5ECF6",
           "caxis": {
            "gridcolor": "white",
            "linecolor": "white",
            "ticks": ""
           }
          },
          "title": {
           "x": 0.05
          },
          "xaxis": {
           "automargin": true,
           "gridcolor": "white",
           "linecolor": "white",
           "ticks": "",
           "title": {
            "standoff": 15
           },
           "zerolinecolor": "white",
           "zerolinewidth": 2
          },
          "yaxis": {
           "automargin": true,
           "gridcolor": "white",
           "linecolor": "white",
           "ticks": "",
           "title": {
            "standoff": 15
           },
           "zerolinecolor": "white",
           "zerolinewidth": 2
          }
         }
        },
        "title": {
         "text": "Top 20 Products by Sales Revenue (CA)"
        },
        "xaxis": {
         "anchor": "y",
         "domain": [
          0,
          1
         ],
         "title": {
          "text": "Product Index"
         }
        },
        "yaxis": {
         "anchor": "x",
         "domain": [
          0,
          1
         ],
         "title": {
          "text": "Sales Revenue (CA)"
         }
        }
       }
      },
      "text/html": [
       "<div>                            <div id=\"25c7cee1-ed56-499a-838d-1d99f3ebe63a\" class=\"plotly-graph-div\" style=\"height:525px; width:100%;\"></div>            <script type=\"text/javascript\">                require([\"plotly\"], function(Plotly) {                    window.PLOTLYENV=window.PLOTLYENV || {};                                    if (document.getElementById(\"25c7cee1-ed56-499a-838d-1d99f3ebe63a\")) {                    Plotly.newPlot(                        \"25c7cee1-ed56-499a-838d-1d99f3ebe63a\",                        [{\"alignmentgroup\":\"True\",\"hovertemplate\":\"Product Index=%{x}<br>Sales Revenue (CA)=%{y}<extra></extra>\",\"legendgroup\":\"\",\"marker\":{\"color\":\"#636efa\",\"pattern\":{\"shape\":\"\"}},\"name\":\"\",\"offsetgroup\":\"\",\"orientation\":\"v\",\"showlegend\":false,\"textposition\":\"auto\",\"x\":[0,1,2,3,4,5,6,7,8,9,10,11,12,13,14,15,16,17,18,19],\"xaxis\":\"x\",\"y\":[6844.0,2475.0,1549.3999999999999,1317.8,1232.1,1147.8000000000002,1113.0,824.0,805.0,781.1999999999999,735.0,700.0,675.0,672.0,633.5999999999999,628.0,627.0,616.0,599.1999999999999,594.0],\"yaxis\":\"y\",\"type\":\"bar\"}],                        {\"template\":{\"data\":{\"histogram2dcontour\":[{\"type\":\"histogram2dcontour\",\"colorbar\":{\"outlinewidth\":0,\"ticks\":\"\"},\"colorscale\":[[0.0,\"#0d0887\"],[0.1111111111111111,\"#46039f\"],[0.2222222222222222,\"#7201a8\"],[0.3333333333333333,\"#9c179e\"],[0.4444444444444444,\"#bd3786\"],[0.5555555555555556,\"#d8576b\"],[0.6666666666666666,\"#ed7953\"],[0.7777777777777778,\"#fb9f3a\"],[0.8888888888888888,\"#fdca26\"],[1.0,\"#f0f921\"]]}],\"choropleth\":[{\"type\":\"choropleth\",\"colorbar\":{\"outlinewidth\":0,\"ticks\":\"\"}}],\"histogram2d\":[{\"type\":\"histogram2d\",\"colorbar\":{\"outlinewidth\":0,\"ticks\":\"\"},\"colorscale\":[[0.0,\"#0d0887\"],[0.1111111111111111,\"#46039f\"],[0.2222222222222222,\"#7201a8\"],[0.3333333333333333,\"#9c179e\"],[0.4444444444444444,\"#bd3786\"],[0.5555555555555556,\"#d8576b\"],[0.6666666666666666,\"#ed7953\"],[0.7777777777777778,\"#fb9f3a\"],[0.8888888888888888,\"#fdca26\"],[1.0,\"#f0f921\"]]}],\"heatmap\":[{\"type\":\"heatmap\",\"colorbar\":{\"outlinewidth\":0,\"ticks\":\"\"},\"colorscale\":[[0.0,\"#0d0887\"],[0.1111111111111111,\"#46039f\"],[0.2222222222222222,\"#7201a8\"],[0.3333333333333333,\"#9c179e\"],[0.4444444444444444,\"#bd3786\"],[0.5555555555555556,\"#d8576b\"],[0.6666666666666666,\"#ed7953\"],[0.7777777777777778,\"#fb9f3a\"],[0.8888888888888888,\"#fdca26\"],[1.0,\"#f0f921\"]]}],\"heatmapgl\":[{\"type\":\"heatmapgl\",\"colorbar\":{\"outlinewidth\":0,\"ticks\":\"\"},\"colorscale\":[[0.0,\"#0d0887\"],[0.1111111111111111,\"#46039f\"],[0.2222222222222222,\"#7201a8\"],[0.3333333333333333,\"#9c179e\"],[0.4444444444444444,\"#bd3786\"],[0.5555555555555556,\"#d8576b\"],[0.6666666666666666,\"#ed7953\"],[0.7777777777777778,\"#fb9f3a\"],[0.8888888888888888,\"#fdca26\"],[1.0,\"#f0f921\"]]}],\"contourcarpet\":[{\"type\":\"contourcarpet\",\"colorbar\":{\"outlinewidth\":0,\"ticks\":\"\"}}],\"contour\":[{\"type\":\"contour\",\"colorbar\":{\"outlinewidth\":0,\"ticks\":\"\"},\"colorscale\":[[0.0,\"#0d0887\"],[0.1111111111111111,\"#46039f\"],[0.2222222222222222,\"#7201a8\"],[0.3333333333333333,\"#9c179e\"],[0.4444444444444444,\"#bd3786\"],[0.5555555555555556,\"#d8576b\"],[0.6666666666666666,\"#ed7953\"],[0.7777777777777778,\"#fb9f3a\"],[0.8888888888888888,\"#fdca26\"],[1.0,\"#f0f921\"]]}],\"surface\":[{\"type\":\"surface\",\"colorbar\":{\"outlinewidth\":0,\"ticks\":\"\"},\"colorscale\":[[0.0,\"#0d0887\"],[0.1111111111111111,\"#46039f\"],[0.2222222222222222,\"#7201a8\"],[0.3333333333333333,\"#9c179e\"],[0.4444444444444444,\"#bd3786\"],[0.5555555555555556,\"#d8576b\"],[0.6666666666666666,\"#ed7953\"],[0.7777777777777778,\"#fb9f3a\"],[0.8888888888888888,\"#fdca26\"],[1.0,\"#f0f921\"]]}],\"mesh3d\":[{\"type\":\"mesh3d\",\"colorbar\":{\"outlinewidth\":0,\"ticks\":\"\"}}],\"scatter\":[{\"fillpattern\":{\"fillmode\":\"overlay\",\"size\":10,\"solidity\":0.2},\"type\":\"scatter\"}],\"parcoords\":[{\"type\":\"parcoords\",\"line\":{\"colorbar\":{\"outlinewidth\":0,\"ticks\":\"\"}}}],\"scatterpolargl\":[{\"type\":\"scatterpolargl\",\"marker\":{\"colorbar\":{\"outlinewidth\":0,\"ticks\":\"\"}}}],\"bar\":[{\"error_x\":{\"color\":\"#2a3f5f\"},\"error_y\":{\"color\":\"#2a3f5f\"},\"marker\":{\"line\":{\"color\":\"#E5ECF6\",\"width\":0.5},\"pattern\":{\"fillmode\":\"overlay\",\"size\":10,\"solidity\":0.2}},\"type\":\"bar\"}],\"scattergeo\":[{\"type\":\"scattergeo\",\"marker\":{\"colorbar\":{\"outlinewidth\":0,\"ticks\":\"\"}}}],\"scatterpolar\":[{\"type\":\"scatterpolar\",\"marker\":{\"colorbar\":{\"outlinewidth\":0,\"ticks\":\"\"}}}],\"histogram\":[{\"marker\":{\"pattern\":{\"fillmode\":\"overlay\",\"size\":10,\"solidity\":0.2}},\"type\":\"histogram\"}],\"scattergl\":[{\"type\":\"scattergl\",\"marker\":{\"colorbar\":{\"outlinewidth\":0,\"ticks\":\"\"}}}],\"scatter3d\":[{\"type\":\"scatter3d\",\"line\":{\"colorbar\":{\"outlinewidth\":0,\"ticks\":\"\"}},\"marker\":{\"colorbar\":{\"outlinewidth\":0,\"ticks\":\"\"}}}],\"scattermapbox\":[{\"type\":\"scattermapbox\",\"marker\":{\"colorbar\":{\"outlinewidth\":0,\"ticks\":\"\"}}}],\"scatterternary\":[{\"type\":\"scatterternary\",\"marker\":{\"colorbar\":{\"outlinewidth\":0,\"ticks\":\"\"}}}],\"scattercarpet\":[{\"type\":\"scattercarpet\",\"marker\":{\"colorbar\":{\"outlinewidth\":0,\"ticks\":\"\"}}}],\"carpet\":[{\"aaxis\":{\"endlinecolor\":\"#2a3f5f\",\"gridcolor\":\"white\",\"linecolor\":\"white\",\"minorgridcolor\":\"white\",\"startlinecolor\":\"#2a3f5f\"},\"baxis\":{\"endlinecolor\":\"#2a3f5f\",\"gridcolor\":\"white\",\"linecolor\":\"white\",\"minorgridcolor\":\"white\",\"startlinecolor\":\"#2a3f5f\"},\"type\":\"carpet\"}],\"table\":[{\"cells\":{\"fill\":{\"color\":\"#EBF0F8\"},\"line\":{\"color\":\"white\"}},\"header\":{\"fill\":{\"color\":\"#C8D4E3\"},\"line\":{\"color\":\"white\"}},\"type\":\"table\"}],\"barpolar\":[{\"marker\":{\"line\":{\"color\":\"#E5ECF6\",\"width\":0.5},\"pattern\":{\"fillmode\":\"overlay\",\"size\":10,\"solidity\":0.2}},\"type\":\"barpolar\"}],\"pie\":[{\"automargin\":true,\"type\":\"pie\"}]},\"layout\":{\"autotypenumbers\":\"strict\",\"colorway\":[\"#636efa\",\"#EF553B\",\"#00cc96\",\"#ab63fa\",\"#FFA15A\",\"#19d3f3\",\"#FF6692\",\"#B6E880\",\"#FF97FF\",\"#FECB52\"],\"font\":{\"color\":\"#2a3f5f\"},\"hovermode\":\"closest\",\"hoverlabel\":{\"align\":\"left\"},\"paper_bgcolor\":\"white\",\"plot_bgcolor\":\"#E5ECF6\",\"polar\":{\"bgcolor\":\"#E5ECF6\",\"angularaxis\":{\"gridcolor\":\"white\",\"linecolor\":\"white\",\"ticks\":\"\"},\"radialaxis\":{\"gridcolor\":\"white\",\"linecolor\":\"white\",\"ticks\":\"\"}},\"ternary\":{\"bgcolor\":\"#E5ECF6\",\"aaxis\":{\"gridcolor\":\"white\",\"linecolor\":\"white\",\"ticks\":\"\"},\"baxis\":{\"gridcolor\":\"white\",\"linecolor\":\"white\",\"ticks\":\"\"},\"caxis\":{\"gridcolor\":\"white\",\"linecolor\":\"white\",\"ticks\":\"\"}},\"coloraxis\":{\"colorbar\":{\"outlinewidth\":0,\"ticks\":\"\"}},\"colorscale\":{\"sequential\":[[0.0,\"#0d0887\"],[0.1111111111111111,\"#46039f\"],[0.2222222222222222,\"#7201a8\"],[0.3333333333333333,\"#9c179e\"],[0.4444444444444444,\"#bd3786\"],[0.5555555555555556,\"#d8576b\"],[0.6666666666666666,\"#ed7953\"],[0.7777777777777778,\"#fb9f3a\"],[0.8888888888888888,\"#fdca26\"],[1.0,\"#f0f921\"]],\"sequentialminus\":[[0.0,\"#0d0887\"],[0.1111111111111111,\"#46039f\"],[0.2222222222222222,\"#7201a8\"],[0.3333333333333333,\"#9c179e\"],[0.4444444444444444,\"#bd3786\"],[0.5555555555555556,\"#d8576b\"],[0.6666666666666666,\"#ed7953\"],[0.7777777777777778,\"#fb9f3a\"],[0.8888888888888888,\"#fdca26\"],[1.0,\"#f0f921\"]],\"diverging\":[[0,\"#8e0152\"],[0.1,\"#c51b7d\"],[0.2,\"#de77ae\"],[0.3,\"#f1b6da\"],[0.4,\"#fde0ef\"],[0.5,\"#f7f7f7\"],[0.6,\"#e6f5d0\"],[0.7,\"#b8e186\"],[0.8,\"#7fbc41\"],[0.9,\"#4d9221\"],[1,\"#276419\"]]},\"xaxis\":{\"gridcolor\":\"white\",\"linecolor\":\"white\",\"ticks\":\"\",\"title\":{\"standoff\":15},\"zerolinecolor\":\"white\",\"automargin\":true,\"zerolinewidth\":2},\"yaxis\":{\"gridcolor\":\"white\",\"linecolor\":\"white\",\"ticks\":\"\",\"title\":{\"standoff\":15},\"zerolinecolor\":\"white\",\"automargin\":true,\"zerolinewidth\":2},\"scene\":{\"xaxis\":{\"backgroundcolor\":\"#E5ECF6\",\"gridcolor\":\"white\",\"linecolor\":\"white\",\"showbackground\":true,\"ticks\":\"\",\"zerolinecolor\":\"white\",\"gridwidth\":2},\"yaxis\":{\"backgroundcolor\":\"#E5ECF6\",\"gridcolor\":\"white\",\"linecolor\":\"white\",\"showbackground\":true,\"ticks\":\"\",\"zerolinecolor\":\"white\",\"gridwidth\":2},\"zaxis\":{\"backgroundcolor\":\"#E5ECF6\",\"gridcolor\":\"white\",\"linecolor\":\"white\",\"showbackground\":true,\"ticks\":\"\",\"zerolinecolor\":\"white\",\"gridwidth\":2}},\"shapedefaults\":{\"line\":{\"color\":\"#2a3f5f\"}},\"annotationdefaults\":{\"arrowcolor\":\"#2a3f5f\",\"arrowhead\":0,\"arrowwidth\":1},\"geo\":{\"bgcolor\":\"white\",\"landcolor\":\"#E5ECF6\",\"subunitcolor\":\"white\",\"showland\":true,\"showlakes\":true,\"lakecolor\":\"white\"},\"title\":{\"x\":0.05},\"mapbox\":{\"style\":\"light\"}}},\"xaxis\":{\"anchor\":\"y\",\"domain\":[0.0,1.0],\"title\":{\"text\":\"Product Index\"}},\"yaxis\":{\"anchor\":\"x\",\"domain\":[0.0,1.0],\"title\":{\"text\":\"Sales Revenue (CA)\"}},\"legend\":{\"tracegroupgap\":0},\"title\":{\"text\":\"Top 20 Products by Sales Revenue (CA)\"},\"barmode\":\"relative\"},                        {\"responsive\": true}                    ).then(function(){\n",
       "                            \n",
       "var gd = document.getElementById('25c7cee1-ed56-499a-838d-1d99f3ebe63a');\n",
       "var x = new MutationObserver(function (mutations, observer) {{\n",
       "        var display = window.getComputedStyle(gd).display;\n",
       "        if (!display || display === 'none') {{\n",
       "            console.log([gd, 'removed!']);\n",
       "            Plotly.purge(gd);\n",
       "            observer.disconnect();\n",
       "        }}\n",
       "}});\n",
       "\n",
       "// Listen for the removal of the full notebook cells\n",
       "var notebookContainer = gd.closest('#notebook-container');\n",
       "if (notebookContainer) {{\n",
       "    x.observe(notebookContainer, {childList: true});\n",
       "}}\n",
       "\n",
       "// Listen for the clearing of the current output cell\n",
       "var outputEl = gd.closest('.output');\n",
       "if (outputEl) {{\n",
       "    x.observe(outputEl, {childList: true});\n",
       "}}\n",
       "\n",
       "                        })                };                });            </script>        </div>"
      ]
     },
     "metadata": {},
     "output_type": "display_data"
    }
   ],
   "source": [
    "top_20 = df_final_merge.head(20)\n",
    "#Graphique en barre des 20 premiers articles avec plotly express\n",
    "fig = px.bar(top_20, x= top_20.index, y='ca_par_article',\n",
    "             title='Top 20 Products by Sales Revenue (CA)',\n",
    "             labels={'index': 'Product Index', 'ca_par_article': 'Sales Revenue (CA)'})\n",
    "fig.show()"
   ]
  },
  {
   "cell_type": "code",
   "execution_count": 118,
   "id": "d7e5e87b",
   "metadata": {},
   "outputs": [
    {
     "ename": "NameError",
     "evalue": "name 'df_sorted' is not defined",
     "output_type": "error",
     "traceback": [
      "\u001b[1;31m---------------------------------------------------------------------------\u001b[0m",
      "\u001b[1;31mNameError\u001b[0m                                 Traceback (most recent call last)",
      "Cell \u001b[1;32mIn[118], line 15\u001b[0m\n\u001b[0;32m     12\u001b[0m articles_80 \u001b[38;5;241m=\u001b[39m df_final_merge[df_final_merge[\u001b[38;5;124m'\u001b[39m\u001b[38;5;124mcumulative_ca_share\u001b[39m\u001b[38;5;124m'\u001b[39m] \u001b[38;5;241m<\u001b[39m\u001b[38;5;241m=\u001b[39m \u001b[38;5;241m0.80\u001b[39m]\n\u001b[0;32m     14\u001b[0m \u001b[38;5;66;03m#Afficher la proportion que représentent ce groupe d'articles dans le catalogue entier du site web\u001b[39;00m\n\u001b[1;32m---> 15\u001b[0m proportion \u001b[38;5;241m=\u001b[39m \u001b[38;5;28mlen\u001b[39m(articles_80) \u001b[38;5;241m/\u001b[39m \u001b[38;5;28mlen\u001b[39m(df_sorted) \u001b[38;5;241m*\u001b[39m \u001b[38;5;241m100\u001b[39m\n\u001b[0;32m     17\u001b[0m \u001b[38;5;28mprint\u001b[39m(\u001b[38;5;124mf\u001b[39m\u001b[38;5;124m\"\u001b[39m\u001b[38;5;124mNumber of articles representing 80% of the total CA: \u001b[39m\u001b[38;5;132;01m{\u001b[39;00m\u001b[38;5;28mlen\u001b[39m(articles_80)\u001b[38;5;132;01m}\u001b[39;00m\u001b[38;5;124m\"\u001b[39m)\n\u001b[0;32m     18\u001b[0m \u001b[38;5;28mprint\u001b[39m(\u001b[38;5;124mf\u001b[39m\u001b[38;5;124m\"\u001b[39m\u001b[38;5;124mProportion of these articles in the entire catalog: \u001b[39m\u001b[38;5;132;01m{\u001b[39;00mproportion\u001b[38;5;132;01m:\u001b[39;00m\u001b[38;5;124m.2f\u001b[39m\u001b[38;5;132;01m}\u001b[39;00m\u001b[38;5;124m%\u001b[39m\u001b[38;5;124m\"\u001b[39m)\n",
      "\u001b[1;31mNameError\u001b[0m: name 'df_sorted' is not defined"
     ]
    }
   ],
   "source": [
    "#############################\n",
    "# Calculer le 20 / 80 en CA #\n",
    "#############################\n",
    "\n",
    "#Créer une colonne calculant la part du CA de la ligne dans le dataset\n",
    "df_final_merge['ca_share'] = df_final_merge['ca_par_article'] / df_final_merge['ca_par_article'].sum()\n",
    "\n",
    "#Créer une colonne réalisant la somme cumulative de la colonne précedemment créée\n",
    "df_final_merge['cumulative_ca_share'] = df_final_merge['ca_share'].cumsum()\n",
    "\n",
    "#Grâce au deux colonnes créées précedemment, calculer le nombre d'articles représentant 80% du CA\n",
    "articles_80 = df_final_merge[df_final_merge['cumulative_ca_share'] <= 0.80]\n",
    "\n",
    "#Afficher la proportion que représentent ce groupe d'articles dans le catalogue entier du site web\n",
    "proportion = len(articles_80) / len(df_sorted) * 100\n",
    "\n",
    "print(f\"Number of articles representing 80% of the total CA: {len(articles_80)}\")\n",
    "print(f\"Proportion of these articles in the entire catalog: {proportion:.2f}%\")"
   ]
  },
  {
   "cell_type": "markdown",
   "id": "8de7af87",
   "metadata": {},
   "source": [
    "<div style=\"border: 1px solid RGB(51,165,182);\" >\n",
    "<h3 style=\"margin: auto; padding: 20px; color: RGB(51,165,182); \">Etape 5.2 - Analyse des ventes en Quantités</h3>\n",
    "</div>"
   ]
  },
  {
   "cell_type": "code",
   "execution_count": null,
   "id": "7b7e1c65",
   "metadata": {},
   "outputs": [],
   "source": [
    "df_final_merge.columns"
   ]
  },
  {
   "cell_type": "code",
   "execution_count": null,
   "id": "ab222e08",
   "metadata": {},
   "outputs": [],
   "source": [
    "#####################################\n",
    "# Palmares des articles en quantité #\n",
    "#####################################\n",
    "\n",
    "#Effectuer le tri dans l'ordre décroissant de quantités vendues du dataset df_merge\n",
    "df_final_merge = df_final_merge.sort_values(by='total_sales', ascending=False)\n",
    "\n",
    "#Réinitialiser l'index du dataset par un reset_index\n",
    "df_final_merge.reset_index(drop=True, inplace=True)\n",
    "\n",
    "#Afficher les 20 premier articles en quantité\n",
    "top_20_sales = df_final_merge.head(20)\n",
    "\n",
    "#Graphique en barre des 20 premiers articles avec plotly express\n",
    "fig = px.bar(top_20_sales, x=top_20_sales.index, y='total_sales',\n",
    "             title='Top 20 Products by Quantity Sold',\n",
    "             labels={'x': 'Index', 'total_sales': 'Quantity Sold'})\n",
    "fig.show()"
   ]
  },
  {
   "cell_type": "code",
   "execution_count": null,
   "id": "2aad021e",
   "metadata": {},
   "outputs": [],
   "source": [
    "#############################\n",
    "# Calculer le 20 / 80 en CA #\n",
    "#############################\n",
    "\n",
    "total_quantity_sold = df_final_merge['total_sales'].sum()\n",
    "\n",
    "#Créer une colonne calculant la part en quantité de la ligne dans le dataset\n",
    "\n",
    "df_final_merge['percentage_of_total_sales'] = (df_final_merge['total_sales'] / total_quantity_sold) * 100\n",
    "\n",
    "\n",
    "#Créer une colonne réalisant la somme cumulative de la colonne précedemment créée\n",
    "\n",
    "df_final_merge['cumulative_percentage'] = df_final_merge['percentage_of_total_sales'].cumsum()\n",
    "\n",
    "#Grâce au deux colonnes créées précedemment, calculer le nombre d'articles représentant 80% des ventes en quantité\n",
    "\n",
    "products_80_percent = df_final_merge[df_final_merge['cumulative_percentage'] <= 80]\n",
    "\n",
    "proportion_80_percent = len(products_80_percent) / len(df_sorted_by_sales) * 100\n",
    "\n",
    "\n",
    "#Afficher la proportion que représentent ce groupe d'articles dans le catalogue entier du site web\n",
    "print(\"Products representing 80% of total sales:\")\n",
    "print(products_80_percent[['product_id', 'total_sales', 'percentage_of_total_sales', 'cumulative_percentage']])\n",
    "\n",
    "print(\"\\nProportion of products that make up 80% of sales:\", proportion_80_percent, \"%\")"
   ]
  },
  {
   "cell_type": "markdown",
   "id": "077789b1",
   "metadata": {},
   "source": [
    "<div style=\"border: 1px solid RGB(51,165,182);\" >\n",
    "<h3 style=\"margin: auto; padding: 20px; color: RGB(51,165,182); \">Etape 5.3 - Analyse des stocks</h3>\n",
    "</div>"
   ]
  },
  {
   "cell_type": "code",
   "execution_count": null,
   "id": "14e45472",
   "metadata": {},
   "outputs": [],
   "source": [
    "######################################\n",
    "# Calcule le nombre de mois de stock #\n",
    "######################################\n",
    "\n",
    "#Import de numpy \n",
    "import numpy as np \n",
    "\n",
    "#Création de la colonne Rotation de stock\n",
    "df_final_merge['stock_rotation'] = df_final_merge['stock_quantity'] / df_final_merge['total_sales'] * 12  # 12 months in a year\n",
    "\n",
    "\n",
    "#Remplacement des \"inf\" par 0\n",
    "df_final_merge['stock_rotation'].replace(np.inf, 0, inplace=True)\n",
    "\n",
    "#Effectuer le tri dans l'ordre décroissant du nombre de mois de stock dans le dataset df_merge\n",
    "df_sorted_by_stock = df_final_merge.sort_values(by='stock_rotation', ascending=False)\n",
    "\n",
    "#Graphique en barre du flop 20 des produits qui ont le plus de mois de stock\n",
    "\n",
    "top_20_stock = df_sorted_by_stock.head(20)\n",
    "\n",
    "# Display the products and stock rotation\n",
    "print(top_20_stock[['product_id', 'stock_quantity', 'total_sales', 'stock_rotation']])\n",
    "\n",
    "# Step 5: Plotting a bar chart using Plotly Express\n",
    "fig = px.bar(top_20_stock, x= top_20_stock.index, y='stock_rotation',\n",
    "             title='Top 20 Products with Most Months of Stock',\n",
    "             labels={'x': 'Index', 'stock_rotation': 'Months of Stock'})\n",
    "fig.show()"
   ]
  },
  {
   "cell_type": "code",
   "execution_count": null,
   "id": "0cd6696c",
   "metadata": {},
   "outputs": [],
   "source": [
    "####################################\n",
    "# Valorisation des stocks en euros #\n",
    "####################################\n",
    "\n",
    "#Création de la colonne Valorisation des stocks en euros\n",
    "df_final_merge['Valorisation_stock_euros'] = df_final_merge['stock_quantity'] * df_final_merge['purchase_price']\n",
    "\n",
    "#Calculer la somme de la colonne \"Valorisation_stock_euros\"\n",
    "total_stock_value = df_final_merge['Valorisation_stock_euros'].sum()\n",
    "\n",
    "print(df_final_merge[['product_id', 'stock_quantity', 'purchase_price', 'Valorisation_stock_euros']])\n",
    "print(f\"Total Valorisation des Stocks en Euros: {total_stock_value:.2f} €\")"
   ]
  },
  {
   "cell_type": "code",
   "execution_count": null,
   "id": "4a3dd99d",
   "metadata": {},
   "outputs": [],
   "source": [
    "##############################################\n",
    "# Valorisation du nombre de produit en stock #\n",
    "##############################################\n",
    "\n",
    "#Calculer la somme de la colonne stock quantity\n",
    "\n",
    "total_stock_quantity = df_final_merge['stock_quantity'].sum()\n",
    "\n",
    "print(f\"Total Number of Products in Stock: {total_stock_quantity}\")\n"
   ]
  },
  {
   "cell_type": "markdown",
   "id": "9e48f6dc",
   "metadata": {},
   "source": [
    "<div style=\"border: 1px solid RGB(51,165,182);\" >\n",
    "<h3 style=\"margin: auto; padding: 20px; color: RGB(51,165,182); \">Etape 5.4 - Analyse du taux de marge</h3>\n",
    "</div>"
   ]
  },
  {
   "cell_type": "code",
   "execution_count": null,
   "id": "7de5ca46",
   "metadata": {},
   "outputs": [],
   "source": [
    "############################\n",
    "# Analyse du taux de marge #\n",
    "############################\n",
    "\n",
    "#Création de la colonne prix HT\n",
    "df_final_merge['prix_HT'] = df_final_merge['price']\n",
    "\n",
    "#Création de la colonne Taux de marge\n",
    "df_final_merge['Taux_de_marge'] = ((df_final_merge['price'] - df_final_merge['purchase_price']) / df_final_merge['price']) * 100\n",
    "\n",
    "#Afficher le prix minimum de la colonne \"taux_marge\"\n",
    "min_margin_rate = df_final_merge['Taux_de_marge'].min()\n",
    "\n",
    "#Afficher le prix maximum de la colonne \"taux_marge\"\n",
    "max_margin_rate = df_final_merge['Taux_de_marge'].max()\n",
    "\n",
    "print(f\"Minimum Margin Rate: {min_margin_rate:.2f}%\")\n",
    "print(f\"Maximum Margin Rate: {max_margin_rate:.2f}%\")"
   ]
  },
  {
   "cell_type": "code",
   "execution_count": null,
   "id": "6082d42b",
   "metadata": {},
   "outputs": [],
   "source": [
    "#affichage de la ligne avec un taux de marge inférieur à 0\n",
    "products_with_negative_margin = df_final_merge[df_final_merge['Taux_de_marge'] < 0]\n",
    "print(products_with_negative_margin[['product_id', 'price', 'purchase_price', 'Taux_de_marge']])\n"
   ]
  },
  {
   "cell_type": "code",
   "execution_count": null,
   "id": "d756037c",
   "metadata": {},
   "outputs": [],
   "source": [
    "#création d'un dataframe avec les taux positifs\n",
    "df_positive_margin = df_final_merge[df_final_merge['Taux_de_marge'] > 0]\n",
    "\n",
    "#Afficher le prix minimum de la colonne \"taux_marge\"\n",
    "min_positive_margin = df_positive_margin['Taux_de_marge'].min()\n",
    "\n",
    "#Afficher le prix maximum de la colonne \"taux_marge\"\n",
    "max_positive_margin = df_positive_margin['Taux_de_marge'].max()\n",
    "\n",
    "\n",
    "print(f\"Minimum Positive Margin Rate: {min_positive_margin:.2f}%\")\n",
    "print(f\"Maximum Positive Margin Rate: {max_positive_margin:.2f}%\")"
   ]
  },
  {
   "cell_type": "code",
   "execution_count": null,
   "id": "b24042f8",
   "metadata": {},
   "outputs": [],
   "source": [
    "#création d'un dataframe avec le taux de marge moyen par type de produit\n",
    "df_avg_margin_by_type = df_final_merge.groupby('product_type')['Taux_de_marge'].mean().reset_index()\n",
    "\n",
    "#Affichage dans un graphique du taux de marge par type de produit\n",
    "\n",
    "fig = px.bar(df_avg_margin_by_type, x='product_type', y='Taux_de_marge',\n",
    "             title='Average Margin Rate by Product Type',\n",
    "             labels={'product_type': 'Product Type', 'Taux_de_marge': 'Average Margin Rate (%)'},\n",
    "             color='Taux_de_marge', color_continuous_scale='Viridis')\n",
    "\n",
    "fig.show()"
   ]
  },
  {
   "cell_type": "markdown",
   "id": "ce216060",
   "metadata": {},
   "source": [
    "<div style=\"border: 1px solid RGB(51,165,182);\" >\n",
    "<h3 style=\"margin: auto; padding: 20px; color: RGB(51,165,182); \">Etape 5.5 - Analyse des correlations entre les variables stock, sales et price</h3>\n",
    "</div>"
   ]
  },
  {
   "cell_type": "code",
   "execution_count": null,
   "id": "12e4a540",
   "metadata": {},
   "outputs": [],
   "source": [
    "############################\n",
    "# Analyse des correlations #\n",
    "############################\n",
    "\n",
    "#Importation de Seaborn\n",
    "import seaborn as sns\n",
    "\n",
    "#Création d'un heatmap de correlation avec les variables stock, sales et price\n",
    "df_corr = df_final_merge[['stock_quantity', 'total_sales', 'price']]\n",
    "\n",
    "correlation_matrix = df_corr.corr()\n",
    "\n",
    "mask = np.triu(np.ones_like(correlation_matrix, dtype=bool))\n",
    "\n",
    "#on peut également créer un mask pour n'afficher qu'une demi heatmap\n",
    "plt.figure(figsize=(8, 6))\n",
    "sns.heatmap(correlation_matrix, annot=True, cmap='coolwarm', mask=mask, fmt='.2f', linewidths=0.5, vmin=-1, vmax=1)\n",
    "\n",
    "plt.title('Correlation Heatmap of Stock, Sales, and Price')\n",
    "plt.show()"
   ]
  },
  {
   "cell_type": "code",
   "execution_count": null,
   "id": "c49d1459",
   "metadata": {},
   "outputs": [],
   "source": [
    "#Que peut-on conclure des correlations ?"
   ]
  },
  {
   "cell_type": "markdown",
   "id": "f1d22f1d",
   "metadata": {},
   "source": [
    "<div style=\"border: 1px solid RGB(51,165,182);\" >\n",
    "<h3 style=\"margin: auto; padding: 20px; color: RGB(51,165,182); \">Etape 5.6 - Mettre à disposition la nouvelle table sur un fichier Excel</h3>\n",
    "</div>"
   ]
  },
  {
   "cell_type": "code",
   "execution_count": null,
   "id": "a20c2eb5",
   "metadata": {},
   "outputs": [],
   "source": [
    "!pip install openpyxl"
   ]
  },
  {
   "cell_type": "code",
   "execution_count": null,
   "id": "09bfe632",
   "metadata": {},
   "outputs": [],
   "source": [
    "#Mettre le dataset df_merge sur un fichier Excel\n",
    "#Cette étape peut-être utile pour partager le résultat du dataset obtenu pour le partager avec les équipes.  \n",
    "#df_final_merge.to_excel('df_merge_output.xlsx', index=False, engine='openpyxl')\n"
   ]
  },
  {
   "cell_type": "code",
   "execution_count": null,
   "id": "6a48abcb",
   "metadata": {},
   "outputs": [],
   "source": []
  }
 ],
 "metadata": {
  "kernelspec": {
   "display_name": "Python 3 (ipykernel)",
   "language": "python",
   "name": "python3"
  },
  "language_info": {
   "codemirror_mode": {
    "name": "ipython",
    "version": 3
   },
   "file_extension": ".py",
   "mimetype": "text/x-python",
   "name": "python",
   "nbconvert_exporter": "python",
   "pygments_lexer": "ipython3",
   "version": "3.11.5"
  }
 },
 "nbformat": 4,
 "nbformat_minor": 5
}
