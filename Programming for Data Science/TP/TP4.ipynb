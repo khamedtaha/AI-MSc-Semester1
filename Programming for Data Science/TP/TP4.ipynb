{
 "cells": [
  {
   "cell_type": "code",
   "execution_count": 17,
   "id": "2724159e-e8b7-4801-b5c8-ddef01d70392",
   "metadata": {},
   "outputs": [],
   "source": [
    "from sklearn.datasets import make_blobs\n",
    "import numpy as np \n",
    "np.random.seed(909)\n",
    "from sklearn.cluster import  KMeans \n",
    "centers = [[2,2] , [-2,-2] , [2,-2]]\n",
    "x, labels_true = make_blobs(\n",
    "            n_samples = 3000 ,\n",
    "            centers = centers,\n",
    "            cluster_std = 0.7 )\n",
    "\n"
   ]
  },
  {
   "cell_type": "code",
   "execution_count": 21,
   "id": "3ad0f56c-63f8-48dc-a3cf-b670ecc14746",
   "metadata": {},
   "outputs": [
    {
     "name": "stdout",
     "output_type": "stream",
     "text": [
      "[[-2.0284916  -1.97707693]\n",
      " [ 2.03008742  2.00832176]\n",
      " [ 2.04468418 -1.95894733]]\n"
     ]
    }
   ],
   "source": [
    "k_means = KMeans (n_clusters = 3 , random_state = 909 ) \n",
    "k_means.fit(x)\n",
    "print(k_means.cluster_centers_)"
   ]
  },
  {
   "cell_type": "code",
   "execution_count": 23,
   "id": "ee6b449c-67c0-4396-ace8-5f802da74a4f",
   "metadata": {},
   "outputs": [
    {
     "data": {
      "text/plain": [
       "-2959.270300359911"
      ]
     },
     "execution_count": 23,
     "metadata": {},
     "output_type": "execute_result"
    }
   ],
   "source": [
    "k_means.score(x)"
   ]
  },
  {
   "cell_type": "code",
   "execution_count": 37,
   "id": "54716d2c-0313-4c80-a391-0bea5082d3f8",
   "metadata": {},
   "outputs": [
    {
     "ename": "ValueError",
     "evalue": "too many values to unpack (expected 3)",
     "output_type": "error",
     "traceback": [
      "\u001b[1;31m---------------------------------------------------------------------------\u001b[0m",
      "\u001b[1;31mValueError\u001b[0m                                Traceback (most recent call last)",
      "Cell \u001b[1;32mIn[37], line 7\u001b[0m\n\u001b[0;32m      5\u001b[0m ax\u001b[38;5;241m.\u001b[39mset_title(\u001b[38;5;124m\"\u001b[39m\u001b[38;5;124m 3 cluster \u001b[39m\u001b[38;5;124m\"\u001b[39m)\n\u001b[0;32m      6\u001b[0m \u001b[38;5;28;01mfor\u001b[39;00m k , col \u001b[38;5;129;01min\u001b[39;00m \u001b[38;5;28mzip\u001b[39m(\u001b[38;5;28mrange\u001b[39m(\u001b[38;5;28mlen\u001b[39m(centers )), colors ):\n\u001b[1;32m----> 7\u001b[0m     my_,e,bers \u001b[38;5;241m=\u001b[39m labels_true \u001b[38;5;241m==\u001b[39m k \n\u001b[0;32m      8\u001b[0m     ax\u001b[38;5;241m.\u001b[39mplot (x[my_members,\u001b[38;5;241m0\u001b[39m],x[my_members,\u001b[38;5;241m1\u001b[39m], \u001b[38;5;124m\"\u001b[39m\u001b[38;5;124mw\u001b[39m\u001b[38;5;124m\"\u001b[39m , markerfacecolor \u001b[38;5;241m=\u001b[39m col , marker \u001b[38;5;241m=\u001b[39m \u001b[38;5;124m\"\u001b[39m\u001b[38;5;124m0\u001b[39m\u001b[38;5;124m\"\u001b[39m , markersize \u001b[38;5;241m=\u001b[39m \u001b[38;5;241m4\u001b[39m , alpha \u001b[38;5;241m=\u001b[39m \u001b[38;5;241m1\u001b[39m )\n\u001b[0;32m      9\u001b[0m \u001b[38;5;28;01mfor\u001b[39;00m k , col \u001b[38;5;129;01min\u001b[39;00m \u001b[38;5;28mzip\u001b[39m(\u001b[38;5;28mrange\u001b[39m(\u001b[38;5;28mlen\u001b[39m(centers )), colors ):\n",
      "\u001b[1;31mValueError\u001b[0m: too many values to unpack (expected 3)"
     ]
    },
    {
     "data": {
      "image/png": "[encoded data removed]",
      "text/plain": [
       "<Figure size 800x800 with 1 Axes>"
      ]
     },
     "metadata": {},
     "output_type": "display_data"
    }
   ],
   "source": [
    "import matplotlib.pyplot as plt\n",
    "fig = plt.figure(figsize = (8,8))\n",
    "colors = [\"#4EAC5\" , \"#FF9C34\" , \"#4E9A06\"]\n",
    "ax = fig.add_subplot(1,1,1)\n",
    "ax.set_title(\" 3 cluster \")\n",
    "for k , col in zip(range(len(centers )), colors ):\n",
    "    my_,e,bers = labels_true == k \n",
    "    ax.plot (x[my_members,0],x[my_members,1], \"w\" , markerfacecolor = col , marker = \"0\" , markersize = 4 , alpha = 1 )\n",
    "for k , col in zip(range(len(centers )), colors ):\n",
    "       ax.plot (x[my_members,0],\n",
    "                x[my_members,1], \n",
    "                \"w\" , \n",
    "                markerfacecolor = col ,\n",
    "                marker = \"0\" ,\n",
    "                markersize = 4 \n",
    "                , alpha = 1 )\n",
    "    \n"
   ]
  },
  {
   "cell_type": "code",
   "execution_count": null,
   "id": "a80e5793-66be-4318-80ff-d92d476ecccc",
   "metadata": {},
   "outputs": [],
   "source": []
  }
 ],
 "metadata": {
  "kernelspec": {
   "display_name": "Python 3 (ipykernel)",
   "language": "python",
   "name": "python3"
  },
  "language_info": {
   "codemirror_mode": {
    "name": "ipython",
    "version": 3
   },
   "file_extension": ".py",
   "mimetype": "text/x-python",
   "name": "python",
   "nbconvert_exporter": "python",
   "pygments_lexer": "ipython3",
   "version": "3.11.5"
  }
 },
 "nbformat": 4,
 "nbformat_minor": 5
}
