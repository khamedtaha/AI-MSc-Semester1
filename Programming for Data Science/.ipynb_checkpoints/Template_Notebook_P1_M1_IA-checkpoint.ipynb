{
 "cells": [
  {
   "cell_type": "markdown",
   "id": "97dccc01",
   "metadata": {},
   "source": [
    "<div style=\"display: flex; background-color: RGB(255,114,0);\" >\n",
    "<h1 style=\"margin: auto; padding: 30px; \">ANALYSE DU STOCK ET DES VENTES</h1>\n",
    "</div>"
   ]
  },
  {
   "cell_type": "markdown",
   "id": "4d0d1bb8",
   "metadata": {},
   "source": [
    "# OBJECTIF DE CE NOTEBOOK\n",
    "\n",
    "Il s'agit d'un outil permettant de mixer et d'alterner codes, textes et graphique.\n",
    "\n",
    "\n",
    "Pour vous aider dans vos premiers pas à l'usage de Jupyter et de Python, nous avons rédigé ce notebook en vous indiquant les instructions à suivre."
   ]
  },
  {
   "cell_type": "markdown",
   "id": "b85efb87",
   "metadata": {},
   "source": [
    "<div style=\"background-color: RGB(51,165,182);\" >\n",
    "<h2 style=\"margin: auto; padding: 20px; color:#fff; \">Etape 1 - Importation des librairies et chargement des fichiers</h2>\n",
    "</div>"
   ]
  },
  {
   "cell_type": "markdown",
   "id": "b5449401",
   "metadata": {},
   "source": [
    "<div style=\"border: 1px solid RGB(51,165,182);\" >\n",
    "<h3 style=\"margin: auto; padding: 20px; color: RGB(51,165,182); \">1.1 - Importation des librairies</h3>\n",
    "</div>"
   ]
  },
  {
   "cell_type": "code",
   "execution_count": 622,
   "id": "e6ef06ec",
   "metadata": {},
   "outputs": [],
   "source": [
    "#Importation de la librairie Pandas\n",
    "import pandas as pd"
   ]
  },
  {
   "cell_type": "code",
   "execution_count": 623,
   "id": "a38ce0fc",
   "metadata": {},
   "outputs": [],
   "source": [
    "#Importation de la librairie plotly express\n",
    "import numpy as np\n"
   ]
  },
  {
   "cell_type": "code",
   "execution_count": 624,
   "id": "0a718067",
   "metadata": {},
   "outputs": [],
   "source": [
    "#privilégiez les solutions provenants de Stack Overflow ou Medium"
   ]
  },
  {
   "cell_type": "markdown",
   "id": "f4918299",
   "metadata": {},
   "source": [
    "<div style=\"border: 1px solid RGB(51,165,182);\" >\n",
    "<h3 style=\"margin: auto; padding: 20px; color: RGB(51,165,182); \">1.2 - Chargements des fichiers</h3>\n",
    "</div>"
   ]
  },
  {
   "cell_type": "code",
   "execution_count": 626,
   "id": "9642cf03",
   "metadata": {},
   "outputs": [
    {
     "name": "stderr",
     "output_type": "stream",
     "text": [
      "C:\\anaconda\\Lib\\site-packages\\openpyxl\\worksheet\\_read_only.py:81: UserWarning: Unknown extension is not supported and will be removed\n",
      "  for idx, row in parser.parse():\n",
      "C:\\anaconda\\Lib\\site-packages\\openpyxl\\worksheet\\_read_only.py:81: UserWarning: Unknown extension is not supported and will be removed\n",
      "  for idx, row in parser.parse():\n",
      "C:\\anaconda\\Lib\\site-packages\\openpyxl\\worksheet\\_read_only.py:81: UserWarning: Unknown extension is not supported and will be removed\n",
      "  for idx, row in parser.parse():\n"
     ]
    }
   ],
   "source": [
    "#Importation du fichier web.xlsx\n",
    "df_web = pd.read_excel(\"Datagestionstock/web.xlsx\")\n",
    "#Importation du fichier erp.xlsx\n",
    "df_erp = pd.read_excel('Datagestionstock/erp.xlsx')\n",
    "#importation du fichier liaison.xlsx\n",
    "df_eliaison = pd.read_excel('Datagestionstock/liaison.xlsx')\n"
   ]
  },
  {
   "cell_type": "code",
   "execution_count": null,
   "id": "c106b075-69c5-418b-8e77-1360ab3e08e7",
   "metadata": {},
   "outputs": [],
   "source": [
    "\n"
   ]
  },
  {
   "cell_type": "markdown",
   "id": "605f7056",
   "metadata": {},
   "source": [
    "<div style=\"background-color: RGB(51,165,182);\" >\n",
    "<h2 style=\"margin: auto; padding: 20px; color:#fff; \">Etape 2 - Analyse exploratoire des fichiers</h2>\n",
    "</div>"
   ]
  },
  {
   "cell_type": "markdown",
   "id": "47d3a649",
   "metadata": {},
   "source": [
    "<div style=\"border: 1px solid RGB(51,165,182);\" >\n",
    "<h3 style=\"margin: auto; padding: 20px; color: RGB(51,165,182); \">2.1 - Analyse exploratoire du fichier erp.xlsx</h3>\n",
    "</div>\n"
   ]
  },
  {
   "cell_type": "code",
   "execution_count": 629,
   "id": "094ef206",
   "metadata": {},
   "outputs": [
    {
     "name": "stdout",
     "output_type": "stream",
     "text": [
      "Le tableau comporte 825 observation(s) ou article(s)\n",
      "Le tableau comporte 6 colonne(s)\n"
     ]
    }
   ],
   "source": [
    "#Afficher les dimensions du dataset\n",
    "print(\"Le tableau comporte {} observation(s) ou article(s)\".format(df_erp.shape[0]))\n",
    "print(\"Le tableau comporte {} colonne(s)\".format(df_erp.shape[1]))"
   ]
  },
  {
   "cell_type": "code",
   "execution_count": 630,
   "id": "182441f0",
   "metadata": {},
   "outputs": [
    {
     "name": "stdout",
     "output_type": "stream",
     "text": [
      "Le tableau comporte 6 colonne(s)\n",
      "La nature des données :\n",
      "<class 'pandas.core.frame.DataFrame'>\n",
      "RangeIndex: 825 entries, 0 to 824\n",
      "Data columns (total 6 columns):\n",
      " #   Column          Non-Null Count  Dtype  \n",
      "---  ------          --------------  -----  \n",
      " 0   product_id      825 non-null    int64  \n",
      " 1   onsale_web      825 non-null    int64  \n",
      " 2   price           825 non-null    float64\n",
      " 3   stock_quantity  825 non-null    int64  \n",
      " 4   stock_status    825 non-null    object \n",
      " 5   purchase_price  825 non-null    float64\n",
      "dtypes: float64(2), int64(3), object(1)\n",
      "memory usage: 38.8+ KB\n",
      "Le nombre de valeurs présentes dans chacune des colonnes :\n"
     ]
    },
    {
     "data": {
      "text/plain": [
       "product_id        825\n",
       "onsale_web        825\n",
       "price             825\n",
       "stock_quantity    825\n",
       "stock_status      825\n",
       "purchase_price    825\n",
       "dtype: int64"
      ]
     },
     "execution_count": 630,
     "metadata": {},
     "output_type": "execute_result"
    }
   ],
   "source": [
    "#Consulter le nombre de colonnes\n",
    "print(\"Le tableau comporte {} colonne(s)\".format(df_erp.shape[1]))\n",
    "\n",
    "#La nature des données dans chacune des colonnes\n",
    "print(\"La nature des données :\")\n",
    "df_erp.info()\n",
    "#Le nombre de valeurs présentes dans chacune des colonnes\n",
    "valeurs = df_erp.count()\n",
    "print(\"Le nombre de valeurs présentes dans chacune des colonnes :\")\n",
    "valeurs"
   ]
  },
  {
   "cell_type": "code",
   "execution_count": 631,
   "id": "d3977646",
   "metadata": {},
   "outputs": [
    {
     "data": {
      "text/html": [
       "<div>\n",
       "<style scoped>\n",
       "    .dataframe tbody tr th:only-of-type {\n",
       "        vertical-align: middle;\n",
       "    }\n",
       "\n",
       "    .dataframe tbody tr th {\n",
       "        vertical-align: top;\n",
       "    }\n",
       "\n",
       "    .dataframe thead th {\n",
       "        text-align: right;\n",
       "    }\n",
       "</style>\n",
       "<table border=\"1\" class=\"dataframe\">\n",
       "  <thead>\n",
       "    <tr style=\"text-align: right;\">\n",
       "      <th></th>\n",
       "      <th>product_id</th>\n",
       "      <th>onsale_web</th>\n",
       "      <th>price</th>\n",
       "      <th>stock_quantity</th>\n",
       "      <th>stock_status</th>\n",
       "      <th>purchase_price</th>\n",
       "    </tr>\n",
       "  </thead>\n",
       "  <tbody>\n",
       "    <tr>\n",
       "      <th>0</th>\n",
       "      <td>3847</td>\n",
       "      <td>1</td>\n",
       "      <td>24.2</td>\n",
       "      <td>16</td>\n",
       "      <td>instock</td>\n",
       "      <td>12.88</td>\n",
       "    </tr>\n",
       "    <tr>\n",
       "      <th>1</th>\n",
       "      <td>3849</td>\n",
       "      <td>1</td>\n",
       "      <td>34.3</td>\n",
       "      <td>10</td>\n",
       "      <td>instock</td>\n",
       "      <td>17.54</td>\n",
       "    </tr>\n",
       "    <tr>\n",
       "      <th>2</th>\n",
       "      <td>3850</td>\n",
       "      <td>1</td>\n",
       "      <td>20.8</td>\n",
       "      <td>0</td>\n",
       "      <td>outofstock</td>\n",
       "      <td>10.64</td>\n",
       "    </tr>\n",
       "    <tr>\n",
       "      <th>3</th>\n",
       "      <td>4032</td>\n",
       "      <td>1</td>\n",
       "      <td>14.1</td>\n",
       "      <td>26</td>\n",
       "      <td>instock</td>\n",
       "      <td>6.92</td>\n",
       "    </tr>\n",
       "    <tr>\n",
       "      <th>4</th>\n",
       "      <td>4039</td>\n",
       "      <td>1</td>\n",
       "      <td>46.0</td>\n",
       "      <td>3</td>\n",
       "      <td>outofstock</td>\n",
       "      <td>23.77</td>\n",
       "    </tr>\n",
       "  </tbody>\n",
       "</table>\n",
       "</div>"
      ],
      "text/plain": [
       "   product_id  onsale_web  price  stock_quantity stock_status  purchase_price\n",
       "0        3847           1   24.2              16      instock           12.88\n",
       "1        3849           1   34.3              10      instock           17.54\n",
       "2        3850           1   20.8               0   outofstock           10.64\n",
       "3        4032           1   14.1              26      instock            6.92\n",
       "4        4039           1   46.0               3   outofstock           23.77"
      ]
     },
     "execution_count": 631,
     "metadata": {},
     "output_type": "execute_result"
    }
   ],
   "source": [
    "#Afficher les 5 premières lignes de la table\n",
    "df_erp.head(5)"
   ]
  },
  {
   "cell_type": "code",
   "execution_count": 632,
   "id": "db102a4a",
   "metadata": {},
   "outputs": [
    {
     "name": "stdout",
     "output_type": "stream",
     "text": [
      "Il n'y a pas de doublons.\n"
     ]
    }
   ],
   "source": [
    "#Vérifier si il y a les lignes en doublons dans la colonne product_id\n",
    "doublons = df_erp[df_erp.duplicated('product_id', keep=False)]\n",
    "if not doublons.empty:\n",
    "    print(\"Il y a des doublons.\")\n",
    "else:\n",
    "    print(\"Il n'y a pas de doublons.\")"
   ]
  },
  {
   "cell_type": "code",
   "execution_count": 633,
   "id": "d443d4ff",
   "metadata": {},
   "outputs": [
    {
     "name": "stdout",
     "output_type": "stream",
     "text": [
      "Les valeurs distinctes de la colonne 'stock_status' :\n",
      "['instock' 'outofstock']\n"
     ]
    }
   ],
   "source": [
    "#Afficher les valeurs distinctes de la colonne stock_status\n",
    "valeurs_distinctes = df_erp['stock_status'].unique()\n",
    "print(\"Les valeurs distinctes de la colonne 'stock_status' :\")\n",
    "print(valeurs_distinctes)\n",
    "#À quelle(s) autre(s) colonne(s) sont-elles liées ?\n"
   ]
  },
  {
   "cell_type": "code",
   "execution_count": 634,
   "id": "68088943",
   "metadata": {},
   "outputs": [
    {
     "data": {
      "text/html": [
       "<div>\n",
       "<style scoped>\n",
       "    .dataframe tbody tr th:only-of-type {\n",
       "        vertical-align: middle;\n",
       "    }\n",
       "\n",
       "    .dataframe tbody tr th {\n",
       "        vertical-align: top;\n",
       "    }\n",
       "\n",
       "    .dataframe thead th {\n",
       "        text-align: right;\n",
       "    }\n",
       "</style>\n",
       "<table border=\"1\" class=\"dataframe\">\n",
       "  <thead>\n",
       "    <tr style=\"text-align: right;\">\n",
       "      <th></th>\n",
       "      <th>product_id</th>\n",
       "      <th>onsale_web</th>\n",
       "      <th>price</th>\n",
       "      <th>stock_quantity</th>\n",
       "      <th>stock_status</th>\n",
       "      <th>purchase_price</th>\n",
       "      <th>stock_status_2</th>\n",
       "      <th>stock_status_validation</th>\n",
       "    </tr>\n",
       "  </thead>\n",
       "  <tbody>\n",
       "    <tr>\n",
       "      <th>0</th>\n",
       "      <td>3847</td>\n",
       "      <td>1</td>\n",
       "      <td>24.2</td>\n",
       "      <td>16</td>\n",
       "      <td>instock</td>\n",
       "      <td>12.88</td>\n",
       "      <td>instock</td>\n",
       "      <td>True</td>\n",
       "    </tr>\n",
       "    <tr>\n",
       "      <th>1</th>\n",
       "      <td>3849</td>\n",
       "      <td>1</td>\n",
       "      <td>34.3</td>\n",
       "      <td>10</td>\n",
       "      <td>instock</td>\n",
       "      <td>17.54</td>\n",
       "      <td>instock</td>\n",
       "      <td>True</td>\n",
       "    </tr>\n",
       "    <tr>\n",
       "      <th>2</th>\n",
       "      <td>3850</td>\n",
       "      <td>1</td>\n",
       "      <td>20.8</td>\n",
       "      <td>0</td>\n",
       "      <td>outofstock</td>\n",
       "      <td>10.64</td>\n",
       "      <td>outofstock</td>\n",
       "      <td>True</td>\n",
       "    </tr>\n",
       "    <tr>\n",
       "      <th>3</th>\n",
       "      <td>4032</td>\n",
       "      <td>1</td>\n",
       "      <td>14.1</td>\n",
       "      <td>26</td>\n",
       "      <td>instock</td>\n",
       "      <td>6.92</td>\n",
       "      <td>instock</td>\n",
       "      <td>True</td>\n",
       "    </tr>\n",
       "    <tr>\n",
       "      <th>4</th>\n",
       "      <td>4039</td>\n",
       "      <td>1</td>\n",
       "      <td>46.0</td>\n",
       "      <td>3</td>\n",
       "      <td>outofstock</td>\n",
       "      <td>23.77</td>\n",
       "      <td>instock</td>\n",
       "      <td>False</td>\n",
       "    </tr>\n",
       "    <tr>\n",
       "      <th>...</th>\n",
       "      <td>...</td>\n",
       "      <td>...</td>\n",
       "      <td>...</td>\n",
       "      <td>...</td>\n",
       "      <td>...</td>\n",
       "      <td>...</td>\n",
       "      <td>...</td>\n",
       "      <td>...</td>\n",
       "    </tr>\n",
       "    <tr>\n",
       "      <th>820</th>\n",
       "      <td>7203</td>\n",
       "      <td>0</td>\n",
       "      <td>45.0</td>\n",
       "      <td>30</td>\n",
       "      <td>instock</td>\n",
       "      <td>23.48</td>\n",
       "      <td>instock</td>\n",
       "      <td>True</td>\n",
       "    </tr>\n",
       "    <tr>\n",
       "      <th>821</th>\n",
       "      <td>7204</td>\n",
       "      <td>0</td>\n",
       "      <td>45.0</td>\n",
       "      <td>9</td>\n",
       "      <td>instock</td>\n",
       "      <td>24.18</td>\n",
       "      <td>instock</td>\n",
       "      <td>True</td>\n",
       "    </tr>\n",
       "    <tr>\n",
       "      <th>822</th>\n",
       "      <td>7247</td>\n",
       "      <td>1</td>\n",
       "      <td>54.8</td>\n",
       "      <td>6</td>\n",
       "      <td>instock</td>\n",
       "      <td>27.18</td>\n",
       "      <td>instock</td>\n",
       "      <td>True</td>\n",
       "    </tr>\n",
       "    <tr>\n",
       "      <th>823</th>\n",
       "      <td>7329</td>\n",
       "      <td>0</td>\n",
       "      <td>26.5</td>\n",
       "      <td>14</td>\n",
       "      <td>instock</td>\n",
       "      <td>13.42</td>\n",
       "      <td>instock</td>\n",
       "      <td>True</td>\n",
       "    </tr>\n",
       "    <tr>\n",
       "      <th>824</th>\n",
       "      <td>7338</td>\n",
       "      <td>1</td>\n",
       "      <td>16.3</td>\n",
       "      <td>40</td>\n",
       "      <td>instock</td>\n",
       "      <td>8.00</td>\n",
       "      <td>instock</td>\n",
       "      <td>True</td>\n",
       "    </tr>\n",
       "  </tbody>\n",
       "</table>\n",
       "<p>825 rows × 8 columns</p>\n",
       "</div>"
      ],
      "text/plain": [
       "     product_id  onsale_web  price  stock_quantity stock_status  \\\n",
       "0          3847           1   24.2              16      instock   \n",
       "1          3849           1   34.3              10      instock   \n",
       "2          3850           1   20.8               0   outofstock   \n",
       "3          4032           1   14.1              26      instock   \n",
       "4          4039           1   46.0               3   outofstock   \n",
       "..          ...         ...    ...             ...          ...   \n",
       "820        7203           0   45.0              30      instock   \n",
       "821        7204           0   45.0               9      instock   \n",
       "822        7247           1   54.8               6      instock   \n",
       "823        7329           0   26.5              14      instock   \n",
       "824        7338           1   16.3              40      instock   \n",
       "\n",
       "     purchase_price stock_status_2  stock_status_validation  \n",
       "0             12.88        instock                     True  \n",
       "1             17.54        instock                     True  \n",
       "2             10.64     outofstock                     True  \n",
       "3              6.92        instock                     True  \n",
       "4             23.77        instock                    False  \n",
       "..              ...            ...                      ...  \n",
       "820           23.48        instock                     True  \n",
       "821           24.18        instock                     True  \n",
       "822           27.18        instock                     True  \n",
       "823           13.42        instock                     True  \n",
       "824            8.00        instock                     True  \n",
       "\n",
       "[825 rows x 8 columns]"
      ]
     },
     "execution_count": 634,
     "metadata": {},
     "output_type": "execute_result"
    }
   ],
   "source": [
    "#Création d'une colonne \"stock_status_2\n",
    "df_erp['stock_status_2'] = np.where(df_erp['stock_quantity'] > 0, 'instock', 'outofstock')\n",
    "\n",
    "\n",
    "\n",
    "#La valeur de cette deuxième colonne sera fonction de la valeur dans la colonne \"stock_quantity\"\n",
    "df_erp['stock_status_validation'] = np.where(df_erp['stock_status'] == df_erp['stock_status_2'], True, False)\n",
    "df_erp\n",
    "\n",
    "\n",
    "#si la valeur de la colonne \"stock_quantity\" est nulle renseigner \"outofstock\" sinon mettre \"instock\"\n",
    "\n"
   ]
  },
  {
   "cell_type": "code",
   "execution_count": 635,
   "id": "90a1c8ae",
   "metadata": {},
   "outputs": [
    {
     "data": {
      "text/html": [
       "<div>\n",
       "<style scoped>\n",
       "    .dataframe tbody tr th:only-of-type {\n",
       "        vertical-align: middle;\n",
       "    }\n",
       "\n",
       "    .dataframe tbody tr th {\n",
       "        vertical-align: top;\n",
       "    }\n",
       "\n",
       "    .dataframe thead th {\n",
       "        text-align: right;\n",
       "    }\n",
       "</style>\n",
       "<table border=\"1\" class=\"dataframe\">\n",
       "  <thead>\n",
       "    <tr style=\"text-align: right;\">\n",
       "      <th></th>\n",
       "      <th>product_id</th>\n",
       "      <th>onsale_web</th>\n",
       "      <th>price</th>\n",
       "      <th>stock_quantity</th>\n",
       "      <th>stock_status</th>\n",
       "      <th>purchase_price</th>\n",
       "      <th>stock_status_2</th>\n",
       "      <th>stock_status_validation</th>\n",
       "    </tr>\n",
       "  </thead>\n",
       "  <tbody>\n",
       "    <tr>\n",
       "      <th>4</th>\n",
       "      <td>4039</td>\n",
       "      <td>1</td>\n",
       "      <td>46.0</td>\n",
       "      <td>3</td>\n",
       "      <td>outofstock</td>\n",
       "      <td>23.77</td>\n",
       "      <td>instock</td>\n",
       "      <td>False</td>\n",
       "    </tr>\n",
       "    <tr>\n",
       "      <th>398</th>\n",
       "      <td>4885</td>\n",
       "      <td>1</td>\n",
       "      <td>18.7</td>\n",
       "      <td>0</td>\n",
       "      <td>instock</td>\n",
       "      <td>9.66</td>\n",
       "      <td>outofstock</td>\n",
       "      <td>False</td>\n",
       "    </tr>\n",
       "  </tbody>\n",
       "</table>\n",
       "</div>"
      ],
      "text/plain": [
       "     product_id  onsale_web  price  stock_quantity stock_status  \\\n",
       "4          4039           1   46.0               3   outofstock   \n",
       "398        4885           1   18.7               0      instock   \n",
       "\n",
       "     purchase_price stock_status_2  stock_status_validation  \n",
       "4             23.77        instock                    False  \n",
       "398            9.66     outofstock                    False  "
      ]
     },
     "execution_count": 635,
     "metadata": {},
     "output_type": "execute_result"
    }
   ],
   "source": [
    "#Vérifions que les 2 colonnes sont identiques:\n",
    "#Les 2 colonnes sont strictement identiques si les valeurs de chaque ligne sont strictement identiques 2 à 2\n",
    "#La comparaison de 2 colonnes peut se réaliser simplement avec l'instruction ci-dessous:\n",
    "df_erp[\"stock_status\"] == df_erp[\"stock_status_2\"]\n",
    "false_validations = df_erp[df_erp['stock_status_validation'] == False]\n",
    "\n",
    "false_validations\n",
    "#Le résultat est l'affichage de True ou False pour chacune des lignes du dataset\n",
    "#C'est un bon début, mais difficile à exploiter"
   ]
  },
  {
   "cell_type": "code",
   "execution_count": 636,
   "id": "ebe3650a",
   "metadata": {},
   "outputs": [
    {
     "name": "stdout",
     "output_type": "stream",
     "text": [
      "The total number of validated stock statuses is: 823\n"
     ]
    }
   ],
   "source": [
    "#Mais il est possible de synthétiser ce résultat en effectuant la somme de cette colonne:\n",
    "#True vaut 1 et False 0\n",
    "#Nous devrions obtenir la somme de 824 qui correspond au nombre de lignes dans ce dataset\n",
    "df_erp[\"stock_status_validation_numbers\"] = np.where(df_erp['stock_status_validation'], 1, 0)\n",
    "\n",
    "someOfStockValidation = df_erp[\"stock_status_validation_numbers\"].sum()\n",
    "print(\"The total number of validated stock statuses is:\", someOfStockValidation)\n"
   ]
  },
  {
   "cell_type": "code",
   "execution_count": 637,
   "id": "1ca6060a",
   "metadata": {},
   "outputs": [],
   "source": [
    "#Si les colonnes ne sont absolument pas identiques ligne à ligne alors identifier la ligne en écart\n",
    "##Dans ce cas je vous ce lien pour apprendre à réaliser des filtres dans Pandas:\n",
    "##https://bitbucket.org/hrojas/learn-pandas/src/master/\n",
    "##Lesson 3"
   ]
  },
  {
   "cell_type": "code",
   "execution_count": 638,
   "id": "ce1b9704",
   "metadata": {},
   "outputs": [
    {
     "data": {
      "text/plain": [
       "0      True\n",
       "1      True\n",
       "2      True\n",
       "3      True\n",
       "4      True\n",
       "       ... \n",
       "820    True\n",
       "821    True\n",
       "822    True\n",
       "823    True\n",
       "824    True\n",
       "Length: 825, dtype: bool"
      ]
     },
     "execution_count": 638,
     "metadata": {},
     "output_type": "execute_result"
    }
   ],
   "source": [
    "#Corriger la ou les données incohérentes\n",
    "df_erp[\"stock_status\"] =   df_erp[\"stock_status_2\"]\n",
    "\n",
    "#Verification en utilisant le même code que plus haut pour afficher les problemes\n",
    "df_erp[\"stock_status\"] == df_erp[\"stock_status_2\"]\n"
   ]
  },
  {
   "cell_type": "code",
   "execution_count": 639,
   "id": "df744e53-0ee1-4b8d-b751-5e71d0873989",
   "metadata": {
    "scrolled": true
   },
   "outputs": [
    {
     "data": {
      "text/html": [
       "<div>\n",
       "<style scoped>\n",
       "    .dataframe tbody tr th:only-of-type {\n",
       "        vertical-align: middle;\n",
       "    }\n",
       "\n",
       "    .dataframe tbody tr th {\n",
       "        vertical-align: top;\n",
       "    }\n",
       "\n",
       "    .dataframe thead th {\n",
       "        text-align: right;\n",
       "    }\n",
       "</style>\n",
       "<table border=\"1\" class=\"dataframe\">\n",
       "  <thead>\n",
       "    <tr style=\"text-align: right;\">\n",
       "      <th></th>\n",
       "      <th>product_id</th>\n",
       "      <th>onsale_web</th>\n",
       "      <th>price</th>\n",
       "      <th>stock_quantity</th>\n",
       "      <th>stock_status</th>\n",
       "      <th>purchase_price</th>\n",
       "    </tr>\n",
       "  </thead>\n",
       "  <tbody>\n",
       "    <tr>\n",
       "      <th>0</th>\n",
       "      <td>3847</td>\n",
       "      <td>1</td>\n",
       "      <td>24.2</td>\n",
       "      <td>16</td>\n",
       "      <td>instock</td>\n",
       "      <td>12.88</td>\n",
       "    </tr>\n",
       "    <tr>\n",
       "      <th>1</th>\n",
       "      <td>3849</td>\n",
       "      <td>1</td>\n",
       "      <td>34.3</td>\n",
       "      <td>10</td>\n",
       "      <td>instock</td>\n",
       "      <td>17.54</td>\n",
       "    </tr>\n",
       "    <tr>\n",
       "      <th>2</th>\n",
       "      <td>3850</td>\n",
       "      <td>1</td>\n",
       "      <td>20.8</td>\n",
       "      <td>0</td>\n",
       "      <td>outofstock</td>\n",
       "      <td>10.64</td>\n",
       "    </tr>\n",
       "    <tr>\n",
       "      <th>3</th>\n",
       "      <td>4032</td>\n",
       "      <td>1</td>\n",
       "      <td>14.1</td>\n",
       "      <td>26</td>\n",
       "      <td>instock</td>\n",
       "      <td>6.92</td>\n",
       "    </tr>\n",
       "    <tr>\n",
       "      <th>4</th>\n",
       "      <td>4039</td>\n",
       "      <td>1</td>\n",
       "      <td>46.0</td>\n",
       "      <td>3</td>\n",
       "      <td>instock</td>\n",
       "      <td>23.77</td>\n",
       "    </tr>\n",
       "    <tr>\n",
       "      <th>...</th>\n",
       "      <td>...</td>\n",
       "      <td>...</td>\n",
       "      <td>...</td>\n",
       "      <td>...</td>\n",
       "      <td>...</td>\n",
       "      <td>...</td>\n",
       "    </tr>\n",
       "    <tr>\n",
       "      <th>820</th>\n",
       "      <td>7203</td>\n",
       "      <td>0</td>\n",
       "      <td>45.0</td>\n",
       "      <td>30</td>\n",
       "      <td>instock</td>\n",
       "      <td>23.48</td>\n",
       "    </tr>\n",
       "    <tr>\n",
       "      <th>821</th>\n",
       "      <td>7204</td>\n",
       "      <td>0</td>\n",
       "      <td>45.0</td>\n",
       "      <td>9</td>\n",
       "      <td>instock</td>\n",
       "      <td>24.18</td>\n",
       "    </tr>\n",
       "    <tr>\n",
       "      <th>822</th>\n",
       "      <td>7247</td>\n",
       "      <td>1</td>\n",
       "      <td>54.8</td>\n",
       "      <td>6</td>\n",
       "      <td>instock</td>\n",
       "      <td>27.18</td>\n",
       "    </tr>\n",
       "    <tr>\n",
       "      <th>823</th>\n",
       "      <td>7329</td>\n",
       "      <td>0</td>\n",
       "      <td>26.5</td>\n",
       "      <td>14</td>\n",
       "      <td>instock</td>\n",
       "      <td>13.42</td>\n",
       "    </tr>\n",
       "    <tr>\n",
       "      <th>824</th>\n",
       "      <td>7338</td>\n",
       "      <td>1</td>\n",
       "      <td>16.3</td>\n",
       "      <td>40</td>\n",
       "      <td>instock</td>\n",
       "      <td>8.00</td>\n",
       "    </tr>\n",
       "  </tbody>\n",
       "</table>\n",
       "<p>825 rows × 6 columns</p>\n",
       "</div>"
      ],
      "text/plain": [
       "     product_id  onsale_web  price  stock_quantity stock_status  \\\n",
       "0          3847           1   24.2              16      instock   \n",
       "1          3849           1   34.3              10      instock   \n",
       "2          3850           1   20.8               0   outofstock   \n",
       "3          4032           1   14.1              26      instock   \n",
       "4          4039           1   46.0               3      instock   \n",
       "..          ...         ...    ...             ...          ...   \n",
       "820        7203           0   45.0              30      instock   \n",
       "821        7204           0   45.0               9      instock   \n",
       "822        7247           1   54.8               6      instock   \n",
       "823        7329           0   26.5              14      instock   \n",
       "824        7338           1   16.3              40      instock   \n",
       "\n",
       "     purchase_price  \n",
       "0             12.88  \n",
       "1             17.54  \n",
       "2             10.64  \n",
       "3              6.92  \n",
       "4             23.77  \n",
       "..              ...  \n",
       "820           23.48  \n",
       "821           24.18  \n",
       "822           27.18  \n",
       "823           13.42  \n",
       "824            8.00  \n",
       "\n",
       "[825 rows x 6 columns]"
      ]
     },
     "execution_count": 639,
     "metadata": {},
     "output_type": "execute_result"
    }
   ],
   "source": [
    "if 'stock_status_validation' in df_erp.columns:\n",
    "    df_erp.drop(columns=['stock_status_validation'], inplace=True)\n",
    "if 'stock_status_validation_numbers' in df_erp.columns:\n",
    "    df_erp.drop(columns=['stock_status_validation_numbers'], inplace=True)\n",
    "if 'stock_status_2' in df_erp.columns:\n",
    "    df_erp.drop(columns=['stock_status_2'], inplace=True)\n",
    "if 'new_stock_status' in df_erp.columns:\n",
    "    df_erp.drop(columns=['new_stock_status'], inplace=True)\n",
    "df_erp"
   ]
  },
  {
   "cell_type": "markdown",
   "id": "08bd4b08",
   "metadata": {},
   "source": [
    "<div style=\"border: 1px solid RGB(51,165,182);\" >\n",
    "<h3 style=\"margin: auto; padding: 20px; color: RGB(51,165,182); \">2.1.1 - Analyse exploratoire de chaque variable du fichier erp.xlsx</h3>\n",
    "</div>"
   ]
  },
  {
   "cell_type": "markdown",
   "id": "3476df40",
   "metadata": {},
   "source": [
    "<div style=\"border: 1px solid RGB(51,165,182);\" >\n",
    "<h3 style=\"margin: auto; padding: 20px; color: RGB(51,165,182); \">2.1.1.1 - Analyse de la variable PRIX</h3>\n",
    "</div>"
   ]
  },
  {
   "cell_type": "code",
   "execution_count": 664,
   "id": "a7fc3384",
   "metadata": {},
   "outputs": [
    {
     "name": "stdout",
     "output_type": "stream",
     "text": [
      "Nombre d'articles avec un prix non renseigné: 0, négatif: 0, nul: 0\n",
      "Nombres d'article avec un prix non renseignés: 26630.510000000002\n",
      "Prix minimum (excluant les valeurs nulles): 5.2\n",
      "Prix minimum (excluant les valeurs nulles): 225.0\n",
      "Produits avec un prix négatif:\n",
      " Series([], Name: price, dtype: float64)\n",
      "\n",
      "DataFrame après correction des prix:\n",
      "      product_id  onsale_web  price  stock_quantity stock_status  \\\n",
      "0          3847           1   24.2              16      instock   \n",
      "1          3849           1   34.3              10      instock   \n",
      "2          3850           1   20.8               0   outofstock   \n",
      "3          4032           1   14.1              26      instock   \n",
      "4          4039           1   46.0               3      instock   \n",
      "..          ...         ...    ...             ...          ...   \n",
      "820        7203           0   45.0              30      instock   \n",
      "821        7204           0   45.0               9      instock   \n",
      "822        7247           1   54.8               6      instock   \n",
      "823        7329           0   26.5              14      instock   \n",
      "824        7338           1   16.3              40      instock   \n",
      "\n",
      "     purchase_price  \n",
      "0             12.88  \n",
      "1             17.54  \n",
      "2             10.64  \n",
      "3              6.92  \n",
      "4             23.77  \n",
      "..              ...  \n",
      "820           23.48  \n",
      "821           24.18  \n",
      "822           27.18  \n",
      "823           13.42  \n",
      "824            8.00  \n",
      "\n",
      "[825 rows x 6 columns]\n",
      "Nombre d'articles avec un prix non renseigné: 0, négatif: 0, nul: 0\n"
     ]
    }
   ],
   "source": [
    "###############\n",
    "## LES PRIX  ##\n",
    "###############\n",
    "\n",
    "#Vérification des prix: Y a t-il des prix non renseignés, négatif ou nul?\n",
    "\n",
    "print(\"Nombre d'articles avec un prix non renseigné: {}, négatif: {}, nul: {}\".format(\n",
    "    df_erp['price'].isnull().sum(),\n",
    "    (df_erp['price'] < 0).sum(),\n",
    "    (df_erp['price'] == 0).sum()\n",
    "))\n",
    "#Afficher le ou les prix non renseignés dans la colonne \"price\"\n",
    "print(\"Nombres d'article avec un prix non renseignés: {}\".format(df_erp['price'].sum())) #Saisir l'instruction manquante dans la fonction format\n",
    "#Afficher le prix minimum de la colonne \"price\"\n",
    "print(\"Prix minimum (excluant les valeurs nulles):\", df_erp['price'].min(skipna=True))\n",
    "\n",
    "#Afficher le prix maximum de la colonne \"price\"\n",
    "print(\"Prix minimum (excluant les valeurs nulles):\", df_erp['price'].max(skipna=True))\n",
    "#Affichier les prix inférieurs à 0 (qu'est ce qu'il faut en faire ?)\n",
    "negative_prices = df_erp[df_erp['price'] < 0]\n",
    "print(\"Produits avec un prix négatif:\\n\", negative_prices[\"price\"])\n",
    "\n",
    "# i  need to  correct  those foult  so  i  should to change  the price   as  we know there  is relation bettwen the  price and  the porchase_price\n",
    "# wich  is the porchase_price *  2 is the  allmost  the  some with price so  i will change it  to  the real  one  \n",
    "\n",
    "def adjust_price(row):\n",
    "    if row['price'] < 0:\n",
    "        return row['purchase_price'] * 2\n",
    "    return row['price']\n",
    "\n",
    "# Appliquer la fonction pour corriger les prix\n",
    "df_erp['price'] = df_erp.apply(adjust_price, axis=1)\n",
    "\n",
    "# Afficher le DataFrame après correction\n",
    "print(\"\\nDataFrame après correction des prix:\\n\", df_erp)\n",
    "print(\"Nombre d'articles avec un prix non renseigné: {}, négatif: {}, nul: {}\".format(\n",
    "    df_erp['price'].isnull().sum(),\n",
    "    (df_erp['price'] < 0).sum(),\n",
    "    (df_erp['price'] == 0).sum()\n",
    "))"
   ]
  },
  {
   "cell_type": "markdown",
   "id": "c5fce58c",
   "metadata": {},
   "source": [
    "<div style=\"border: 1px solid RGB(51,165,182);\" >\n",
    "<h3 style=\"margin: auto; padding: 20px; color: RGB(51,165,182); \">2.1.1.2 - Analyse de la variable STOCK</h3>\n",
    "</div>"
   ]
  },
  {
   "cell_type": "code",
   "execution_count": 490,
   "id": "3d14c4a0",
   "metadata": {},
   "outputs": [
    {
     "name": "stdout",
     "output_type": "stream",
     "text": [
      "Quantité minimum: -10\n",
      "Quantité maximum: 145\n",
      "Produits avec un stock négatif:\n",
      " 449   -10\n",
      "573    -1\n",
      "Name: stock_quantity, dtype: int64\n"
     ]
    }
   ],
   "source": [
    "#######################\n",
    "### stock_quantity  ###\n",
    "#######################\n",
    "\n",
    "#Vérification de la colonne stock quantity\n",
    "#Afficher la quantité minimum de la colonne \"stock_quantity\"\n",
    "print(\"Quantité minimum:\", df_erp['stock_quantity'].min())\n",
    "\n",
    "\n",
    "#Afficher la quantité maximum de la colonne \"stock_quantity\"\n",
    "print(\"Quantité maximum:\", df_erp['stock_quantity'].max())\n",
    "\n",
    "#Affichier les stocks inférieurs à 0 (qu'est ce qu'il faut en faire ?)\n",
    "negative_stock = df_erp[df_erp['stock_quantity'] < 0]\n",
    "print(\"Produits avec un stock négatif:\\n\", negative_stock['stock_quantity'])\n"
   ]
  },
  {
   "cell_type": "markdown",
   "id": "20e8c554",
   "metadata": {},
   "source": [
    "<div style=\"border: 1px solid RGB(51,165,182);\" >\n",
    "<h3 style=\"margin: auto; padding: 20px; color: RGB(51,165,182); \">2.1.1.3 - Analyse de la variable ONSALE_WEB</h3>\n",
    "</div>"
   ]
  },
  {
   "cell_type": "code",
   "execution_count": 492,
   "id": "99b936ca",
   "metadata": {},
   "outputs": [
    {
     "name": "stdout",
     "output_type": "stream",
     "text": [
      "Valeurs uniques dans la colonne onsale_web: [1 0]\n"
     ]
    }
   ],
   "source": [
    "#Vérification de la colonne onsale_web et des valeurs qu'elle contient? Que signifient-elles?\n",
    "print(\"Valeurs uniques dans la colonne onsale_web:\", df_erp['onsale_web'].unique())\n"
   ]
  },
  {
   "cell_type": "code",
   "execution_count": 493,
   "id": "5a79444d",
   "metadata": {},
   "outputs": [],
   "source": [
    "#Quelles sont les colonnes à conserver selon vous?\n",
    "###### i think  we  should to  keep the column  that  have  1 "
   ]
  },
  {
   "cell_type": "code",
   "execution_count": 494,
   "id": "8053aeda",
   "metadata": {},
   "outputs": [],
   "source": [
    "#Supprimer la colonnecomportant le libellé \"stock_status_2\" car elle est redondante \n",
    "#avec la colonne \"stock_status\".\n"
   ]
  },
  {
   "cell_type": "markdown",
   "id": "eca4fce9",
   "metadata": {},
   "source": [
    "<div style=\"border: 1px solid RGB(51,165,182);\" >\n",
    "<h3 style=\"margin: auto; padding: 20px; color: RGB(51,165,182); \">2.1.1.4 - Analyse de la variable prix d'achat</h3>\n",
    "</div>"
   ]
  },
  {
   "cell_type": "code",
   "execution_count": 496,
   "id": "6b85ba0d",
   "metadata": {},
   "outputs": [
    {
     "name": "stdout",
     "output_type": "stream",
     "text": [
      "Nombre d'articles avec un prix non renseigné dans purchase_price: 0\n",
      "Prix minimum dans purchase_price: 2.74\n",
      "Prix maximum dans purchase_price: 137.81\n"
     ]
    }
   ],
   "source": [
    "######################\n",
    "##   prix d'achat   ##\n",
    "######################\n",
    "\n",
    "#Vérification de la colonne purchase_price : \n",
    "#Afficher le ou les prix non renseignés dans la colonne \"purchase_price\"\n",
    "print(\"Nombre d'articles avec un prix non renseigné dans purchase_price:\", df_erp['purchase_price'].isnull().sum())\n",
    "\n",
    "# Afficher le prix minimum de la colonne \"purchase_price\"\n",
    "print(\"Prix minimum dans purchase_price:\", df_erp['purchase_price'].min())\n",
    "\n",
    "# Afficher le prix maximum de la colonne \"purchase_price\"\n",
    "print(\"Prix maximum dans purchase_price:\", df_erp['purchase_price'].max())"
   ]
  },
  {
   "cell_type": "markdown",
   "id": "a550f996",
   "metadata": {},
   "source": [
    "<div style=\"border: 1px solid RGB(51,165,182);\" >\n",
    "<h3 style=\"margin: auto; padding: 20px; color: RGB(51,165,182); \">2.2 - Analyse exploratoire du fichier web.xlsx</h3>\n",
    "</div>\n",
    " "
   ]
  },
  {
   "cell_type": "code",
   "execution_count": 498,
   "id": "bb7e292c",
   "metadata": {},
   "outputs": [],
   "source": [
    "#Dimension du dataset\n",
    "#Nombre d'observations\n",
    "print(\"Nombre d'observations :\", n_observations)\n",
    "#Nombre de caractéristiques\n",
    "\n",
    "print(\"Nombre de caractéristiques :\", n_caracteristiques)"
   ]
  },
  {
   "cell_type": "code",
   "execution_count": 666,
   "id": "0b70a8da",
   "metadata": {},
   "outputs": [
    {
     "name": "stdout",
     "output_type": "stream",
     "text": [
      "Nombre de colonnes : 29\n",
      "\n",
      "Nature des données dans chaque colonne :\n",
      " sku                              object\n",
      "virtual                           int64\n",
      "downloadable                      int64\n",
      "rating_count                      int64\n",
      "average_rating                  float64\n",
      "total_sales                     float64\n",
      "tax_status                       object\n",
      "tax_class                       float64\n",
      "post_author                     float64\n",
      "post_date                datetime64[ns]\n",
      "post_date_gmt            datetime64[ns]\n",
      "post_content                    float64\n",
      "product_type                     object\n",
      "post_title                       object\n",
      "post_excerpt                     object\n",
      "post_status                      object\n",
      "comment_status                   object\n",
      "ping_status                      object\n",
      "post_password                   float64\n",
      "post_name                        object\n",
      "post_modified            datetime64[ns]\n",
      "post_modified_gmt        datetime64[ns]\n",
      "post_content_filtered           float64\n",
      "post_parent                     float64\n",
      "guid                             object\n",
      "menu_order                      float64\n",
      "post_type                        object\n",
      "post_mime_type                   object\n",
      "comment_count                   float64\n",
      "dtype: object\n",
      "\n",
      "Nombre de valeurs présentes dans chaque colonne :\n",
      " sku                      1428\n",
      "virtual                  1513\n",
      "downloadable             1513\n",
      "rating_count             1513\n",
      "average_rating           1430\n",
      "total_sales              1430\n",
      "tax_status                716\n",
      "tax_class                   0\n",
      "post_author              1430\n",
      "post_date                1430\n",
      "post_date_gmt            1430\n",
      "post_content                0\n",
      "product_type             1429\n",
      "post_title               1430\n",
      "post_excerpt              716\n",
      "post_status              1430\n",
      "comment_status           1430\n",
      "ping_status              1430\n",
      "post_password               0\n",
      "post_name                1430\n",
      "post_modified            1430\n",
      "post_modified_gmt        1430\n",
      "post_content_filtered       0\n",
      "post_parent              1430\n",
      "guid                     1430\n",
      "menu_order               1430\n",
      "post_type                1430\n",
      "post_mime_type            714\n",
      "comment_count            1430\n",
      "dtype: int64\n"
     ]
    }
   ],
   "source": [
    "# Consulter le nombre de colonnes\n",
    "nombre_de_colonnes = df_web.shape[1]  # ou len(df_erp.columns)\n",
    "print(\"Nombre de colonnes :\", nombre_de_colonnes)\n",
    "\n",
    "# La nature des données dans chacune des colonnes\n",
    "nature_des_donnees = df_web.dtypes\n",
    "print(\"\\nNature des données dans chaque colonne :\\n\", nature_des_donnees)\n",
    "\n",
    "# Le nombre de valeurs présentes dans chacune des colonnes\n",
    "nombre_de_valeurs = df_web.count()\n",
    "print(\"\\nNombre de valeurs présentes dans chaque colonne :\\n\", nombre_de_valeurs)"
   ]
  },
  {
   "cell_type": "code",
   "execution_count": 500,
   "id": "b0d2f149",
   "metadata": {},
   "outputs": [],
   "source": [
    "#Selon vous, quelles sont les colonnes à conserver ?\n",
    "we  should remove  the colonne that have 0 in Nombre de valeurs présentes dans chaque colonne "
   ]
  },
  {
   "cell_type": "code",
   "execution_count": 670,
   "id": "30b2196b",
   "metadata": {},
   "outputs": [
    {
     "name": "stdout",
     "output_type": "stream",
     "text": [
      "\n",
      "DataFrame après suppression des colonnes vides:\n",
      "         sku  virtual  downloadable  rating_count  average_rating  total_sales  \\\n",
      "0     11862        0             0             0             0.0          3.0   \n",
      "1     16057        0             0             0             0.0          5.0   \n",
      "2     14692        0             0             0             0.0          5.0   \n",
      "3     16295        0             0             0             0.0         14.0   \n",
      "4     15328        0             0             0             0.0          2.0   \n",
      "...     ...      ...           ...           ...             ...          ...   \n",
      "1508  16326        0             0             0             0.0          5.0   \n",
      "1509  15662        0             0             0             0.0         15.0   \n",
      "1510  15329        0             0             0             0.0          3.0   \n",
      "1511  14827        0             0             0             0.0          7.0   \n",
      "1512  16004        0             0             0             0.0          5.0   \n",
      "\n",
      "     tax_status  post_author           post_date       post_date_gmt  ...  \\\n",
      "0           NaN          2.0 2018-02-12 13:46:23 2018-02-12 12:46:23  ...   \n",
      "1           NaN          2.0 2018-04-17 15:29:17 2018-04-17 13:29:17  ...   \n",
      "2       taxable          2.0 2019-03-19 10:06:47 2019-03-19 09:06:47  ...   \n",
      "3           NaN          2.0 2018-02-15 14:05:06 2018-02-15 13:05:06  ...   \n",
      "4       taxable          2.0 2019-03-27 18:05:09 2019-03-27 17:05:09  ...   \n",
      "...         ...          ...                 ...                 ...  ...   \n",
      "1508    taxable          2.0 2019-04-18 11:32:46 2019-04-18 09:32:46  ...   \n",
      "1509    taxable          2.0 2018-02-27 10:13:03 2018-02-27 09:13:03  ...   \n",
      "1510        NaN          2.0 2019-03-27 18:28:15 2019-03-27 17:28:15  ...   \n",
      "1511        NaN          2.0 2018-11-26 09:56:52 2018-11-26 08:56:52  ...   \n",
      "1512        NaN          2.0 2018-06-07 16:27:25 2018-06-07 14:27:25  ...   \n",
      "\n",
      "     ping_status                                          post_name  \\\n",
      "0         closed                        gilles-robin-hermitage-2012   \n",
      "1         closed        pelle-sancerre-rouge-la-croix-au-garde-2017   \n",
      "2         closed              fonreaud-bordeaux-blanc-le-cygne-2016   \n",
      "3         closed  moulin-de-gassac-igp-pays-dherault-guilhem-ros...   \n",
      "4         closed               agnes-levet-cote-rotie-maestria-2017   \n",
      "...          ...                                                ...   \n",
      "1508      closed       camin-larredya-jurancon-moelleux-capceu-2018   \n",
      "1509      closed  chermette-domaine-du-vissoux-beaujolais-griott...   \n",
      "1510      closed               agnes-levet-cote-rotie-peroline-2017   \n",
      "1511      closed  marc-colin-et-fils-chassagne-montrachet-blanc-...   \n",
      "1512      closed                    chateau-du-couvent-pomerol-2017   \n",
      "\n",
      "           post_modified   post_modified_gmt post_parent  \\\n",
      "0    2019-01-31 12:12:56 2019-01-31 11:12:56         0.0   \n",
      "1    2020-07-07 10:05:02 2020-07-07 08:05:02         0.0   \n",
      "2    2020-04-25 21:40:31 2020-04-25 19:40:31         0.0   \n",
      "3    2020-08-27 18:55:03 2020-08-27 16:55:03         0.0   \n",
      "4    2020-07-25 15:45:02 2020-07-25 13:45:02         0.0   \n",
      "...                  ...                 ...         ...   \n",
      "1508 2020-08-27 09:24:46 2020-08-27 07:24:46         0.0   \n",
      "1509 2020-07-11 11:25:03 2020-07-11 09:25:03         0.0   \n",
      "1510 2020-07-28 09:45:02 2020-07-28 07:45:02         0.0   \n",
      "1511 2020-07-28 09:45:02 2020-07-28 07:45:02         0.0   \n",
      "1512 2020-08-25 18:35:02 2020-08-25 16:35:02         0.0   \n",
      "\n",
      "                                                   guid menu_order  \\\n",
      "0     https://www.bottle-neck.fr/wp-content/uploads/...        0.0   \n",
      "1     https://www.bottle-neck.fr/wp-content/uploads/...        0.0   \n",
      "2     https://www.bottle-neck.fr/?post_type=product&...        0.0   \n",
      "3     https://www.bottle-neck.fr/wp-content/uploads/...        0.0   \n",
      "4     https://www.bottle-neck.fr/?post_type=product&...        0.0   \n",
      "...                                                 ...        ...   \n",
      "1508  https://www.bottle-neck.fr/?post_type=product&...        0.0   \n",
      "1509  https://www.bottle-neck.fr/?post_type=product&...        0.0   \n",
      "1510  https://www.bottle-neck.fr/wp-content/uploads/...        0.0   \n",
      "1511  https://www.bottle-neck.fr/wp-content/uploads/...        0.0   \n",
      "1512  https://www.bottle-neck.fr/wp-content/uploads/...        0.0   \n",
      "\n",
      "       post_type post_mime_type  comment_count  \n",
      "0     attachment     image/jpeg            0.0  \n",
      "1     attachment     image/jpeg            0.0  \n",
      "2        product            NaN            0.0  \n",
      "3     attachment     image/jpeg            0.0  \n",
      "4        product            NaN            0.0  \n",
      "...          ...            ...            ...  \n",
      "1508     product            NaN            0.0  \n",
      "1509     product            NaN            0.0  \n",
      "1510  attachment     image/jpeg            0.0  \n",
      "1511  attachment     image/jpeg            0.0  \n",
      "1512  attachment     image/jpeg            0.0  \n",
      "\n",
      "[1513 rows x 25 columns]\n"
     ]
    }
   ],
   "source": [
    "#Si vous avez défini des colonnes à supprimer, effectuer l'opération\n",
    "df_web_cleaned = df_web.dropna(df_web[\"tax_status\" ,\"post_content  \"               ])\n",
    "\n",
    "# Afficher le DataFrame après suppression\n",
    "print(\"\\nDataFrame après suppression des colonnes vides:\\n\", df_web_cleaned)"
   ]
  },
  {
   "cell_type": "code",
   "execution_count": 502,
   "id": "1b965d06",
   "metadata": {},
   "outputs": [],
   "source": [
    "#Visualisation des valeurs de la colonne sku\n",
    "#Quelles sont les valeurs qui ne semblent pas respecter la régle de codification?\n"
   ]
  },
  {
   "cell_type": "code",
   "execution_count": 503,
   "id": "1226dcfd",
   "metadata": {},
   "outputs": [],
   "source": [
    "#Si vous avez identifié des codes articles ne respectant pas la régle de codification, consultez-les?\n"
   ]
  },
  {
   "cell_type": "code",
   "execution_count": 504,
   "id": "eb8d31bf",
   "metadata": {},
   "outputs": [],
   "source": [
    "#Identifier les lignes sans code articles\n"
   ]
  },
  {
   "cell_type": "code",
   "execution_count": 505,
   "id": "967495da",
   "metadata": {},
   "outputs": [],
   "source": [
    "#Pour les codes articles identifiés, réalisé une analyse et définissez l'action à entreprendre\n"
   ]
  },
  {
   "cell_type": "code",
   "execution_count": 506,
   "id": "27bf30de",
   "metadata": {},
   "outputs": [],
   "source": [
    "#La clé pour chaque ligne est-elle uniques? ou autrement dit, y a-t-il des doublons?\n"
   ]
  },
  {
   "cell_type": "code",
   "execution_count": 507,
   "id": "8b81d617",
   "metadata": {},
   "outputs": [],
   "source": [
    "#Les lignes sans code article semble être toutes non renseignés\n",
    "#Pour s'en assurer réaliser les étapes suivantes:\n",
    "#1 - Créer un dataframe avec uniquement les lignes sans code article\n",
    "\n",
    "#2 - utiliser la fonction df.info() sur ce nouveau dataframe pour observer le nombre de valeur reseigner dans chacune des colonnes\n",
    "\n",
    "#3 - Que constatez-vous?"
   ]
  },
  {
   "cell_type": "markdown",
   "id": "dbff6403",
   "metadata": {},
   "source": [
    "<div style=\"border: 1px solid RGB(51,165,182);\" >\n",
    "<h3 style=\"margin: auto; padding: 20px; color: RGB(51,165,182); \">2.3 - Analyse exploratoire du fichier liaison.xlsx</h3>\n",
    "</div>"
   ]
  },
  {
   "cell_type": "code",
   "execution_count": 509,
   "id": "de426b74",
   "metadata": {},
   "outputs": [],
   "source": [
    "#Dimension du dataset\n",
    "#Nombre d'observations\n",
    "\n",
    "#Nombre de caractéristiques\n"
   ]
  },
  {
   "cell_type": "code",
   "execution_count": 510,
   "id": "9834ae33",
   "metadata": {},
   "outputs": [],
   "source": [
    "#Consulter le nombre de colonnes\n",
    "#La nature des données dans chacune des colonnes\n",
    "#Le nombre de valeurs présentes dans chacune des colonnes\n"
   ]
  },
  {
   "cell_type": "code",
   "execution_count": 511,
   "id": "2b30d6b2",
   "metadata": {},
   "outputs": [],
   "source": [
    "#Les valeurs de la colonne \"product_id\" sont elles toutes uniques?\n"
   ]
  },
  {
   "cell_type": "code",
   "execution_count": 512,
   "id": "4d8ca13c",
   "metadata": {},
   "outputs": [],
   "source": [
    "#Les valeurs de la colonne \"id_web\" sont-elles toutes uniques?\n"
   ]
  },
  {
   "cell_type": "code",
   "execution_count": 513,
   "id": "52f7c843",
   "metadata": {},
   "outputs": [],
   "source": [
    "#Avons-nous des articles sans correspondances?\n"
   ]
  },
  {
   "cell_type": "markdown",
   "id": "1a359137",
   "metadata": {},
   "source": [
    "<div style=\"background-color: RGB(51,165,182);\" >\n",
    "<h2 style=\"margin: auto; padding: 20px; color:#fff; \">Etape 3 - Jonction des fichiers</h2>\n",
    "</div>"
   ]
  },
  {
   "cell_type": "markdown",
   "id": "b7750c10",
   "metadata": {},
   "source": [
    "<div style=\"border: 1px solid RGB(51,165,182);\" >\n",
    "<h3 style=\"margin: auto; padding: 20px; color: RGB(51,165,182); \">Etape 3.1 - Jonction du fichier df_erp et df_liaison</h3>\n",
    "</div>"
   ]
  },
  {
   "cell_type": "code",
   "execution_count": 516,
   "id": "e756ec7d",
   "metadata": {},
   "outputs": [],
   "source": [
    "#Fusion des fichiers df_erp et df_liaison\n"
   ]
  },
  {
   "cell_type": "code",
   "execution_count": 517,
   "id": "b7e1da5e",
   "metadata": {},
   "outputs": [],
   "source": [
    "#Y a t-il des lignes ne \"matchant\" entre les 2 fichiers?\n"
   ]
  },
  {
   "cell_type": "markdown",
   "id": "fe4c51d7",
   "metadata": {},
   "source": [
    "<div style=\"border: 1px solid RGB(51,165,182);\" >\n",
    "<h3 style=\"margin: auto; padding: 20px; color: RGB(51,165,182); \">Etape 3.2 - Jonction du fichier df_merge et df_web</h3>\n",
    "</div>"
   ]
  },
  {
   "cell_type": "code",
   "execution_count": 519,
   "id": "46d9382b",
   "metadata": {},
   "outputs": [],
   "source": [
    "#Fusionnez les datasets df_merge et df_web\n"
   ]
  },
  {
   "cell_type": "code",
   "execution_count": 520,
   "id": "2021762f",
   "metadata": {},
   "outputs": [],
   "source": [
    "#Avons-nous des lignes sans correspondances?\n"
   ]
  },
  {
   "cell_type": "code",
   "execution_count": null,
   "id": "e435735c",
   "metadata": {},
   "outputs": [],
   "source": []
  },
  {
   "cell_type": "markdown",
   "id": "13d81fd6",
   "metadata": {},
   "source": [
    "<div style=\"background-color: RGB(51,165,182);\" >\n",
    "<h2 style=\"margin: auto; padding: 20px; color:#fff; \">Etape 4 - Analyse univarié des prix</h2>\n",
    "</div>"
   ]
  },
  {
   "cell_type": "markdown",
   "id": "9c8d0615",
   "metadata": {},
   "source": [
    "<div style=\"border: 1px solid RGB(51,165,182);\" >\n",
    "<h3 style=\"margin: auto; padding: 20px; color: RGB(51,165,182); \">Etape 4.1 - Exploration par la visualisation de données</h3>\n",
    "</div>"
   ]
  },
  {
   "cell_type": "code",
   "execution_count": 523,
   "id": "3be61f06",
   "metadata": {},
   "outputs": [],
   "source": [
    "#Création d'une Boite à moustache de la répartition des prix grâce à Pandas\n"
   ]
  },
  {
   "cell_type": "code",
   "execution_count": 524,
   "id": "cbfe6346",
   "metadata": {},
   "outputs": [],
   "source": [
    "#Autre méthode avec plotly express\n"
   ]
  },
  {
   "cell_type": "markdown",
   "id": "79e2f2eb",
   "metadata": {},
   "source": [
    "<div style=\"border: 1px solid RGB(51,165,182);\" >\n",
    "<h3 style=\"margin: auto; padding: 20px; color: RGB(51,165,182); \">Etape 4.2 - Exploration par l'utisation de méthodes statistique</h3>\n",
    "</div>"
   ]
  },
  {
   "cell_type": "markdown",
   "id": "750f54f3",
   "metadata": {},
   "source": [
    "<div style=\"border: 1px solid RGB(51,165,182);\" >\n",
    "<h3 style=\"margin: auto; padding: 20px; color: RGB(51,165,182); \">Etape 4.2.1 - Identification par l'interval interquartile</h3>\n",
    "</div>"
   ]
  },
  {
   "cell_type": "code",
   "execution_count": 527,
   "id": "6c0db8c0",
   "metadata": {},
   "outputs": [],
   "source": [
    "#Utilisation de la fonction describe de Pandas pour l'etude des mesures de dispersions\n"
   ]
  },
  {
   "cell_type": "code",
   "execution_count": 528,
   "id": "a458ca14",
   "metadata": {},
   "outputs": [],
   "source": [
    "#Définissez un seuil pour les articles \"outliers\" en prix\n"
   ]
  },
  {
   "cell_type": "code",
   "execution_count": 529,
   "id": "7d05cde7",
   "metadata": {},
   "outputs": [],
   "source": [
    "#Définissez le nombre d'articles et la proportion de l'ensemble du catalogue \"outliers\"\n"
   ]
  },
  {
   "cell_type": "code",
   "execution_count": 530,
   "id": "06138432",
   "metadata": {},
   "outputs": [],
   "source": [
    "#Selon vous, ces outliers sont-ils justifiés ? Comment le démontrer si cela est possible ?\n"
   ]
  },
  {
   "cell_type": "markdown",
   "id": "640da2c8",
   "metadata": {},
   "source": [
    "<div style=\"background-color: RGB(51,165,182);\" >\n",
    "<h2 style=\"margin: auto; padding: 20px; color:#fff; \">Etape 5 - Analyse univarié du CA, des quantités vendues, des stocks et de la marge ainsi qu'une analyse multivarié  </h2>\n",
    "</div>"
   ]
  },
  {
   "cell_type": "markdown",
   "id": "5871c808",
   "metadata": {},
   "source": [
    "<div style=\"border: 1px solid RGB(51,165,182);\" >\n",
    "<h3 style=\"margin: auto; padding: 20px; color: RGB(51,165,182); \">Etape 5.1 - Analyse des ventes en CA</h3>\n",
    "</div>"
   ]
  },
  {
   "cell_type": "code",
   "execution_count": 533,
   "id": "da0d5834",
   "metadata": {},
   "outputs": [],
   "source": [
    "##############################\n",
    "# Calculer le CA su site web #\n",
    "##############################\n",
    "\n",
    "#Créez une colonne calculant le CA par article\n",
    "\n",
    "#Calculez la somme de la colonne \"ca_par_article\"\n",
    "#Ce résultat correspond au chiffre d'affaire du site web\n"
   ]
  },
  {
   "cell_type": "code",
   "execution_count": 534,
   "id": "4040ced7",
   "metadata": {},
   "outputs": [],
   "source": [
    "###############################\n",
    "# Palmares des articles en CA #\n",
    "###############################\n",
    "\n",
    "#Effectuer le tri dans l'ordre décroissant du CA du dataset df_merge\n",
    "\n",
    "#Réinitialiser l'index du dataset par un reset_index\n",
    "\n",
    "#Afficher les 20 premier articles en CA\n",
    "\n",
    "#Graphique en barre des 20 premiers articles avec plotly express\n"
   ]
  },
  {
   "cell_type": "code",
   "execution_count": 535,
   "id": "d7e5e87b",
   "metadata": {},
   "outputs": [],
   "source": [
    "#############################\n",
    "# Calculer le 20 / 80 en CA #\n",
    "#############################\n",
    "\n",
    "#Créer une colonne calculant la part du CA de la ligne dans le dataset\n",
    "\n",
    "#Créer une colonne réalisant la somme cumulative de la colonne précedemment créée\n",
    "\n",
    "#Grâce au deux colonnes créées précedemment, calculer le nombre d'articles représentant 80% du CA\n",
    "\n",
    "#Afficher la proportion que représentent ce groupe d'articles dans le catalogue entier du site web\n"
   ]
  },
  {
   "cell_type": "markdown",
   "id": "8de7af87",
   "metadata": {},
   "source": [
    "<div style=\"border: 1px solid RGB(51,165,182);\" >\n",
    "<h3 style=\"margin: auto; padding: 20px; color: RGB(51,165,182); \">Etape 5.2 - Analyse des ventes en Quantités</h3>\n",
    "</div>"
   ]
  },
  {
   "cell_type": "code",
   "execution_count": 537,
   "id": "ab222e08",
   "metadata": {},
   "outputs": [],
   "source": [
    "#####################################\n",
    "# Palmares des articles en quantité #\n",
    "#####################################\n",
    "\n",
    "#Effectuer le tri dans l'ordre décroissant de quantités vendues du dataset df_merge\n",
    "\n",
    "#Réinitialiser l'index du dataset par un reset_index\n",
    "\n",
    "#Afficher les 20 premier articles en quantité\n",
    "\n",
    "#Graphique en barre des 20 premiers articles avec plotly express\n"
   ]
  },
  {
   "cell_type": "code",
   "execution_count": 538,
   "id": "2aad021e",
   "metadata": {},
   "outputs": [],
   "source": [
    "#############################\n",
    "# Calculer le 20 / 80 en CA #\n",
    "#############################\n",
    "\n",
    "#Créer une colonne calculant la part en quantité de la ligne dans le dataset\n",
    "\n",
    "#Créer une colonne réalisant la somme cumulative de la colonne précedemment créée\n",
    "\n",
    "#Grâce au deux colonnes créées précedemment, calculer le nombre d'articles représentant 80% des ventes en quantité\n",
    "\n",
    "#Afficher la proportion que représentent ce groupe d'articles dans le catalogue entier du site web\n"
   ]
  },
  {
   "cell_type": "markdown",
   "id": "077789b1",
   "metadata": {},
   "source": [
    "<div style=\"border: 1px solid RGB(51,165,182);\" >\n",
    "<h3 style=\"margin: auto; padding: 20px; color: RGB(51,165,182); \">Etape 5.3 - Analyse des stocks</h3>\n",
    "</div>"
   ]
  },
  {
   "cell_type": "code",
   "execution_count": 540,
   "id": "14e45472",
   "metadata": {},
   "outputs": [],
   "source": [
    "######################################\n",
    "# Calcule le nombre de mois de stock #\n",
    "######################################\n",
    "\n",
    "#Import de numpy \n",
    "\n",
    "#Création de la colonne Rotation de stock\n",
    "\n",
    "#Remplacement des \"inf\" par 0\n",
    "\n",
    "#Effectuer le tri dans l'ordre décroissant du nombre de mois de stock dans le dataset df_merge\n",
    "\n",
    "#Graphique en barre du flop 20 des produits qui ont le plus de mois de stock"
   ]
  },
  {
   "cell_type": "code",
   "execution_count": 541,
   "id": "0cd6696c",
   "metadata": {},
   "outputs": [],
   "source": [
    "####################################\n",
    "# Valorisation des stocks en euros #\n",
    "####################################\n",
    "\n",
    "#Création de la colonne Valorisation des stocks en euros\n",
    "\n",
    "#Calculer la somme de la colonne \"Valorisation_stock_euros\""
   ]
  },
  {
   "cell_type": "code",
   "execution_count": 542,
   "id": "4a3dd99d",
   "metadata": {},
   "outputs": [],
   "source": [
    "##############################################\n",
    "# Valorisation du nombre de produit en stock #\n",
    "##############################################\n",
    "\n",
    "#Calculer la somme de la colonne stock quantity"
   ]
  },
  {
   "cell_type": "markdown",
   "id": "9e48f6dc",
   "metadata": {},
   "source": [
    "<div style=\"border: 1px solid RGB(51,165,182);\" >\n",
    "<h3 style=\"margin: auto; padding: 20px; color: RGB(51,165,182); \">Etape 5.4 - Analyse du taux de marge</h3>\n",
    "</div>"
   ]
  },
  {
   "cell_type": "code",
   "execution_count": 544,
   "id": "7de5ca46",
   "metadata": {},
   "outputs": [],
   "source": [
    "############################\n",
    "# Analyse du taux de marge #\n",
    "############################\n",
    "\n",
    "#Création de la colonne prix HT\n",
    "\n",
    "#Création de la colonne Taux de marge\n",
    "\n",
    "#Afficher le prix minimum de la colonne \"taux_marge\"\n",
    "\n",
    "#Afficher le prix maximum de la colonne \"taux_marge\"\n"
   ]
  },
  {
   "cell_type": "code",
   "execution_count": 545,
   "id": "6082d42b",
   "metadata": {},
   "outputs": [],
   "source": [
    "#affichage de la ligne avec un taux de marge inférieur à 0\n"
   ]
  },
  {
   "cell_type": "code",
   "execution_count": 546,
   "id": "d756037c",
   "metadata": {},
   "outputs": [],
   "source": [
    "#création d'un dataframe avec les taux positifs\n",
    "\n",
    "#Afficher le prix minimum de la colonne \"taux_marge\"\n",
    "\n",
    "#Afficher le prix maximum de la colonne \"taux_marge\"\n"
   ]
  },
  {
   "cell_type": "code",
   "execution_count": 547,
   "id": "b24042f8",
   "metadata": {},
   "outputs": [],
   "source": [
    "#création d'un dataframe avec le taux de marge moyen par type de produit\n",
    "\n",
    "#Affichage dans un graphique du taux de marge par type de produit\n"
   ]
  },
  {
   "cell_type": "markdown",
   "id": "ce216060",
   "metadata": {},
   "source": [
    "<div style=\"border: 1px solid RGB(51,165,182);\" >\n",
    "<h3 style=\"margin: auto; padding: 20px; color: RGB(51,165,182); \">Etape 5.5 - Analyse des correlations entre les variables stock, sales et price</h3>\n",
    "</div>"
   ]
  },
  {
   "cell_type": "code",
   "execution_count": 549,
   "id": "12e4a540",
   "metadata": {},
   "outputs": [],
   "source": [
    "############################\n",
    "# Analyse des correlations #\n",
    "############################\n",
    "\n",
    "#Importation de Seaborn\n",
    "\n",
    "#Création d'un heatmap de correlation avec les variables stock, sales et price\n",
    "#on peut également créer un mask pour n'afficher qu'une demi heatmap"
   ]
  },
  {
   "cell_type": "code",
   "execution_count": 550,
   "id": "c49d1459",
   "metadata": {},
   "outputs": [],
   "source": [
    "#Que peut-on conclure des correlations ?"
   ]
  },
  {
   "cell_type": "markdown",
   "id": "f1d22f1d",
   "metadata": {},
   "source": [
    "<div style=\"border: 1px solid RGB(51,165,182);\" >\n",
    "<h3 style=\"margin: auto; padding: 20px; color: RGB(51,165,182); \">Etape 5.6 - Mettre à disposition la nouvelle table sur un fichier Excel</h3>\n",
    "</div>"
   ]
  },
  {
   "cell_type": "code",
   "execution_count": 552,
   "id": "09bfe632",
   "metadata": {},
   "outputs": [],
   "source": [
    "#Mettre le dataset df_merge sur un fichier Excel\n",
    "#Cette étape peut-être utile pour partager le résultat du dataset obtenu pour le partager avec les équipes.  \n"
   ]
  }
 ],
 "metadata": {
  "kernelspec": {
   "display_name": "Python 3 (ipykernel)",
   "language": "python",
   "name": "python3"
  },
  "language_info": {
   "codemirror_mode": {
    "name": "ipython",
    "version": 3
   },
   "file_extension": ".py",
   "mimetype": "text/x-python",
   "name": "python",
   "nbconvert_exporter": "python",
   "pygments_lexer": "ipython3",
   "version": "3.11.5"
  }
 },
 "nbformat": 4,
 "nbformat_minor": 5
}
