{
 "cells": [
  {
   "cell_type": "markdown",
   "id": "b04d094c",
   "metadata": {},
   "source": [
    "<div style=\"display: flex; justify-content: center; align-items: center; background-color: #644FBA; color: #FFFF; padding: 30px;\">\n",
    "<h1 style=\"margin: 0;\">Automatic Detection Algorithm for Counterfeit Banknotes</h1>\n",
    "</div>"
   ]
  },
  {
   "cell_type": "markdown",
   "id": "6eaea708",
   "metadata": {},
   "source": [
    "<div style=\"font-family: Arial, sans-serif; background-color: #f9f9f9; border-left: 5px solid #644FBA; padding: 20px; margin-bottom: 20px;\">\n",
    "  <h1 style=\"color: #644FBA; margin-top: 0;\">Test Logistic Regression Model</h1>\n",
    "    </div>"
   ]
  },
  {
   "cell_type": "markdown",
   "id": "115c2127",
   "metadata": {},
   "source": [
    "<div id=\"1\" style=\"font-family: Arial, sans-serif; background-color: #f9f9f9; border-left: 5px solid #644FBA; padding: 20px; margin-bottom: 20px;\">\n",
    "  <h2 style=\"color: #5A45B0; margin-top: 0;\">Importing the libraries</h2>\n",
    "</div>    \n"
   ]
  },
  {
   "cell_type": "code",
   "execution_count": 42,
   "id": "77419435",
   "metadata": {},
   "outputs": [],
   "source": [
    "import joblib\n",
    "import pandas as pd"
   ]
  },
  {
   "cell_type": "markdown",
   "id": "1085ff8a",
   "metadata": {},
   "source": [
    "<div id=\"2\" style=\"font-family: Arial, sans-serif; background-color: #f9f9f9; border-left: 5px solid #644FBA; padding: 20px; margin-bottom: 20px;\">\n",
    "  <h2 style=\"color: #5A45B0; margin-top: 0;\">Importing the Test dataset</h2>\n",
    "</div>    \n"
   ]
  },
  {
   "cell_type": "code",
   "execution_count": 43,
   "id": "1d14ae06",
   "metadata": {},
   "outputs": [],
   "source": [
    "df_test = pd.read_csv(\"dataset/billets_test.csv\",  delimiter=',', header=0)"
   ]
  },
  {
   "cell_type": "code",
   "execution_count": 44,
   "id": "db9d5b32",
   "metadata": {},
   "outputs": [
    {
     "data": {
      "text/plain": [
       "Index(['diagonal', 'height_left', 'height_right', 'margin_low', 'margin_up',\n",
       "       'length', 'id'],\n",
       "      dtype='object')"
      ]
     },
     "execution_count": 44,
     "metadata": {},
     "output_type": "execute_result"
    }
   ],
   "source": [
    "df_test.columns"
   ]
  },
  {
   "cell_type": "code",
   "execution_count": 45,
   "id": "fa279812",
   "metadata": {},
   "outputs": [
    {
     "data": {
      "text/plain": [
       "(5, 7)"
      ]
     },
     "execution_count": 45,
     "metadata": {},
     "output_type": "execute_result"
    }
   ],
   "source": [
    "df_test.shape"
   ]
  },
  {
   "cell_type": "markdown",
   "id": "9883758c",
   "metadata": {},
   "source": [
    "<div id=\"8\" style=\"font-family: Arial, sans-serif; background-color: #f9f9f9; border-left: 5px solid #5A45B0; padding: 20px; margin-bottom: 20px;\">\n",
    "    <h2 style=\"color: #5A45B0; margin-top: 0;\">Testing the Model \n",
    "</h2>\n",
    "</div>"
   ]
  },
  {
   "cell_type": "code",
   "execution_count": 46,
   "id": "cf333405",
   "metadata": {},
   "outputs": [],
   "source": [
    "data = df_test[['diagonal', 'height_left', 'height_right', 'margin_low', 'margin_up', 'length']]"
   ]
  },
  {
   "cell_type": "code",
   "execution_count": 47,
   "id": "d821bdae",
   "metadata": {},
   "outputs": [
    {
     "name": "stderr",
     "output_type": "stream",
     "text": [
      "C:\\Users\\USER\\anaconda3\\Lib\\site-packages\\sklearn\\base.py:376: InconsistentVersionWarning: Trying to unpickle estimator LogisticRegression from version 1.3.0 when using version 1.5.2. This might lead to breaking code or invalid results. Use at your own risk. For more info please refer to:\n",
      "https://scikit-learn.org/stable/model_persistence.html#security-maintainability-limitations\n",
      "  warnings.warn(\n"
     ]
    }
   ],
   "source": [
    "LR_model = joblib.load('logistic_regression_model.joblib')\n",
    "predictions = LR_model.predict(data)"
   ]
  },
  {
   "cell_type": "code",
   "execution_count": 48,
   "id": "ea7428b7",
   "metadata": {},
   "outputs": [],
   "source": [
    "probabilities = LR_model.predict_proba(data)[:, 1]"
   ]
  },
  {
   "cell_type": "code",
   "execution_count": 49,
   "id": "4fad39ae",
   "metadata": {},
   "outputs": [],
   "source": [
    "df_test['is_genuine'] = predictions \n",
    "df_test['probability'] = probabilities * 100"
   ]
  },
  {
   "cell_type": "code",
   "execution_count": 50,
   "id": "cb34a36a",
   "metadata": {},
   "outputs": [],
   "source": [
    "df_test['is_genuine'] = df_test[\"is_genuine\"].replace({0: False, 1: True}) "
   ]
  },
  {
   "cell_type": "code",
   "execution_count": 51,
   "id": "3ac0f924",
   "metadata": {},
   "outputs": [
    {
     "data": {
      "text/html": [
       "<div>\n",
       "<style scoped>\n",
       "    .dataframe tbody tr th:only-of-type {\n",
       "        vertical-align: middle;\n",
       "    }\n",
       "\n",
       "    .dataframe tbody tr th {\n",
       "        vertical-align: top;\n",
       "    }\n",
       "\n",
       "    .dataframe thead th {\n",
       "        text-align: right;\n",
       "    }\n",
       "</style>\n",
       "<table border=\"1\" class=\"dataframe\">\n",
       "  <thead>\n",
       "    <tr style=\"text-align: right;\">\n",
       "      <th></th>\n",
       "      <th>diagonal</th>\n",
       "      <th>height_left</th>\n",
       "      <th>height_right</th>\n",
       "      <th>margin_low</th>\n",
       "      <th>margin_up</th>\n",
       "      <th>length</th>\n",
       "      <th>id</th>\n",
       "      <th>is_genuine</th>\n",
       "      <th>probability</th>\n",
       "    </tr>\n",
       "  </thead>\n",
       "  <tbody>\n",
       "    <tr>\n",
       "      <th>0</th>\n",
       "      <td>172.09</td>\n",
       "      <td>103.95</td>\n",
       "      <td>103.73</td>\n",
       "      <td>4.39</td>\n",
       "      <td>3.09</td>\n",
       "      <td>113.19</td>\n",
       "      <td>B_1</td>\n",
       "      <td>True</td>\n",
       "      <td>98.887455</td>\n",
       "    </tr>\n",
       "    <tr>\n",
       "      <th>1</th>\n",
       "      <td>171.52</td>\n",
       "      <td>104.17</td>\n",
       "      <td>104.03</td>\n",
       "      <td>5.27</td>\n",
       "      <td>3.16</td>\n",
       "      <td>111.82</td>\n",
       "      <td>B_2</td>\n",
       "      <td>False</td>\n",
       "      <td>0.950637</td>\n",
       "    </tr>\n",
       "    <tr>\n",
       "      <th>2</th>\n",
       "      <td>171.78</td>\n",
       "      <td>103.80</td>\n",
       "      <td>103.75</td>\n",
       "      <td>3.81</td>\n",
       "      <td>3.24</td>\n",
       "      <td>113.39</td>\n",
       "      <td>B_3</td>\n",
       "      <td>True</td>\n",
       "      <td>99.894868</td>\n",
       "    </tr>\n",
       "    <tr>\n",
       "      <th>3</th>\n",
       "      <td>172.02</td>\n",
       "      <td>104.08</td>\n",
       "      <td>103.99</td>\n",
       "      <td>5.57</td>\n",
       "      <td>3.30</td>\n",
       "      <td>111.10</td>\n",
       "      <td>B_4</td>\n",
       "      <td>False</td>\n",
       "      <td>0.019169</td>\n",
       "    </tr>\n",
       "    <tr>\n",
       "      <th>4</th>\n",
       "      <td>171.79</td>\n",
       "      <td>104.34</td>\n",
       "      <td>104.37</td>\n",
       "      <td>5.00</td>\n",
       "      <td>3.07</td>\n",
       "      <td>111.87</td>\n",
       "      <td>B_5</td>\n",
       "      <td>False</td>\n",
       "      <td>1.416023</td>\n",
       "    </tr>\n",
       "  </tbody>\n",
       "</table>\n",
       "</div>"
      ],
      "text/plain": [
       "   diagonal  height_left  height_right  margin_low  margin_up  length   id  \\\n",
       "0    172.09       103.95        103.73        4.39       3.09  113.19  B_1   \n",
       "1    171.52       104.17        104.03        5.27       3.16  111.82  B_2   \n",
       "2    171.78       103.80        103.75        3.81       3.24  113.39  B_3   \n",
       "3    172.02       104.08        103.99        5.57       3.30  111.10  B_4   \n",
       "4    171.79       104.34        104.37        5.00       3.07  111.87  B_5   \n",
       "\n",
       "   is_genuine  probability  \n",
       "0        True    98.887455  \n",
       "1       False     0.950637  \n",
       "2        True    99.894868  \n",
       "3       False     0.019169  \n",
       "4       False     1.416023  "
      ]
     },
     "execution_count": 51,
     "metadata": {},
     "output_type": "execute_result"
    }
   ],
   "source": [
    "df_test"
   ]
  },
  {
   "cell_type": "code",
   "execution_count": null,
   "id": "2ee3bacf",
   "metadata": {},
   "outputs": [],
   "source": []
  }
 ],
 "metadata": {
  "kernelspec": {
   "display_name": "Python 3 (ipykernel)",
   "language": "python",
   "name": "python3"
  },
  "language_info": {
   "codemirror_mode": {
    "name": "ipython",
    "version": 3
   },
   "file_extension": ".py",
   "mimetype": "text/x-python",
   "name": "python",
   "nbconvert_exporter": "python",
   "pygments_lexer": "ipython3",
   "version": "3.11.5"
  }
 },
 "nbformat": 4,
 "nbformat_minor": 5
}
