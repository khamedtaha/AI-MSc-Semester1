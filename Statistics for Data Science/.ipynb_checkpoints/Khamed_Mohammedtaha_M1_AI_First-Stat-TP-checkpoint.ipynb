{
 "cells": [
  {
   "cell_type": "markdown",
   "id": "89d27b9d",
   "metadata": {},
   "source": [
    "<div style=\"display: flex; justify-content: center; align-items: center; background-color: #644FBA; color: #FFFF; padding: 30px;\">\n",
    "<h1 style=\"margin: 0;\">TP : Exploring Correlation and Causation</h1>\n",
    "</div>\n"
   ]
  },
  {
   "cell_type": "markdown",
   "id": "178bbad6",
   "metadata": {},
   "source": [
    "<div style=\"font-family: Arial, sans-serif; background-color: #f9f9f9; border-left: 5px solid #644FBA; padding: 20px; margin-bottom: 20px;\">\n",
    "  <h1 style=\"color: #644FBA; margin-top: 0;\">Objective of This Notebook</h1>\n",
    "  <p style=\"color: #1E173B;\">\n",
    " Understand the distinction between correlation and causation.\n",
    "  </p>\n",
    "  <p style=\"color: #1E173B;\">\n",
    "Identify confounding variables in a dataset .\n",
    "  </p>\n",
    "    <p style=\"color: #1E173B;\">\n",
    "Use statistical tools to analyze and interpret the relationship between variables .</p>\n",
    "</div>"
   ]
  },
  {
   "cell_type": "markdown",
   "id": "d8dbf367",
   "metadata": {},
   "source": [
    "<div style=\"font-family: Arial, sans-serif; background-color: #f9f9f9; border-left: 5px solid #644FBA; padding: 20px; margin-bottom: 20px;\">\n",
    "  <h2 style=\"color: #5A45B0; margin-top: 0;\">Table of Contents</h2>\n",
    "  <ul>\n",
    "    <li><a href=\"#1\" style=\"text-decoration: none; color: #644FBA;\">Importing the libraries</a></li>\n",
    "    <li><a href=\"#2\" style=\"text-decoration: none; color: #644FBA;\">Importing the dataset</a></li>\n",
    "    <li><a href=\"#3\" style=\"text-decoration: none; color: #644FBA;\">Data Exploration</a></li>\n",
    "    <li><a href=\"#4\" style=\"text-decoration: none; color: #644FBA;\">Correlation Analysis</a></li>\n",
    "    <li><a href=\"#5\" style=\"text-decoration: none; color: #644FBA;\">Confounding Variable</a></li>\n",
    "</ul>\n",
    "</div>\n"
   ]
  },
  {
   "cell_type": "markdown",
   "id": "aef21f74",
   "metadata": {},
   "source": [
    "<div id=\"1\" style=\"font-family: Arial, sans-serif; background-color: #f9f9f9; border-left: 5px solid #644FBA; padding: 20px; margin-bottom: 20px;\">\n",
    "  <h2 style=\"color: #5A45B0; margin-top: 0;\">Importing the libraries</h2>\n",
    "</div>    "
   ]
  },
  {
   "cell_type": "code",
   "execution_count": 39,
   "id": "75f7702c",
   "metadata": {},
   "outputs": [],
   "source": [
    "import pandas as pd\n",
    "import numpy as np \n",
    "import matplotlib.pyplot as plt\n",
    "import seaborn as sns\n",
    "\n"
   ]
  },
  {
   "cell_type": "markdown",
   "id": "425709b8",
   "metadata": {},
   "source": [
    "<div id=\"2\" style=\"font-family: Arial, sans-serif; background-color: #f9f9f9; border-left: 5px solid #644FBA; padding: 20px; margin-bottom: 20px;\">\n",
    "  <h2 style=\"color: #5A45B0; margin-top: 0;\">Importing the dataset</h2>\n",
    "</div>    \n"
   ]
  },
  {
   "cell_type": "code",
   "execution_count": 40,
   "id": "a177db51",
   "metadata": {},
   "outputs": [],
   "source": [
    "df  = pd.read_excel('dataset/Correlation and Causation.xlsx')"
   ]
  },
  {
   "cell_type": "code",
   "execution_count": 41,
   "id": "b990250b",
   "metadata": {},
   "outputs": [
    {
     "data": {
      "text/html": [
       "<div>\n",
       "<style scoped>\n",
       "    .dataframe tbody tr th:only-of-type {\n",
       "        vertical-align: middle;\n",
       "    }\n",
       "\n",
       "    .dataframe tbody tr th {\n",
       "        vertical-align: top;\n",
       "    }\n",
       "\n",
       "    .dataframe thead th {\n",
       "        text-align: right;\n",
       "    }\n",
       "</style>\n",
       "<table border=\"1\" class=\"dataframe\">\n",
       "  <thead>\n",
       "    <tr style=\"text-align: right;\">\n",
       "      <th></th>\n",
       "      <th>Month</th>\n",
       "      <th>Ice_Cream_Sales</th>\n",
       "      <th>Drowning_Incidents</th>\n",
       "      <th>Temperature</th>\n",
       "    </tr>\n",
       "  </thead>\n",
       "  <tbody>\n",
       "    <tr>\n",
       "      <th>0</th>\n",
       "      <td>January</td>\n",
       "      <td>150</td>\n",
       "      <td>2</td>\n",
       "      <td>5</td>\n",
       "    </tr>\n",
       "    <tr>\n",
       "      <th>1</th>\n",
       "      <td>February</td>\n",
       "      <td>200</td>\n",
       "      <td>3</td>\n",
       "      <td>6</td>\n",
       "    </tr>\n",
       "    <tr>\n",
       "      <th>2</th>\n",
       "      <td>March</td>\n",
       "      <td>300</td>\n",
       "      <td>5</td>\n",
       "      <td>9</td>\n",
       "    </tr>\n",
       "    <tr>\n",
       "      <th>3</th>\n",
       "      <td>April</td>\n",
       "      <td>500</td>\n",
       "      <td>6</td>\n",
       "      <td>13</td>\n",
       "    </tr>\n",
       "    <tr>\n",
       "      <th>4</th>\n",
       "      <td>May</td>\n",
       "      <td>800</td>\n",
       "      <td>8</td>\n",
       "      <td>18</td>\n",
       "    </tr>\n",
       "    <tr>\n",
       "      <th>5</th>\n",
       "      <td>June</td>\n",
       "      <td>1500</td>\n",
       "      <td>14</td>\n",
       "      <td>22</td>\n",
       "    </tr>\n",
       "    <tr>\n",
       "      <th>6</th>\n",
       "      <td>July</td>\n",
       "      <td>1800</td>\n",
       "      <td>16</td>\n",
       "      <td>25</td>\n",
       "    </tr>\n",
       "    <tr>\n",
       "      <th>7</th>\n",
       "      <td>August</td>\n",
       "      <td>1700</td>\n",
       "      <td>15</td>\n",
       "      <td>24</td>\n",
       "    </tr>\n",
       "    <tr>\n",
       "      <th>8</th>\n",
       "      <td>September</td>\n",
       "      <td>1200</td>\n",
       "      <td>10</td>\n",
       "      <td>19</td>\n",
       "    </tr>\n",
       "    <tr>\n",
       "      <th>9</th>\n",
       "      <td>October</td>\n",
       "      <td>600</td>\n",
       "      <td>5</td>\n",
       "      <td>12</td>\n",
       "    </tr>\n",
       "    <tr>\n",
       "      <th>10</th>\n",
       "      <td>November</td>\n",
       "      <td>300</td>\n",
       "      <td>2</td>\n",
       "      <td>8</td>\n",
       "    </tr>\n",
       "    <tr>\n",
       "      <th>11</th>\n",
       "      <td>December</td>\n",
       "      <td>100</td>\n",
       "      <td>1</td>\n",
       "      <td>4</td>\n",
       "    </tr>\n",
       "  </tbody>\n",
       "</table>\n",
       "</div>"
      ],
      "text/plain": [
       "        Month  Ice_Cream_Sales  Drowning_Incidents  Temperature\n",
       "0     January              150                   2            5\n",
       "1    February              200                   3            6\n",
       "2       March              300                   5            9\n",
       "3       April              500                   6           13\n",
       "4         May              800                   8           18\n",
       "5        June             1500                  14           22\n",
       "6        July             1800                  16           25\n",
       "7      August             1700                  15           24\n",
       "8   September             1200                  10           19\n",
       "9     October              600                   5           12\n",
       "10   November              300                   2            8\n",
       "11   December              100                   1            4"
      ]
     },
     "execution_count": 41,
     "metadata": {},
     "output_type": "execute_result"
    }
   ],
   "source": [
    "df.head(12)"
   ]
  },
  {
   "cell_type": "code",
   "execution_count": 42,
   "id": "ff303a69",
   "metadata": {},
   "outputs": [
    {
     "data": {
      "text/plain": [
       "(12, 4)"
      ]
     },
     "execution_count": 42,
     "metadata": {},
     "output_type": "execute_result"
    }
   ],
   "source": [
    "df.shape"
   ]
  },
  {
   "cell_type": "markdown",
   "id": "1e6e1f47",
   "metadata": {},
   "source": [
    "<div id=\"3\" style=\"font-family: Arial, sans-serif; background-color: #f9f9f9; border-left: 5px solid #644FBA; padding: 20px; margin-bottom: 20px;\">\n",
    "  <h2 style=\"color: #5A45B0; margin-top: 0;\">Data Exploration</h2>\n",
    "</div> "
   ]
  },
  {
   "cell_type": "code",
   "execution_count": 43,
   "id": "078dd25c",
   "metadata": {},
   "outputs": [
    {
     "data": {
      "image/png": "[encoded data removed]",
      "text/plain": [
       "<Figure size 800x600 with 1 Axes>"
      ]
     },
     "metadata": {},
     "output_type": "display_data"
    }
   ],
   "source": [
    "sns.set(style=\"whitegrid\")\n",
    "plt.figure(figsize=(8, 6))\n",
    "sns.scatterplot(x=df['Ice_Cream_Sales'], y=df['Drowning_Incidents'], color=\"blue\", s=100)\n",
    "plt.title(\"Scatter Plot : Ice Cream Sales vs Drowning Incidents\", fontsize=14)\n",
    "plt.xlabel(\"Ice Cream Sales (in $)\", fontsize=12)\n",
    "plt.ylabel(\"Drowning Incidents\", fontsize=12)\n",
    "plt.show()"
   ]
  },
  {
   "cell_type": "markdown",
   "id": "5ee6fd3d",
   "metadata": {},
   "source": [
    "---"
   ]
  },
  {
   "cell_type": "code",
   "execution_count": 44,
   "id": "671b5ed1",
   "metadata": {},
   "outputs": [
    {
     "data": {
      "text/html": [
       "<div>\n",
       "<style scoped>\n",
       "    .dataframe tbody tr th:only-of-type {\n",
       "        vertical-align: middle;\n",
       "    }\n",
       "\n",
       "    .dataframe tbody tr th {\n",
       "        vertical-align: top;\n",
       "    }\n",
       "\n",
       "    .dataframe thead th {\n",
       "        text-align: right;\n",
       "    }\n",
       "</style>\n",
       "<table border=\"1\" class=\"dataframe\">\n",
       "  <thead>\n",
       "    <tr style=\"text-align: right;\">\n",
       "      <th></th>\n",
       "      <th>Ice_Cream_Sales</th>\n",
       "      <th>Drowning_Incidents</th>\n",
       "      <th>Temperature</th>\n",
       "    </tr>\n",
       "  </thead>\n",
       "  <tbody>\n",
       "    <tr>\n",
       "      <th>mean</th>\n",
       "      <td>762.500000</td>\n",
       "      <td>7.250000</td>\n",
       "      <td>13.750000</td>\n",
       "    </tr>\n",
       "    <tr>\n",
       "      <th>50%</th>\n",
       "      <td>550.000000</td>\n",
       "      <td>5.500000</td>\n",
       "      <td>12.500000</td>\n",
       "    </tr>\n",
       "    <tr>\n",
       "      <th>std</th>\n",
       "      <td>628.535455</td>\n",
       "      <td>5.344921</td>\n",
       "      <td>7.605321</td>\n",
       "    </tr>\n",
       "  </tbody>\n",
       "</table>\n",
       "</div>"
      ],
      "text/plain": [
       "      Ice_Cream_Sales  Drowning_Incidents  Temperature\n",
       "mean       762.500000            7.250000    13.750000\n",
       "50%        550.000000            5.500000    12.500000\n",
       "std        628.535455            5.344921     7.605321"
      ]
     },
     "execution_count": 44,
     "metadata": {},
     "output_type": "execute_result"
    }
   ],
   "source": [
    "df.describe().loc[[\"mean\", \"50%\", \"std\"]]"
   ]
  },
  {
   "cell_type": "markdown",
   "id": "384073af",
   "metadata": {},
   "source": [
    "<div id=\"4\" style=\"font-family: Arial, sans-serif; background-color: #f9f9f9; border-left: 5px solid #644FBA; padding: 20px; margin-bottom: 20px;\">\n",
    "  <h2 style=\"color: #5A45B0; margin-top: 0;\"> Correlation Analysis</h2>\n",
    "</div> "
   ]
  },
  {
   "cell_type": "markdown",
   "id": "51f88eae",
   "metadata": {},
   "source": [
    "1) "
   ]
  },
  {
   "cell_type": "code",
   "execution_count": 45,
   "id": "bc992292",
   "metadata": {},
   "outputs": [],
   "source": [
    " correlation_coefficient = df['Ice_Cream_Sales'].corr(df['Drowning_Incidents'])"
   ]
  },
  {
   "cell_type": "code",
   "execution_count": 46,
   "id": "981923d8",
   "metadata": {},
   "outputs": [
    {
     "name": "stdout",
     "output_type": "stream",
     "text": [
      "Correlation between Ice Cream Sales and Drowning Incidents: 0.987 \n"
     ]
    }
   ],
   "source": [
    "print(f\"Correlation between Ice Cream Sales and Drowning Incidents: {correlation_coefficient:.3f} \")"
   ]
  },
  {
   "cell_type": "markdown",
   "id": "7ed5977e",
   "metadata": {},
   "source": [
    "2) \n",
    "- Correlation coefficient (0.987) indicates a very strong relationship between Ice Cream Sales and Drowning Incidents . This means the two variables are closely related in a linear manner ."
   ]
  },
  {
   "cell_type": "markdown",
   "id": "09a5d7e0",
   "metadata": {},
   "source": [
    "3) \n",
    "- In this case, temperature (a confounding variable) likely influences both Ice Cream Sales (people eat more ice cream in hot weather) and Drowning Incidents (more people swim in summer, increasing the risk of drowning).\n",
    " \n",
    "- Sometimes, correlations can occur purely by chance, especially when dealing with large datasets or unrelated variables."
   ]
  },
  {
   "cell_type": "markdown",
   "id": "1053992d",
   "metadata": {},
   "source": [
    "<div id=\"5\" style=\"font-family: Arial, sans-serif; background-color: #f9f9f9; border-left: 5px solid #644FBA; padding: 20px; margin-bottom: 20px;\">\n",
    "  <h2 style=\"color: #5A45B0; margin-top: 0;\">  Confounding Variable</h2>\n",
    "</div> "
   ]
  },
  {
   "cell_type": "markdown",
   "id": "1d794ef8",
   "metadata": {},
   "source": [
    "1) "
   ]
  },
  {
   "cell_type": "markdown",
   "id": "22634e68",
   "metadata": {},
   "source": [
    "- Plot a scatter plot of Temperature vs. Ice Cream Sales."
   ]
  },
  {
   "cell_type": "code",
   "execution_count": 47,
   "id": "8a4caf27",
   "metadata": {},
   "outputs": [
    {
     "data": {
      "image/png": "[encoded data removed]",
      "text/plain": [
       "<Figure size 800x600 with 1 Axes>"
      ]
     },
     "metadata": {},
     "output_type": "display_data"
    }
   ],
   "source": [
    "sns.set(style=\"whitegrid\")\n",
    "plt.figure(figsize=(8, 6))\n",
    "sns.scatterplot(x=df['Temperature'], y=df['Ice_Cream_Sales'], color=\"#086F25\", s=100)\n",
    "plt.title(\"Scatter Plot : Temperature vs Ice Cream Sales\", fontsize=14)\n",
    "plt.xlabel(\"Temperature (°C)\", fontsize=12)\n",
    "plt.ylabel(\"Ice Cream Sales (in $)\", fontsize=12)\n",
    "plt.show()"
   ]
  },
  {
   "cell_type": "markdown",
   "id": "fbc6dbdd",
   "metadata": {},
   "source": [
    "---"
   ]
  },
  {
   "cell_type": "markdown",
   "id": "769c3cfb",
   "metadata": {},
   "source": [
    "- Plot a scatter plot of Temperature vs. Drowning Incidents."
   ]
  },
  {
   "cell_type": "code",
   "execution_count": 48,
   "id": "f57aed3d",
   "metadata": {},
   "outputs": [
    {
     "data": {
      "image/png": "[encoded data removed]",
      "text/plain": [
       "<Figure size 800x600 with 1 Axes>"
      ]
     },
     "metadata": {},
     "output_type": "display_data"
    }
   ],
   "source": [
    "sns.set(style=\"whitegrid\")\n",
    "plt.figure(figsize=(8, 6))\n",
    "sns.scatterplot(x=df['Temperature'], y=df['Drowning_Incidents'], color=\"#AC3535\", s=100)\n",
    "plt.title(\"Scatter Plot : Temperature vs Drowning Incidents\", fontsize=14)\n",
    "plt.xlabel(\"Temperature (°C)\", fontsize=12)\n",
    "plt.ylabel(\"Drowning Incidents\", fontsize=12)\n",
    "plt.show()"
   ]
  },
  {
   "cell_type": "markdown",
   "id": "e2485619",
   "metadata": {},
   "source": [
    "---"
   ]
  },
  {
   "cell_type": "markdown",
   "id": "883325a2",
   "metadata": {},
   "source": [
    "2) "
   ]
  },
  {
   "cell_type": "code",
   "execution_count": 49,
   "id": "d4af6fab",
   "metadata": {},
   "outputs": [],
   "source": [
    "correlation_sales_temp = df['Ice_Cream_Sales'].corr(df['Temperature'])\n",
    "correlation_drowning_temp = df['Drowning_Incidents'].corr(df['Temperature'])"
   ]
  },
  {
   "cell_type": "code",
   "execution_count": 50,
   "id": "dc31264f",
   "metadata": {},
   "outputs": [
    {
     "name": "stdout",
     "output_type": "stream",
     "text": [
      "Correlation between Ice Cream Sales and Temperature: 0.976 \n",
      "Correlation between Drowning Incidents and Temperature:  0.977 \n"
     ]
    }
   ],
   "source": [
    "print(f\"Correlation between Ice Cream Sales and Temperature: {correlation_sales_temp:.3f} \")\n",
    "print(f\"Correlation between Drowning Incidents and Temperature:  {correlation_drowning_temp:.3f} \")"
   ]
  },
  {
   "cell_type": "markdown",
   "id": "d9909149",
   "metadata": {},
   "source": [
    "3) \n",
    "- When temperatures rise , people tend to consume more cold treats like ice cream to cool down.\n",
    "- This leads to a natural increase in ice cream sales during warmer months , such as summer.\n",
    "\n",
    "- Higher temperatures encourage outdoor activities such as swimming , boating , or spending time near water bodies .\n",
    "- These activities , while enjoyable , also increase the risk of drowning incidents due to more people being exposed to water-related environments."
   ]
  },
  {
   "cell_type": "markdown",
   "id": "167396c9",
   "metadata": {},
   "source": [
    "The simultaneous increase in Ice Cream Sales and Drowning Incidents during hot weather creates a spurious correlation between the two variables."
   ]
  },
  {
   "cell_type": "markdown",
   "id": "0f05d10b",
   "metadata": {},
   "source": [
    "Without considering temperature, it might appear that Ice Cream Sales are directly causing Drowning Incidents, which is incorrect."
   ]
  },
  {
   "cell_type": "markdown",
   "id": "24174575",
   "metadata": {},
   "source": [
    "To properly analyze the relationship between Ice Cream Sales and Drowning Incidents, temperature must be accounted for as a confounding variable."
   ]
  },
  {
   "cell_type": "markdown",
   "id": "ee89cb2e",
   "metadata": {},
   "source": [
    "---"
   ]
  },
  {
   "cell_type": "markdown",
   "id": "a62c3f08",
   "metadata": {},
   "source": [
    "<div id=\"2\" style=\"font-family: Arial, sans-serif; background-color: #f9f9f9; border-left: 5px solid #644FBA; padding: 20px; margin-bottom: 20px;\">\n",
    "  <h2 style=\"color: #5A45B0; margin-top: 0;\">Partial Correlation Analysis\n",
    "</h2>\n",
    "</div> "
   ]
  },
  {
   "cell_type": "markdown",
   "id": "ba4685a4",
   "metadata": {},
   "source": [
    "1) "
   ]
  },
  {
   "cell_type": "markdown",
   "id": "d0b75119",
   "metadata": {},
   "source": [
    "$$\n",
    "\\rho_{X,Y|Z} = \\frac{{\\text{cor}(X,Y) - \\text{cor}(X,Z) \\cdot \\text{cor}(Y,Z)}}{{\\sqrt{(1 - \\text{cor}^2(X,Z))(1 - \\text{cor}^2(Y,Z))}}}\n",
    "$$\n"
   ]
  },
  {
   "cell_type": "code",
   "execution_count": 51,
   "id": "3577233e",
   "metadata": {},
   "outputs": [],
   "source": [
    "def partial_correlation(X: pd.Series, Y: pd.Series, confounding_variable: pd.Series) -> float:\n",
    "    r_XY = X.corr(Y)  # Correlation between X and Y\n",
    "    r_XZ = X.corr(confounding_variable) # Correlation between X and confounding variable\n",
    "    r_YZ = Y.corr(confounding_variable)  # Correlation between Y and confounding variable\n",
    "\n",
    "    # Calculate the partial correlation using the formula\n",
    "    partial_corr = (r_XY - r_XZ * r_YZ) / np.sqrt((1 - r_XZ**2) * (1 - r_YZ**2))\n",
    "    \n",
    "    return partial_corr\n"
   ]
  },
  {
   "cell_type": "code",
   "execution_count": 52,
   "id": "da931929",
   "metadata": {},
   "outputs": [],
   "source": [
    "partial_corr = partial_correlation(X = df[\"Ice_Cream_Sales\"] , Y = df['Drowning_Incidents'] , confounding_variable = df['Temperature'])"
   ]
  },
  {
   "cell_type": "code",
   "execution_count": 53,
   "id": "1d29f5d3",
   "metadata": {},
   "outputs": [
    {
     "name": "stdout",
     "output_type": "stream",
     "text": [
      "Partial correlation between Ice Cream Sales and Drowning Incidents, controlling for Temperature: 0.71\n"
     ]
    }
   ],
   "source": [
    "print(f'Partial correlation between Ice Cream Sales and Drowning Incidents, controlling for Temperature: {partial_corr:.2f}')"
   ]
  },
  {
   "cell_type": "markdown",
   "id": "a300b5e2",
   "metadata": {},
   "source": [
    "2) "
   ]
  },
  {
   "cell_type": "markdown",
   "id": "146b16c2",
   "metadata": {},
   "source": [
    "Pearson correlation measures the overall relationship between two variables, like ice cream sales and drowning incidents. In the case of our data, this correlation might show a strong positive relationship, suggesting that as ice cream sales increase, drowning incidents also tend to increase."
   ]
  },
  {
   "cell_type": "markdown",
   "id": "170f8f1e",
   "metadata": {},
   "source": [
    "However, this simple correlation doesn't account for the influence of other factors, like temperature, which may be contributing to both ice cream sales and drowning incidents. For example, both ice cream sales and drowning incidents are likely to be higher during warmer months, making temperature a confounding variable."
   ]
  },
  {
   "cell_type": "markdown",
   "id": "59df9464",
   "metadata": {},
   "source": [
    "**Partial correlation** calculates the correlation between ice cream sales and drowning incidents while removing the effects of temperature. It essentially shows how strongly ice cream sales and drowning incidents are related once the shared influence of temperature is taken out of the equation."
   ]
  },
  {
   "cell_type": "markdown",
   "id": "3815bcdc",
   "metadata": {},
   "source": [
    "After temperature control, the partial correlation between ice cream sales and drowning incidents clearly decreased, which indicates that the apparent relationship between the two variables in the original correlation was mostly due to temperature effect ."
   ]
  },
  {
   "cell_type": "markdown",
   "id": "0c942a33",
   "metadata": {},
   "source": [
    "In short , partial correlation helps clarify that the relationship observed in the data is not a direct causal link, but rather an artifact of temperature's influence on both variables."
   ]
  },
  {
   "cell_type": "code",
   "execution_count": null,
   "id": "0f40e9d6",
   "metadata": {},
   "outputs": [],
   "source": []
  }
 ],
 "metadata": {
  "kernelspec": {
   "display_name": "Python 3 (ipykernel)",
   "language": "python",
   "name": "python3"
  },
  "language_info": {
   "codemirror_mode": {
    "name": "ipython",
    "version": 3
   },
   "file_extension": ".py",
   "mimetype": "text/x-python",
   "name": "python",
   "nbconvert_exporter": "python",
   "pygments_lexer": "ipython3",
   "version": "3.11.5"
  }
 },
 "nbformat": 4,
 "nbformat_minor": 5
}
