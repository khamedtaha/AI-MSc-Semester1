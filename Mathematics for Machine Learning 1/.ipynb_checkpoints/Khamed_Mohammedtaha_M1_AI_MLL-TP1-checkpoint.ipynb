{
 "cells": [
  {
   "cell_type": "markdown",
   "id": "89d27b9d",
   "metadata": {},
   "source": [
    "<div style=\"display: flex; justify-content: center; align-items: center; background-color: #644FBA; color: #FFFF; padding: 30px;\">\n",
    "<h1 style=\"margin: 0;\">TP : Basis and Orthogonal Projection Matrix</h1>\n",
    "</div>\n"
   ]
  },
  {
   "cell_type": "markdown",
   "id": "178bbad6",
   "metadata": {},
   "source": [
    "<div style=\"font-family: Arial, sans-serif; background-color: #f9f9f9; border-left: 5px solid #644FBA; padding: 20px; margin-bottom: 20px;\">\n",
    "  <h1 style=\"color: #644FBA; margin-top: 0;\">Objective of This Notebook</h1>\n",
    "  <p style=\"color: #1E173B;\">\n",
    " Understand the distinction between correlation and causation.\n",
    "  </p>\n",
    "  <p style=\"color: #1E173B;\">\n",
    "Identify confounding variables in a dataset .\n",
    "  </p>\n",
    "    <p style=\"color: #1E173B;\">\n",
    "Use statistical tools to analyze and interpret the relationship between variables .</p>\n",
    "</div>"
   ]
  },
  {
   "cell_type": "markdown",
   "id": "d8dbf367",
   "metadata": {},
   "source": [
    "<div style=\"font-family: Arial, sans-serif; background-color: #f9f9f9; border-left: 5px solid #644FBA; padding: 20px; margin-bottom: 20px;\">\n",
    "  <h2 style=\"color: #5A45B0; margin-top: 0;\">Table of Contents</h2>\n",
    "  <ul>\n",
    "    <li><a href=\"#1\" style=\"text-decoration: none; color: #644FBA;\">Importing the libraries</a></li>\n",
    "    <li><a href=\"#2\" style=\"text-decoration: none; color: #644FBA;\">Importing the dataset</a></li>\n",
    "    <li><a href=\"#3\" style=\"text-decoration: none; color: #644FBA;\">Data Exploration</a></li>\n",
    "    <li><a href=\"#4\" style=\"text-decoration: none; color: #644FBA;\">Correlation Analysis</a></li>\n",
    "    <li><a href=\"#5\" style=\"text-decoration: none; color: #644FBA;\">Confounding Variable</a></li>\n",
    "</ul>\n",
    "</div>\n"
   ]
  },
  {
   "cell_type": "markdown",
   "id": "aef21f74",
   "metadata": {},
   "source": [
    "<div id=\"1\" style=\"font-family: Arial, sans-serif; background-color: #f9f9f9; border-left: 5px solid #644FBA; padding: 20px; margin-bottom: 20px;\">\n",
    "  <h2 style=\"color: #5A45B0; margin-top: 0;\">Importing the libraries</h2>\n",
    "</div>    "
   ]
  },
  {
   "cell_type": "code",
   "execution_count": 1,
   "id": "75f7702c",
   "metadata": {},
   "outputs": [],
   "source": [
    "import pandas as pd\n",
    "import numpy as np \n",
    "import matplotlib.pyplot as plt\n",
    "import seaborn as sns"
   ]
  },
  {
   "cell_type": "markdown",
   "id": "425709b8",
   "metadata": {},
   "source": [
    "<div id=\"2\" style=\"font-family: Arial, sans-serif; background-color: #f9f9f9; border-left: 5px solid #644FBA; padding: 20px; margin-bottom: 20px;\">\n",
    "  <h2 style=\"color: #5A45B0; margin-top: 0;\">Importing the dataset</h2>\n",
    "</div>    \n"
   ]
  }
 ],
 "metadata": {
  "kernelspec": {
   "display_name": "Python 3 (ipykernel)",
   "language": "python",
   "name": "python3"
  },
  "language_info": {
   "codemirror_mode": {
    "name": "ipython",
    "version": 3
   },
   "file_extension": ".py",
   "mimetype": "text/x-python",
   "name": "python",
   "nbconvert_exporter": "python",
   "pygments_lexer": "ipython3",
   "version": "3.11.5"
  }
 },
 "nbformat": 4,
 "nbformat_minor": 5
}
