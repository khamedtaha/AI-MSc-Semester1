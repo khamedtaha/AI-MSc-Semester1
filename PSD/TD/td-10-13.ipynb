{
 "cells": [
  {
   "cell_type": "code",
   "execution_count": 2,
   "id": "83a19080",
   "metadata": {},
   "outputs": [],
   "source": [
    "notes =[12 , 16 , 89 , 23 , 40 , 50]"
   ]
  },
  {
   "cell_type": "code",
   "execution_count": 3,
   "id": "4425af56",
   "metadata": {},
   "outputs": [],
   "source": [
    "import numpy as np"
   ]
  },
  {
   "cell_type": "code",
   "execution_count": 4,
   "id": "da3cdd6c",
   "metadata": {},
   "outputs": [],
   "source": [
    "notes_array = np.array(notes)"
   ]
  },
  {
   "cell_type": "code",
   "execution_count": 5,
   "id": "08939bd4",
   "metadata": {},
   "outputs": [],
   "source": [
    "notes_array[2] = 20"
   ]
  },
  {
   "cell_type": "code",
   "execution_count": 6,
   "id": "d2b6da05",
   "metadata": {},
   "outputs": [
    {
     "data": {
      "text/plain": [
       "array([12, 16, 20, 23, 40, 50])"
      ]
     },
     "execution_count": 6,
     "metadata": {},
     "output_type": "execute_result"
    }
   ],
   "source": [
    "notes_array"
   ]
  },
  {
   "cell_type": "code",
   "execution_count": 7,
   "id": "7c3b8459",
   "metadata": {},
   "outputs": [
    {
     "data": {
      "text/plain": [
       "array([20, 23, 40, 50])"
      ]
     },
     "execution_count": 7,
     "metadata": {},
     "output_type": "execute_result"
    }
   ],
   "source": [
    "notes_array[2:]"
   ]
  },
  {
   "cell_type": "code",
   "execution_count": 8,
   "id": "0ba30bcc",
   "metadata": {},
   "outputs": [
    {
     "data": {
      "text/plain": [
       "array([12, 20, 40])"
      ]
     },
     "execution_count": 8,
     "metadata": {},
     "output_type": "execute_result"
    }
   ],
   "source": [
    "notes_array[: :2]"
   ]
  },
  {
   "cell_type": "code",
   "execution_count": 14,
   "id": "c7d24371",
   "metadata": {},
   "outputs": [],
   "source": [
    "comp_array  = [ it for it in notes_array if it>= 15 ]"
   ]
  },
  {
   "cell_type": "code",
   "execution_count": 15,
   "id": "727c4203",
   "metadata": {},
   "outputs": [
    {
     "data": {
      "text/plain": [
       "[16, 20, 23, 40, 50]"
      ]
     },
     "execution_count": 15,
     "metadata": {},
     "output_type": "execute_result"
    }
   ],
   "source": [
    "comp_array"
   ]
  },
  {
   "cell_type": "code",
   "execution_count": 37,
   "id": "71817817",
   "metadata": {},
   "outputs": [
    {
     "data": {
      "text/plain": [
       "array([16, 20, 23, 40, 50])"
      ]
     },
     "execution_count": 37,
     "metadata": {},
     "output_type": "execute_result"
    }
   ],
   "source": [
    "notes_array[notes_array >= 15]"
   ]
  },
  {
   "cell_type": "code",
   "execution_count": 38,
   "id": "1fba1c20",
   "metadata": {},
   "outputs": [],
   "source": [
    "x = [-2 , -1 , 1 , 2]"
   ]
  },
  {
   "cell_type": "code",
   "execution_count": 40,
   "id": "7c964ae1",
   "metadata": {},
   "outputs": [
    {
     "data": {
      "text/plain": [
       "array([-2, -1,  1,  2])"
      ]
     },
     "execution_count": 40,
     "metadata": {},
     "output_type": "execute_result"
    }
   ],
   "source": [
    "array_x = np.array(x)\n",
    "array_x"
   ]
  },
  {
   "cell_type": "code",
   "execution_count": 41,
   "id": "3aa942fd",
   "metadata": {},
   "outputs": [
    {
     "ename": "AttributeError",
     "evalue": "'numpy.ndarray' object has no attribute 'abs'",
     "output_type": "error",
     "traceback": [
      "\u001b[1;31m---------------------------------------------------------------------------\u001b[0m",
      "\u001b[1;31mAttributeError\u001b[0m                            Traceback (most recent call last)",
      "Cell \u001b[1;32mIn[41], line 1\u001b[0m\n\u001b[1;32m----> 1\u001b[0m array_x\u001b[38;5;241m.\u001b[39mabs()\n",
      "\u001b[1;31mAttributeError\u001b[0m: 'numpy.ndarray' object has no attribute 'abs'"
     ]
    }
   ],
   "source": [
    "array_x.abs()"
   ]
  },
  {
   "cell_type": "code",
   "execution_count": null,
   "id": "59805712",
   "metadata": {},
   "outputs": [],
   "source": []
  }
 ],
 "metadata": {
  "kernelspec": {
   "display_name": "Python 3 (ipykernel)",
   "language": "python",
   "name": "python3"
  },
  "language_info": {
   "codemirror_mode": {
    "name": "ipython",
    "version": 3
   },
   "file_extension": ".py",
   "mimetype": "text/x-python",
   "name": "python",
   "nbconvert_exporter": "python",
   "pygments_lexer": "ipython3",
   "version": "3.11.5"
  }
 },
 "nbformat": 4,
 "nbformat_minor": 5
}
